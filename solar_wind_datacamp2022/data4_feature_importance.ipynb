{
 "cells": [
  {
   "cell_type": "markdown",
   "id": "15d350b0-61a4-46e9-935b-8e68e7063995",
   "metadata": {},
   "source": [
    "- TO DROP :  'Range F 14'\n",
    "- TO KEEP : 'Beta', 'Pdyn', 'RmsBob'\n",
    "\n",
    "'B', 'Bx_rms', 'By_rms', 'Bz_rms', \n",
    "\n",
    "'Range F 0', 'Range F 1',\n",
    "'Range F 2', 'Range F 3', \n",
    "'Range F 6','Range F 7', \n",
    "'Range F 9', 'Range F 11', 'Range F 12', \n",
    "\n",
    "'Vth', \n",
    "'Beta', \n",
    "'RmsBob', \n",
    "\n",
    "'target',\n",
    "\n",
    "'Range F 13_diff', \n",
    "'Range F 1_diff', \n",
    "'Beta_diff',\n",
    "'RmsBob_diff',\n",
    "'Beta_t-1', \n",
    "'Beta_d-1'"
   ]
  },
  {
   "cell_type": "code",
   "execution_count": 52,
   "id": "99e3e23e-da07-4463-a419-7191faae99f9",
   "metadata": {},
   "outputs": [],
   "source": [
    "import warnings\n",
    "warnings.filterwarnings(\"ignore\")"
   ]
  },
  {
   "cell_type": "code",
   "execution_count": 53,
   "id": "46305b19-6d28-4e0b-bae9-f5ce05f61ec5",
   "metadata": {},
   "outputs": [],
   "source": [
    "import pandas as pd\n",
    "import numpy as np\n",
    "import matplotlib.pyplot as plt\n",
    "import datetime\n",
    "from datetime import datetime"
   ]
  },
  {
   "cell_type": "code",
   "execution_count": 181,
   "id": "39b8577f-53e5-4d22-b218-f1d8ece5d79c",
   "metadata": {},
   "outputs": [],
   "source": [
    "from problem import get_train_data\n",
    "\n",
    "data_train, labels_train = get_train_data()"
   ]
  },
  {
   "cell_type": "code",
   "execution_count": 182,
   "id": "c9f374e9-0aba-4d00-a726-063bbe9fba27",
   "metadata": {},
   "outputs": [],
   "source": [
    "from problem import get_test_data\n",
    "\n",
    "data_test, labels_test = get_test_data()"
   ]
  },
  {
   "cell_type": "code",
   "execution_count": 183,
   "id": "87429055-6ef2-4a34-b235-140b1a4d9186",
   "metadata": {},
   "outputs": [],
   "source": [
    "df = data_train.copy()\n",
    "df['target'] = labels_train"
   ]
  },
  {
   "cell_type": "code",
   "execution_count": 81,
   "id": "ce5e8ff2-3e0d-4706-9a50-f96e8eadd4ce",
   "metadata": {},
   "outputs": [],
   "source": [
    "df['Beta_diff'] = df['Beta'].diff(periods=144)\n",
    "df['Range F 13_diff'] = df['Range F 4'].diff(periods=144)\n",
    "df['RmsBob_diff'] = df['RmsBob'].diff(periods=144)\n",
    "df['Range F 1_diff'] = df['Range F 1'].diff(periods=144)\n",
    "\n",
    "df['Beta_d-1'] = df['Beta'].shift(144)\n",
    "df['Beta_t-1'] = df['Beta'].shift(1)"
   ]
  },
  {
   "cell_type": "code",
   "execution_count": 82,
   "id": "0796accb-ad4f-4f2e-9f00-8a76f5210cce",
   "metadata": {},
   "outputs": [],
   "source": [
    "df['Beta_diff'] = df['Beta'].diff(periods=144)\n",
    "df['Vx_diff'] = df['Vx'].diff(periods=144)\n",
    "df['Range F 4_diff'] = df['Range F 4'].diff(periods=144)\n",
    "df['RmsBob_diff'] = df['RmsBob'].diff(periods=144)\n",
    "df['Range F 1_diff'] = df['Range F 1'].diff(periods=144)"
   ]
  },
  {
   "cell_type": "code",
   "execution_count": 83,
   "id": "96fb73c6-13b3-43dd-9e48-2bafa9d01897",
   "metadata": {},
   "outputs": [],
   "source": [
    "df['Beta_d-1'] = df['Beta'].shift(144)\n",
    "df['Beta_y-1'] = df['Beta'].shift(144*365)\n",
    "df['Beta_m-1'] = df['Beta'].shift(144*30)\n",
    "df['Beta_t-1'] = df['Beta'].shift(1)"
   ]
  },
  {
   "cell_type": "code",
   "execution_count": 84,
   "id": "c33d5839-1da4-4045-979a-eeb490bf4484",
   "metadata": {},
   "outputs": [],
   "source": [
    "df['RmsBob_d-1'] = df['RmsBob'].shift(144)\n",
    "df['RmsBob_y-1'] = df['RmsBob'].shift(144*365)\n",
    "df['RmsBob_m-1'] = df['RmsBob'].shift(144*30)\n",
    "df['RmsBob_t-1'] = df['RmsBob'].shift(1)"
   ]
  },
  {
   "cell_type": "code",
   "execution_count": 85,
   "id": "507ea6e2-a1c4-44ae-ba7f-105acce867b3",
   "metadata": {},
   "outputs": [],
   "source": [
    "df['Pdyn_d-1'] = df['Pdyn'].shift(144)\n",
    "df['Pdyn_y-1'] = df['Pdyn'].shift(144*365)\n",
    "df['Pdyn_m-1'] = df['Pdyn'].shift(144*30)\n",
    "df['Pdyn_t-1'] = df['Pdyn'].shift(1)"
   ]
  },
  {
   "cell_type": "code",
   "execution_count": 86,
   "id": "e8e85069-2afa-47d0-b793-0356ef212f70",
   "metadata": {},
   "outputs": [],
   "source": [
    "df['Range F 13_diff'] = df['Range F 13'].diff(periods=144)\n",
    "df['Range F 5_diff'] = df['Range F 5'].diff(periods=144)\n",
    "df['V_diff'] = df['V'].diff(periods=144)\n",
    "df['Range F 1_diff'] = df['Range F 1'].diff(periods=144)"
   ]
  },
  {
   "cell_type": "code",
   "execution_count": 87,
   "id": "e1e19054-cd16-469b-b0bf-e6694bfacb59",
   "metadata": {},
   "outputs": [],
   "source": [
    "df['Vx_diff'] = df['Vx'].diff(periods=144)\n",
    "df['Range F 4_diff'] = df['Range F 4'].diff(periods=144)\n",
    "df['Beta_y-1'] = df['Beta'].shift(144*365)\n",
    "df['Beta_t-1'] = df['Beta'].shift(1)"
   ]
  },
  {
   "cell_type": "code",
   "execution_count": 88,
   "id": "a5e1b74c-56c7-4cfe-b516-a3a5efc385ff",
   "metadata": {},
   "outputs": [],
   "source": [
    "df = df.drop(columns=['Range F 14', 'By_rms', 'Range F 0', 'Range F 1', 'Range F 13', 'Range F 2', 'Range F 3', 'Bz_rms', 'Bx_rms', 'Np_nl'], axis=1)\n"
   ]
  },
  {
   "cell_type": "code",
   "execution_count": 91,
   "id": "526b6ac3-cb7e-4526-ab6b-50bd941df3e9",
   "metadata": {},
   "outputs": [
    {
     "data": {
      "text/plain": [
       "(509834, 44)"
      ]
     },
     "execution_count": 91,
     "metadata": {},
     "output_type": "execute_result"
    }
   ],
   "source": [
    "df.shape"
   ]
  },
  {
   "cell_type": "code",
   "execution_count": 187,
   "id": "bd8682d9-3ec4-41b9-b0b1-e5a7f8a058aa",
   "metadata": {
    "tags": []
   },
   "outputs": [],
   "source": [
    "# Perform the Fourier Transform\n",
    "df['fouriermag_Beta'] = np.abs(np.fft.fft(df['Beta']))\n",
    "df['fouriermag_B'] = np.abs(np.fft.fft(df['B']))\n",
    "df['fouriermag_RmsBob'] = np.abs(np.fft.fft(df['RmsBob']))\n",
    "df['fouriermag_Pdyn'] = np.abs(np.fft.fft(df['Pdyn']))\n",
    "\n",
    "df['fourierpowspec_Beta'] = df['fouriermag_Beta']**2\n",
    "df['fourierpowspec_B'] = df['fouriermag_B']**2\n",
    "df['fourierpowspec_RmsBob'] = df['fouriermag_RmsBob']**2\n",
    "df['fourierpowspec_Pdyn'] = df['fouriermag_Pdyn']**2\n",
    "\n",
    "# Obtain the frequencies\n",
    "df['freq_fourier'] = np.fft.fftfreq(df.shape[0])"
   ]
  },
  {
   "cell_type": "code",
   "execution_count": 188,
   "id": "3ece8b75-07ca-4061-828f-dac38921e4d2",
   "metadata": {},
   "outputs": [
    {
     "data": {
      "text/plain": [
       "(509834, 43)"
      ]
     },
     "execution_count": 188,
     "metadata": {},
     "output_type": "execute_result"
    }
   ],
   "source": [
    "df.shape"
   ]
  },
  {
   "cell_type": "code",
   "execution_count": 189,
   "id": "565ec49d-3377-49e5-affa-a42f32defe54",
   "metadata": {
    "tags": []
   },
   "outputs": [
    {
     "name": "stderr",
     "output_type": "stream",
     "text": [
      "0it [00:00, ?it/s]"
     ]
    },
    {
     "name": "stdout",
     "output_type": "stream",
     "text": [
      "0.8810313985783552\n"
     ]
    },
    {
     "name": "stderr",
     "output_type": "stream",
     "text": [
      "1it [01:27, 87.18s/it]"
     ]
    },
    {
     "name": "stdout",
     "output_type": "stream",
     "text": [
      "0.2969447450857886\n",
      "              precision    recall  f1-score   support\n",
      "\n",
      "           0       0.88      0.99      0.93     71206\n",
      "           1       0.87      0.31      0.46     13766\n",
      "\n",
      "    accuracy                           0.88     84972\n",
      "   macro avg       0.87      0.65      0.70     84972\n",
      "weighted avg       0.88      0.88      0.86     84972\n",
      "\n",
      "The balanced accuracy of the default model is 0.652\n",
      "0.8543755590076731\n"
     ]
    },
    {
     "name": "stderr",
     "output_type": "stream",
     "text": [
      "2it [04:44, 152.07s/it]"
     ]
    },
    {
     "name": "stdout",
     "output_type": "stream",
     "text": [
      "0.3767234254832656\n",
      "              precision    recall  f1-score   support\n",
      "\n",
      "           0       0.88      0.95      0.91     69883\n",
      "           1       0.64      0.42      0.51     15089\n",
      "\n",
      "    accuracy                           0.85     84972\n",
      "   macro avg       0.76      0.68      0.71     84972\n",
      "weighted avg       0.84      0.85      0.84     84972\n",
      "\n",
      "The balanced accuracy of the default model is 0.685\n",
      "0.932648401826484\n"
     ]
    },
    {
     "name": "stderr",
     "output_type": "stream",
     "text": [
      "3it [09:58, 225.92s/it]"
     ]
    },
    {
     "name": "stdout",
     "output_type": "stream",
     "text": [
      "0.26144539805168815\n",
      "              precision    recall  f1-score   support\n",
      "\n",
      "           0       0.94      0.98      0.96     77546\n",
      "           1       0.70      0.40      0.51      7426\n",
      "\n",
      "    accuracy                           0.93     84972\n",
      "   macro avg       0.82      0.69      0.74     84972\n",
      "weighted avg       0.92      0.93      0.92     84972\n",
      "\n",
      "The balanced accuracy of the default model is 0.691\n",
      "0.9479240220307866\n"
     ]
    },
    {
     "name": "stderr",
     "output_type": "stream",
     "text": [
      "4it [17:13, 308.32s/it]"
     ]
    },
    {
     "name": "stdout",
     "output_type": "stream",
     "text": [
      "0.17467955191043152\n",
      "              precision    recall  f1-score   support\n",
      "\n",
      "           0       0.96      0.98      0.97     77756\n",
      "           1       0.77      0.55      0.64      7216\n",
      "\n",
      "    accuracy                           0.95     84972\n",
      "   macro avg       0.86      0.77      0.81     84972\n",
      "weighted avg       0.94      0.95      0.94     84972\n",
      "\n",
      "The balanced accuracy of the default model is 0.769\n",
      "0.9667890599256226\n"
     ]
    },
    {
     "name": "stderr",
     "output_type": "stream",
     "text": [
      "5it [26:44, 320.96s/it]"
     ]
    },
    {
     "name": "stdout",
     "output_type": "stream",
     "text": [
      "0.167526854447443\n",
      "              precision    recall  f1-score   support\n",
      "\n",
      "           0       0.97      0.99      0.98     81981\n",
      "           1       0.58      0.20      0.29      2991\n",
      "\n",
      "    accuracy                           0.97     84972\n",
      "   macro avg       0.78      0.60      0.64     84972\n",
      "weighted avg       0.96      0.97      0.96     84972\n",
      "\n",
      "The balanced accuracy of the default model is 0.595\n"
     ]
    },
    {
     "name": "stderr",
     "output_type": "stream",
     "text": [
      "\n"
     ]
    }
   ],
   "source": [
    "from sklearn.model_selection import TimeSeriesSplit\n",
    "from sklearn.linear_model import LogisticRegression\n",
    "from sklearn.metrics import accuracy_score\n",
    "from sklearn.metrics import log_loss, classification_report\n",
    "from sklearn.metrics import balanced_accuracy_score\n",
    "from sklearn.ensemble import RandomForestClassifier\n",
    "from tqdm import tqdm\n",
    "\n",
    "# Séparer les données en X et y\n",
    "X = df.drop(columns=['target'], axis=1)\n",
    "y = df['target']\n",
    "X2 = X.fillna(0)\n",
    "\n",
    "# Créer un objet TimeSeriesSplit\n",
    "tscv = TimeSeriesSplit(n_splits=5)\n",
    "\n",
    "# Boucle sur les plis\n",
    "for train_index, test_index in tqdm(tscv.split(X2)):\n",
    "    X_train, X_test = X2.iloc[train_index], X2.iloc[test_index]\n",
    "    y_train, y_test = y.iloc[train_index], y.iloc[test_index]\n",
    "    \n",
    "    #class_weights = dict(zip(np.unique(y_train), class_weight.compute_class_weight(class_weight='balanced', classes=np.unique(data_train['target']), y=data_train['target'])))\n",
    "    \n",
    "    # Entrainer un modèle sur le jeu d'entraînement\n",
    "    classifier = RandomForestClassifier(max_depth=100, random_state=42)#LogisticRegression()\n",
    "    model =make_pipeline(StandardScaler(), classifier)\n",
    "\n",
    "    #model.set_params(class_weight='balanced_subsample')\n",
    "    \n",
    "    model.fit(X_train, y_train)#, sample_weight=0.3)\n",
    "\n",
    "    # Prédire sur le jeu de test\n",
    "    y_pred = model.predict(X_test)\n",
    "\n",
    "    # Afficher la précision\n",
    "    print(accuracy_score(y_test, y_pred))\n",
    "    print(log_loss(y_test, model.predict_proba(X_test)))\n",
    "    print(classification_report(y_test, y_pred))\n",
    "    print(f\"The balanced accuracy of the default model is \"\n",
    "          f\"{balanced_accuracy_score(y_test, y_pred):.3f}\")"
   ]
  },
  {
   "cell_type": "code",
   "execution_count": 190,
   "id": "5f04d5dc-695b-4f61-b648-2ed74056c88e",
   "metadata": {},
   "outputs": [
    {
     "data": {
      "image/png": "[encoded data removed]",
      "text/plain": [
       "<Figure size 864x360 with 1 Axes>"
      ]
     },
     "metadata": {
      "needs_background": "light"
     },
     "output_type": "display_data"
    }
   ],
   "source": [
    "rf_features_importance(classifier, cols=X_train.columns)"
   ]
  },
  {
   "cell_type": "markdown",
   "id": "71b7bcc6-f00c-4da4-a5f7-2008a1951f62",
   "metadata": {},
   "source": [
    "TO KEEP : freq_fourier"
   ]
  },
  {
   "cell_type": "code",
   "execution_count": 153,
   "id": "bce27a3d-836e-4cdd-90e1-1e48df7b1940",
   "metadata": {},
   "outputs": [],
   "source": [
    "df['hour'] = df.index.hour\n",
    "df['day_of_year'] = df.index.day_of_year\n",
    "df['month'] = df.index.month\n",
    "df['year'] = df.index.year\n",
    "df['min'] = df.index.minute\n",
    "df['week'] = df.index.week\n",
    "df['weekofyear'] = df.index.weekofyear\n",
    "df['dayofweek'] = df.index.dayofweek\n",
    "df['quarter'] = df.index.quarter"
   ]
  },
  {
   "cell_type": "code",
   "execution_count": 154,
   "id": "7abecaca-3977-4698-9ccc-d782807dc015",
   "metadata": {},
   "outputs": [
    {
     "data": {
      "text/plain": [
       "(509834, 43)"
      ]
     },
     "execution_count": 154,
     "metadata": {},
     "output_type": "execute_result"
    }
   ],
   "source": [
    "df.shape"
   ]
  },
  {
   "cell_type": "code",
   "execution_count": 155,
   "id": "d3d1db8c-9ab0-4376-bad9-da636495ae40",
   "metadata": {
    "collapsed": true,
    "jupyter": {
     "outputs_hidden": true
    },
    "tags": []
   },
   "outputs": [
    {
     "name": "stderr",
     "output_type": "stream",
     "text": [
      "0it [00:00, ?it/s]"
     ]
    },
    {
     "name": "stdout",
     "output_type": "stream",
     "text": [
      "0.8831615120274914\n"
     ]
    },
    {
     "name": "stderr",
     "output_type": "stream",
     "text": [
      "1it [01:07, 67.49s/it]"
     ]
    },
    {
     "name": "stdout",
     "output_type": "stream",
     "text": [
      "0.2955322852764915\n",
      "              precision    recall  f1-score   support\n",
      "\n",
      "           0       0.89      0.99      0.93     71206\n",
      "           1       0.83      0.35      0.49     13766\n",
      "\n",
      "    accuracy                           0.88     84972\n",
      "   macro avg       0.86      0.67      0.71     84972\n",
      "weighted avg       0.88      0.88      0.86     84972\n",
      "\n",
      "The balanced accuracy of the default model is 0.668\n",
      "0.8540931130254672\n"
     ]
    },
    {
     "name": "stderr",
     "output_type": "stream",
     "text": [
      "2it [03:45, 120.88s/it]"
     ]
    },
    {
     "name": "stdout",
     "output_type": "stream",
     "text": [
      "0.41702181009446604\n",
      "              precision    recall  f1-score   support\n",
      "\n",
      "           0       0.87      0.97      0.92     69883\n",
      "           1       0.68      0.34      0.45     15089\n",
      "\n",
      "    accuracy                           0.85     84972\n",
      "   macro avg       0.77      0.65      0.68     84972\n",
      "weighted avg       0.84      0.85      0.83     84972\n",
      "\n",
      "The balanced accuracy of the default model is 0.652\n",
      "0.929412041613708\n"
     ]
    },
    {
     "name": "stderr",
     "output_type": "stream",
     "text": [
      "3it [07:58, 181.08s/it]"
     ]
    },
    {
     "name": "stdout",
     "output_type": "stream",
     "text": [
      "0.22637888785083116\n",
      "              precision    recall  f1-score   support\n",
      "\n",
      "           0       0.94      0.99      0.96     77546\n",
      "           1       0.72      0.31      0.44      7426\n",
      "\n",
      "    accuracy                           0.93     84972\n",
      "   macro avg       0.83      0.65      0.70     84972\n",
      "weighted avg       0.92      0.93      0.92     84972\n",
      "\n",
      "The balanced accuracy of the default model is 0.650\n",
      "0.944781810478746\n"
     ]
    },
    {
     "name": "stderr",
     "output_type": "stream",
     "text": [
      "4it [13:56, 251.12s/it]"
     ]
    },
    {
     "name": "stdout",
     "output_type": "stream",
     "text": [
      "0.17425368290147975\n",
      "              precision    recall  f1-score   support\n",
      "\n",
      "           0       0.95      0.99      0.97     77756\n",
      "           1       0.78      0.48      0.60      7216\n",
      "\n",
      "    accuracy                           0.94     84972\n",
      "   macro avg       0.87      0.74      0.78     84972\n",
      "weighted avg       0.94      0.94      0.94     84972\n",
      "\n",
      "The balanced accuracy of the default model is 0.735\n",
      "0.9676599350374241\n"
     ]
    },
    {
     "name": "stderr",
     "output_type": "stream",
     "text": [
      "5it [21:28, 257.73s/it]"
     ]
    },
    {
     "name": "stdout",
     "output_type": "stream",
     "text": [
      "0.15443866972364087\n",
      "              precision    recall  f1-score   support\n",
      "\n",
      "           0       0.97      1.00      0.98     81981\n",
      "           1       0.68      0.16      0.25      2991\n",
      "\n",
      "    accuracy                           0.97     84972\n",
      "   macro avg       0.82      0.58      0.62     84972\n",
      "weighted avg       0.96      0.97      0.96     84972\n",
      "\n",
      "The balanced accuracy of the default model is 0.577\n"
     ]
    },
    {
     "name": "stderr",
     "output_type": "stream",
     "text": [
      "\n"
     ]
    }
   ],
   "source": [
    "from sklearn.model_selection import TimeSeriesSplit\n",
    "from sklearn.linear_model import LogisticRegression\n",
    "from sklearn.metrics import accuracy_score\n",
    "from sklearn.metrics import log_loss, classification_report\n",
    "from sklearn.metrics import balanced_accuracy_score\n",
    "from sklearn.ensemble import RandomForestClassifier\n",
    "from tqdm import tqdm\n",
    "\n",
    "# Séparer les données en X et y\n",
    "X = df.drop(columns=['target'], axis=1)\n",
    "y = df['target']\n",
    "X2 = X.fillna(0)\n",
    "\n",
    "# Créer un objet TimeSeriesSplit\n",
    "tscv = TimeSeriesSplit(n_splits=5)\n",
    "\n",
    "# Boucle sur les plis\n",
    "for train_index, test_index in tqdm(tscv.split(X2)):\n",
    "    X_train, X_test = X2.iloc[train_index], X2.iloc[test_index]\n",
    "    y_train, y_test = y.iloc[train_index], y.iloc[test_index]\n",
    "    \n",
    "    #class_weights = dict(zip(np.unique(y_train), class_weight.compute_class_weight(class_weight='balanced', classes=np.unique(data_train['target']), y=data_train['target'])))\n",
    "    \n",
    "    # Entrainer un modèle sur le jeu d'entraînement\n",
    "    classifier = RandomForestClassifier(max_depth=100, random_state=42)#LogisticRegression()\n",
    "    model =make_pipeline(StandardScaler(), classifier)\n",
    "\n",
    "    #model.set_params(class_weight='balanced_subsample')\n",
    "    \n",
    "    model.fit(X_train, y_train)#, sample_weight=0.3)\n",
    "\n",
    "    # Prédire sur le jeu de test\n",
    "    y_pred = model.predict(X_test)\n",
    "\n",
    "    # Afficher la précision\n",
    "    print(accuracy_score(y_test, y_pred))\n",
    "    print(log_loss(y_test, model.predict_proba(X_test)))\n",
    "    print(classification_report(y_test, y_pred))\n",
    "    print(f\"The balanced accuracy of the default model is \"\n",
    "          f\"{balanced_accuracy_score(y_test, y_pred):.3f}\")"
   ]
  },
  {
   "cell_type": "code",
   "execution_count": 156,
   "id": "05ebad7f-a799-4eb1-b71e-e08808a49d70",
   "metadata": {},
   "outputs": [
    {
     "data": {
      "image/png": "[encoded data removed]",
      "text/plain": [
       "<Figure size 864x360 with 1 Axes>"
      ]
     },
     "metadata": {
      "needs_background": "light"
     },
     "output_type": "display_data"
    }
   ],
   "source": [
    "rf_features_importance(classifier, cols=X_train.columns)"
   ]
  },
  {
   "cell_type": "markdown",
   "id": "ba0cff60-2e5a-44cf-8518-b375c93b474a",
   "metadata": {},
   "source": [
    "TO KEEP : day_of_year, week, year, dayofweek, month, hour"
   ]
  },
  {
   "cell_type": "code",
   "execution_count": 165,
   "id": "b71d8065-05ea-4417-9d96-57f700a1cb37",
   "metadata": {
    "collapsed": true,
    "jupyter": {
     "outputs_hidden": true
    },
    "tags": []
   },
   "outputs": [
    {
     "data": {
      "text/plain": [
       "Beta           0.170057\n",
       "B              0.057497\n",
       "RmsBob         0.042287\n",
       "Range F 7      0.041806\n",
       "Vth            0.038178\n",
       "Vx             0.035338\n",
       "day_of_year    0.034065\n",
       "V              0.030323\n",
       "By             0.025857\n",
       "weekofyear     0.025435\n",
       "week           0.024670\n",
       "Bx             0.024654\n",
       "year           0.024320\n",
       "Range F 11     0.024164\n",
       "Vy             0.021836\n",
       "Range F 4      0.021018\n",
       "Bz             0.020399\n",
       "Range F 12     0.019917\n",
       "Pdyn           0.019158\n",
       "Range F 9      0.019091\n",
       "Range F 5      0.018374\n",
       "Range F 6      0.016629\n",
       "Np             0.016595\n",
       "Range F 10     0.016575\n",
       "Na_nl          0.016060\n",
       "Range F 8      0.016019\n",
       "Range F 3      0.015969\n",
       "Np_nl          0.015674\n",
       "dayofweek      0.015370\n",
       "dtype: float64"
      ]
     },
     "execution_count": 165,
     "metadata": {},
     "output_type": "execute_result"
    }
   ],
   "source": [
    "pd.Series(classifier.feature_importances_, index=X_train.columns).sort_values(ascending=False)[pd.Series(classifier.feature_importances_, index=X_train.columns)>0.015]"
   ]
  },
  {
   "cell_type": "code",
   "execution_count": 93,
   "id": "6ac61d32-6e6f-4dd7-ada1-324bc07b287f",
   "metadata": {},
   "outputs": [
    {
     "name": "stderr",
     "output_type": "stream",
     "text": [
      "0it [00:00, ?it/s]"
     ]
    },
    {
     "name": "stdout",
     "output_type": "stream",
     "text": [
      "0.8812550016476015\n"
     ]
    },
    {
     "name": "stderr",
     "output_type": "stream",
     "text": [
      "1it [01:25, 85.04s/it]"
     ]
    },
    {
     "name": "stdout",
     "output_type": "stream",
     "text": [
      "0.3179661783277235\n",
      "              precision    recall  f1-score   support\n",
      "\n",
      "           0       0.88      0.99      0.93     71206\n",
      "           1       0.85      0.33      0.47     13766\n",
      "\n",
      "    accuracy                           0.88     84972\n",
      "   macro avg       0.86      0.66      0.70     84972\n",
      "weighted avg       0.88      0.88      0.86     84972\n",
      "\n",
      "The balanced accuracy of the default model is 0.658\n",
      "0.864367085628207\n"
     ]
    },
    {
     "name": "stderr",
     "output_type": "stream",
     "text": [
      "2it [04:41, 150.45s/it]"
     ]
    },
    {
     "name": "stdout",
     "output_type": "stream",
     "text": [
      "0.4245064328159404\n",
      "              precision    recall  f1-score   support\n",
      "\n",
      "           0       0.88      0.97      0.92     69883\n",
      "           1       0.71      0.39      0.51     15089\n",
      "\n",
      "    accuracy                           0.86     84972\n",
      "   macro avg       0.80      0.68      0.71     84972\n",
      "weighted avg       0.85      0.86      0.85     84972\n",
      "\n",
      "The balanced accuracy of the default model is 0.680\n",
      "0.9297415619262815\n"
     ]
    },
    {
     "name": "stderr",
     "output_type": "stream",
     "text": [
      "3it [09:56, 225.69s/it]"
     ]
    },
    {
     "name": "stdout",
     "output_type": "stream",
     "text": [
      "0.22549206752079756\n",
      "              precision    recall  f1-score   support\n",
      "\n",
      "           0       0.94      0.99      0.96     77546\n",
      "           1       0.70      0.34      0.46      7426\n",
      "\n",
      "    accuracy                           0.93     84972\n",
      "   macro avg       0.82      0.66      0.71     84972\n",
      "weighted avg       0.92      0.93      0.92     84972\n",
      "\n",
      "The balanced accuracy of the default model is 0.663\n",
      "0.9526902979805112\n"
     ]
    },
    {
     "name": "stderr",
     "output_type": "stream",
     "text": [
      "4it [17:29, 315.23s/it]"
     ]
    },
    {
     "name": "stdout",
     "output_type": "stream",
     "text": [
      "0.16158990536977877\n",
      "              precision    recall  f1-score   support\n",
      "\n",
      "           0       0.96      0.99      0.97     77756\n",
      "           1       0.82      0.57      0.67      7216\n",
      "\n",
      "    accuracy                           0.95     84972\n",
      "   macro avg       0.89      0.78      0.82     84972\n",
      "weighted avg       0.95      0.95      0.95     84972\n",
      "\n",
      "The balanced accuracy of the default model is 0.779\n",
      "0.9720260791790237\n"
     ]
    },
    {
     "name": "stderr",
     "output_type": "stream",
     "text": [
      "5it [27:21, 328.23s/it]"
     ]
    },
    {
     "name": "stdout",
     "output_type": "stream",
     "text": [
      "0.11998722876900822\n",
      "              precision    recall  f1-score   support\n",
      "\n",
      "           0       0.97      1.00      0.99     81981\n",
      "           1       0.84      0.25      0.39      2991\n",
      "\n",
      "    accuracy                           0.97     84972\n",
      "   macro avg       0.91      0.63      0.69     84972\n",
      "weighted avg       0.97      0.97      0.96     84972\n",
      "\n",
      "The balanced accuracy of the default model is 0.626\n"
     ]
    },
    {
     "name": "stderr",
     "output_type": "stream",
     "text": [
      "\n"
     ]
    }
   ],
   "source": [
    "from sklearn.model_selection import TimeSeriesSplit\n",
    "from sklearn.linear_model import LogisticRegression\n",
    "from sklearn.metrics import accuracy_score\n",
    "from sklearn.metrics import log_loss, classification_report\n",
    "from sklearn.metrics import balanced_accuracy_score\n",
    "from sklearn.ensemble import RandomForestClassifier\n",
    "from tqdm import tqdm\n",
    "\n",
    "# Séparer les données en X et y\n",
    "X = df.drop(columns=['target'], axis=1)\n",
    "y = df['target']\n",
    "X2 = X.fillna(0)\n",
    "\n",
    "# Créer un objet TimeSeriesSplit\n",
    "tscv = TimeSeriesSplit(n_splits=5)\n",
    "\n",
    "# Boucle sur les plis\n",
    "for train_index, test_index in tqdm(tscv.split(X2)):\n",
    "    X_train, X_test = X2.iloc[train_index], X2.iloc[test_index]\n",
    "    y_train, y_test = y.iloc[train_index], y.iloc[test_index]\n",
    "    \n",
    "    #class_weights = dict(zip(np.unique(y_train), class_weight.compute_class_weight(class_weight='balanced', classes=np.unique(data_train['target']), y=data_train['target'])))\n",
    "    \n",
    "    # Entrainer un modèle sur le jeu d'entraînement\n",
    "    classifier = RandomForestClassifier(max_depth=100, random_state=42)#LogisticRegression()\n",
    "    model =make_pipeline(StandardScaler(), classifier)\n",
    "\n",
    "    #model.set_params(class_weight='balanced_subsample')\n",
    "    \n",
    "    model.fit(X_train, y_train)#, sample_weight=0.3)\n",
    "\n",
    "    # Prédire sur le jeu de test\n",
    "    y_pred = model.predict(X_test)\n",
    "\n",
    "    # Afficher la précision\n",
    "    print(accuracy_score(y_test, y_pred))\n",
    "    print(log_loss(y_test, model.predict_proba(X_test)))\n",
    "    print(classification_report(y_test, y_pred))\n",
    "    print(f\"The balanced accuracy of the default model is \"\n",
    "          f\"{balanced_accuracy_score(y_test, y_pred):.3f}\")"
   ]
  },
  {
   "cell_type": "code",
   "execution_count": 96,
   "id": "f9b4e51e-b23d-4af7-a68f-fb087129b477",
   "metadata": {},
   "outputs": [
    {
     "data": {
      "image/png": "[encoded data removed]",
      "text/plain": [
       "<Figure size 864x360 with 1 Axes>"
      ]
     },
     "metadata": {
      "needs_background": "light"
     },
     "output_type": "display_data"
    }
   ],
   "source": [
    "rf_features_importance(classifier, cols=X_train.columns)"
   ]
  },
  {
   "cell_type": "code",
   "execution_count": 108,
   "id": "99aa1422-0c22-4d2c-bdbc-3e06b78494b6",
   "metadata": {},
   "outputs": [
    {
     "data": {
      "text/plain": [
       "Beta               0.118452\n",
       "Beta_t-1           0.104856\n",
       "RmsBob             0.041893\n",
       "B                  0.039390\n",
       "RmsBob_t-1         0.033941\n",
       "Vth                0.031549\n",
       "Vx                 0.030689\n",
       "Range F 7          0.030208\n",
       "V                  0.026758\n",
       "Pdyn_d-1           0.023727\n",
       "Beta_d-1           0.022938\n",
       "By                 0.020354\n",
       "Range F 11         0.020036\n",
       "Beta_diff          0.019446\n",
       "Vy                 0.019347\n",
       "Bx                 0.018595\n",
       "Range F 12         0.018303\n",
       "Range F 9          0.018112\n",
       "Bz                 0.017284\n",
       "Pdyn_m-1           0.017194\n",
       "Pdyn               0.016657\n",
       "Range F 4          0.016491\n",
       "Pdyn_t-1           0.016230\n",
       "Vx_diff            0.016059\n",
       "Range F 5          0.015604\n",
       "Pdyn_y-1           0.015548\n",
       "Range F 13_diff    0.015504\n",
       "V_diff             0.015350\n",
       "dtype: float64"
      ]
     },
     "execution_count": 108,
     "metadata": {},
     "output_type": "execute_result"
    }
   ],
   "source": [
    "pd.Series(classifier.feature_importances_, index=X_train.columns).sort_values(ascending=False)[pd.Series(classifier.feature_importances_, index=X_train.columns)>0.015]"
   ]
  },
  {
   "cell_type": "code",
   "execution_count": 110,
   "id": "07aa4bff-30c9-4817-b97c-e212a774afc4",
   "metadata": {},
   "outputs": [
    {
     "data": {
      "text/plain": [
       "(509834, 28)"
      ]
     },
     "execution_count": 110,
     "metadata": {},
     "output_type": "execute_result"
    }
   ],
   "source": [
    "df[pd.Series(classifier.feature_importances_, index=X_train.columns).sort_values(ascending=False)[pd.Series(classifier.feature_importances_, index=X_train.columns)>0.015].index].shape"
   ]
  },
  {
   "cell_type": "code",
   "execution_count": null,
   "id": "6e6b0f41-eb1b-4c69-a576-f87a2b402677",
   "metadata": {},
   "outputs": [],
   "source": [
    "['Beta','Beta_t-1','RmsBob','B','RmsBob_t-1','Vth','Vx','Range F 7','V','Pdyn_d-1','Beta_d-1','By','Range F 11','Beta_diff'          \n",
    " ,'Vy','Bx','Range F 12','Range F 9','Bz','Pdyn_m-1','Pdyn','Range F 4','Pdyn_t-1','Vx_diff','Range F 5','Pdyn_y-1','Range F 13_diff','V_diff']            "
   ]
  },
  {
   "cell_type": "code",
   "execution_count": 113,
   "id": "e64d41d6-6e0a-4605-86b6-81af6bcebc98",
   "metadata": {},
   "outputs": [
    {
     "name": "stderr",
     "output_type": "stream",
     "text": [
      "0it [00:00, ?it/s]"
     ]
    },
    {
     "name": "stdout",
     "output_type": "stream",
     "text": [
      "0.8848091135903592\n",
      "0.31085738768522325\n"
     ]
    },
    {
     "name": "stderr",
     "output_type": "stream",
     "text": [
      "1it [00:02,  2.55s/it]"
     ]
    },
    {
     "name": "stdout",
     "output_type": "stream",
     "text": [
      "              precision    recall  f1-score   support\n",
      "\n",
      "           0       0.89      0.98      0.93     71206\n",
      "           1       0.80      0.38      0.52     13766\n",
      "\n",
      "    accuracy                           0.88     84972\n",
      "   macro avg       0.85      0.68      0.73     84972\n",
      "weighted avg       0.88      0.88      0.87     84972\n",
      "\n",
      "The balanced accuracy of the default model is 0.683\n",
      "0.8637904250812032\n",
      "0.34029657835112476\n"
     ]
    },
    {
     "name": "stderr",
     "output_type": "stream",
     "text": [
      "2it [00:05,  3.04s/it]"
     ]
    },
    {
     "name": "stdout",
     "output_type": "stream",
     "text": [
      "              precision    recall  f1-score   support\n",
      "\n",
      "           0       0.89      0.96      0.92     69883\n",
      "           1       0.68      0.43      0.53     15089\n",
      "\n",
      "    accuracy                           0.86     84972\n",
      "   macro avg       0.79      0.70      0.73     84972\n",
      "weighted avg       0.85      0.86      0.85     84972\n",
      "\n",
      "The balanced accuracy of the default model is 0.695\n",
      "0.929682719013322\n"
     ]
    },
    {
     "name": "stderr",
     "output_type": "stream",
     "text": [
      "3it [00:10,  3.97s/it]"
     ]
    },
    {
     "name": "stdout",
     "output_type": "stream",
     "text": [
      "0.18414958079164204\n",
      "              precision    recall  f1-score   support\n",
      "\n",
      "           0       0.94      0.98      0.96     77546\n",
      "           1       0.67      0.39      0.49      7426\n",
      "\n",
      "    accuracy                           0.93     84972\n",
      "   macro avg       0.81      0.68      0.73     84972\n",
      "weighted avg       0.92      0.93      0.92     84972\n",
      "\n",
      "The balanced accuracy of the default model is 0.685\n",
      "0.9514663653909523\n",
      "0.1404421578422633\n"
     ]
    },
    {
     "name": "stderr",
     "output_type": "stream",
     "text": [
      "4it [00:16,  4.59s/it]"
     ]
    },
    {
     "name": "stdout",
     "output_type": "stream",
     "text": [
      "              precision    recall  f1-score   support\n",
      "\n",
      "           0       0.96      0.98      0.97     77756\n",
      "           1       0.77      0.61      0.68      7216\n",
      "\n",
      "    accuracy                           0.95     84972\n",
      "   macro avg       0.87      0.80      0.83     84972\n",
      "weighted avg       0.95      0.95      0.95     84972\n",
      "\n",
      "The balanced accuracy of the default model is 0.796\n",
      "0.9725556653956597\n",
      "0.07784087742894874\n"
     ]
    },
    {
     "name": "stderr",
     "output_type": "stream",
     "text": [
      "5it [00:22,  4.59s/it]"
     ]
    },
    {
     "name": "stdout",
     "output_type": "stream",
     "text": [
      "              precision    recall  f1-score   support\n",
      "\n",
      "           0       0.97      1.00      0.99     81981\n",
      "           1       0.79      0.30      0.43      2991\n",
      "\n",
      "    accuracy                           0.97     84972\n",
      "   macro avg       0.88      0.65      0.71     84972\n",
      "weighted avg       0.97      0.97      0.97     84972\n",
      "\n",
      "The balanced accuracy of the default model is 0.648\n"
     ]
    },
    {
     "name": "stderr",
     "output_type": "stream",
     "text": [
      "\n"
     ]
    }
   ],
   "source": [
    "from sklearn.model_selection import TimeSeriesSplit\n",
    "from sklearn.linear_model import LogisticRegression\n",
    "from sklearn.metrics import accuracy_score\n",
    "from sklearn.metrics import log_loss, classification_report\n",
    "from sklearn.metrics import balanced_accuracy_score\n",
    "from sklearn.ensemble import RandomForestClassifier\n",
    "from tqdm import tqdm\n",
    "\n",
    "# Séparer les données en X et y\n",
    "X = df[['Beta','Beta_t-1','RmsBob','B','RmsBob_t-1','Vth','Vx','Range F 7','V','Pdyn_d-1','Beta_d-1','By','Range F 11','Beta_diff'          \n",
    " ,'Vy','Bx','Range F 12','Range F 9','Bz','Pdyn_m-1','Pdyn','Range F 4','Pdyn_t-1','Vx_diff','Range F 5','Pdyn_y-1','Range F 13_diff','V_diff']]\n",
    "y = df['target']\n",
    "X2 = X.fillna(0)\n",
    "\n",
    "# Créer un objet TimeSeriesSplit\n",
    "tscv = TimeSeriesSplit(n_splits=5)\n",
    "\n",
    "# Boucle sur les plis\n",
    "for train_index, test_index in tqdm(tscv.split(X2)):\n",
    "    X_train, X_test = X2.iloc[train_index], X2.iloc[test_index]\n",
    "    y_train, y_test = y.iloc[train_index], y.iloc[test_index]\n",
    "    \n",
    "    #class_weights = dict(zip(np.unique(y_train), class_weight.compute_class_weight(class_weight='balanced', classes=np.unique(data_train['target']), y=data_train['target'])))\n",
    "    \n",
    "    # Entrainer un modèle sur le jeu d'entraînement\n",
    "    classifier = HistGradientBoostingClassifier()#LogisticRegression()\n",
    "    model =make_pipeline(StandardScaler(), classifier)\n",
    "\n",
    "    #model.set_params(class_weight='balanced_subsample')\n",
    "    \n",
    "    model.fit(X_train, y_train)#, sample_weight=0.3)\n",
    "\n",
    "    # Prédire sur le jeu de test\n",
    "    y_pred = model.predict(X_test)\n",
    "\n",
    "    # Afficher la précision\n",
    "    print(accuracy_score(y_test, y_pred))\n",
    "    print(log_loss(y_test, model.predict_proba(X_test)))\n",
    "    print(classification_report(y_test, y_pred))\n",
    "    print(f\"The balanced accuracy of the default model is \"\n",
    "          f\"{balanced_accuracy_score(y_test, y_pred):.3f}\")"
   ]
  },
  {
   "cell_type": "code",
   "execution_count": 138,
   "id": "9956040b-23ce-42cb-94cf-93d949ba38ab",
   "metadata": {},
   "outputs": [
    {
     "name": "stdout",
     "output_type": "stream",
     "text": [
      "Fitting 5 folds for each of 9 candidates, totalling 45 fits\n"
     ]
    },
    {
     "data": {
      "text/html": [
       "<style>#sk-container-id-1 {color: black;background-color: white;}#sk-container-id-1 pre{padding: 0;}#sk-container-id-1 div.sk-toggleable {background-color: white;}#sk-container-id-1 label.sk-toggleable__label {cursor: pointer;display: block;width: 100%;margin-bottom: 0;padding: 0.3em;box-sizing: border-box;text-align: center;}#sk-container-id-1 label.sk-toggleable__label-arrow:before {content: \"▸\";float: left;margin-right: 0.25em;color: #696969;}#sk-container-id-1 label.sk-toggleable__label-arrow:hover:before {color: black;}#sk-container-id-1 div.sk-estimator:hover label.sk-toggleable__label-arrow:before {color: black;}#sk-container-id-1 div.sk-toggleable__content {max-height: 0;max-width: 0;overflow: hidden;text-align: left;background-color: #f0f8ff;}#sk-container-id-1 div.sk-toggleable__content pre {margin: 0.2em;color: black;border-radius: 0.25em;background-color: #f0f8ff;}#sk-container-id-1 input.sk-toggleable__control:checked~div.sk-toggleable__content {max-height: 200px;max-width: 100%;overflow: auto;}#sk-container-id-1 input.sk-toggleable__control:checked~label.sk-toggleable__label-arrow:before {content: \"▾\";}#sk-container-id-1 div.sk-estimator input.sk-toggleable__control:checked~label.sk-toggleable__label {background-color: #d4ebff;}#sk-container-id-1 div.sk-label input.sk-toggleable__control:checked~label.sk-toggleable__label {background-color: #d4ebff;}#sk-container-id-1 input.sk-hidden--visually {border: 0;clip: rect(1px 1px 1px 1px);clip: rect(1px, 1px, 1px, 1px);height: 1px;margin: -1px;overflow: hidden;padding: 0;position: absolute;width: 1px;}#sk-container-id-1 div.sk-estimator {font-family: monospace;background-color: #f0f8ff;border: 1px dotted black;border-radius: 0.25em;box-sizing: border-box;margin-bottom: 0.5em;}#sk-container-id-1 div.sk-estimator:hover {background-color: #d4ebff;}#sk-container-id-1 div.sk-parallel-item::after {content: \"\";width: 100%;border-bottom: 1px solid gray;flex-grow: 1;}#sk-container-id-1 div.sk-label:hover label.sk-toggleable__label {background-color: #d4ebff;}#sk-container-id-1 div.sk-serial::before {content: \"\";position: absolute;border-left: 1px solid gray;box-sizing: border-box;top: 0;bottom: 0;left: 50%;z-index: 0;}#sk-container-id-1 div.sk-serial {display: flex;flex-direction: column;align-items: center;background-color: white;padding-right: 0.2em;padding-left: 0.2em;position: relative;}#sk-container-id-1 div.sk-item {position: relative;z-index: 1;}#sk-container-id-1 div.sk-parallel {display: flex;align-items: stretch;justify-content: center;background-color: white;position: relative;}#sk-container-id-1 div.sk-item::before, #sk-container-id-1 div.sk-parallel-item::before {content: \"\";position: absolute;border-left: 1px solid gray;box-sizing: border-box;top: 0;bottom: 0;left: 50%;z-index: -1;}#sk-container-id-1 div.sk-parallel-item {display: flex;flex-direction: column;z-index: 1;position: relative;background-color: white;}#sk-container-id-1 div.sk-parallel-item:first-child::after {align-self: flex-end;width: 50%;}#sk-container-id-1 div.sk-parallel-item:last-child::after {align-self: flex-start;width: 50%;}#sk-container-id-1 div.sk-parallel-item:only-child::after {width: 0;}#sk-container-id-1 div.sk-dashed-wrapped {border: 1px dashed gray;margin: 0 0.4em 0.5em 0.4em;box-sizing: border-box;padding-bottom: 0.4em;background-color: white;}#sk-container-id-1 div.sk-label label {font-family: monospace;font-weight: bold;display: inline-block;line-height: 1.2em;}#sk-container-id-1 div.sk-label-container {text-align: center;}#sk-container-id-1 div.sk-container {/* jupyter's `normalize.less` sets `[hidden] { display: none; }` but bootstrap.min.css set `[hidden] { display: none !important; }` so we also need the `!important` here to be able to override the default hidden behavior on the sphinx rendered scikit-learn.org. See: https://github.com/scikit-learn/scikit-learn/issues/21755 */display: inline-block !important;position: relative;}#sk-container-id-1 div.sk-text-repr-fallback {display: none;}</style><div id=\"sk-container-id-1\" class=\"sk-top-container\"><div class=\"sk-text-repr-fallback\"><pre>GridSearchCV(cv=TimeSeriesSplit(gap=0, max_train_size=None, n_splits=5, test_size=None),\n",
       "             estimator=Pipeline(steps=[(&#x27;scaler&#x27;, StandardScaler()),\n",
       "                                       (&#x27;classifier&#x27;,\n",
       "                                        HistGradientBoostingClassifier())]),\n",
       "             n_jobs=5,\n",
       "             param_grid={&#x27;classifier__l2_regularization&#x27;: [1.5],\n",
       "                         &#x27;classifier__learning_rate&#x27;: [0.1],\n",
       "                         &#x27;classifier__max_depth&#x27;: [25, 50, 75],\n",
       "                         &#x27;classifier__max_iter&#x27;: [1000, 1200, 1500]},\n",
       "             refit=False, scoring=[&#x27;f1&#x27;], verbose=2)</pre><b>In a Jupyter environment, please rerun this cell to show the HTML representation or trust the notebook. <br />On GitHub, the HTML representation is unable to render, please try loading this page with nbviewer.org.</b></div><div class=\"sk-container\" hidden><div class=\"sk-item sk-dashed-wrapped\"><div class=\"sk-label-container\"><div class=\"sk-label sk-toggleable\"><input class=\"sk-toggleable__control sk-hidden--visually\" id=\"sk-estimator-id-1\" type=\"checkbox\" ><label for=\"sk-estimator-id-1\" class=\"sk-toggleable__label sk-toggleable__label-arrow\">GridSearchCV</label><div class=\"sk-toggleable__content\"><pre>GridSearchCV(cv=TimeSeriesSplit(gap=0, max_train_size=None, n_splits=5, test_size=None),\n",
       "             estimator=Pipeline(steps=[(&#x27;scaler&#x27;, StandardScaler()),\n",
       "                                       (&#x27;classifier&#x27;,\n",
       "                                        HistGradientBoostingClassifier())]),\n",
       "             n_jobs=5,\n",
       "             param_grid={&#x27;classifier__l2_regularization&#x27;: [1.5],\n",
       "                         &#x27;classifier__learning_rate&#x27;: [0.1],\n",
       "                         &#x27;classifier__max_depth&#x27;: [25, 50, 75],\n",
       "                         &#x27;classifier__max_iter&#x27;: [1000, 1200, 1500]},\n",
       "             refit=False, scoring=[&#x27;f1&#x27;], verbose=2)</pre></div></div></div><div class=\"sk-parallel\"><div class=\"sk-parallel-item\"><div class=\"sk-item\"><div class=\"sk-label-container\"><div class=\"sk-label sk-toggleable\"><input class=\"sk-toggleable__control sk-hidden--visually\" id=\"sk-estimator-id-2\" type=\"checkbox\" ><label for=\"sk-estimator-id-2\" class=\"sk-toggleable__label sk-toggleable__label-arrow\">estimator: Pipeline</label><div class=\"sk-toggleable__content\"><pre>Pipeline(steps=[(&#x27;scaler&#x27;, StandardScaler()),\n",
       "                (&#x27;classifier&#x27;, HistGradientBoostingClassifier())])</pre></div></div></div><div class=\"sk-serial\"><div class=\"sk-item\"><div class=\"sk-serial\"><div class=\"sk-item\"><div class=\"sk-estimator sk-toggleable\"><input class=\"sk-toggleable__control sk-hidden--visually\" id=\"sk-estimator-id-3\" type=\"checkbox\" ><label for=\"sk-estimator-id-3\" class=\"sk-toggleable__label sk-toggleable__label-arrow\">StandardScaler</label><div class=\"sk-toggleable__content\"><pre>StandardScaler()</pre></div></div></div><div class=\"sk-item\"><div class=\"sk-estimator sk-toggleable\"><input class=\"sk-toggleable__control sk-hidden--visually\" id=\"sk-estimator-id-4\" type=\"checkbox\" ><label for=\"sk-estimator-id-4\" class=\"sk-toggleable__label sk-toggleable__label-arrow\">HistGradientBoostingClassifier</label><div class=\"sk-toggleable__content\"><pre>HistGradientBoostingClassifier()</pre></div></div></div></div></div></div></div></div></div></div></div></div>"
      ],
      "text/plain": [
       "GridSearchCV(cv=TimeSeriesSplit(gap=0, max_train_size=None, n_splits=5, test_size=None),\n",
       "             estimator=Pipeline(steps=[('scaler', StandardScaler()),\n",
       "                                       ('classifier',\n",
       "                                        HistGradientBoostingClassifier())]),\n",
       "             n_jobs=5,\n",
       "             param_grid={'classifier__l2_regularization': [1.5],\n",
       "                         'classifier__learning_rate': [0.1],\n",
       "                         'classifier__max_depth': [25, 50, 75],\n",
       "                         'classifier__max_iter': [1000, 1200, 1500]},\n",
       "             refit=False, scoring=['f1'], verbose=2)"
      ]
     },
     "execution_count": 138,
     "metadata": {},
     "output_type": "execute_result"
    }
   ],
   "source": [
    "from sklearn.model_selection import GridSearchCV\n",
    "X = df[['Beta','Beta_t-1','RmsBob','B','RmsBob_t-1','Vth','Vx','Range F 7','V','Pdyn_d-1','Beta_d-1','By','Range F 11','Beta_diff']]\n",
    "y = df['target']\n",
    "X2 = X.fillna(0)\n",
    "#parameters to tune\n",
    "parameters = {\n",
    " 'classifier__max_iter': [1000,1200,1500],\n",
    " 'classifier__learning_rate': [0.1],\n",
    " 'classifier__max_depth' : [25, 50, 75],\n",
    " 'classifier__l2_regularization': [1.5],\n",
    " }\n",
    "\n",
    "'''n_jobs=5, \n",
    "cv=5, scoring=’f1_micro’,\n",
    "verbose=2, refit=True'''\n",
    "tscv = TimeSeriesSplit(n_splits=5)\n",
    "gsearch = GridSearchCV(estimator=model, cv=tscv,\n",
    "                        param_grid=parameters, scoring=['f1'], refit=False, verbose=2, n_jobs=5)\n",
    "gsearch.fit(X2, y)"
   ]
  },
  {
   "cell_type": "code",
   "execution_count": 142,
   "id": "e6d34bb2-a194-4f28-928a-336e4323e01e",
   "metadata": {
    "collapsed": true,
    "jupyter": {
     "outputs_hidden": true
    },
    "tags": []
   },
   "outputs": [
    {
     "data": {
      "text/plain": [
       "{'mean_fit_time': array([46.65863719, 53.27774849, 63.32063937, 44.01643453, 51.74956059,\n",
       "        63.0837678 , 43.75195961, 52.09145312, 58.1639946 ]),\n",
       " 'std_fit_time': array([18.45828592, 19.76657855, 26.74356331, 17.17182313, 21.3362614 ,\n",
       "        26.70070914, 17.13765532, 20.30932526, 22.64022652]),\n",
       " 'mean_score_time': array([3.62726498, 4.06037211, 4.83983102, 3.49992661, 3.97079716,\n",
       "        4.93695397, 3.47851052, 3.99657989, 4.43796601]),\n",
       " 'std_score_time': array([0.26379132, 0.30435011, 0.18700258, 0.23697258, 0.15104713,\n",
       "        0.20042107, 0.22141719, 0.48333625, 0.53273306]),\n",
       " 'param_classifier__l2_regularization': masked_array(data=[1.5, 1.5, 1.5, 1.5, 1.5, 1.5, 1.5, 1.5, 1.5],\n",
       "              mask=[False, False, False, False, False, False, False, False,\n",
       "                    False],\n",
       "        fill_value='?',\n",
       "             dtype=object),\n",
       " 'param_classifier__learning_rate': masked_array(data=[0.1, 0.1, 0.1, 0.1, 0.1, 0.1, 0.1, 0.1, 0.1],\n",
       "              mask=[False, False, False, False, False, False, False, False,\n",
       "                    False],\n",
       "        fill_value='?',\n",
       "             dtype=object),\n",
       " 'param_classifier__max_depth': masked_array(data=[25, 25, 25, 50, 50, 50, 75, 75, 75],\n",
       "              mask=[False, False, False, False, False, False, False, False,\n",
       "                    False],\n",
       "        fill_value='?',\n",
       "             dtype=object),\n",
       " 'param_classifier__max_iter': masked_array(data=[1000, 1200, 1500, 1000, 1200, 1500, 1000, 1200, 1500],\n",
       "              mask=[False, False, False, False, False, False, False, False,\n",
       "                    False],\n",
       "        fill_value='?',\n",
       "             dtype=object),\n",
       " 'params': [{'classifier__l2_regularization': 1.5,\n",
       "   'classifier__learning_rate': 0.1,\n",
       "   'classifier__max_depth': 25,\n",
       "   'classifier__max_iter': 1000},\n",
       "  {'classifier__l2_regularization': 1.5,\n",
       "   'classifier__learning_rate': 0.1,\n",
       "   'classifier__max_depth': 25,\n",
       "   'classifier__max_iter': 1200},\n",
       "  {'classifier__l2_regularization': 1.5,\n",
       "   'classifier__learning_rate': 0.1,\n",
       "   'classifier__max_depth': 25,\n",
       "   'classifier__max_iter': 1500},\n",
       "  {'classifier__l2_regularization': 1.5,\n",
       "   'classifier__learning_rate': 0.1,\n",
       "   'classifier__max_depth': 50,\n",
       "   'classifier__max_iter': 1000},\n",
       "  {'classifier__l2_regularization': 1.5,\n",
       "   'classifier__learning_rate': 0.1,\n",
       "   'classifier__max_depth': 50,\n",
       "   'classifier__max_iter': 1200},\n",
       "  {'classifier__l2_regularization': 1.5,\n",
       "   'classifier__learning_rate': 0.1,\n",
       "   'classifier__max_depth': 50,\n",
       "   'classifier__max_iter': 1500},\n",
       "  {'classifier__l2_regularization': 1.5,\n",
       "   'classifier__learning_rate': 0.1,\n",
       "   'classifier__max_depth': 75,\n",
       "   'classifier__max_iter': 1000},\n",
       "  {'classifier__l2_regularization': 1.5,\n",
       "   'classifier__learning_rate': 0.1,\n",
       "   'classifier__max_depth': 75,\n",
       "   'classifier__max_iter': 1200},\n",
       "  {'classifier__l2_regularization': 1.5,\n",
       "   'classifier__learning_rate': 0.1,\n",
       "   'classifier__max_depth': 75,\n",
       "   'classifier__max_iter': 1500}],\n",
       " 'split0_test_f1': array([0.56693383, 0.57247115, 0.57599189, 0.57593755, 0.57539331,\n",
       "        0.56847479, 0.5796294 , 0.5720366 , 0.5763601 ]),\n",
       " 'split1_test_f1': array([0.53333333, 0.52445258, 0.52958861, 0.5332365 , 0.52262391,\n",
       "        0.52321449, 0.53283919, 0.52552403, 0.52528586]),\n",
       " 'split2_test_f1': array([0.47544401, 0.46660521, 0.47318454, 0.47407531, 0.47250271,\n",
       "        0.47110594, 0.47699859, 0.47799582, 0.4735613 ]),\n",
       " 'split3_test_f1': array([0.65646438, 0.65733101, 0.64930556, 0.66676744, 0.66970626,\n",
       "        0.65776119, 0.65963379, 0.65996399, 0.65602039]),\n",
       " 'split4_test_f1': array([0.486511  , 0.48543254, 0.47655374, 0.50200803, 0.47255478,\n",
       "        0.48221874, 0.45897143, 0.47794452, 0.47389739]),\n",
       " 'mean_test_f1': array([0.54373731, 0.5412585 , 0.54092487, 0.55040497, 0.54255619,\n",
       "        0.54055503, 0.54161448, 0.54269299, 0.54102501]),\n",
       " 'std_test_f1': array([0.06525724, 0.06843851, 0.06608627, 0.06731326, 0.07409507,\n",
       "        0.06788783, 0.07274034, 0.06824426, 0.06896042]),\n",
       " 'rank_test_f1': array([2, 6, 8, 1, 4, 9, 5, 3, 7], dtype=int32)}"
      ]
     },
     "execution_count": 142,
     "metadata": {},
     "output_type": "execute_result"
    },
    {
     "name": "stdout",
     "output_type": "stream",
     "text": [
      "[CV] END classifier__l2_regularization=1.5, classifier__learning_rate=0.1, classifier__max_depth=25, classifier__max_iter=1000; total time=  37.3s\n",
      "[CV] END classifier__l2_regularization=1.5, classifier__learning_rate=0.1, classifier__max_depth=25, classifier__max_iter=1200; total time=  43.8s\n",
      "[CV] END classifier__l2_regularization=1.5, classifier__learning_rate=0.1, classifier__max_depth=25, classifier__max_iter=1500; total time=  51.1s\n",
      "[CV] END classifier__l2_regularization=1.5, classifier__learning_rate=0.1, classifier__max_depth=50, classifier__max_iter=1000; total time=  23.7s\n",
      "[CV] END classifier__l2_regularization=1.5, classifier__learning_rate=0.1, classifier__max_depth=50, classifier__max_iter=1000; total time=  47.5s\n",
      "[CV] END classifier__l2_regularization=1.5, classifier__learning_rate=0.1, classifier__max_depth=50, classifier__max_iter=1200; total time=  41.7s\n",
      "[CV] END classifier__l2_regularization=1.5, classifier__learning_rate=0.1, classifier__max_depth=50, classifier__max_iter=1500; total time=  27.9s\n",
      "[CV] END classifier__l2_regularization=1.5, classifier__learning_rate=0.1, classifier__max_depth=50, classifier__max_iter=1500; total time= 1.1min\n",
      "[CV] END classifier__l2_regularization=1.5, classifier__learning_rate=0.1, classifier__max_depth=75, classifier__max_iter=1000; total time= 1.0min\n",
      "[CV] END classifier__l2_regularization=1.5, classifier__learning_rate=0.1, classifier__max_depth=75, classifier__max_iter=1200; total time= 1.2min\n",
      "[CV] END classifier__l2_regularization=1.5, classifier__learning_rate=0.1, classifier__max_depth=25, classifier__max_iter=1000; total time=  24.4s\n",
      "[CV] END classifier__l2_regularization=1.5, classifier__learning_rate=0.1, classifier__max_depth=25, classifier__max_iter=1200; total time=  29.1s\n",
      "[CV] END classifier__l2_regularization=1.5, classifier__learning_rate=0.1, classifier__max_depth=25, classifier__max_iter=1200; total time= 1.2min\n",
      "[CV] END classifier__l2_regularization=1.5, classifier__learning_rate=0.1, classifier__max_depth=25, classifier__max_iter=1500; total time= 1.7min\n",
      "[CV] END classifier__l2_regularization=1.5, classifier__learning_rate=0.1, classifier__max_depth=50, classifier__max_iter=1200; total time= 1.2min\n",
      "[CV] END classifier__l2_regularization=1.5, classifier__learning_rate=0.1, classifier__max_depth=50, classifier__max_iter=1500; total time= 1.7min\n",
      "[CV] END classifier__l2_regularization=1.5, classifier__learning_rate=0.1, classifier__max_depth=75, classifier__max_iter=1200; total time= 1.4min\n",
      "[CV] END classifier__l2_regularization=1.5, classifier__learning_rate=0.1, classifier__max_depth=25, classifier__max_iter=1000; total time= 1.1min\n",
      "[CV] END classifier__l2_regularization=1.5, classifier__learning_rate=0.1, classifier__max_depth=25, classifier__max_iter=1200; total time= 1.4min\n",
      "[CV] END classifier__l2_regularization=1.5, classifier__learning_rate=0.1, classifier__max_depth=50, classifier__max_iter=1000; total time=  34.9s\n",
      "[CV] END classifier__l2_regularization=1.5, classifier__learning_rate=0.1, classifier__max_depth=50, classifier__max_iter=1000; total time= 1.2min\n",
      "[CV] END classifier__l2_regularization=1.5, classifier__learning_rate=0.1, classifier__max_depth=50, classifier__max_iter=1500; total time=  51.8s\n",
      "[CV] END classifier__l2_regularization=1.5, classifier__learning_rate=0.1, classifier__max_depth=75, classifier__max_iter=1000; total time=  23.5s\n",
      "[CV] END classifier__l2_regularization=1.5, classifier__learning_rate=0.1, classifier__max_depth=75, classifier__max_iter=1000; total time=  47.2s\n",
      "[CV] END classifier__l2_regularization=1.5, classifier__learning_rate=0.1, classifier__max_depth=75, classifier__max_iter=1200; total time=  41.6s\n",
      "[CV] END classifier__l2_regularization=1.5, classifier__learning_rate=0.1, classifier__max_depth=75, classifier__max_iter=1500; total time=  27.0s\n",
      "[CV] END classifier__l2_regularization=1.5, classifier__learning_rate=0.1, classifier__max_depth=75, classifier__max_iter=1500; total time= 1.1min\n"
     ]
    }
   ],
   "source": [
    "gsearch.cv_results_"
   ]
  },
  {
   "cell_type": "code",
   "execution_count": 128,
   "id": "d9e9ee6a-03f1-499f-a954-058d18d5684b",
   "metadata": {
    "collapsed": true,
    "jupyter": {
     "outputs_hidden": true
    },
    "tags": []
   },
   "outputs": [
    {
     "data": {
      "text/plain": [
       "['accuracy',\n",
       " 'adjusted_mutual_info_score',\n",
       " 'adjusted_rand_score',\n",
       " 'average_precision',\n",
       " 'balanced_accuracy',\n",
       " 'completeness_score',\n",
       " 'explained_variance',\n",
       " 'f1',\n",
       " 'f1_macro',\n",
       " 'f1_micro',\n",
       " 'f1_samples',\n",
       " 'f1_weighted',\n",
       " 'fowlkes_mallows_score',\n",
       " 'homogeneity_score',\n",
       " 'jaccard',\n",
       " 'jaccard_macro',\n",
       " 'jaccard_micro',\n",
       " 'jaccard_samples',\n",
       " 'jaccard_weighted',\n",
       " 'matthews_corrcoef',\n",
       " 'max_error',\n",
       " 'mutual_info_score',\n",
       " 'neg_brier_score',\n",
       " 'neg_log_loss',\n",
       " 'neg_mean_absolute_error',\n",
       " 'neg_mean_absolute_percentage_error',\n",
       " 'neg_mean_gamma_deviance',\n",
       " 'neg_mean_poisson_deviance',\n",
       " 'neg_mean_squared_error',\n",
       " 'neg_mean_squared_log_error',\n",
       " 'neg_median_absolute_error',\n",
       " 'neg_negative_likelihood_ratio',\n",
       " 'neg_root_mean_squared_error',\n",
       " 'normalized_mutual_info_score',\n",
       " 'positive_likelihood_ratio',\n",
       " 'precision',\n",
       " 'precision_macro',\n",
       " 'precision_micro',\n",
       " 'precision_samples',\n",
       " 'precision_weighted',\n",
       " 'r2',\n",
       " 'rand_score',\n",
       " 'recall',\n",
       " 'recall_macro',\n",
       " 'recall_micro',\n",
       " 'recall_samples',\n",
       " 'recall_weighted',\n",
       " 'roc_auc',\n",
       " 'roc_auc_ovo',\n",
       " 'roc_auc_ovo_weighted',\n",
       " 'roc_auc_ovr',\n",
       " 'roc_auc_ovr_weighted',\n",
       " 'top_k_accuracy',\n",
       " 'v_measure_score']"
      ]
     },
     "execution_count": 130,
     "metadata": {},
     "output_type": "execute_result"
    }
   ],
   "source": [
    "sklearn.metrics.get_scorer_names()"
   ]
  },
  {
   "cell_type": "code",
   "execution_count": null,
   "id": "a9814a9f-2605-41c7-b258-3a621515e898",
   "metadata": {},
   "outputs": [],
   "source": [
    " {'classifier__l2_regularization': 1.5,\n",
    "   'classifier__learning_rate': 0.1,\n",
    "   'classifier__max_depth': 50,\n",
    "   'classifier__max_iter': 1000}"
   ]
  },
  {
   "cell_type": "code",
   "execution_count": 144,
   "id": "3982397c-7560-47e5-8349-ee1384a9b5fb",
   "metadata": {
    "collapsed": true,
    "jupyter": {
     "outputs_hidden": true
    },
    "tags": []
   },
   "outputs": [
    {
     "name": "stderr",
     "output_type": "stream",
     "text": [
      "0it [00:00, ?it/s]"
     ]
    },
    {
     "name": "stdout",
     "output_type": "stream",
     "text": [
      "0.8816904392035023\n"
     ]
    },
    {
     "name": "stderr",
     "output_type": "stream",
     "text": [
      "1it [00:12, 12.32s/it]"
     ]
    },
    {
     "name": "stdout",
     "output_type": "stream",
     "text": [
      "0.38884783219979036\n",
      "              precision    recall  f1-score   support\n",
      "\n",
      "           0       0.91      0.96      0.93     71206\n",
      "           1       0.69      0.49      0.57     13766\n",
      "\n",
      "    accuracy                           0.88     84972\n",
      "   macro avg       0.80      0.72      0.75     84972\n",
      "weighted avg       0.87      0.88      0.87     84972\n",
      "\n",
      "The balanced accuracy of the default model is 0.723\n",
      "[CV] END classifier__l2_regularization=1.5, classifier__learning_rate=0.1, classifier__max_depth=25, classifier__max_iter=1000; total time= 1.3min\n",
      "[CV] END classifier__l2_regularization=1.5, classifier__learning_rate=0.1, classifier__max_depth=25, classifier__max_iter=1500; total time=  28.1s\n",
      "[CV] END classifier__l2_regularization=1.5, classifier__learning_rate=0.1, classifier__max_depth=25, classifier__max_iter=1500; total time= 1.2min\n",
      "[CV] END classifier__l2_regularization=1.5, classifier__learning_rate=0.1, classifier__max_depth=50, classifier__max_iter=1000; total time= 1.0min\n",
      "[CV] END classifier__l2_regularization=1.5, classifier__learning_rate=0.1, classifier__max_depth=50, classifier__max_iter=1200; total time= 1.4min\n",
      "[CV] END classifier__l2_regularization=1.5, classifier__learning_rate=0.1, classifier__max_depth=75, classifier__max_iter=1000; total time=  34.7s\n",
      "[CV] END classifier__l2_regularization=1.5, classifier__learning_rate=0.1, classifier__max_depth=75, classifier__max_iter=1000; total time= 1.2min\n",
      "[CV] END classifier__l2_regularization=1.5, classifier__learning_rate=0.1, classifier__max_depth=75, classifier__max_iter=1500; total time=  51.7s\n",
      "[CV] END classifier__l2_regularization=1.5, classifier__learning_rate=0.1, classifier__max_depth=75, classifier__max_iter=1500; total time= 1.5min\n",
      "0.8558937061620299\n"
     ]
    },
    {
     "name": "stderr",
     "output_type": "stream",
     "text": [
      "2it [00:27, 13.81s/it]"
     ]
    },
    {
     "name": "stdout",
     "output_type": "stream",
     "text": [
      "0.4161671698469433\n",
      "              precision    recall  f1-score   support\n",
      "\n",
      "           0       0.89      0.94      0.91     69883\n",
      "           1       0.63      0.46      0.53     15089\n",
      "\n",
      "    accuracy                           0.86     84972\n",
      "   macro avg       0.76      0.70      0.72     84972\n",
      "weighted avg       0.84      0.86      0.85     84972\n",
      "\n",
      "The balanced accuracy of the default model is 0.701\n",
      "0.9260226898272372\n"
     ]
    },
    {
     "name": "stderr",
     "output_type": "stream",
     "text": [
      "3it [00:44, 15.59s/it]"
     ]
    },
    {
     "name": "stdout",
     "output_type": "stream",
     "text": [
      "0.20431162724167065\n",
      "              precision    recall  f1-score   support\n",
      "\n",
      "           0       0.94      0.98      0.96     77546\n",
      "           1       0.62      0.39      0.48      7426\n",
      "\n",
      "    accuracy                           0.93     84972\n",
      "   macro avg       0.78      0.68      0.72     84972\n",
      "weighted avg       0.92      0.93      0.92     84972\n",
      "\n",
      "The balanced accuracy of the default model is 0.683\n",
      "0.9471590641623123\n"
     ]
    },
    {
     "name": "stderr",
     "output_type": "stream",
     "text": [
      "4it [01:06, 18.06s/it]"
     ]
    },
    {
     "name": "stdout",
     "output_type": "stream",
     "text": [
      "0.14978337766385\n",
      "              precision    recall  f1-score   support\n",
      "\n",
      "           0       0.96      0.98      0.97     77756\n",
      "           1       0.72      0.61      0.66      7216\n",
      "\n",
      "    accuracy                           0.95     84972\n",
      "   macro avg       0.84      0.80      0.82     84972\n",
      "weighted avg       0.94      0.95      0.95     84972\n",
      "\n",
      "The balanced accuracy of the default model is 0.796\n",
      "0.9730499458645201\n"
     ]
    },
    {
     "name": "stderr",
     "output_type": "stream",
     "text": [
      "5it [01:30, 18.10s/it]"
     ]
    },
    {
     "name": "stdout",
     "output_type": "stream",
     "text": [
      "0.09040163646012653\n",
      "              precision    recall  f1-score   support\n",
      "\n",
      "           0       0.98      1.00      0.99     81981\n",
      "           1       0.75      0.36      0.48      2991\n",
      "\n",
      "    accuracy                           0.97     84972\n",
      "   macro avg       0.86      0.68      0.73     84972\n",
      "weighted avg       0.97      0.97      0.97     84972\n",
      "\n",
      "The balanced accuracy of the default model is 0.675\n"
     ]
    },
    {
     "name": "stderr",
     "output_type": "stream",
     "text": [
      "\n"
     ]
    }
   ],
   "source": [
    "#################################    BEST MODEL SO FAR #################################\n",
    "\n",
    "from sklearn.model_selection import TimeSeriesSplit\n",
    "from sklearn.linear_model import LogisticRegression\n",
    "from sklearn.metrics import accuracy_score\n",
    "from sklearn.metrics import log_loss, classification_report\n",
    "from sklearn.metrics import balanced_accuracy_score\n",
    "from sklearn.ensemble import RandomForestClassifier\n",
    "from tqdm import tqdm\n",
    "from sklearn.pipeline import Pipeline\n",
    "\n",
    "\n",
    "# Séparer les données en X et y\n",
    "X = df[['Beta','Beta_t-1','RmsBob','B','RmsBob_t-1','Vth','Vx','Range F 7','V','Pdyn_d-1','Beta_d-1','By','Range F 11','Beta_diff']]\n",
    "y = df['target']\n",
    "X2 = X.fillna(0)\n",
    "\n",
    "# Créer un objet TimeSeriesSplit\n",
    "tscv = TimeSeriesSplit(n_splits=5)\n",
    "\n",
    "# Boucle sur les plis\n",
    "for train_index, test_index in tqdm(tscv.split(X2)):\n",
    "    X_train, X_test = X2.iloc[train_index], X2.iloc[test_index]\n",
    "    y_train, y_test = y.iloc[train_index], y.iloc[test_index]\n",
    "    \n",
    "    #class_weights = dict(zip(np.unique(y_train), class_weight.compute_class_weight(class_weight='balanced', classes=np.unique(data_train['target']), y=data_train['target'])))\n",
    "    \n",
    "    # Entrainer un modèle sur le jeu d'entraînement\n",
    "    classifier = HistGradientBoostingClassifier(l2_regularization= 1.5, learning_rate= 0.1, max_depth= 50,max_iter= 1000)#LogisticRegression()\n",
    "    model =Pipeline(steps=[(\"scaler\", StandardScaler()), (\"classifier\", classifier)])\n",
    "\n",
    "    #model.set_params(class_weight='balanced_subsample')\n",
    "    \n",
    "    model.fit(X_train, y_train)#, sample_weight=0.3)\n",
    "\n",
    "    # Prédire sur le jeu de test\n",
    "    y_pred = model.predict(X_test)\n",
    "\n",
    "    # Afficher la précision\n",
    "    print(accuracy_score(y_test, y_pred))\n",
    "    print(log_loss(y_test, model.predict_proba(X_test)))\n",
    "    print(classification_report(y_test, y_pred))\n",
    "    print(f\"The balanced accuracy of the default model is \"\n",
    "          f\"{balanced_accuracy_score(y_test, y_pred):.3f}\")"
   ]
  },
  {
   "cell_type": "code",
   "execution_count": 137,
   "id": "25c8772d-75bb-4b3e-81b2-ee5851fbf10f",
   "metadata": {
    "collapsed": true,
    "jupyter": {
     "outputs_hidden": true
    },
    "tags": []
   },
   "outputs": [
    {
     "name": "stderr",
     "output_type": "stream",
     "text": [
      "0it [00:00, ?it/s]"
     ]
    },
    {
     "name": "stdout",
     "output_type": "stream",
     "text": [
      "0.8911288424422162\n",
      "0.2784643511484139\n"
     ]
    },
    {
     "name": "stderr",
     "output_type": "stream",
     "text": [
      "1it [00:02,  2.02s/it]"
     ]
    },
    {
     "name": "stdout",
     "output_type": "stream",
     "text": [
      "              precision    recall  f1-score   support\n",
      "\n",
      "           0       0.91      0.96      0.94     71206\n",
      "           1       0.72      0.53      0.61     13766\n",
      "\n",
      "    accuracy                           0.89     84972\n",
      "   macro avg       0.82      0.75      0.78     84972\n",
      "weighted avg       0.88      0.89      0.88     84972\n",
      "\n",
      "The balanced accuracy of the default model is 0.747\n",
      "0.8642611683848798\n",
      "0.3304948568101087\n"
     ]
    },
    {
     "name": "stderr",
     "output_type": "stream",
     "text": [
      "2it [00:04,  2.21s/it]"
     ]
    },
    {
     "name": "stdout",
     "output_type": "stream",
     "text": [
      "              precision    recall  f1-score   support\n",
      "\n",
      "           0       0.89      0.95      0.92     69883\n",
      "           1       0.66      0.48      0.56     15089\n",
      "\n",
      "    accuracy                           0.86     84972\n",
      "   macro avg       0.78      0.71      0.74     84972\n",
      "weighted avg       0.85      0.86      0.86     84972\n",
      "\n",
      "The balanced accuracy of the default model is 0.714\n",
      "0.9282822576848845\n",
      "0.18725981520302137\n"
     ]
    },
    {
     "name": "stderr",
     "output_type": "stream",
     "text": [
      "3it [00:07,  2.81s/it]"
     ]
    },
    {
     "name": "stdout",
     "output_type": "stream",
     "text": [
      "              precision    recall  f1-score   support\n",
      "\n",
      "           0       0.94      0.98      0.96     77546\n",
      "           1       0.65      0.39      0.49      7426\n",
      "\n",
      "    accuracy                           0.93     84972\n",
      "   macro avg       0.80      0.68      0.72     84972\n",
      "weighted avg       0.92      0.93      0.92     84972\n",
      "\n",
      "The balanced accuracy of the default model is 0.684\n",
      "0.951101539330603\n",
      "0.1429682478092429\n"
     ]
    },
    {
     "name": "stderr",
     "output_type": "stream",
     "text": [
      "4it [00:11,  3.14s/it]"
     ]
    },
    {
     "name": "stdout",
     "output_type": "stream",
     "text": [
      "              precision    recall  f1-score   support\n",
      "\n",
      "           0       0.97      0.98      0.97     77756\n",
      "           1       0.76      0.63      0.69      7216\n",
      "\n",
      "    accuracy                           0.95     84972\n",
      "   macro avg       0.86      0.80      0.83     84972\n",
      "weighted avg       0.95      0.95      0.95     84972\n",
      "\n",
      "The balanced accuracy of the default model is 0.804\n",
      "0.9753330508873511\n",
      "0.0752250846222121\n"
     ]
    },
    {
     "name": "stderr",
     "output_type": "stream",
     "text": [
      "5it [00:15,  3.11s/it]"
     ]
    },
    {
     "name": "stdout",
     "output_type": "stream",
     "text": [
      "              precision    recall  f1-score   support\n",
      "\n",
      "           0       0.98      1.00      0.99     81981\n",
      "           1       0.77      0.42      0.55      2991\n",
      "\n",
      "    accuracy                           0.98     84972\n",
      "   macro avg       0.88      0.71      0.77     84972\n",
      "weighted avg       0.97      0.98      0.97     84972\n",
      "\n",
      "The balanced accuracy of the default model is 0.710\n"
     ]
    },
    {
     "name": "stderr",
     "output_type": "stream",
     "text": [
      "\n"
     ]
    }
   ],
   "source": [
    "#################################    BEST MODEL SO FAR #################################\n",
    "\n",
    "from sklearn.model_selection import TimeSeriesSplit\n",
    "from sklearn.linear_model import LogisticRegression\n",
    "from sklearn.metrics import accuracy_score\n",
    "from sklearn.metrics import log_loss, classification_report\n",
    "from sklearn.metrics import balanced_accuracy_score\n",
    "from sklearn.ensemble import RandomForestClassifier\n",
    "from tqdm import tqdm\n",
    "from sklearn.pipeline import Pipeline\n",
    "\n",
    "\n",
    "# Séparer les données en X et y\n",
    "X = df[['Beta','Beta_t-1','RmsBob','B','RmsBob_t-1','Vth','Vx','Range F 7','V','Pdyn_d-1','Beta_d-1','By','Range F 11','Beta_diff']]\n",
    "y = df['target']\n",
    "X2 = X.fillna(0)\n",
    "\n",
    "# Créer un objet TimeSeriesSplit\n",
    "tscv = TimeSeriesSplit(n_splits=5)\n",
    "\n",
    "# Boucle sur les plis\n",
    "for train_index, test_index in tqdm(tscv.split(X2)):\n",
    "    X_train, X_test = X2.iloc[train_index], X2.iloc[test_index]\n",
    "    y_train, y_test = y.iloc[train_index], y.iloc[test_index]\n",
    "    \n",
    "    #class_weights = dict(zip(np.unique(y_train), class_weight.compute_class_weight(class_weight='balanced', classes=np.unique(data_train['target']), y=data_train['target'])))\n",
    "    \n",
    "    # Entrainer un modèle sur le jeu d'entraînement\n",
    "    classifier = HistGradientBoostingClassifier()#LogisticRegression()\n",
    "    model =Pipeline(steps=[(\"scaler\", StandardScaler()), (\"classifier\", classifier)])\n",
    "\n",
    "    #model.set_params(class_weight='balanced_subsample')\n",
    "    \n",
    "    model.fit(X_train, y_train)#, sample_weight=0.3)\n",
    "\n",
    "    # Prédire sur le jeu de test\n",
    "    y_pred = model.predict(X_test)\n",
    "\n",
    "    # Afficher la précision\n",
    "    print(accuracy_score(y_test, y_pred))\n",
    "    print(log_loss(y_test, model.predict_proba(X_test)))\n",
    "    print(classification_report(y_test, y_pred))\n",
    "    print(f\"The balanced accuracy of the default model is \"\n",
    "          f\"{balanced_accuracy_score(y_test, y_pred):.3f}\")"
   ]
  },
  {
   "cell_type": "code",
   "execution_count": 122,
   "id": "9b79266e-f3ad-4658-bb7f-4575531d4942",
   "metadata": {},
   "outputs": [
    {
     "name": "stderr",
     "output_type": "stream",
     "text": [
      "0it [00:00, ?it/s]"
     ]
    },
    {
     "name": "stdout",
     "output_type": "stream",
     "text": [
      "0.8892929435578779\n",
      "0.2838379692722304\n"
     ]
    },
    {
     "name": "stderr",
     "output_type": "stream",
     "text": [
      "1it [00:01,  1.60s/it]"
     ]
    },
    {
     "name": "stdout",
     "output_type": "stream",
     "text": [
      "              precision    recall  f1-score   support\n",
      "\n",
      "           0       0.91      0.96      0.94     71206\n",
      "           1       0.72      0.52      0.60     13766\n",
      "\n",
      "    accuracy                           0.89     84972\n",
      "   macro avg       0.82      0.74      0.77     84972\n",
      "weighted avg       0.88      0.89      0.88     84972\n",
      "\n",
      "The balanced accuracy of the default model is 0.740\n",
      "0.8624252695005413\n",
      "0.3382378299040176\n"
     ]
    },
    {
     "name": "stderr",
     "output_type": "stream",
     "text": [
      "2it [00:03,  1.93s/it]"
     ]
    },
    {
     "name": "stdout",
     "output_type": "stream",
     "text": [
      "              precision    recall  f1-score   support\n",
      "\n",
      "           0       0.89      0.95      0.92     69883\n",
      "           1       0.66      0.46      0.54     15089\n",
      "\n",
      "    accuracy                           0.86     84972\n",
      "   macro avg       0.78      0.70      0.73     84972\n",
      "weighted avg       0.85      0.86      0.85     84972\n",
      "\n",
      "The balanced accuracy of the default model is 0.705\n",
      "0.9287647695711528\n",
      "0.18809405341287772\n"
     ]
    },
    {
     "name": "stderr",
     "output_type": "stream",
     "text": [
      "3it [00:06,  2.40s/it]"
     ]
    },
    {
     "name": "stdout",
     "output_type": "stream",
     "text": [
      "              precision    recall  f1-score   support\n",
      "\n",
      "           0       0.95      0.98      0.96     77546\n",
      "           1       0.65      0.41      0.50      7426\n",
      "\n",
      "    accuracy                           0.93     84972\n",
      "   macro avg       0.80      0.69      0.73     84972\n",
      "weighted avg       0.92      0.93      0.92     84972\n",
      "\n",
      "The balanced accuracy of the default model is 0.695\n",
      "0.9491244174551617\n",
      "0.15238813710594454\n"
     ]
    },
    {
     "name": "stderr",
     "output_type": "stream",
     "text": [
      "4it [00:10,  2.75s/it]"
     ]
    },
    {
     "name": "stdout",
     "output_type": "stream",
     "text": [
      "              precision    recall  f1-score   support\n",
      "\n",
      "           0       0.96      0.98      0.97     77756\n",
      "           1       0.75      0.60      0.67      7216\n",
      "\n",
      "    accuracy                           0.95     84972\n",
      "   macro avg       0.86      0.79      0.82     84972\n",
      "weighted avg       0.95      0.95      0.95     84972\n",
      "\n",
      "The balanced accuracy of the default model is 0.792\n",
      "0.9745680930188768\n",
      "0.0823647533069239\n"
     ]
    },
    {
     "name": "stderr",
     "output_type": "stream",
     "text": [
      "5it [00:13,  2.78s/it]"
     ]
    },
    {
     "name": "stdout",
     "output_type": "stream",
     "text": [
      "              precision    recall  f1-score   support\n",
      "\n",
      "           0       0.98      0.99      0.99     81981\n",
      "           1       0.75      0.42      0.54      2991\n",
      "\n",
      "    accuracy                           0.97     84972\n",
      "   macro avg       0.86      0.71      0.76     84972\n",
      "weighted avg       0.97      0.97      0.97     84972\n",
      "\n",
      "The balanced accuracy of the default model is 0.706\n"
     ]
    },
    {
     "name": "stderr",
     "output_type": "stream",
     "text": [
      "\n"
     ]
    }
   ],
   "source": [
    "from sklearn.model_selection import TimeSeriesSplit\n",
    "from sklearn.linear_model import LogisticRegression\n",
    "from sklearn.metrics import accuracy_score\n",
    "from sklearn.metrics import log_loss, classification_report\n",
    "from sklearn.metrics import balanced_accuracy_score\n",
    "from sklearn.ensemble import RandomForestClassifier\n",
    "from tqdm import tqdm\n",
    "\n",
    "# Séparer les données en X et y\n",
    "X = df[['Beta','Beta_t-1','RmsBob','B','RmsBob_t-1','Vth','Vx','Range F 7','V','By','Range F 11']]\n",
    "y = df['target']\n",
    "X2 = X.fillna(0)\n",
    "\n",
    "# Créer un objet TimeSeriesSplit\n",
    "tscv = TimeSeriesSplit(n_splits=5)\n",
    "\n",
    "# Boucle sur les plis\n",
    "for train_index, test_index in tqdm(tscv.split(X2)):\n",
    "    X_train, X_test = X2.iloc[train_index], X2.iloc[test_index]\n",
    "    y_train, y_test = y.iloc[train_index], y.iloc[test_index]\n",
    "    \n",
    "    #class_weights = dict(zip(np.unique(y_train), class_weight.compute_class_weight(class_weight='balanced', classes=np.unique(data_train['target']), y=data_train['target'])))\n",
    "    \n",
    "    # Entrainer un modèle sur le jeu d'entraînement\n",
    "    classifier = HistGradientBoostingClassifier()#LogisticRegression()\n",
    "    model =make_pipeline(StandardScaler(), classifier)\n",
    "\n",
    "    #model.set_params(class_weight='balanced_subsample')\n",
    "    \n",
    "    model.fit(X_train, y_train)#, sample_weight=0.3)\n",
    "\n",
    "    # Prédire sur le jeu de test\n",
    "    y_pred = model.predict(X_test)\n",
    "\n",
    "    # Afficher la précision\n",
    "    print(accuracy_score(y_test, y_pred))\n",
    "    print(log_loss(y_test, model.predict_proba(X_test)))\n",
    "    print(classification_report(y_test, y_pred))\n",
    "    print(f\"The balanced accuracy of the default model is \"\n",
    "          f\"{balanced_accuracy_score(y_test, y_pred):.3f}\")"
   ]
  },
  {
   "cell_type": "code",
   "execution_count": 7,
   "id": "e0ffef72-452b-443b-8b75-47057bede6bd",
   "metadata": {},
   "outputs": [
    {
     "name": "stdout",
     "output_type": "stream",
     "text": [
      "0.8894812408793485\n",
      "3.983499846740093\n",
      "              precision    recall  f1-score   support\n",
      "\n",
      "           0       0.91      0.97      0.94     71206\n",
      "           1       0.74      0.49      0.59     13766\n",
      "\n",
      "    accuracy                           0.89     84972\n",
      "   macro avg       0.83      0.73      0.76     84972\n",
      "weighted avg       0.88      0.89      0.88     84972\n",
      "\n",
      "The balanced accuracy of the default model is 0.726\n",
      "0.8595419667655227\n",
      "5.062620665620595\n",
      "              precision    recall  f1-score   support\n",
      "\n",
      "           0       0.88      0.96      0.92     69883\n",
      "           1       0.68      0.40      0.50     15089\n",
      "\n",
      "    accuracy                           0.86     84972\n",
      "   macro avg       0.78      0.68      0.71     84972\n",
      "weighted avg       0.84      0.86      0.84     84972\n",
      "\n",
      "The balanced accuracy of the default model is 0.679\n",
      "0.9315421550628442\n",
      "2.467470834680771\n",
      "              precision    recall  f1-score   support\n",
      "\n",
      "           0       0.94      0.98      0.96     77546\n",
      "           1       0.70      0.38      0.49      7426\n",
      "\n",
      "    accuracy                           0.93     84972\n",
      "   macro avg       0.82      0.68      0.73     84972\n",
      "weighted avg       0.92      0.93      0.92     84972\n",
      "\n",
      "The balanced accuracy of the default model is 0.680\n",
      "0.9483241538389117\n",
      "1.862586287619609\n",
      "              precision    recall  f1-score   support\n",
      "\n",
      "           0       0.96      0.98      0.97     77756\n",
      "           1       0.76      0.57      0.65      7216\n",
      "\n",
      "    accuracy                           0.95     84972\n",
      "   macro avg       0.86      0.78      0.81     84972\n",
      "weighted avg       0.94      0.95      0.94     84972\n",
      "\n",
      "The balanced accuracy of the default model is 0.777\n",
      "0.9689074047921669\n",
      "1.1206907246392637\n",
      "              precision    recall  f1-score   support\n",
      "\n",
      "           0       0.97      1.00      0.98     81981\n",
      "           1       0.69      0.21      0.33      2991\n",
      "\n",
      "    accuracy                           0.97     84972\n",
      "   macro avg       0.83      0.60      0.65     84972\n",
      "weighted avg       0.96      0.97      0.96     84972\n",
      "\n",
      "The balanced accuracy of the default model is 0.605\n"
     ]
    }
   ],
   "source": [
    "from sklearn.model_selection import TimeSeriesSplit\n",
    "from sklearn.linear_model import LogisticRegression\n",
    "from sklearn.metrics import accuracy_score\n",
    "from sklearn.metrics import log_loss, classification_report\n",
    "from sklearn.metrics import balanced_accuracy_score\n",
    "from sklearn.ensemble import RandomForestClassifier\n",
    "\n",
    "\n",
    "# Séparer les données en X et y\n",
    "X = df.iloc[:, :-1]\n",
    "y = df.iloc[:, -1]\n",
    "\n",
    "# Créer un objet TimeSeriesSplit\n",
    "tscv = TimeSeriesSplit(n_splits=5)\n",
    "\n",
    "# Boucle sur les plis\n",
    "for train_index, test_index in tscv.split(X):\n",
    "    X_train, X_test = X.iloc[train_index], X.iloc[test_index]\n",
    "    y_train, y_test = y.iloc[train_index], y.iloc[test_index]\n",
    "    \n",
    "    #class_weights = dict(zip(np.unique(y_train), class_weight.compute_class_weight(class_weight='balanced', classes=np.unique(data_train['target']), y=data_train['target'])))\n",
    "    \n",
    "    # Entrainer un modèle sur le jeu d'entraînement\n",
    "    \n",
    "    model = RandomForestClassifier(random_state=42)#LogisticRegression()\n",
    "    \n",
    "    #model.set_params(class_weight='balanced_subsample')\n",
    "    \n",
    "    model.fit(X_train, y_train, sample_weight=0.3)\n",
    "\n",
    "    # Prédire sur le jeu de test\n",
    "    y_pred = model.predict(X_test)\n",
    "\n",
    "    # Afficher la précision\n",
    "    print(accuracy_score(y_test, y_pred))\n",
    "    print(log_loss(y_test, y_pred))\n",
    "    print(classification_report(y_test, y_pred))\n",
    "    print(f\"The balanced accuracy of the default model is \"\n",
    "          f\"{balanced_accuracy_score(y_test, y_pred):.3f}\")"
   ]
  },
  {
   "cell_type": "code",
   "execution_count": 95,
   "id": "4cb7f599-bbf9-42d0-a9cf-53f321f7d488",
   "metadata": {},
   "outputs": [],
   "source": [
    "def rf_features_importance(model, cols):\n",
    "    '''\n",
    "    Plot feature_importance from a random forest model\n",
    "\n",
    "    Input:\n",
    "    model (MODEL_TYPE) : Model for which to compute the feature importance\n",
    "    cols (list) : input DataFrame with true labels\n",
    "\n",
    "    Output:\n",
    "    None\n",
    "    '''\n",
    "    # get feature importance from model\n",
    "    importances = model.feature_importances_\n",
    "    forest_importances = pd.Series(importances, index=cols).sort_values(ascending=False)\n",
    "    # plot results\n",
    "    fig, ax = plt.subplots(figsize=(12, 5))\n",
    "    forest_importances.plot.bar(ax=ax)\n",
    "    ax.set_title(\"Feature importances\")\n",
    "    fig.tight_layout()"
   ]
  },
  {
   "cell_type": "code",
   "execution_count": 24,
   "id": "a00d607c-6a30-4c7b-856c-586ed5d99a6c",
   "metadata": {},
   "outputs": [
    {
     "data": {
      "text/plain": [
       "array([ True,  True,  True,  True,  True,  True,  True,  True,  True,\n",
       "        True,  True,  True,  True,  True,  True,  True, False,  True,\n",
       "        True,  True,  True,  True,  True,  True,  True,  True,  True,\n",
       "        True,  True,  True,  True, False, False,  True])"
      ]
     },
     "execution_count": 24,
     "metadata": {},
     "output_type": "execute_result"
    }
   ],
   "source": [
    "from sklearn.feature_selection import VarianceThreshold\n",
    "\n",
    "selector = VarianceThreshold(threshold=0.04)\n",
    "selector.fit_transform(df)\n",
    "selector.get_support()"
   ]
  },
  {
   "cell_type": "code",
   "execution_count": 21,
   "id": "e726c16e-0e26-4e0a-b8ff-a5e2c153d554",
   "metadata": {},
   "outputs": [
    {
     "data": {
      "image/png": "[encoded data removed]",
      "text/plain": [
       "<Figure size 864x360 with 1 Axes>"
      ]
     },
     "metadata": {
      "needs_background": "light"
     },
     "output_type": "display_data"
    }
   ],
   "source": [
    "rf_features_importance(model, cols=X_train.columns)"
   ]
  },
  {
   "cell_type": "code",
   "execution_count": 25,
   "id": "6bb95e25-8fc3-477a-b693-6d74f692b1a7",
   "metadata": {},
   "outputs": [],
   "source": [
    "import shap\n",
    "\n",
    "def plot_shapley_values(model):\n",
    "    '''\n",
    "    Plot the shapley graph of the given model.\n",
    "    ##########################################################################\n",
    "    WARNING : Do not use it on random forest as it takes a huge amout of time.\n",
    "    ##########################################################################\n",
    "    Input:\n",
    "    model (MODEL_TYPE) : Model for which to explain the predictions\n",
    "\n",
    "    Output:\n",
    "    None\n",
    "    '''\n",
    "    try:\n",
    "        explainer = shap.TreeExplainer(model)\n",
    "        shap_values = explainer.shap_values(data_test)\n",
    "        shap.summary_plot(shap_values, data_test)\n",
    "    except (InvalidModelError, TypeError) as error:\n",
    "        explainer = shap.Explainer(model, data_test)\n",
    "        shap_values = explainer.shap_values(data_test)\n",
    "        shap.summary_plot(shap_values, data_test)"
   ]
  },
  {
   "cell_type": "code",
   "execution_count": null,
   "id": "98cee261-043c-4409-9c0a-6d9ec8feaa07",
   "metadata": {},
   "outputs": [],
   "source": [
    "plot_shapley_values(model)"
   ]
  },
  {
   "cell_type": "code",
   "execution_count": null,
   "id": "aee95756-cc23-4121-9da4-760e8e749265",
   "metadata": {},
   "outputs": [],
   "source": []
  },
  {
   "cell_type": "code",
   "execution_count": 8,
   "id": "32837c55-d0d4-478e-8033-2a21f710d5a3",
   "metadata": {},
   "outputs": [
    {
     "name": "stdout",
     "output_type": "stream",
     "text": [
      "0.8644141599585746\n",
      "0.39554470762359123\n",
      "              precision    recall  f1-score   support\n",
      "\n",
      "           0       0.87      0.98      0.92     71206\n",
      "           1       0.74      0.25      0.37     13766\n",
      "\n",
      "    accuracy                           0.86     84972\n",
      "   macro avg       0.81      0.62      0.65     84972\n",
      "weighted avg       0.85      0.86      0.83     84972\n",
      "\n",
      "The balanced accuracy of the default model is 0.616\n",
      "0.8360165701642894\n",
      "0.46531718834986174\n",
      "              precision    recall  f1-score   support\n",
      "\n",
      "           0       0.84      0.99      0.91     69883\n",
      "           1       0.68      0.15      0.24     15089\n",
      "\n",
      "    accuracy                           0.84     84972\n",
      "   macro avg       0.76      0.57      0.57     84972\n",
      "weighted avg       0.81      0.84      0.79     84972\n",
      "\n",
      "The balanced accuracy of the default model is 0.565\n",
      "0.9149013792778797\n",
      "0.3349477803477643\n",
      "              precision    recall  f1-score   support\n",
      "\n",
      "           0       0.92      0.99      0.96     77546\n",
      "           1       0.56      0.12      0.20      7426\n",
      "\n",
      "    accuracy                           0.91     84972\n",
      "   macro avg       0.74      0.56      0.58     84972\n",
      "weighted avg       0.89      0.91      0.89     84972\n",
      "\n",
      "The balanced accuracy of the default model is 0.558\n",
      "0.9267758791131196\n",
      "0.34876459085241995\n",
      "              precision    recall  f1-score   support\n",
      "\n",
      "           0       0.94      0.99      0.96     77756\n",
      "           1       0.68      0.26      0.38      7216\n",
      "\n",
      "    accuracy                           0.93     84972\n",
      "   macro avg       0.81      0.63      0.67     84972\n",
      "weighted avg       0.91      0.93      0.91     84972\n",
      "\n",
      "The balanced accuracy of the default model is 0.625\n",
      "0.8899402156004331\n",
      "0.4684659836324953\n",
      "              precision    recall  f1-score   support\n",
      "\n",
      "           0       0.97      0.92      0.94     81981\n",
      "           1       0.07      0.17      0.10      2991\n",
      "\n",
      "    accuracy                           0.89     84972\n",
      "   macro avg       0.52      0.54      0.52     84972\n",
      "weighted avg       0.94      0.89      0.91     84972\n",
      "\n",
      "The balanced accuracy of the default model is 0.545\n"
     ]
    }
   ],
   "source": [
    "from sklearn.model_selection import TimeSeriesSplit\n",
    "from sklearn.linear_model import LogisticRegression\n",
    "from sklearn.metrics import accuracy_score\n",
    "from sklearn.metrics import log_loss, classification_report\n",
    "from sklearn.metrics import balanced_accuracy_score\n",
    "from sklearn.ensemble import RandomForestClassifier\n",
    "\n",
    "\n",
    "# Séparer les données en X et y\n",
    "X = df.iloc[:, :-1]\n",
    "y = df.iloc[:, -1]\n",
    "\n",
    "# Créer un objet TimeSeriesSplit\n",
    "tscv = TimeSeriesSplit(n_splits=5)\n",
    "\n",
    "# Boucle sur les plis\n",
    "for train_index, test_index in tscv.split(X):\n",
    "    X_train, X_test = X.iloc[train_index], X.iloc[test_index]\n",
    "    y_train, y_test = y.iloc[train_index], y.iloc[test_index]\n",
    "    \n",
    "    #class_weights = dict(zip(np.unique(y_train), class_weight.compute_class_weight(class_weight='balanced', classes=np.unique(data_train['target']), y=data_train['target'])))\n",
    "    \n",
    "    # Entrainer un modèle sur le jeu d'entraînement\n",
    "    \n",
    "    model =LogisticRegression()\n",
    "    \n",
    "    #model.set_params(class_weight='balanced_subsample')\n",
    "    \n",
    "    model.fit(X_train, y_train)#, sample_weight=0.3)\n",
    "\n",
    "    # Prédire sur le jeu de test\n",
    "    y_pred = model.predict(X_test)\n",
    "\n",
    "    # Afficher la précision\n",
    "    print(accuracy_score(y_test, y_pred))\n",
    "    print(log_loss(y_test, model.predict_proba(X_test)))\n",
    "    print(classification_report(y_test, y_pred))\n",
    "    print(f\"The balanced accuracy of the default model is \"\n",
    "          f\"{balanced_accuracy_score(y_test, y_pred):.3f}\")"
   ]
  },
  {
   "cell_type": "code",
   "execution_count": 12,
   "id": "b1f5dc73-07ab-4f75-9423-ba6c976be449",
   "metadata": {},
   "outputs": [
    {
     "data": {
      "text/html": [
       "<div>\n",
       "<style scoped>\n",
       "    .dataframe tbody tr th:only-of-type {\n",
       "        vertical-align: middle;\n",
       "    }\n",
       "\n",
       "    .dataframe tbody tr th {\n",
       "        vertical-align: top;\n",
       "    }\n",
       "\n",
       "    .dataframe thead th {\n",
       "        text-align: right;\n",
       "    }\n",
       "</style>\n",
       "<table border=\"1\" class=\"dataframe\">\n",
       "  <thead>\n",
       "    <tr style=\"text-align: right;\">\n",
       "      <th></th>\n",
       "      <th>Beta</th>\n",
       "      <th>Pdyn</th>\n",
       "      <th>RmsBob</th>\n",
       "    </tr>\n",
       "  </thead>\n",
       "  <tbody>\n",
       "    <tr>\n",
       "      <th>1997-10-01 00:00:00</th>\n",
       "      <td>7.641340</td>\n",
       "      <td>5.487331e-15</td>\n",
       "      <td>0.668473</td>\n",
       "    </tr>\n",
       "    <tr>\n",
       "      <th>1997-10-01 00:10:00</th>\n",
       "      <td>9.149856</td>\n",
       "      <td>4.783776e-15</td>\n",
       "      <td>0.753848</td>\n",
       "    </tr>\n",
       "    <tr>\n",
       "      <th>1997-10-01 00:20:00</th>\n",
       "      <td>11.924199</td>\n",
       "      <td>3.719768e-15</td>\n",
       "      <td>0.282667</td>\n",
       "    </tr>\n",
       "    <tr>\n",
       "      <th>1997-10-01 00:30:00</th>\n",
       "      <td>16.032987</td>\n",
       "      <td>3.525211e-15</td>\n",
       "      <td>0.304713</td>\n",
       "    </tr>\n",
       "    <tr>\n",
       "      <th>1997-10-01 00:40:00</th>\n",
       "      <td>10.253789</td>\n",
       "      <td>3.694283e-15</td>\n",
       "      <td>0.244203</td>\n",
       "    </tr>\n",
       "    <tr>\n",
       "      <th>...</th>\n",
       "      <td>...</td>\n",
       "      <td>...</td>\n",
       "      <td>...</td>\n",
       "    </tr>\n",
       "    <tr>\n",
       "      <th>2007-12-31 23:10:00</th>\n",
       "      <td>1.304273</td>\n",
       "      <td>1.411728e-15</td>\n",
       "      <td>0.247082</td>\n",
       "    </tr>\n",
       "    <tr>\n",
       "      <th>2007-12-31 23:20:00</th>\n",
       "      <td>0.982693</td>\n",
       "      <td>1.335080e-15</td>\n",
       "      <td>0.139195</td>\n",
       "    </tr>\n",
       "    <tr>\n",
       "      <th>2007-12-31 23:30:00</th>\n",
       "      <td>0.989657</td>\n",
       "      <td>1.278599e-15</td>\n",
       "      <td>0.124656</td>\n",
       "    </tr>\n",
       "    <tr>\n",
       "      <th>2007-12-31 23:40:00</th>\n",
       "      <td>0.958408</td>\n",
       "      <td>1.267188e-15</td>\n",
       "      <td>0.080642</td>\n",
       "    </tr>\n",
       "    <tr>\n",
       "      <th>2007-12-31 23:50:00</th>\n",
       "      <td>0.912270</td>\n",
       "      <td>1.227433e-15</td>\n",
       "      <td>0.058701</td>\n",
       "    </tr>\n",
       "  </tbody>\n",
       "</table>\n",
       "<p>509834 rows × 3 columns</p>\n",
       "</div>"
      ],
      "text/plain": [
       "                          Beta          Pdyn    RmsBob\n",
       "1997-10-01 00:00:00   7.641340  5.487331e-15  0.668473\n",
       "1997-10-01 00:10:00   9.149856  4.783776e-15  0.753848\n",
       "1997-10-01 00:20:00  11.924199  3.719768e-15  0.282667\n",
       "1997-10-01 00:30:00  16.032987  3.525211e-15  0.304713\n",
       "1997-10-01 00:40:00  10.253789  3.694283e-15  0.244203\n",
       "...                        ...           ...       ...\n",
       "2007-12-31 23:10:00   1.304273  1.411728e-15  0.247082\n",
       "2007-12-31 23:20:00   0.982693  1.335080e-15  0.139195\n",
       "2007-12-31 23:30:00   0.989657  1.278599e-15  0.124656\n",
       "2007-12-31 23:40:00   0.958408  1.267188e-15  0.080642\n",
       "2007-12-31 23:50:00   0.912270  1.227433e-15  0.058701\n",
       "\n",
       "[509834 rows x 3 columns]"
      ]
     },
     "execution_count": 12,
     "metadata": {},
     "output_type": "execute_result"
    }
   ],
   "source": [
    "df[['Beta', 'Pdyn', 'RmsBob']]"
   ]
  },
  {
   "cell_type": "code",
   "execution_count": 13,
   "id": "2294a796-1498-4c64-b089-9f7c332c5ea3",
   "metadata": {},
   "outputs": [
    {
     "name": "stdout",
     "output_type": "stream",
     "text": [
      "0.8867862354658005\n",
      "0.3138389435902955\n",
      "              precision    recall  f1-score   support\n",
      "\n",
      "           0       0.90      0.97      0.93     71206\n",
      "           1       0.74      0.46      0.57     13766\n",
      "\n",
      "    accuracy                           0.89     84972\n",
      "   macro avg       0.82      0.71      0.75     84972\n",
      "weighted avg       0.88      0.89      0.88     84972\n",
      "\n",
      "The balanced accuracy of the default model is 0.714\n",
      "0.860589370616203\n",
      "0.3562993429100401\n",
      "              precision    recall  f1-score   support\n",
      "\n",
      "           0       0.87      0.97      0.92     69883\n",
      "           1       0.74      0.33      0.46     15089\n",
      "\n",
      "    accuracy                           0.86     84972\n",
      "   macro avg       0.81      0.65      0.69     84972\n",
      "weighted avg       0.85      0.86      0.84     84972\n",
      "\n",
      "The balanced accuracy of the default model is 0.653\n",
      "0.9309890316810243\n",
      "0.2038037400149322\n",
      "              precision    recall  f1-score   support\n",
      "\n",
      "           0       0.94      0.99      0.96     77546\n",
      "           1       0.74      0.32      0.45      7426\n",
      "\n",
      "    accuracy                           0.93     84972\n",
      "   macro avg       0.84      0.66      0.71     84972\n",
      "weighted avg       0.92      0.93      0.92     84972\n",
      "\n",
      "The balanced accuracy of the default model is 0.656\n",
      "0.9487360542296286\n",
      "0.19400339266844704\n",
      "              precision    recall  f1-score   support\n",
      "\n",
      "           0       0.96      0.99      0.97     77756\n",
      "           1       0.80      0.52      0.63      7216\n",
      "\n",
      "    accuracy                           0.95     84972\n",
      "   macro avg       0.88      0.76      0.80     84972\n",
      "weighted avg       0.94      0.95      0.94     84972\n",
      "\n",
      "The balanced accuracy of the default model is 0.756\n",
      "0.97224968224827\n",
      "0.11950141219143019\n",
      "              precision    recall  f1-score   support\n",
      "\n",
      "           0       0.97      1.00      0.99     81981\n",
      "           1       0.78      0.30      0.43      2991\n",
      "\n",
      "    accuracy                           0.97     84972\n",
      "   macro avg       0.88      0.65      0.71     84972\n",
      "weighted avg       0.97      0.97      0.97     84972\n",
      "\n",
      "The balanced accuracy of the default model is 0.647\n"
     ]
    }
   ],
   "source": [
    "from sklearn.model_selection import TimeSeriesSplit\n",
    "from sklearn.linear_model import LogisticRegression\n",
    "from sklearn.metrics import accuracy_score\n",
    "from sklearn.metrics import log_loss, classification_report\n",
    "from sklearn.metrics import balanced_accuracy_score\n",
    "from sklearn.ensemble import RandomForestClassifier\n",
    "from sklearn.pipeline import make_pipeline\n",
    "from sklearn.preprocessing import StandardScaler\n",
    "\n",
    "\n",
    "# Séparer les données en X et y\n",
    "X = df.iloc[:, :-1]\n",
    "y = df.iloc[:, -1]\n",
    "\n",
    "# Créer un objet TimeSeriesSplit\n",
    "tscv = TimeSeriesSplit(n_splits=5)\n",
    "\n",
    "# Boucle sur les plis\n",
    "for train_index, test_index in tscv.split(X):\n",
    "    X_train, X_test = X.iloc[train_index], X.iloc[test_index]\n",
    "    y_train, y_test = y.iloc[train_index], y.iloc[test_index]\n",
    "    \n",
    "    #class_weights = dict(zip(np.unique(y_train), class_weight.compute_class_weight(class_weight='balanced', classes=np.unique(data_train['target']), y=data_train['target'])))\n",
    "    \n",
    "    # Entrainer un modèle sur le jeu d'entraînement\n",
    "    \n",
    "    classifier = LogisticRegression()\n",
    "    model =make_pipeline(StandardScaler(), classifier)\n",
    "    \n",
    "    #model.set_params(class_weight='balanced_subsample')\n",
    "    \n",
    "    model.fit(X_train, y_train)#, sample_weight=0.3)\n",
    "\n",
    "    # Prédire sur le jeu de test\n",
    "    y_pred = model.predict(X_test)\n",
    "\n",
    "    # Afficher la précision\n",
    "    print(accuracy_score(y_test, y_pred))\n",
    "    print(log_loss(y_test, model.predict_proba(X_test)))\n",
    "    print(classification_report(y_test, y_pred))\n",
    "    print(f\"The balanced accuracy of the default model is \"\n",
    "          f\"{balanced_accuracy_score(y_test, y_pred):.3f}\")"
   ]
  },
  {
   "cell_type": "code",
   "execution_count": null,
   "id": "e39151c7-4fc6-482b-8677-10b25f3bafea",
   "metadata": {},
   "outputs": [],
   "source": []
  },
  {
   "cell_type": "code",
   "execution_count": 48,
   "id": "77c5e716-7ab1-4583-a954-8db3431f9673",
   "metadata": {},
   "outputs": [
    {
     "name": "stdout",
     "output_type": "stream",
     "text": [
      "0.8856564515369769\n",
      "0.2870156329640988\n",
      "              precision    recall  f1-score   support\n",
      "\n",
      "           0       0.90      0.97      0.93     71206\n",
      "           1       0.74      0.45      0.56     13766\n",
      "\n",
      "    accuracy                           0.89     84972\n",
      "   macro avg       0.82      0.71      0.75     84972\n",
      "weighted avg       0.88      0.89      0.87     84972\n",
      "\n",
      "The balanced accuracy of the default model is 0.712\n",
      "0.8655204067222144\n",
      "0.3332941767754087\n",
      "              precision    recall  f1-score   support\n",
      "\n",
      "           0       0.89      0.96      0.92     69883\n",
      "           1       0.70      0.42      0.53     15089\n",
      "\n",
      "    accuracy                           0.87     84972\n",
      "   macro avg       0.79      0.69      0.72     84972\n",
      "weighted avg       0.85      0.87      0.85     84972\n",
      "\n",
      "The balanced accuracy of the default model is 0.692\n",
      "0.9308125029421457\n",
      "0.18614824984445782\n",
      "              precision    recall  f1-score   support\n",
      "\n",
      "           0       0.94      0.98      0.96     77546\n",
      "           1       0.68      0.40      0.50      7426\n",
      "\n",
      "    accuracy                           0.93     84972\n",
      "   macro avg       0.81      0.69      0.73     84972\n",
      "weighted avg       0.92      0.93      0.92     84972\n",
      "\n",
      "The balanced accuracy of the default model is 0.691\n",
      "0.9434166548980841\n",
      "0.16266712124534444\n",
      "              precision    recall  f1-score   support\n",
      "\n",
      "           0       0.96      0.98      0.97     77756\n",
      "           1       0.72      0.54      0.62      7216\n",
      "\n",
      "    accuracy                           0.94     84972\n",
      "   macro avg       0.84      0.76      0.79     84972\n",
      "weighted avg       0.94      0.94      0.94     84972\n",
      "\n",
      "The balanced accuracy of the default model is 0.762\n",
      "0.9733676975945017\n",
      "0.09152567926952948\n",
      "              precision    recall  f1-score   support\n",
      "\n",
      "           0       0.98      0.99      0.99     81981\n",
      "           1       0.69      0.43      0.53      2991\n",
      "\n",
      "    accuracy                           0.97     84972\n",
      "   macro avg       0.84      0.71      0.76     84972\n",
      "weighted avg       0.97      0.97      0.97     84972\n",
      "\n",
      "The balanced accuracy of the default model is 0.714\n"
     ]
    }
   ],
   "source": [
    "from sklearn.model_selection import TimeSeriesSplit\n",
    "from sklearn.linear_model import LogisticRegression\n",
    "from sklearn.metrics import accuracy_score\n",
    "from sklearn.metrics import log_loss, classification_report\n",
    "from sklearn.metrics import balanced_accuracy_score\n",
    "from sklearn.ensemble import RandomForestClassifier\n",
    "from sklearn.pipeline import make_pipeline\n",
    "from sklearn.preprocessing import StandardScaler\n",
    "from sklearn.ensemble import HistGradientBoostingClassifier\n",
    "\n",
    "# Séparer les données en X et y\n",
    "X = df[['Beta', 'Pdyn', 'RmsBob']]\n",
    "y = df['target']\n",
    "\n",
    "# Créer un objet TimeSeriesSplit\n",
    "tscv = TimeSeriesSplit(n_splits=5)\n",
    "\n",
    "# Boucle sur les plis\n",
    "for train_index, test_index in tscv.split(X):\n",
    "    X_train, X_test = X.iloc[train_index], X.iloc[test_index]\n",
    "    y_train, y_test = y.iloc[train_index], y.iloc[test_index]\n",
    "    \n",
    "    #class_weights = dict(zip(np.unique(y_train), class_weight.compute_class_weight(class_weight='balanced', classes=np.unique(data_train['target']), y=data_train['target'])))\n",
    "    \n",
    "    # Entrainer un modèle sur le jeu d'entraînement\n",
    "    \n",
    "    classifier = HistGradientBoostingClassifier()\n",
    "    model =make_pipeline(StandardScaler(), classifier)\n",
    "    \n",
    "    #model.set_params(class_weight='balanced_subsample')\n",
    "    \n",
    "    model.fit(X_train, y_train)#, sample_weight=0.3)\n",
    "\n",
    "    # Prédire sur le jeu de test\n",
    "    y_pred = model.predict(X_test)\n",
    "\n",
    "    # Afficher la précision\n",
    "    print(accuracy_score(y_test, y_pred))\n",
    "    print(log_loss(y_test, model.predict_proba(X_test)))\n",
    "    print(classification_report(y_test, y_pred))\n",
    "    print(f\"The balanced accuracy of the default model is \"\n",
    "          f\"{balanced_accuracy_score(y_test, y_pred):.3f}\")"
   ]
  },
  {
   "cell_type": "code",
   "execution_count": 49,
   "id": "14ded097-3852-4f34-a116-f438628e06eb",
   "metadata": {},
   "outputs": [
    {
     "name": "stdout",
     "output_type": "stream",
     "text": [
      "0.81977592618745\n",
      "0.3983137811918459\n",
      "              precision    recall  f1-score   support\n",
      "\n",
      "           0       0.95      0.83      0.88     71206\n",
      "           1       0.47      0.78      0.58     13766\n",
      "\n",
      "    accuracy                           0.82     84972\n",
      "   macro avg       0.71      0.80      0.73     84972\n",
      "weighted avg       0.87      0.82      0.84     84972\n",
      "\n",
      "The balanced accuracy of the default model is 0.804\n",
      "0.7856705738360872\n",
      "0.46079192712879347\n",
      "              precision    recall  f1-score   support\n",
      "\n",
      "           0       0.94      0.79      0.86     69883\n",
      "           1       0.44      0.77      0.56     15089\n",
      "\n",
      "    accuracy                           0.79     84972\n",
      "   macro avg       0.69      0.78      0.71     84972\n",
      "weighted avg       0.85      0.79      0.81     84972\n",
      "\n",
      "The balanced accuracy of the default model is 0.778\n",
      "0.8727227792684649\n",
      "0.30946172446168896\n",
      "              precision    recall  f1-score   support\n",
      "\n",
      "           0       0.97      0.89      0.93     77546\n",
      "           1       0.38      0.74      0.51      7426\n",
      "\n",
      "    accuracy                           0.87     84972\n",
      "   macro avg       0.68      0.81      0.72     84972\n",
      "weighted avg       0.92      0.87      0.89     84972\n",
      "\n",
      "The balanced accuracy of the default model is 0.815\n",
      "0.8703690627500824\n",
      "0.3305910319582739\n",
      "              precision    recall  f1-score   support\n",
      "\n",
      "           0       0.98      0.87      0.92     77756\n",
      "           1       0.38      0.84      0.52      7216\n",
      "\n",
      "    accuracy                           0.87     84972\n",
      "   macro avg       0.68      0.86      0.72     84972\n",
      "weighted avg       0.93      0.87      0.89     84972\n",
      "\n",
      "The balanced accuracy of the default model is 0.857\n",
      "0.920938662147531\n",
      "0.23763944474457763\n",
      "              precision    recall  f1-score   support\n",
      "\n",
      "           0       0.99      0.93      0.96     81981\n",
      "           1       0.28      0.77      0.41      2991\n",
      "\n",
      "    accuracy                           0.92     84972\n",
      "   macro avg       0.63      0.85      0.68     84972\n",
      "weighted avg       0.97      0.92      0.94     84972\n",
      "\n",
      "The balanced accuracy of the default model is 0.850\n"
     ]
    }
   ],
   "source": [
    "from sklearn.model_selection import TimeSeriesSplit\n",
    "from sklearn.linear_model import LogisticRegression\n",
    "from sklearn.metrics import accuracy_score\n",
    "from sklearn.metrics import log_loss, classification_report\n",
    "from sklearn.metrics import balanced_accuracy_score\n",
    "from sklearn.ensemble import RandomForestClassifier\n",
    "from sklearn.pipeline import make_pipeline\n",
    "from sklearn.preprocessing import StandardScaler\n",
    "from sklearn.ensemble import HistGradientBoostingClassifier\n",
    "\n",
    "# Séparer les données en X et y\n",
    "X = df[['Beta', 'Pdyn', 'RmsBob']]\n",
    "y = df['target']\n",
    "\n",
    "# Créer un objet TimeSeriesSplit\n",
    "tscv = TimeSeriesSplit(n_splits=5)\n",
    "\n",
    "# Boucle sur les plis\n",
    "for train_index, test_index in tscv.split(X):\n",
    "    X_train, X_test = X.iloc[train_index], X.iloc[test_index]\n",
    "    y_train, y_test = y.iloc[train_index], y.iloc[test_index]\n",
    "    \n",
    "    #class_weights = dict(zip(np.unique(y_train), class_weight.compute_class_weight(class_weight='balanced', classes=np.unique(data_train['target']), y=data_train['target'])))\n",
    "    \n",
    "    # Entrainer un modèle sur le jeu d'entraînement\n",
    "    \n",
    "    classifier = HistGradientBoostingClassifier(class_weight='balanced')\n",
    "    model =make_pipeline(StandardScaler(), classifier)\n",
    "    \n",
    "    #model.set_params(class_weight='balanced_subsample')\n",
    "    \n",
    "    model.fit(X_train, y_train)#, sample_weight=0.3)\n",
    "\n",
    "    # Prédire sur le jeu de test\n",
    "    y_pred = model.predict(X_test)\n",
    "\n",
    "    # Afficher la précision\n",
    "    print(accuracy_score(y_test, y_pred))\n",
    "    print(log_loss(y_test, model.predict_proba(X_test)))\n",
    "    print(classification_report(y_test, y_pred))\n",
    "    print(f\"The balanced accuracy of the default model is \"\n",
    "          f\"{balanced_accuracy_score(y_test, y_pred):.3f}\")"
   ]
  },
  {
   "cell_type": "code",
   "execution_count": 50,
   "id": "347ae0a8-95fe-4b4a-b0fe-aed27b8917e3",
   "metadata": {},
   "outputs": [
    {
     "name": "stdout",
     "output_type": "stream",
     "text": [
      "0.8893164807230617\n",
      "0.2716898142986327\n",
      "              precision    recall  f1-score   support\n",
      "\n",
      "           0       0.91      0.96      0.94     71206\n",
      "           1       0.71      0.53      0.61     13766\n",
      "\n",
      "    accuracy                           0.89     84972\n",
      "   macro avg       0.81      0.74      0.77     84972\n",
      "weighted avg       0.88      0.89      0.88     84972\n",
      "\n",
      "The balanced accuracy of the default model is 0.744\n",
      "0.86395518523749\n",
      "0.3392225385521335\n",
      "              precision    recall  f1-score   support\n",
      "\n",
      "           0       0.89      0.95      0.92     69883\n",
      "           1       0.67      0.45      0.54     15089\n",
      "\n",
      "    accuracy                           0.86     84972\n",
      "   macro avg       0.78      0.70      0.73     84972\n",
      "weighted avg       0.85      0.86      0.85     84972\n",
      "\n",
      "The balanced accuracy of the default model is 0.702\n",
      "0.9290236783881749\n",
      "0.18133830037818838\n",
      "              precision    recall  f1-score   support\n",
      "\n",
      "           0       0.94      0.98      0.96     77546\n",
      "           1       0.66      0.39      0.49      7426\n",
      "\n",
      "    accuracy                           0.93     84972\n",
      "   macro avg       0.80      0.69      0.73     84972\n",
      "weighted avg       0.92      0.93      0.92     84972\n",
      "\n",
      "The balanced accuracy of the default model is 0.687\n",
      "0.9429812173421833\n",
      "0.1588022220550525\n",
      "              precision    recall  f1-score   support\n",
      "\n",
      "           0       0.96      0.98      0.97     77756\n",
      "           1       0.71      0.56      0.63      7216\n",
      "\n",
      "    accuracy                           0.94     84972\n",
      "   macro avg       0.83      0.77      0.80     84972\n",
      "weighted avg       0.94      0.94      0.94     84972\n",
      "\n",
      "The balanced accuracy of the default model is 0.770\n",
      "0.958786423763122\n",
      "0.11266087819179599\n",
      "              precision    recall  f1-score   support\n",
      "\n",
      "           0       0.98      0.98      0.98     81981\n",
      "           1       0.41      0.37      0.39      2991\n",
      "\n",
      "    accuracy                           0.96     84972\n",
      "   macro avg       0.69      0.68      0.68     84972\n",
      "weighted avg       0.96      0.96      0.96     84972\n",
      "\n",
      "The balanced accuracy of the default model is 0.676\n"
     ]
    }
   ],
   "source": [
    "from sklearn.model_selection import TimeSeriesSplit\n",
    "from sklearn.linear_model import LogisticRegression\n",
    "from sklearn.metrics import accuracy_score\n",
    "from sklearn.metrics import log_loss, classification_report\n",
    "from sklearn.metrics import balanced_accuracy_score\n",
    "from sklearn.ensemble import RandomForestClassifier\n",
    "from sklearn.pipeline import make_pipeline\n",
    "from sklearn.preprocessing import StandardScaler\n",
    "\n",
    "\n",
    "# Séparer les données en X et y\n",
    "X = df[['Beta', 'B', 'RmsBob','Range F 7', 'Range F 9', 'Range F 11', 'Range F 12','Range F 13_diff', 'Range F 1_diff', 'Beta_diff', 'RmsBob_diff', 'Beta_t-1', 'Beta_d-1']]\n",
    "y = df['target']\n",
    "\n",
    "X2 = X.fillna(0)\n",
    "\n",
    "# Créer un objet TimeSeriesSplit\n",
    "tscv = TimeSeriesSplit(n_splits=5)\n",
    "\n",
    "# Boucle sur les plis\n",
    "for train_index, test_index in tscv.split(X2):\n",
    "    X_train, X_test = X2.iloc[train_index], X2.iloc[test_index]\n",
    "    y_train, y_test = y.iloc[train_index], y.iloc[test_index]\n",
    "    \n",
    "    #class_weights = dict(zip(np.unique(y_train), class_weight.compute_class_weight(class_weight='balanced', classes=np.unique(data_train['target']), y=data_train['target'])))\n",
    "    \n",
    "    # Entrainer un modèle sur le jeu d'entraînement\n",
    "    \n",
    "    classifier = HistGradientBoostingClassifier()\n",
    "    model =make_pipeline(StandardScaler(), classifier)\n",
    "    \n",
    "    #model.set_params(class_weight='balanced_subsample')\n",
    "    \n",
    "    model.fit(X_train, y_train)#, sample_weight=0.3)\n",
    "\n",
    "    # Prédire sur le jeu de test\n",
    "    y_pred = model.predict(X_test)\n",
    "\n",
    "    # Afficher la précision\n",
    "    print(accuracy_score(y_test, y_pred))\n",
    "    print(log_loss(y_test, model.predict_proba(X_test)))\n",
    "    print(classification_report(y_test, y_pred))\n",
    "    print(f\"The balanced accuracy of the default model is \"\n",
    "          f\"{balanced_accuracy_score(y_test, y_pred):.3f}\")"
   ]
  },
  {
   "cell_type": "code",
   "execution_count": null,
   "id": "0dc086e9-8aa4-4525-a498-5c2cb3cd7b9c",
   "metadata": {},
   "outputs": [
    {
     "name": "stdout",
     "output_type": "stream",
     "text": [
      "0.8867509297180247\n",
      "0.28775134119087825\n",
      "              precision    recall  f1-score   support\n",
      "\n",
      "           0       0.91      0.97      0.93     71206\n",
      "           1       0.73      0.48      0.58     13766\n",
      "\n",
      "    accuracy                           0.89     84972\n",
      "   macro avg       0.82      0.72      0.76     84972\n",
      "weighted avg       0.88      0.89      0.88     84972\n",
      "\n",
      "The balanced accuracy of the default model is 0.723\n",
      "0.864367085628207\n",
      "0.3389009575079503\n",
      "              precision    recall  f1-score   support\n",
      "\n",
      "           0       0.89      0.96      0.92     69883\n",
      "           1       0.69      0.43      0.53     15089\n",
      "\n",
      "    accuracy                           0.86     84972\n",
      "   macro avg       0.79      0.69      0.72     84972\n",
      "weighted avg       0.85      0.86      0.85     84972\n",
      "\n",
      "The balanced accuracy of the default model is 0.693\n",
      "0.9265052017135056\n",
      "0.1912758254644299\n",
      "              precision    recall  f1-score   support\n",
      "\n",
      "           0       0.94      0.98      0.96     77546\n",
      "           1       0.63      0.39      0.48      7426\n",
      "\n",
      "    accuracy                           0.93     84972\n",
      "   macro avg       0.79      0.68      0.72     84972\n",
      "weighted avg       0.92      0.93      0.92     84972\n",
      "\n",
      "The balanced accuracy of the default model is 0.685\n",
      "0.938320858635786\n",
      "0.1723162562386246\n",
      "              precision    recall  f1-score   support\n",
      "\n",
      "           0       0.96      0.98      0.97     77756\n",
      "           1       0.67      0.53      0.59      7216\n",
      "\n",
      "    accuracy                           0.94     84972\n",
      "   macro avg       0.82      0.75      0.78     84972\n",
      "weighted avg       0.93      0.94      0.94     84972\n",
      "\n",
      "The balanced accuracy of the default model is 0.754\n",
      "0.9537730075789672\n",
      "0.1232411153899761\n",
      "              precision    recall  f1-score   support\n",
      "\n",
      "           0       0.98      0.97      0.98     81981\n",
      "           1       0.36      0.40      0.38      2991\n",
      "\n",
      "    accuracy                           0.95     84972\n",
      "   macro avg       0.67      0.69      0.68     84972\n",
      "weighted avg       0.96      0.95      0.95     84972\n",
      "\n",
      "The balanced accuracy of the default model is 0.685\n"
     ]
    }
   ],
   "source": [
    "from sklearn.model_selection import TimeSeriesSplit\n",
    "from sklearn.linear_model import LogisticRegression\n",
    "from sklearn.metrics import accuracy_score\n",
    "from sklearn.metrics import log_loss, classification_report\n",
    "from sklearn.metrics import balanced_accuracy_score\n",
    "from sklearn.ensemble import RandomForestClassifier\n",
    "from sklearn.pipeline import make_pipeline\n",
    "from sklearn.preprocessing import StandardScaler\n",
    "\n",
    "\n",
    "# Séparer les données en X et y\n",
    "X = df[['Beta', 'B', 'RmsBob','Range F 7', 'Range F 9', 'Range F 11', 'Range F 12']]\n",
    "y = df['target']\n",
    "\n",
    "X2 = X.fillna(0)\n",
    "\n",
    "# Créer un objet TimeSeriesSplit\n",
    "tscv = TimeSeriesSplit(n_splits=5)\n",
    "\n",
    "# Boucle sur les plis\n",
    "for train_index, test_index in tscv.split(X2):\n",
    "    X_train, X_test = X2.iloc[train_index], X2.iloc[test_index]\n",
    "    y_train, y_test = y.iloc[train_index], y.iloc[test_index]\n",
    "    \n",
    "    #class_weights = dict(zip(np.unique(y_train), class_weight.compute_class_weight(class_weight='balanced', classes=np.unique(data_train['target']), y=data_train['target'])))\n",
    "    \n",
    "    # Entrainer un modèle sur le jeu d'entraînement\n",
    "    \n",
    "    classifier = HistGradientBoostingClassifier()\n",
    "    model =make_pipeline(StandardScaler(), classifier)\n",
    "    \n",
    "    #model.set_params(class_weight='balanced_subsample')\n",
    "    \n",
    "    model.fit(X_train, y_train)#, sample_weight=0.3)\n",
    "\n",
    "    # Prédire sur le jeu de test\n",
    "    y_pred = model.predict(X_test)\n",
    "\n",
    "    # Afficher la précision\n",
    "    print(accuracy_score(y_test, y_pred))\n",
    "    print(log_loss(y_test, model.predict_proba(X_test)))\n",
    "    print(classification_report(y_test, y_pred))\n",
    "    print(f\"The balanced accuracy of the default model is \"\n",
    "          f\"{balanced_accuracy_score(y_test, y_pred):.3f}\")"
   ]
  },
  {
   "cell_type": "code",
   "execution_count": null,
   "id": "8df82bb7-3f00-4b7e-ad28-a046dea49695",
   "metadata": {},
   "outputs": [],
   "source": []
  },
  {
   "cell_type": "code",
   "execution_count": null,
   "id": "d5bf6701-c29e-4f9f-b149-d5891262d07e",
   "metadata": {},
   "outputs": [],
   "source": []
  },
  {
   "cell_type": "code",
   "execution_count": 44,
   "id": "95dc5b1c-71b3-47f9-88e9-f6c00b340d72",
   "metadata": {},
   "outputs": [
    {
     "name": "stdout",
     "output_type": "stream",
     "text": [
      "0.7982747257920256\n",
      "0.4383037120595265\n",
      "              precision    recall  f1-score   support\n",
      "\n",
      "           0       0.96      0.79      0.87     71206\n",
      "           1       0.44      0.83      0.57     13766\n",
      "\n",
      "    accuracy                           0.80     84972\n",
      "   macro avg       0.70      0.81      0.72     84972\n",
      "weighted avg       0.88      0.80      0.82     84972\n",
      "\n",
      "The balanced accuracy of the default model is 0.813\n",
      "0.7742315115567481\n",
      "0.4860008800506927\n",
      "              precision    recall  f1-score   support\n",
      "\n",
      "           0       0.94      0.77      0.85     69883\n",
      "           1       0.43      0.79      0.55     15089\n",
      "\n",
      "    accuracy                           0.77     84972\n",
      "   macro avg       0.68      0.78      0.70     84972\n",
      "weighted avg       0.85      0.77      0.80     84972\n",
      "\n",
      "The balanced accuracy of the default model is 0.778\n",
      "0.8536223697217907\n",
      "0.33906950287854826\n",
      "              precision    recall  f1-score   support\n",
      "\n",
      "           0       0.97      0.86      0.91     77546\n",
      "           1       0.35      0.75      0.47      7426\n",
      "\n",
      "    accuracy                           0.85     84972\n",
      "   macro avg       0.66      0.81      0.69     84972\n",
      "weighted avg       0.92      0.85      0.88     84972\n",
      "\n",
      "The balanced accuracy of the default model is 0.809\n",
      "0.8156216165325049\n",
      "0.39813737163930274\n",
      "              precision    recall  f1-score   support\n",
      "\n",
      "           0       0.98      0.81      0.89     77756\n",
      "           1       0.30      0.86      0.44      7216\n",
      "\n",
      "    accuracy                           0.82     84972\n",
      "   macro avg       0.64      0.84      0.67     84972\n",
      "weighted avg       0.93      0.82      0.85     84972\n",
      "\n",
      "The balanced accuracy of the default model is 0.836\n",
      "0.8601657016428941\n",
      "0.32628315476657516\n",
      "              precision    recall  f1-score   support\n",
      "\n",
      "           0       1.00      0.86      0.92     81981\n",
      "           1       0.19      0.89      0.31      2991\n",
      "\n",
      "    accuracy                           0.86     84972\n",
      "   macro avg       0.59      0.87      0.62     84972\n",
      "weighted avg       0.97      0.86      0.90     84972\n",
      "\n",
      "The balanced accuracy of the default model is 0.875\n"
     ]
    }
   ],
   "source": [
    "from sklearn.model_selection import TimeSeriesSplit\n",
    "from sklearn.linear_model import LogisticRegression\n",
    "from sklearn.metrics import accuracy_score\n",
    "from sklearn.metrics import log_loss, classification_report\n",
    "from sklearn.metrics import balanced_accuracy_score\n",
    "from sklearn.ensemble import RandomForestClassifier\n",
    "from sklearn.pipeline import make_pipeline\n",
    "from sklearn.preprocessing import StandardScaler\n",
    "\n",
    "\n",
    "# Séparer les données en X et y\n",
    "X = df[['Beta', 'B', 'RmsBob','Range F 7', 'Range F 9', 'Range F 11', 'Range F 12','Range F 13_diff', 'Range F 1_diff', 'Beta_diff', 'RmsBob_diff', 'Beta_t-1', 'Beta_d-1']]\n",
    "y = df['target']\n",
    "\n",
    "X2 = X.fillna(0)\n",
    "\n",
    "# Créer un objet TimeSeriesSplit\n",
    "tscv = TimeSeriesSplit(n_splits=5)\n",
    "\n",
    "# Boucle sur les plis\n",
    "for train_index, test_index in tscv.split(X2):\n",
    "    X_train, X_test = X2.iloc[train_index], X2.iloc[test_index]\n",
    "    y_train, y_test = y.iloc[train_index], y.iloc[test_index]\n",
    "    \n",
    "    #class_weights = dict(zip(np.unique(y_train), class_weight.compute_class_weight(class_weight='balanced', classes=np.unique(data_train['target']), y=data_train['target'])))\n",
    "    \n",
    "    # Entrainer un modèle sur le jeu d'entraînement\n",
    "    \n",
    "    classifier = LogisticRegression(class_weight='balanced')\n",
    "    model =make_pipeline(StandardScaler(), classifier)\n",
    "    \n",
    "    #model.set_params(class_weight='balanced_subsample')\n",
    "    \n",
    "    model.fit(X_train, y_train)#, sample_weight=0.3)\n",
    "\n",
    "    # Prédire sur le jeu de test\n",
    "    y_pred = model.predict(X_test)\n",
    "\n",
    "    # Afficher la précision\n",
    "    print(accuracy_score(y_test, y_pred))\n",
    "    print(log_loss(y_test, model.predict_proba(X_test)))\n",
    "    print(classification_report(y_test, y_pred))\n",
    "    print(f\"The balanced accuracy of the default model is \"\n",
    "          f\"{balanced_accuracy_score(y_test, y_pred):.3f}\")"
   ]
  },
  {
   "cell_type": "code",
   "execution_count": 28,
   "id": "5b0ed7cf-ef61-483e-b380-37c435398567",
   "metadata": {},
   "outputs": [
    {
     "name": "stdout",
     "output_type": "stream",
     "text": [
      "0.7872004895730358\n",
      "0.4542326109351259\n",
      "              precision    recall  f1-score   support\n",
      "\n",
      "           0       0.96      0.78      0.86     71206\n",
      "           1       0.42      0.83      0.56     13766\n",
      "\n",
      "    accuracy                           0.79     84972\n",
      "   macro avg       0.69      0.80      0.71     84972\n",
      "weighted avg       0.87      0.79      0.81     84972\n",
      "\n",
      "The balanced accuracy of the default model is 0.803\n",
      "0.7722073153509391\n",
      "0.4956173993491788\n",
      "              precision    recall  f1-score   support\n",
      "\n",
      "           0       0.94      0.77      0.85     69883\n",
      "           1       0.42      0.77      0.55     15089\n",
      "\n",
      "    accuracy                           0.77     84972\n",
      "   macro avg       0.68      0.77      0.70     84972\n",
      "weighted avg       0.85      0.77      0.79     84972\n",
      "\n",
      "The balanced accuracy of the default model is 0.772\n",
      "0.8405239372969919\n",
      "0.3618867857179801\n",
      "              precision    recall  f1-score   support\n",
      "\n",
      "           0       0.97      0.85      0.91     77546\n",
      "           1       0.32      0.77      0.46      7426\n",
      "\n",
      "    accuracy                           0.84     84972\n",
      "   macro avg       0.65      0.81      0.68     84972\n",
      "weighted avg       0.92      0.84      0.87     84972\n",
      "\n",
      "The balanced accuracy of the default model is 0.807\n",
      "0.8075248317092689\n",
      "0.4141822098919604\n",
      "              precision    recall  f1-score   support\n",
      "\n",
      "           0       0.98      0.80      0.88     77756\n",
      "           1       0.29      0.86      0.43      7216\n",
      "\n",
      "    accuracy                           0.81     84972\n",
      "   macro avg       0.64      0.83      0.66     84972\n",
      "weighted avg       0.92      0.81      0.85     84972\n",
      "\n",
      "The balanced accuracy of the default model is 0.829\n",
      "0.8537988984606694\n",
      "0.34449379085161563\n",
      "              precision    recall  f1-score   support\n",
      "\n",
      "           0       1.00      0.85      0.92     81981\n",
      "           1       0.18      0.89      0.30      2991\n",
      "\n",
      "    accuracy                           0.85     84972\n",
      "   macro avg       0.59      0.87      0.61     84972\n",
      "weighted avg       0.97      0.85      0.90     84972\n",
      "\n",
      "The balanced accuracy of the default model is 0.871\n"
     ]
    }
   ],
   "source": [
    "from sklearn.model_selection import TimeSeriesSplit\n",
    "from sklearn.linear_model import LogisticRegression\n",
    "from sklearn.metrics import accuracy_score\n",
    "from sklearn.metrics import log_loss, classification_report\n",
    "from sklearn.metrics import balanced_accuracy_score\n",
    "from sklearn.ensemble import RandomForestClassifier\n",
    "from sklearn.pipeline import make_pipeline\n",
    "from sklearn.preprocessing import StandardScaler\n",
    "\n",
    "\n",
    "# Séparer les données en X et y\n",
    "X = df[['Beta', 'B', 'RmsBob','Range F 7', 'Range F 9', 'Range F 11', 'Range F 12',]]\n",
    "y = df.iloc[:, -1]\n",
    "\n",
    "# Créer un objet TimeSeriesSplit\n",
    "tscv = TimeSeriesSplit(n_splits=5)\n",
    "\n",
    "# Boucle sur les plis\n",
    "for train_index, test_index in tscv.split(X):\n",
    "    X_train, X_test = X.iloc[train_index], X.iloc[test_index]\n",
    "    y_train, y_test = y.iloc[train_index], y.iloc[test_index]\n",
    "    \n",
    "    #class_weights = dict(zip(np.unique(y_train), class_weight.compute_class_weight(class_weight='balanced', classes=np.unique(data_train['target']), y=data_train['target'])))\n",
    "    \n",
    "    # Entrainer un modèle sur le jeu d'entraînement\n",
    "    \n",
    "    classifier = LogisticRegression(class_weight='balanced')\n",
    "    model =make_pipeline(StandardScaler(), classifier)\n",
    "    \n",
    "    #model.set_params(class_weight='balanced_subsample')\n",
    "    \n",
    "    model.fit(X_train, y_train)#, sample_weight=0.3)\n",
    "\n",
    "    # Prédire sur le jeu de test\n",
    "    y_pred = model.predict(X_test)\n",
    "\n",
    "    # Afficher la précision\n",
    "    print(accuracy_score(y_test, y_pred))\n",
    "    print(log_loss(y_test, model.predict_proba(X_test)))\n",
    "    print(classification_report(y_test, y_pred))\n",
    "    print(f\"The balanced accuracy of the default model is \"\n",
    "          f\"{balanced_accuracy_score(y_test, y_pred):.3f}\")"
   ]
  },
  {
   "cell_type": "code",
   "execution_count": 22,
   "id": "9c70293a-1fef-475a-8cad-efb0c8afe834",
   "metadata": {},
   "outputs": [
    {
     "name": "stdout",
     "output_type": "stream",
     "text": [
      "0.7779739208209763\n",
      "0.4459527084303497\n",
      "              precision    recall  f1-score   support\n",
      "\n",
      "           0       0.96      0.77      0.85     71206\n",
      "           1       0.41      0.84      0.55     13766\n",
      "\n",
      "    accuracy                           0.78     84972\n",
      "   macro avg       0.68      0.80      0.70     84972\n",
      "weighted avg       0.87      0.78      0.80     84972\n",
      "\n",
      "The balanced accuracy of the default model is 0.802\n",
      "0.7564844890081439\n",
      "0.49061000343147226\n",
      "              precision    recall  f1-score   support\n",
      "\n",
      "           0       0.94      0.75      0.84     69883\n",
      "           1       0.40      0.78      0.53     15089\n",
      "\n",
      "    accuracy                           0.76     84972\n",
      "   macro avg       0.67      0.76      0.68     84972\n",
      "weighted avg       0.84      0.76      0.78     84972\n",
      "\n",
      "The balanced accuracy of the default model is 0.765\n",
      "0.8361342559902085\n",
      "0.36285791756975083\n",
      "              precision    recall  f1-score   support\n",
      "\n",
      "           0       0.97      0.84      0.90     77546\n",
      "           1       0.32      0.76      0.45      7426\n",
      "\n",
      "    accuracy                           0.84     84972\n",
      "   macro avg       0.65      0.80      0.68     84972\n",
      "weighted avg       0.92      0.84      0.86     84972\n",
      "\n",
      "The balanced accuracy of the default model is 0.804\n",
      "0.7855764251753519\n",
      "0.4302618541275419\n",
      "              precision    recall  f1-score   support\n",
      "\n",
      "           0       0.98      0.78      0.87     77756\n",
      "           1       0.26      0.85      0.40      7216\n",
      "\n",
      "    accuracy                           0.79     84972\n",
      "   macro avg       0.62      0.82      0.64     84972\n",
      "weighted avg       0.92      0.79      0.83     84972\n",
      "\n",
      "The balanced accuracy of the default model is 0.816\n",
      "0.7829637998399472\n",
      "0.4236584539785303\n",
      "              precision    recall  f1-score   support\n",
      "\n",
      "           0       1.00      0.78      0.87     81981\n",
      "           1       0.13      0.93      0.23      2991\n",
      "\n",
      "    accuracy                           0.78     84972\n",
      "   macro avg       0.56      0.85      0.55     84972\n",
      "weighted avg       0.97      0.78      0.85     84972\n",
      "\n",
      "The balanced accuracy of the default model is 0.852\n"
     ]
    }
   ],
   "source": [
    "from sklearn.model_selection import TimeSeriesSplit\n",
    "from sklearn.linear_model import LogisticRegression\n",
    "from sklearn.metrics import accuracy_score\n",
    "from sklearn.metrics import log_loss, classification_report\n",
    "from sklearn.metrics import balanced_accuracy_score\n",
    "from sklearn.ensemble import RandomForestClassifier\n",
    "from sklearn.pipeline import make_pipeline\n",
    "from sklearn.preprocessing import StandardScaler\n",
    "\n",
    "\n",
    "# Séparer les données en X et y\n",
    "X = df[['Beta', 'Pdyn', 'RmsBob', 'Range F 0', 'Range F 1', 'Range F 2', 'Range F 3', 'Range F 6','Range F 7', 'Range F 9', 'Range F 11', 'Range F 12',]]\n",
    "y = df.iloc[:, -1]\n",
    "\n",
    "# Créer un objet TimeSeriesSplit\n",
    "tscv = TimeSeriesSplit(n_splits=5)\n",
    "\n",
    "# Boucle sur les plis\n",
    "for train_index, test_index in tscv.split(X):\n",
    "    X_train, X_test = X.iloc[train_index], X.iloc[test_index]\n",
    "    y_train, y_test = y.iloc[train_index], y.iloc[test_index]\n",
    "    \n",
    "    #class_weights = dict(zip(np.unique(y_train), class_weight.compute_class_weight(class_weight='balanced', classes=np.unique(data_train['target']), y=data_train['target'])))\n",
    "    \n",
    "    # Entrainer un modèle sur le jeu d'entraînement\n",
    "    \n",
    "    classifier = LogisticRegression(class_weight='balanced')\n",
    "    model =make_pipeline(StandardScaler(), classifier)\n",
    "    \n",
    "    #model.set_params(class_weight='balanced_subsample')\n",
    "    \n",
    "    model.fit(X_train, y_train)#, sample_weight=0.3)\n",
    "\n",
    "    # Prédire sur le jeu de test\n",
    "    y_pred = model.predict(X_test)\n",
    "\n",
    "    # Afficher la précision\n",
    "    print(accuracy_score(y_test, y_pred))\n",
    "    print(log_loss(y_test, model.predict_proba(X_test)))\n",
    "    print(classification_report(y_test, y_pred))\n",
    "    print(f\"The balanced accuracy of the default model is \"\n",
    "          f\"{balanced_accuracy_score(y_test, y_pred):.3f}\")"
   ]
  },
  {
   "cell_type": "code",
   "execution_count": 23,
   "id": "3c040c54-5d4a-4af1-b84c-0b9e2bb1bb03",
   "metadata": {},
   "outputs": [
    {
     "name": "stdout",
     "output_type": "stream",
     "text": [
      "0.761050699053806\n",
      "0.4660862825607834\n",
      "              precision    recall  f1-score   support\n",
      "\n",
      "           0       0.96      0.74      0.84     71206\n",
      "           1       0.39      0.85      0.54     13766\n",
      "\n",
      "    accuracy                           0.76     84972\n",
      "   macro avg       0.68      0.80      0.69     84972\n",
      "weighted avg       0.87      0.76      0.79     84972\n",
      "\n",
      "The balanced accuracy of the default model is 0.796\n",
      "0.702725603728287\n",
      "0.529878258620429\n",
      "              precision    recall  f1-score   support\n",
      "\n",
      "           0       0.95      0.67      0.79     69883\n",
      "           1       0.36      0.84      0.50     15089\n",
      "\n",
      "    accuracy                           0.70     84972\n",
      "   macro avg       0.65      0.76      0.64     84972\n",
      "weighted avg       0.84      0.70      0.74     84972\n",
      "\n",
      "The balanced accuracy of the default model is 0.755\n",
      "0.8156686908628725\n",
      "0.37926482344168566\n",
      "              precision    recall  f1-score   support\n",
      "\n",
      "           0       0.98      0.82      0.89     77546\n",
      "           1       0.30      0.81      0.43      7426\n",
      "\n",
      "    accuracy                           0.82     84972\n",
      "   macro avg       0.64      0.81      0.66     84972\n",
      "weighted avg       0.92      0.82      0.85     84972\n",
      "\n",
      "The balanced accuracy of the default model is 0.811\n",
      "0.7653697688650379\n",
      "0.44169684778033624\n",
      "              precision    recall  f1-score   support\n",
      "\n",
      "           0       0.98      0.76      0.85     77756\n",
      "           1       0.25      0.87      0.39      7216\n",
      "\n",
      "    accuracy                           0.77     84972\n",
      "   macro avg       0.62      0.81      0.62     84972\n",
      "weighted avg       0.92      0.77      0.82     84972\n",
      "\n",
      "The balanced accuracy of the default model is 0.813\n",
      "0.8239066986772113\n",
      "0.3493269159151924\n",
      "              precision    recall  f1-score   support\n",
      "\n",
      "           0       1.00      0.82      0.90     81981\n",
      "           1       0.16      0.90      0.27      2991\n",
      "\n",
      "    accuracy                           0.82     84972\n",
      "   macro avg       0.58      0.86      0.58     84972\n",
      "weighted avg       0.97      0.82      0.88     84972\n",
      "\n",
      "The balanced accuracy of the default model is 0.862\n"
     ]
    }
   ],
   "source": [
    "from sklearn.model_selection import TimeSeriesSplit\n",
    "from sklearn.linear_model import LogisticRegression\n",
    "from sklearn.metrics import accuracy_score\n",
    "from sklearn.metrics import log_loss, classification_report\n",
    "from sklearn.metrics import balanced_accuracy_score\n",
    "from sklearn.ensemble import RandomForestClassifier\n",
    "from sklearn.pipeline import make_pipeline\n",
    "from sklearn.preprocessing import StandardScaler\n",
    "\n",
    "\n",
    "# Séparer les données en X et y\n",
    "X = df[['Beta', 'Pdyn', 'RmsBob']]\n",
    "y = df.iloc[:, -1]\n",
    "\n",
    "# Créer un objet TimeSeriesSplit\n",
    "tscv = TimeSeriesSplit(n_splits=5)\n",
    "\n",
    "# Boucle sur les plis\n",
    "for train_index, test_index in tscv.split(X):\n",
    "    X_train, X_test = X.iloc[train_index], X.iloc[test_index]\n",
    "    y_train, y_test = y.iloc[train_index], y.iloc[test_index]\n",
    "    \n",
    "    #class_weights = dict(zip(np.unique(y_train), class_weight.compute_class_weight(class_weight='balanced', classes=np.unique(data_train['target']), y=data_train['target'])))\n",
    "    \n",
    "    # Entrainer un modèle sur le jeu d'entraînement\n",
    "    \n",
    "    classifier = LogisticRegression(class_weight='balanced')\n",
    "    model =make_pipeline(StandardScaler(), classifier)\n",
    "    \n",
    "    #model.set_params(class_weight='balanced_subsample')\n",
    "    \n",
    "    model.fit(X_train, y_train)#, sample_weight=0.3)\n",
    "\n",
    "    # Prédire sur le jeu de test\n",
    "    y_pred = model.predict(X_test)\n",
    "\n",
    "    # Afficher la précision\n",
    "    print(accuracy_score(y_test, y_pred))\n",
    "    print(log_loss(y_test, model.predict_proba(X_test)))\n",
    "    print(classification_report(y_test, y_pred))\n",
    "    print(f\"The balanced accuracy of the default model is \"\n",
    "          f\"{balanced_accuracy_score(y_test, y_pred):.3f}\")"
   ]
  },
  {
   "cell_type": "code",
   "execution_count": 59,
   "id": "b22f8ce9-67fe-44af-9fae-63f599954328",
   "metadata": {},
   "outputs": [
    {
     "name": "stdout",
     "output_type": "stream",
     "text": [
      "0.8867862354658005\n",
      "0.3138389435902955\n",
      "              precision    recall  f1-score   support\n",
      "\n",
      "           0       0.90      0.97      0.93     71206\n",
      "           1       0.74      0.46      0.57     13766\n",
      "\n",
      "    accuracy                           0.89     84972\n",
      "   macro avg       0.82      0.71      0.75     84972\n",
      "weighted avg       0.88      0.89      0.88     84972\n",
      "\n",
      "The balanced accuracy of the default model is 0.714\n",
      "0.860589370616203\n",
      "0.3562993429100401\n",
      "              precision    recall  f1-score   support\n",
      "\n",
      "           0       0.87      0.97      0.92     69883\n",
      "           1       0.74      0.33      0.46     15089\n",
      "\n",
      "    accuracy                           0.86     84972\n",
      "   macro avg       0.81      0.65      0.69     84972\n",
      "weighted avg       0.85      0.86      0.84     84972\n",
      "\n",
      "The balanced accuracy of the default model is 0.653\n",
      "0.9309890316810243\n",
      "0.2038037400149322\n",
      "              precision    recall  f1-score   support\n",
      "\n",
      "           0       0.94      0.99      0.96     77546\n",
      "           1       0.74      0.32      0.45      7426\n",
      "\n",
      "    accuracy                           0.93     84972\n",
      "   macro avg       0.84      0.66      0.71     84972\n",
      "weighted avg       0.92      0.93      0.92     84972\n",
      "\n",
      "The balanced accuracy of the default model is 0.656\n",
      "0.9487360542296286\n",
      "0.19400339266844704\n",
      "              precision    recall  f1-score   support\n",
      "\n",
      "           0       0.96      0.99      0.97     77756\n",
      "           1       0.80      0.52      0.63      7216\n",
      "\n",
      "    accuracy                           0.95     84972\n",
      "   macro avg       0.88      0.76      0.80     84972\n",
      "weighted avg       0.94      0.95      0.94     84972\n",
      "\n",
      "The balanced accuracy of the default model is 0.756\n",
      "0.97224968224827\n",
      "0.11950141219143019\n",
      "              precision    recall  f1-score   support\n",
      "\n",
      "           0       0.97      1.00      0.99     81981\n",
      "           1       0.78      0.30      0.43      2991\n",
      "\n",
      "    accuracy                           0.97     84972\n",
      "   macro avg       0.88      0.65      0.71     84972\n",
      "weighted avg       0.97      0.97      0.97     84972\n",
      "\n",
      "The balanced accuracy of the default model is 0.647\n"
     ]
    }
   ],
   "source": [
    "from sklearn.model_selection import TimeSeriesSplit\n",
    "from sklearn.linear_model import LogisticRegression\n",
    "from sklearn.metrics import accuracy_score\n",
    "from sklearn.metrics import log_loss, classification_report\n",
    "from sklearn.metrics import balanced_accuracy_score\n",
    "from sklearn.ensemble import RandomForestClassifier\n",
    "from sklearn.pipeline import make_pipeline\n",
    "from sklearn.preprocessing import StandardScaler\n",
    "\n",
    "\n",
    "# Séparer les données en X et y\n",
    "y = df.iloc[:, -1]\n",
    "X = df.drop(columns=['target'], axis=1)\n",
    "\n",
    "# Créer un objet TimeSeriesSplit\n",
    "tscv = TimeSeriesSplit(n_splits=5)\n",
    "\n",
    "# Boucle sur les plis\n",
    "for train_index, test_index in tscv.split(X):\n",
    "    X_train, X_test = X.iloc[train_index], X.iloc[test_index]\n",
    "    y_train, y_test = y.iloc[train_index], y.iloc[test_index]\n",
    "    \n",
    "    #class_weights = dict(zip(np.unique(y_train), class_weight.compute_class_weight(class_weight='balanced', classes=np.unique(data_train['target']), y=data_train['target'])))\n",
    "    \n",
    "    # Entrainer un modèle sur le jeu d'entraînement\n",
    "    \n",
    "    classifier = LogisticRegression()\n",
    "    model =make_pipeline(StandardScaler(), classifier)\n",
    "    \n",
    "    #model.set_params(class_weight='balanced_subsample')\n",
    "    \n",
    "    model.fit(X_train, y_train)#, sample_weight=0.3)\n",
    "\n",
    "    # Prédire sur le jeu de test\n",
    "    y_pred = model.predict(X_test)\n",
    "\n",
    "    # Afficher la précision\n",
    "    print(accuracy_score(y_test, y_pred))\n",
    "    print(log_loss(y_test, model.predict_proba(X_test)))\n",
    "    print(classification_report(y_test, y_pred))\n",
    "    print(f\"The balanced accuracy of the default model is \"\n",
    "          f\"{balanced_accuracy_score(y_test, y_pred):.3f}\")"
   ]
  },
  {
   "cell_type": "code",
   "execution_count": 58,
   "id": "08b8509c-79fc-4a02-a3be-9f906e4057cc",
   "metadata": {},
   "outputs": [
    {
     "name": "stdout",
     "output_type": "stream",
     "text": [
      "0.8058183872334416\n",
      "0.47859604258699434\n",
      "              precision    recall  f1-score   support\n",
      "\n",
      "           0       0.96      0.81      0.87     71206\n",
      "           1       0.45      0.81      0.57     13766\n",
      "\n",
      "    accuracy                           0.81     84972\n",
      "   macro avg       0.70      0.81      0.72     84972\n",
      "weighted avg       0.87      0.81      0.83     84972\n",
      "\n",
      "The balanced accuracy of the default model is 0.807\n",
      "0.7886715623970249\n",
      "0.48529934583031586\n",
      "              precision    recall  f1-score   support\n",
      "\n",
      "           0       0.93      0.80      0.86     69883\n",
      "           1       0.44      0.74      0.55     15089\n",
      "\n",
      "    accuracy                           0.79     84972\n",
      "   macro avg       0.69      0.77      0.71     84972\n",
      "weighted avg       0.85      0.79      0.81     84972\n",
      "\n",
      "The balanced accuracy of the default model is 0.769\n",
      "0.867579908675799\n",
      "0.33134035286779634\n",
      "              precision    recall  f1-score   support\n",
      "\n",
      "           0       0.97      0.88      0.92     77546\n",
      "           1       0.37      0.72      0.49      7426\n",
      "\n",
      "    accuracy                           0.87     84972\n",
      "   macro avg       0.67      0.80      0.71     84972\n",
      "weighted avg       0.92      0.87      0.89     84972\n",
      "\n",
      "The balanced accuracy of the default model is 0.801\n",
      "0.811432001129784\n",
      "0.4366818668057052\n",
      "              precision    recall  f1-score   support\n",
      "\n",
      "           0       0.98      0.81      0.89     77756\n",
      "           1       0.29      0.85      0.43      7216\n",
      "\n",
      "    accuracy                           0.81     84972\n",
      "   macro avg       0.64      0.83      0.66     84972\n",
      "weighted avg       0.92      0.81      0.85     84972\n",
      "\n",
      "The balanced accuracy of the default model is 0.831\n",
      "0.8868215412135763\n",
      "0.3424747107767114\n",
      "              precision    recall  f1-score   support\n",
      "\n",
      "           0       0.99      0.89      0.94     81981\n",
      "           1       0.22      0.86      0.35      2991\n",
      "\n",
      "    accuracy                           0.89     84972\n",
      "   macro avg       0.61      0.88      0.64     84972\n",
      "weighted avg       0.97      0.89      0.92     84972\n",
      "\n",
      "The balanced accuracy of the default model is 0.876\n"
     ]
    }
   ],
   "source": [
    "from sklearn.model_selection import TimeSeriesSplit\n",
    "from sklearn.linear_model import LogisticRegression\n",
    "from sklearn.metrics import accuracy_score\n",
    "from sklearn.metrics import log_loss, classification_report\n",
    "from sklearn.metrics import balanced_accuracy_score\n",
    "from sklearn.ensemble import RandomForestClassifier\n",
    "from sklearn.pipeline import make_pipeline\n",
    "from sklearn.preprocessing import StandardScaler\n",
    "\n",
    "\n",
    "# Séparer les données en X et y\n",
    "y = df.iloc[:, -1]\n",
    "X = df.drop(columns=['target'], axis=1)\n",
    "\n",
    "# Créer un objet TimeSeriesSplit\n",
    "tscv = TimeSeriesSplit(n_splits=5)\n",
    "\n",
    "# Boucle sur les plis\n",
    "for train_index, test_index in tscv.split(X):\n",
    "    X_train, X_test = X.iloc[train_index], X.iloc[test_index]\n",
    "    y_train, y_test = y.iloc[train_index], y.iloc[test_index]\n",
    "    \n",
    "    #class_weights = dict(zip(np.unique(y_train), class_weight.compute_class_weight(class_weight='balanced', classes=np.unique(data_train['target']), y=data_train['target'])))\n",
    "    \n",
    "    # Entrainer un modèle sur le jeu d'entraînement\n",
    "    \n",
    "    classifier = LogisticRegression(class_weight='balanced')\n",
    "    model =make_pipeline(StandardScaler(), classifier)\n",
    "    \n",
    "    #model.set_params(class_weight='balanced_subsample')\n",
    "    \n",
    "    model.fit(X_train, y_train)#, sample_weight=0.3)\n",
    "\n",
    "    # Prédire sur le jeu de test\n",
    "    y_pred = model.predict(X_test)\n",
    "\n",
    "    # Afficher la précision\n",
    "    print(accuracy_score(y_test, y_pred))\n",
    "    print(log_loss(y_test, model.predict_proba(X_test)))\n",
    "    print(classification_report(y_test, y_pred))\n",
    "    print(f\"The balanced accuracy of the default model is \"\n",
    "          f\"{balanced_accuracy_score(y_test, y_pred):.3f}\")"
   ]
  },
  {
   "cell_type": "code",
   "execution_count": 20,
   "id": "6165626b-ee2a-4a91-9342-d1bd16557d75",
   "metadata": {},
   "outputs": [
    {
     "name": "stdout",
     "output_type": "stream",
     "text": [
      "0.8163159629054276\n",
      "0.3986825174621127\n",
      "              precision    recall  f1-score   support\n",
      "\n",
      "           0       0.95      0.82      0.88     71206\n",
      "           1       0.46      0.77      0.58     13766\n",
      "\n",
      "    accuracy                           0.82     84972\n",
      "   macro avg       0.70      0.80      0.73     84972\n",
      "weighted avg       0.87      0.82      0.83     84972\n",
      "\n",
      "The balanced accuracy of the default model is 0.799\n",
      "0.7634867956503318\n",
      "0.47788552450513166\n",
      "              precision    recall  f1-score   support\n",
      "\n",
      "           0       0.93      0.77      0.84     69883\n",
      "           1       0.41      0.71      0.52     15089\n",
      "\n",
      "    accuracy                           0.76     84972\n",
      "   macro avg       0.67      0.74      0.68     84972\n",
      "weighted avg       0.83      0.76      0.79     84972\n",
      "\n",
      "The balanced accuracy of the default model is 0.743\n",
      "0.8487148707809632\n",
      "0.34417398700788593\n",
      "              precision    recall  f1-score   support\n",
      "\n",
      "           0       0.97      0.86      0.91     77546\n",
      "           1       0.33      0.71      0.45      7426\n",
      "\n",
      "    accuracy                           0.85     84972\n",
      "   macro avg       0.65      0.79      0.68     84972\n",
      "weighted avg       0.91      0.85      0.87     84972\n",
      "\n",
      "The balanced accuracy of the default model is 0.787\n",
      "0.8279315539236455\n",
      "0.3814695214747553\n",
      "              precision    recall  f1-score   support\n",
      "\n",
      "           0       0.97      0.83      0.90     77756\n",
      "           1       0.30      0.77      0.43      7216\n",
      "\n",
      "    accuracy                           0.83     84972\n",
      "   macro avg       0.64      0.80      0.66     84972\n",
      "weighted avg       0.92      0.83      0.86     84972\n",
      "\n",
      "The balanced accuracy of the default model is 0.800\n",
      "0.8901991244174552\n",
      "0.2783719999425345\n",
      "              precision    recall  f1-score   support\n",
      "\n",
      "           0       0.99      0.89      0.94     81981\n",
      "           1       0.22      0.82      0.34      2991\n",
      "\n",
      "    accuracy                           0.89     84972\n",
      "   macro avg       0.61      0.86      0.64     84972\n",
      "weighted avg       0.97      0.89      0.92     84972\n",
      "\n",
      "The balanced accuracy of the default model is 0.857\n"
     ]
    }
   ],
   "source": [
    "from sklearn.model_selection import TimeSeriesSplit\n",
    "from sklearn.linear_model import LogisticRegression\n",
    "from sklearn.metrics import accuracy_score\n",
    "from sklearn.metrics import log_loss, classification_report\n",
    "from sklearn.metrics import balanced_accuracy_score\n",
    "from sklearn.ensemble import RandomForestClassifier\n",
    "from sklearn.pipeline import make_pipeline\n",
    "from sklearn.preprocessing import StandardScaler\n",
    "\n",
    "\n",
    "# Séparer les données en X et y\n",
    "X = df[['Beta', 'Pdyn', 'RmsBob']]\n",
    "y = df.iloc[:, -1]\n",
    "\n",
    "# Créer un objet TimeSeriesSplit\n",
    "tscv = TimeSeriesSplit(n_splits=5)\n",
    "\n",
    "# Boucle sur les plis\n",
    "for train_index, test_index in tscv.split(X):\n",
    "    X_train, X_test = X.iloc[train_index], X.iloc[test_index]\n",
    "    y_train, y_test = y.iloc[train_index], y.iloc[test_index]\n",
    "    \n",
    "    #class_weights = dict(zip(np.unique(y_train), class_weight.compute_class_weight(class_weight='balanced', classes=np.unique(data_train['target']), y=data_train['target'])))\n",
    "    \n",
    "    # Entrainer un modèle sur le jeu d'entraînement\n",
    "    \n",
    "    classifier = LogisticRegression(class_weight={0: 0.2,1: 0.8})\n",
    "    model =make_pipeline(StandardScaler(), classifier)\n",
    "    \n",
    "    #model.set_params(class_weight='balanced_subsample')\n",
    "    \n",
    "    model.fit(X_train, y_train)#, sample_weight=0.3)\n",
    "\n",
    "    # Prédire sur le jeu de test\n",
    "    y_pred = model.predict(X_test)\n",
    "\n",
    "    # Afficher la précision\n",
    "    print(accuracy_score(y_test, y_pred))\n",
    "    print(log_loss(y_test, model.predict_proba(X_test)))\n",
    "    print(classification_report(y_test, y_pred))\n",
    "    print(f\"The balanced accuracy of the default model is \"\n",
    "          f\"{balanced_accuracy_score(y_test, y_pred):.3f}\")"
   ]
  },
  {
   "cell_type": "code",
   "execution_count": null,
   "id": "7682ae17-9450-4afd-8940-5145d8ef8b72",
   "metadata": {},
   "outputs": [],
   "source": []
  }
 ],
 "metadata": {
  "kernelspec": {
   "display_name": "Python 3 (ipykernel)",
   "language": "python",
   "name": "python3"
  },
  "language_info": {
   "codemirror_mode": {
    "name": "ipython",
    "version": 3
   },
   "file_extension": ".py",
   "mimetype": "text/x-python",
   "name": "python",
   "nbconvert_exporter": "python",
   "pygments_lexer": "ipython3",
   "version": "3.9.7"
  }
 },
 "nbformat": 4,
 "nbformat_minor": 5
}
