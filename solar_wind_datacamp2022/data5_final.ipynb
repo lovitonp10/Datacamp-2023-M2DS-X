{
 "cells": [
  {
   "cell_type": "code",
   "execution_count": 1,
   "id": "1e03cf82-e789-4fcf-9e6e-a00d293acfbc",
   "metadata": {},
   "outputs": [],
   "source": [
    "import warnings\n",
    "warnings.filterwarnings(\"ignore\")"
   ]
  },
  {
   "cell_type": "code",
   "execution_count": 2,
   "id": "96ee874d-0cee-4320-aa17-70102bb09d5b",
   "metadata": {},
   "outputs": [],
   "source": [
    "import pandas as pd\n",
    "import numpy as np\n",
    "import matplotlib.pyplot as plt\n",
    "import datetime\n",
    "from datetime import datetime"
   ]
  },
  {
   "cell_type": "code",
   "execution_count": 3,
   "id": "025fd371-1487-4bba-8f32-1d95bec3ae08",
   "metadata": {
    "tags": []
   },
   "outputs": [],
   "source": [
    "from problem import get_train_data\n",
    "\n",
    "data_train, labels_train = get_train_data()"
   ]
  },
  {
   "cell_type": "code",
   "execution_count": 4,
   "id": "a8b8f063-b89b-4392-ba74-c40dee0daeb9",
   "metadata": {},
   "outputs": [],
   "source": [
    "from problem import get_test_data\n",
    "\n",
    "data_test, labels_test = get_test_data()"
   ]
  },
  {
   "cell_type": "code",
   "execution_count": 5,
   "id": "0354f142-b08f-4c57-b192-0aba3953b2b1",
   "metadata": {},
   "outputs": [],
   "source": [
    "df = data_train.copy()\n",
    "df['target'] = labels_train"
   ]
  },
  {
   "cell_type": "code",
   "execution_count": null,
   "id": "f9dadfb0-e683-451d-92e4-14ec77b4e9f1",
   "metadata": {},
   "outputs": [],
   "source": []
  },
  {
   "cell_type": "code",
   "execution_count": 8,
   "id": "ff8f9bf7-657b-4b2d-872d-7aa3fdd3bc1a",
   "metadata": {},
   "outputs": [],
   "source": [
    "from statsmodels.tsa.seasonal import seasonal_decompose\n",
    "result = seasonal_decompose(df['Beta'],model='additive',period=1)"
   ]
  },
  {
   "cell_type": "code",
   "execution_count": 9,
   "id": "3e2e6d4d-a69b-42d7-9f2a-4d7fd64a66b2",
   "metadata": {},
   "outputs": [
    {
     "data": {
      "image/png": "[encoded data removed]",
      "text/plain": [
       "<Figure size 432x288 with 4 Axes>"
      ]
     },
     "metadata": {
      "needs_background": "light"
     },
     "output_type": "display_data"
    }
   ],
   "source": [
    "result.plot()\n",
    "plt.show()"
   ]
  },
  {
   "cell_type": "code",
   "execution_count": 51,
   "id": "52bc5331-5da4-4d66-ac01-ca690a90ddcf",
   "metadata": {
    "collapsed": true,
    "jupyter": {
     "outputs_hidden": true
    },
    "tags": []
   },
   "outputs": [
    {
     "data": {
      "text/plain": [
       "1997-10-01 00:00:00     7.641340\n",
       "1997-10-01 00:10:00     9.149856\n",
       "1997-10-01 00:20:00    11.924199\n",
       "1997-10-01 00:30:00    16.032987\n",
       "1997-10-01 00:40:00    10.253789\n",
       "                         ...    \n",
       "2007-12-31 23:10:00     1.304273\n",
       "2007-12-31 23:20:00     0.982693\n",
       "2007-12-31 23:30:00     0.989657\n",
       "2007-12-31 23:40:00     0.958408\n",
       "2007-12-31 23:50:00     0.912270\n",
       "Name: trend, Length: 509834, dtype: float64"
      ]
     },
     "execution_count": 51,
     "metadata": {},
     "output_type": "execute_result"
    }
   ],
   "source": [
    "result.trend"
   ]
  },
  {
   "cell_type": "markdown",
   "id": "9e2fbb9d-08b4-4efa-be28-17f9be03e912",
   "metadata": {},
   "source": [
    "### diff features\n",
    "This is the easiest method and involves calculating the difference between consecutive elements. It stabilizes the mean and reduces the impact of trends and seasonal behavior, leaving the model free to focus on predicting one point after another.\n",
    "\n",
    "Click here for more informations : https://h2o.ai/blog/an-introduction-to-time-series-modeling-time-series-preprocessing-and-feature-engineering/"
   ]
  },
  {
   "cell_type": "code",
   "execution_count": 7,
   "id": "0dc45636-40be-4cc8-b31a-ec56f9a39d2b",
   "metadata": {},
   "outputs": [],
   "source": [
    "df['Beta_diff'] = df['Beta'].diff(periods=144)\n",
    "df['RmsBob_diff'] = df['RmsBob'].diff(periods=144)\n",
    "df['Range F 1_diff'] = df['Range F 1'].diff(periods=144)\n",
    "df['Range F 4_diff'] = df['Range F 4'].diff(periods=144)\n",
    "df['Range F 13_diff'] = df['Range F 13'].diff(periods=144)\n",
    "\n",
    "df['Beta_diff_1'] = df['Beta'].diff(periods=1)\n",
    "df['RmsBob_diff_1'] = df['RmsBob'].diff(periods=1)\n",
    "df['Range F 1_diff_1'] = df['Range F 1'].diff(periods=1)\n",
    "df['Range F 4_diff_1'] = df['Range F 4'].diff(periods=1)\n",
    "df['Range F 13_diff_1'] = df['Range F 13'].diff(periods=1)"
   ]
  },
  {
   "cell_type": "markdown",
   "id": "21f1efa1-b0d0-40aa-8348-ec47366f48ab",
   "metadata": {},
   "source": [
    "### shift features"
   ]
  },
  {
   "cell_type": "code",
   "execution_count": 8,
   "id": "10943481-df66-44e8-907e-6091b9135280",
   "metadata": {},
   "outputs": [],
   "source": [
    "df['Beta_d-1'] = df['Beta'].shift(144)\n",
    "df['Pdyn_d-1'] = df['Pdyn'].shift(144)\n",
    "df['Vx_d-1'] = df['Vx'].shift(144)\n",
    "\n",
    "df['Beta_t-1'] = df['Beta'].shift(1)\n",
    "df['RmsBob_t-1'] = df['RmsBob'].shift(1)\n",
    "df['Vx_t-1'] = df['Vx'].shift(1)\n",
    "\n",
    "df['Vx_m-1'] = df['Vx'].shift(144*30)"
   ]
  },
  {
   "cell_type": "markdown",
   "id": "643c1a2b-6940-44d3-a2c7-80c0ccf9d6d8",
   "metadata": {},
   "source": [
    "### freq_fourier features"
   ]
  },
  {
   "cell_type": "code",
   "execution_count": 9,
   "id": "2c7725e1-7bb5-4154-b2a6-94380717e738",
   "metadata": {
    "tags": []
   },
   "outputs": [],
   "source": [
    "# Obtain the frequencies\n",
    "df['freq_fourier'] = np.fft.fftfreq(df.shape[0])"
   ]
  },
  {
   "cell_type": "markdown",
   "id": "44cef444-34ab-44c4-9e1f-493ae5d0d83f",
   "metadata": {},
   "source": [
    "### rolling_windows features"
   ]
  },
  {
   "cell_type": "code",
   "execution_count": 10,
   "id": "a0f90400-b1c2-4eb3-b650-fa615f123773",
   "metadata": {},
   "outputs": [],
   "source": [
    "df['Beta_rw2h_mean'] = df['Beta'].rolling('2h', center=False).mean().ffill().bfill().astype(df['Beta'].dtype)\n",
    "df['Beta_rw1h_mean'] = df['Beta'].rolling('1h', center=False).mean().ffill().bfill().astype(df['Beta'].dtype)\n",
    "df['Beta_rw12h_mean'] = df['Beta'].rolling('12h', center=False).mean().ffill().bfill().astype(df['Beta'].dtype)\n",
    "df['Beta_rw1h_std'] = df['Beta'].rolling('1h', center=False).std().ffill().bfill().astype(df['Beta'].dtype)\n",
    "df['Beta_rw2h_std'] = df['Beta'].rolling('2h', center=False).std().ffill().bfill().astype(df['Beta'].dtype)\n",
    "df['Beta_rw24h_mean'] = df['Beta'].rolling('24h', center=False).mean().ffill().bfill().astype(df['Beta'].dtype)\n",
    "\n",
    "\n",
    "\n",
    "df['RmsBob_rw12h_mean'] = df['RmsBob'].rolling('12h', center=False).mean().ffill().bfill().astype(df['RmsBob'].dtype)\n",
    "df['RmsBob_rw2h_mean'] = df['RmsBob'].rolling('2h', center=False).mean().ffill().bfill().astype(df['RmsBob'].dtype)\n",
    "df['RmsBob_rw24h_mean'] = df['RmsBob'].rolling('24h', center=False).mean().ffill().bfill().astype(df['RmsBob'].dtype)\n",
    "df['RmsBob_rw12h_std'] = df['RmsBob'].rolling('12h', center=False).std().ffill().bfill().astype(df['RmsBob'].dtype)\n",
    "df['RmsBob_rw1h_mean'] = df['RmsBob'].rolling('1h', center=False).mean().ffill().bfill().astype(df['RmsBob'].dtype)\n",
    "\n",
    "df['B_rw24h_mean'] = df['B'].rolling('24h', center=False).mean().ffill().bfill().astype(df['B'].dtype)\n",
    "df['B_rw24h_std'] = df['B'].rolling('24h', center=False).std().ffill().bfill().astype(df['B'].dtype)\n",
    "df['B_rw12h_mean'] = df['B'].rolling('12h', center=False).mean().ffill().bfill().astype(df['B'].dtype)\n",
    "\n",
    "df['Range F 7_rw1w_std'] = df['Range F 7'].rolling('168h', center=False).std().ffill().bfill().astype(df['Range F 7'].dtype)\n",
    "df['Range F 7_rw24h_std'] = df['Range F 7'].rolling('24h', center=False).std().ffill().bfill().astype(df['Range F 7'].dtype)\n"
   ]
  },
  {
   "cell_type": "markdown",
   "id": "122ef2f9-5c80-4e3f-9905-04e336e9a34c",
   "metadata": {},
   "source": [
    "### time features"
   ]
  },
  {
   "cell_type": "code",
   "execution_count": 11,
   "id": "92ba15b8-577c-47c1-bc79-dface9ee18b0",
   "metadata": {},
   "outputs": [],
   "source": [
    "df['hour'] = df.index.hour\n",
    "df['dayofyear'] = df.index.day_of_year\n",
    "df['month'] = df.index.month\n",
    "df['year'] = df.index.year\n",
    "df['week'] = df.index.week\n",
    "df['dayofweek'] = df.index.dayofweek"
   ]
  },
  {
   "cell_type": "markdown",
   "id": "aaecc419-6fed-4868-a13d-0c6f4a1a3ad4",
   "metadata": {},
   "source": [
    "## Final dataset"
   ]
  },
  {
   "cell_type": "code",
   "execution_count": 15,
   "id": "69bc18b3-2df1-418e-9629-0b32cdfa7eeb",
   "metadata": {},
   "outputs": [],
   "source": [
    "final_cols = ['Beta_rw2h_mean', 'Beta','Beta_rw1h_mean','Beta_rw12h_mean','RmsBob_rw12h_mean','Beta_rw1h_std','RmsBob_rw2h_mean'\n",
    "              ,'Beta_rw2h_std','B_rw24h_mean','B_rw24h_std','B_rw12h_mean','RmsBob_rw24h_mean','Vx','Range F 7_rw1w_std',\n",
    "              'Beta_rw24h_mean','RmsBob_rw12h_std','RmsBob_rw1h_mean','Range F 7_rw24h_std','Range F 4','Beta_t-1',\n",
    "              'RmsBob_t-1','Pdyn_d-1','Pdyn','Vx_d-1','Vx_t-1','Vx_m-1','Range F 4_diff','Range F 1_diff','Beta_diff',\n",
    "              'Range F 13_diff','RmsBob_diff','Beta_d-1','Range F 1','Range F 9','Vth','Vy','V','dayofyear','week','year',\n",
    "              'dayofweek','month','hour','freq_fourier','target']"
   ]
  },
  {
   "cell_type": "code",
   "execution_count": 35,
   "id": "83334f3d-adbe-4bfe-90fd-272ee4a8fd18",
   "metadata": {},
   "outputs": [],
   "source": [
    "final_df = df.copy()\n",
    "final_df = final_df[final_cols]"
   ]
  },
  {
   "cell_type": "code",
   "execution_count": null,
   "id": "15d62851-6f57-4c61-a4f8-ba8622b1d0e2",
   "metadata": {},
   "outputs": [],
   "source": []
  },
  {
   "cell_type": "code",
   "execution_count": 7,
   "id": "7849b92c-ef86-4050-b616-76676a522de1",
   "metadata": {},
   "outputs": [],
   "source": [
    "from sklearn.model_selection import TimeSeriesSplit\n",
    "from sklearn.linear_model import LogisticRegression\n",
    "from sklearn.metrics import accuracy_score\n",
    "from sklearn.metrics import log_loss, classification_report\n",
    "from sklearn.metrics import balanced_accuracy_score\n",
    "from sklearn.ensemble import RandomForestClassifier\n",
    "from tqdm import tqdm\n",
    "from sklearn.preprocessing import StandardScaler\n",
    "from sklearn.pipeline import make_pipeline\n",
    "from sklearn.ensemble import HistGradientBoostingClassifier\n",
    "\n",
    "from sklearn.cluster import KMeans\n",
    "from sklearn.ensemble import RandomForestClassifier\n",
    "from sklearn.metrics import accuracy_score\n",
    "from sklearn.model_selection import train_test_split\n",
    "import numpy as np\n",
    "\n",
    "\n",
    "# Séparer les données en X et y\n",
    "X = df.drop(columns=['target'], axis=1).fillna(0)\n",
    "y = df['target']\n",
    "#X2 = X.fillna(0)\n",
    "# Perform clustering to create balanced subsets\n",
    "kmeans = KMeans(n_clusters=2, max_iter = 20)\n",
    "#cluster_labels = kmeans.fit_predict(X)"
   ]
  },
  {
   "cell_type": "code",
   "execution_count": null,
   "id": "9e8cb942-572b-41c1-b504-17382549586f",
   "metadata": {},
   "outputs": [],
   "source": [
    "kmeans.fit(X)"
   ]
  },
  {
   "cell_type": "code",
   "execution_count": null,
   "id": "403a8c10-d9b6-4bf4-9172-1b771702c2af",
   "metadata": {},
   "outputs": [],
   "source": [
    "# Train base classifiers on each balanced subset\n",
    "base_classifiers = []\n",
    "for i in range(10):\n",
    "    X_cluster = X[cluster_labels == i]\n",
    "    y_cluster = y[cluster_labels == i]\n",
    "    X_train, X_test, y_train, y_test = train_test_split(X_cluster, y_cluster, test_size=0.3)\n",
    "    clf = LogisticRegression()\n",
    "    model = make_pipeline(StandardScaler(), clf)\n",
    "    model.fit(X_train, y_train)\n",
    "    y_pred = clf.predict(X_test)\n",
    "    print('Accuracy of base classifier {}: {}'.format(i, accuracy_score(y_test, y_pred)))\n",
    "    base_classifiers.append(clf)\n",
    "\n",
    "# Implement self-paced learning to select a subset of base classifiers\n",
    "selected_classifiers = []\n",
    "X_train, X_test, y_train, y_test = train_test_split(X, y, test_size=0.3)\n",
    "while len(selected_classifiers) < 5:\n",
    "    scores = []\n",
    "    for clf in base_classifiers:\n",
    "        y_pred = clf.predict(X_test)\n",
    "        scores.append(accuracy_score(y_test, y_pred))\n",
    "    scores = np.array(scores)\n",
    "    indices = np.argsort(scores)[::-1]\n",
    "    selected_indices = indices[:len(selected_classifiers)+1]\n",
    "    selected_classifiers = [base_classifiers[i] for i in selected_indices]\n",
    "\n",
    "# Combine selected base classifiers into an ensemble classifier\n",
    "def ensemble_predict(X):\n",
    "    y_preds = []\n",
    "    for clf in selected_classifiers:\n",
    "        y_pred = clf.predict(X)\n",
    "        y_preds.append(y_pred)\n",
    "    y_preds = np.array(y_preds)\n",
    "    y_ensemble = np.mean(y_preds, axis=0)\n",
    "    return y_ensemble\n",
    "\n",
    "y_pred = ensemble_predict(X_test)\n",
    "print('Accuracy of ensemble classifier: {}'.format(accuracy_score(y_test, y_pred)))\n"
   ]
  },
  {
   "cell_type": "code",
   "execution_count": 21,
   "id": "902a0fe6-97f0-46c5-8a07-bd51ba04a8b3",
   "metadata": {},
   "outputs": [
    {
     "name": "stderr",
     "output_type": "stream",
     "text": [
      "0it [00:00, ?it/s]"
     ]
    },
    {
     "name": "stdout",
     "output_type": "stream",
     "text": [
      "0.8733229769806524\n"
     ]
    },
    {
     "name": "stderr",
     "output_type": "stream",
     "text": [
      "1it [01:20, 80.84s/it]"
     ]
    },
    {
     "name": "stdout",
     "output_type": "stream",
     "text": [
      "0.29671628453108295\n",
      "              precision    recall  f1-score   support\n",
      "\n",
      "           0       0.87      0.99      0.93     71206\n",
      "           1       0.86      0.26      0.40     13766\n",
      "\n",
      "    accuracy                           0.87     84972\n",
      "   macro avg       0.87      0.63      0.66     84972\n",
      "weighted avg       0.87      0.87      0.84     84972\n",
      "\n",
      "The balanced accuracy of the default model is 0.626\n",
      "0.8776067410441086\n"
     ]
    },
    {
     "name": "stderr",
     "output_type": "stream",
     "text": [
      "2it [04:23, 140.99s/it]"
     ]
    },
    {
     "name": "stdout",
     "output_type": "stream",
     "text": [
      "0.2995228620581445\n",
      "              precision    recall  f1-score   support\n",
      "\n",
      "           0       0.90      0.95      0.93     69883\n",
      "           1       0.71      0.53      0.61     15089\n",
      "\n",
      "    accuracy                           0.88     84972\n",
      "   macro avg       0.80      0.74      0.77     84972\n",
      "weighted avg       0.87      0.88      0.87     84972\n",
      "\n",
      "The balanced accuracy of the default model is 0.743\n",
      "0.939109353669444\n"
     ]
    },
    {
     "name": "stderr",
     "output_type": "stream",
     "text": [
      "3it [09:05, 205.06s/it]"
     ]
    },
    {
     "name": "stdout",
     "output_type": "stream",
     "text": [
      "0.16962868825282768\n",
      "              precision    recall  f1-score   support\n",
      "\n",
      "           0       0.95      0.99      0.97     77546\n",
      "           1       0.78      0.42      0.55      7426\n",
      "\n",
      "    accuracy                           0.94     84972\n",
      "   macro avg       0.87      0.70      0.76     84972\n",
      "weighted avg       0.93      0.94      0.93     84972\n",
      "\n",
      "The balanced accuracy of the default model is 0.704\n",
      "0.9549380972555666\n"
     ]
    },
    {
     "name": "stderr",
     "output_type": "stream",
     "text": [
      "4it [15:25, 274.18s/it]"
     ]
    },
    {
     "name": "stdout",
     "output_type": "stream",
     "text": [
      "0.1347021609671843\n",
      "              precision    recall  f1-score   support\n",
      "\n",
      "           0       0.97      0.98      0.98     77756\n",
      "           1       0.79      0.63      0.70      7216\n",
      "\n",
      "    accuracy                           0.95     84972\n",
      "   macro avg       0.88      0.81      0.84     84972\n",
      "weighted avg       0.95      0.95      0.95     84972\n",
      "\n",
      "The balanced accuracy of the default model is 0.809\n",
      "0.9738149037329944\n"
     ]
    },
    {
     "name": "stderr",
     "output_type": "stream",
     "text": [
      "5it [23:40, 284.07s/it]"
     ]
    },
    {
     "name": "stdout",
     "output_type": "stream",
     "text": [
      "0.08344491022864237\n",
      "              precision    recall  f1-score   support\n",
      "\n",
      "           0       0.98      1.00      0.99     81981\n",
      "           1       0.81      0.34      0.47      2991\n",
      "\n",
      "    accuracy                           0.97     84972\n",
      "   macro avg       0.89      0.67      0.73     84972\n",
      "weighted avg       0.97      0.97      0.97     84972\n",
      "\n",
      "The balanced accuracy of the default model is 0.667\n"
     ]
    },
    {
     "name": "stderr",
     "output_type": "stream",
     "text": [
      "\n"
     ]
    }
   ],
   "source": [
    "from sklearn.model_selection import TimeSeriesSplit\n",
    "from sklearn.linear_model import LogisticRegression\n",
    "from sklearn.metrics import accuracy_score\n",
    "from sklearn.metrics import log_loss, classification_report\n",
    "from sklearn.metrics import balanced_accuracy_score\n",
    "from sklearn.ensemble import RandomForestClassifier\n",
    "from tqdm import tqdm\n",
    "from sklearn.preprocessing import StandardScaler\n",
    "from sklearn.pipeline import make_pipeline\n",
    "\n",
    "\n",
    "# Séparer les données en X et y\n",
    "X = final_df.drop(columns=['target'], axis=1)\n",
    "y = final_df['target']\n",
    "X2 = X.fillna(0)\n",
    "\n",
    "# Créer un objet TimeSeriesSplit\n",
    "tscv = TimeSeriesSplit(n_splits=5)\n",
    "\n",
    "# Boucle sur les plis\n",
    "for train_index, test_index in tqdm(tscv.split(X2)):\n",
    "    X_train, X_test = X2.iloc[train_index], X2.iloc[test_index]\n",
    "    y_train, y_test = y.iloc[train_index], y.iloc[test_index]\n",
    "    \n",
    "    #class_weights = dict(zip(np.unique(y_train), class_weight.compute_class_weight(class_weight='balanced', classes=np.unique(data_train['target']), y=data_train['target'])))\n",
    "    \n",
    "    # Entrainer un modèle sur le jeu d'entraînement\n",
    "    classifier = RandomForestClassifier(max_depth=100, random_state=42)#LogisticRegression()\n",
    "    model = make_pipeline(StandardScaler(), classifier)\n",
    "\n",
    "    #model.set_params(class_weight='balanced_subsample')\n",
    "    \n",
    "    model.fit(X_train, y_train)#, sample_weight=0.3)\n",
    "\n",
    "    # Prédire sur le jeu de test\n",
    "    y_pred = model.predict(X_test)\n",
    "\n",
    "    # Afficher la précision\n",
    "    print(accuracy_score(y_test, y_pred))\n",
    "    print(log_loss(y_test, model.predict_proba(X_test)))\n",
    "    print(classification_report(y_test, y_pred))\n",
    "    print(f\"The balanced accuracy of the default model is \"\n",
    "          f\"{balanced_accuracy_score(y_test, y_pred):.3f}\")"
   ]
  },
  {
   "cell_type": "code",
   "execution_count": 22,
   "id": "4cb7f599-bbf9-42d0-a9cf-53f321f7d488",
   "metadata": {},
   "outputs": [],
   "source": [
    "def rf_features_importance(model, cols):\n",
    "    '''\n",
    "    Plot feature_importance from a random forest model\n",
    "\n",
    "    Input:\n",
    "    model (MODEL_TYPE) : Model for which to compute the feature importance\n",
    "    cols (list) : input DataFrame with true labels\n",
    "\n",
    "    Output:\n",
    "    None\n",
    "    '''\n",
    "    # get feature importance from model\n",
    "    importances = model.feature_importances_\n",
    "    forest_importances = pd.Series(importances, index=cols).sort_values(ascending=False)\n",
    "    # plot results\n",
    "    fig, ax = plt.subplots(figsize=(12, 5))\n",
    "    forest_importances.plot.bar(ax=ax)\n",
    "    ax.set_title(\"Feature importances\")\n",
    "    fig.tight_layout()"
   ]
  },
  {
   "cell_type": "code",
   "execution_count": 23,
   "id": "e726c16e-0e26-4e0a-b8ff-a5e2c153d554",
   "metadata": {},
   "outputs": [
    {
     "data": {
      "image/png": "[encoded data removed]",
      "text/plain": [
       "<Figure size 864x360 with 1 Axes>"
      ]
     },
     "metadata": {
      "needs_background": "light"
     },
     "output_type": "display_data"
    }
   ],
   "source": [
    "rf_features_importance(classifier, cols=X_train.columns)"
   ]
  },
  {
   "cell_type": "code",
   "execution_count": 27,
   "id": "625eaea2-d0f9-485d-8772-36cc2dfa81f2",
   "metadata": {},
   "outputs": [],
   "source": [
    "cols_to_drop = ['target','month','year','Vy','dayofweek', 'Beta_d-1','Range F 4_diff','Range F 13_diff','Range F 1_diff', 'Range F 1','hour','Beta_diff','RmsBob_diff']"
   ]
  },
  {
   "cell_type": "code",
   "execution_count": 29,
   "id": "3958be03-5af0-453f-82f4-208d40e69cbd",
   "metadata": {},
   "outputs": [
    {
     "name": "stdout",
     "output_type": "stream",
     "text": [
      "0.856011391987949\n",
      "0.5005842652418828\n",
      "              precision    recall  f1-score   support\n",
      "\n",
      "           0       0.86      1.00      0.92     71206\n",
      "           1       0.88      0.13      0.22     13766\n",
      "\n",
      "    accuracy                           0.86     84972\n",
      "   macro avg       0.87      0.56      0.57     84972\n",
      "weighted avg       0.86      0.86      0.81     84972\n",
      "\n",
      "The balanced accuracy of the default model is 0.563\n",
      "0.8728640022595678\n",
      "0.346519265350287\n",
      "              precision    recall  f1-score   support\n",
      "\n",
      "           0       0.89      0.97      0.93     69883\n",
      "           1       0.75      0.43      0.54     15089\n",
      "\n",
      "    accuracy                           0.87     84972\n",
      "   macro avg       0.82      0.70      0.73     84972\n",
      "weighted avg       0.86      0.87      0.86     84972\n",
      "\n",
      "The balanced accuracy of the default model is 0.698\n",
      "0.9381560984794991\n",
      "0.15567391748548448\n",
      "              precision    recall  f1-score   support\n",
      "\n",
      "           0       0.95      0.98      0.97     77546\n",
      "           1       0.72      0.48      0.57      7426\n",
      "\n",
      "    accuracy                           0.94     84972\n",
      "   macro avg       0.84      0.73      0.77     84972\n",
      "weighted avg       0.93      0.94      0.93     84972\n",
      "\n",
      "The balanced accuracy of the default model is 0.730\n",
      "0.9557501294544085\n",
      "0.11605465378887939\n",
      "              precision    recall  f1-score   support\n",
      "\n",
      "           0       0.97      0.98      0.98     77756\n",
      "           1       0.76      0.70      0.73      7216\n",
      "\n",
      "    accuracy                           0.96     84972\n",
      "   macro avg       0.87      0.84      0.85     84972\n",
      "weighted avg       0.95      0.96      0.95     84972\n",
      "\n",
      "The balanced accuracy of the default model is 0.840\n",
      "0.9736736807418914\n",
      "0.06772814792453402\n",
      "              precision    recall  f1-score   support\n",
      "\n",
      "           0       0.98      1.00      0.99     81981\n",
      "           1       0.74      0.39      0.51      2991\n",
      "\n",
      "    accuracy                           0.97     84972\n",
      "   macro avg       0.86      0.69      0.75     84972\n",
      "weighted avg       0.97      0.97      0.97     84972\n",
      "\n",
      "The balanced accuracy of the default model is 0.691\n"
     ]
    }
   ],
   "source": [
    "from sklearn.model_selection import TimeSeriesSplit\n",
    "from sklearn.linear_model import LogisticRegression\n",
    "from sklearn.metrics import accuracy_score\n",
    "from sklearn.metrics import log_loss, classification_report\n",
    "from sklearn.metrics import balanced_accuracy_score\n",
    "from sklearn.ensemble import RandomForestClassifier\n",
    "from sklearn.pipeline import make_pipeline\n",
    "from sklearn.preprocessing import StandardScaler\n",
    "from sklearn.ensemble import HistGradientBoostingClassifier\n",
    "\n",
    "X = final_df.drop(columns=cols_to_drop, axis=1)\n",
    "y = final_df['target']\n",
    "X2 = X.fillna(0)\n",
    "# Créer un objet TimeSeriesSplit\n",
    "tscv = TimeSeriesSplit(n_splits=5)\n",
    "\n",
    "# Boucle sur les plis\n",
    "for train_index, test_index in tscv.split(X2):\n",
    "    X_train, X_test = X2.iloc[train_index], X2.iloc[test_index]\n",
    "    y_train, y_test = y.iloc[train_index], y.iloc[test_index]\n",
    "    \n",
    "    #class_weights = dict(zip(np.unique(y_train), class_weight.compute_class_weight(class_weight='balanced', classes=np.unique(data_train['target']), y=data_train['target'])))\n",
    "    \n",
    "    # Entrainer un modèle sur le jeu d'entraînement\n",
    "    \n",
    "    classifier = HistGradientBoostingClassifier()\n",
    "    model =make_pipeline(StandardScaler(), classifier)\n",
    "    \n",
    "    #model.set_params(class_weight='balanced_subsample')\n",
    "    \n",
    "    model.fit(X_train, y_train)#, sample_weight=0.3)\n",
    "\n",
    "    # Prédire sur le jeu de test\n",
    "    y_pred = model.predict(X_test)\n",
    "\n",
    "    # Afficher la précision\n",
    "    print(accuracy_score(y_test, y_pred))\n",
    "    print(log_loss(y_test, model.predict_proba(X_test)))\n",
    "    print(classification_report(y_test, y_pred))\n",
    "    print(f\"The balanced accuracy of the default model is \"\n",
    "          f\"{balanced_accuracy_score(y_test, y_pred):.3f}\")"
   ]
  },
  {
   "cell_type": "code",
   "execution_count": 24,
   "id": "53a372af-04e0-4900-8304-8865f67f04d1",
   "metadata": {},
   "outputs": [
    {
     "name": "stdout",
     "output_type": "stream",
     "text": [
      "0.86315492162124\n",
      "0.4739507230865418\n",
      "              precision    recall  f1-score   support\n",
      "\n",
      "           0       0.86      1.00      0.92     71206\n",
      "           1       0.89      0.18      0.30     13766\n",
      "\n",
      "    accuracy                           0.86     84972\n",
      "   macro avg       0.87      0.59      0.61     84972\n",
      "weighted avg       0.87      0.86      0.82     84972\n",
      "\n",
      "The balanced accuracy of the default model is 0.587\n",
      "0.8740290919361672\n",
      "0.35033824763322435\n",
      "              precision    recall  f1-score   support\n",
      "\n",
      "           0       0.88      0.98      0.93     69883\n",
      "           1       0.80      0.39      0.52     15089\n",
      "\n",
      "    accuracy                           0.87     84972\n",
      "   macro avg       0.84      0.68      0.73     84972\n",
      "weighted avg       0.87      0.87      0.86     84972\n",
      "\n",
      "The balanced accuracy of the default model is 0.684\n",
      "0.938991667843525\n",
      "0.15366550553607206\n",
      "              precision    recall  f1-score   support\n",
      "\n",
      "           0       0.95      0.98      0.97     77546\n",
      "           1       0.71      0.52      0.60      7426\n",
      "\n",
      "    accuracy                           0.94     84972\n",
      "   macro avg       0.83      0.75      0.78     84972\n",
      "weighted avg       0.93      0.94      0.93     84972\n",
      "\n",
      "The balanced accuracy of the default model is 0.747\n",
      "0.9550440144988938\n",
      "0.11509460273155088\n",
      "              precision    recall  f1-score   support\n",
      "\n",
      "           0       0.97      0.98      0.98     77756\n",
      "           1       0.75      0.70      0.72      7216\n",
      "\n",
      "    accuracy                           0.96     84972\n",
      "   macro avg       0.86      0.84      0.85     84972\n",
      "weighted avg       0.95      0.96      0.95     84972\n",
      "\n",
      "The balanced accuracy of the default model is 0.838\n",
      "0.971319964223509\n",
      "0.07755542635100507\n",
      "              precision    recall  f1-score   support\n",
      "\n",
      "           0       0.97      1.00      0.99     81981\n",
      "           1       0.90      0.21      0.34      2991\n",
      "\n",
      "    accuracy                           0.97     84972\n",
      "   macro avg       0.94      0.60      0.66     84972\n",
      "weighted avg       0.97      0.97      0.96     84972\n",
      "\n",
      "The balanced accuracy of the default model is 0.603\n"
     ]
    }
   ],
   "source": [
    "from sklearn.model_selection import TimeSeriesSplit\n",
    "from sklearn.linear_model import LogisticRegression\n",
    "from sklearn.metrics import accuracy_score\n",
    "from sklearn.metrics import log_loss, classification_report\n",
    "from sklearn.metrics import balanced_accuracy_score\n",
    "from sklearn.ensemble import RandomForestClassifier\n",
    "from sklearn.pipeline import make_pipeline\n",
    "from sklearn.preprocessing import StandardScaler\n",
    "from sklearn.ensemble import HistGradientBoostingClassifier\n",
    "\n",
    "X = final_df.drop(columns=cols_to_drop, axis=1)\n",
    "y = final_df['target']\n",
    "X2 = X.fillna(0)\n",
    "# Créer un objet TimeSeriesSplit\n",
    "tscv = TimeSeriesSplit(n_splits=5)\n",
    "\n",
    "# Boucle sur les plis\n",
    "for train_index, test_index in tscv.split(X2):\n",
    "    X_train, X_test = X2.iloc[train_index], X2.iloc[test_index]\n",
    "    y_train, y_test = y.iloc[train_index], y.iloc[test_index]\n",
    "    \n",
    "    #class_weights = dict(zip(np.unique(y_train), class_weight.compute_class_weight(class_weight='balanced', classes=np.unique(data_train['target']), y=data_train['target'])))\n",
    "    \n",
    "    # Entrainer un modèle sur le jeu d'entraînement\n",
    "    \n",
    "    classifier = HistGradientBoostingClassifier()\n",
    "    model =make_pipeline(StandardScaler(), classifier)\n",
    "    \n",
    "    #model.set_params(class_weight='balanced_subsample')\n",
    "    \n",
    "    model.fit(X_train, y_train)#, sample_weight=0.3)\n",
    "\n",
    "    # Prédire sur le jeu de test\n",
    "    y_pred = model.predict(X_test)\n",
    "\n",
    "    # Afficher la précision\n",
    "    print(accuracy_score(y_test, y_pred))\n",
    "    print(log_loss(y_test, model.predict_proba(X_test)))\n",
    "    print(classification_report(y_test, y_pred))\n",
    "    print(f\"The balanced accuracy of the default model is \"\n",
    "          f\"{balanced_accuracy_score(y_test, y_pred):.3f}\")"
   ]
  },
  {
   "cell_type": "code",
   "execution_count": 32,
   "id": "5598714a-7b0c-4231-9f7b-abeb2fe33927",
   "metadata": {},
   "outputs": [
    {
     "data": {
      "text/plain": [
       "(509834, 34)"
      ]
     },
     "execution_count": 32,
     "metadata": {},
     "output_type": "execute_result"
    }
   ],
   "source": [
    "df = data_train.copy()\n",
    "df['target'] = labels_train\n",
    "df.shape"
   ]
  },
  {
   "cell_type": "code",
   "execution_count": 33,
   "id": "af10eda0-b5b9-42f4-a88c-498ee41158ba",
   "metadata": {},
   "outputs": [
    {
     "name": "stdout",
     "output_type": "stream",
     "text": [
      "0.8851268653203408\n",
      "0.28725729516608145\n",
      "              precision    recall  f1-score   support\n",
      "\n",
      "           0       0.91      0.96      0.93     71206\n",
      "           1       0.70      0.52      0.59     13766\n",
      "\n",
      "    accuracy                           0.89     84972\n",
      "   macro avg       0.80      0.74      0.76     84972\n",
      "weighted avg       0.88      0.89      0.88     84972\n",
      "\n",
      "The balanced accuracy of the default model is 0.736\n",
      "0.8624605752483171\n",
      "0.3438494831791435\n",
      "              precision    recall  f1-score   support\n",
      "\n",
      "           0       0.89      0.95      0.92     69883\n",
      "           1       0.67      0.45      0.54     15089\n",
      "\n",
      "    accuracy                           0.86     84972\n",
      "   macro avg       0.78      0.70      0.73     84972\n",
      "weighted avg       0.85      0.86      0.85     84972\n",
      "\n",
      "The balanced accuracy of the default model is 0.699\n",
      "0.9313773949065575\n",
      "0.18612147209597016\n",
      "              precision    recall  f1-score   support\n",
      "\n",
      "           0       0.94      0.98      0.96     77546\n",
      "           1       0.69      0.39      0.50      7426\n",
      "\n",
      "    accuracy                           0.93     84972\n",
      "   macro avg       0.82      0.69      0.73     84972\n",
      "weighted avg       0.92      0.93      0.92     84972\n",
      "\n",
      "The balanced accuracy of the default model is 0.689\n",
      "0.9471119898319447\n",
      "0.15194905919248516\n",
      "              precision    recall  f1-score   support\n",
      "\n",
      "           0       0.96      0.98      0.97     77756\n",
      "           1       0.73      0.60      0.66      7216\n",
      "\n",
      "    accuracy                           0.95     84972\n",
      "   macro avg       0.85      0.79      0.81     84972\n",
      "weighted avg       0.94      0.95      0.94     84972\n",
      "\n",
      "The balanced accuracy of the default model is 0.788\n",
      "0.9684955044014499\n",
      "0.09509832672808588\n",
      "              precision    recall  f1-score   support\n",
      "\n",
      "           0       0.97      1.00      0.98     81981\n",
      "           1       0.65      0.22      0.33      2991\n",
      "\n",
      "    accuracy                           0.97     84972\n",
      "   macro avg       0.81      0.61      0.66     84972\n",
      "weighted avg       0.96      0.97      0.96     84972\n",
      "\n",
      "The balanced accuracy of the default model is 0.610\n"
     ]
    }
   ],
   "source": [
    "from sklearn.model_selection import TimeSeriesSplit\n",
    "from sklearn.linear_model import LogisticRegression\n",
    "from sklearn.metrics import accuracy_score\n",
    "from sklearn.metrics import log_loss, classification_report\n",
    "from sklearn.metrics import balanced_accuracy_score\n",
    "from sklearn.ensemble import RandomForestClassifier\n",
    "from sklearn.pipeline import make_pipeline\n",
    "from sklearn.preprocessing import StandardScaler\n",
    "from sklearn.ensemble import HistGradientBoostingClassifier\n",
    "\n",
    "X = df.drop(columns=['target'], axis=1)\n",
    "y = df['target']\n",
    "X2 = X.fillna(0)\n",
    "# Créer un objet TimeSeriesSplit\n",
    "tscv = TimeSeriesSplit(n_splits=5)\n",
    "\n",
    "# Boucle sur les plis\n",
    "for train_index, test_index in tscv.split(X2):\n",
    "    X_train, X_test = X2.iloc[train_index], X2.iloc[test_index]\n",
    "    y_train, y_test = y.iloc[train_index], y.iloc[test_index]\n",
    "    \n",
    "    #class_weights = dict(zip(np.unique(y_train), class_weight.compute_class_weight(class_weight='balanced', classes=np.unique(data_train['target']), y=data_train['target'])))\n",
    "    \n",
    "    # Entrainer un modèle sur le jeu d'entraînement\n",
    "    \n",
    "    classifier = HistGradientBoostingClassifier()\n",
    "    model =make_pipeline(StandardScaler(), classifier)\n",
    "    \n",
    "    #model.set_params(class_weight='balanced_subsample')\n",
    "    \n",
    "    model.fit(X_train, y_train)#, sample_weight=0.3)\n",
    "\n",
    "    # Prédire sur le jeu de test\n",
    "    y_pred = model.predict(X_test)\n",
    "\n",
    "    # Afficher la précision\n",
    "    print(accuracy_score(y_test, y_pred))\n",
    "    print(log_loss(y_test, model.predict_proba(X_test)))\n",
    "    print(classification_report(y_test, y_pred))\n",
    "    print(f\"The balanced accuracy of the default model is \"\n",
    "          f\"{balanced_accuracy_score(y_test, y_pred):.3f}\")"
   ]
  },
  {
   "cell_type": "code",
   "execution_count": null,
   "id": "301dce88-4dce-4a1a-acbb-baef8b65c29a",
   "metadata": {},
   "outputs": [],
   "source": []
  },
  {
   "cell_type": "code",
   "execution_count": null,
   "id": "4de75f5d-d360-4dc0-abba-66e9a56b1cb5",
   "metadata": {},
   "outputs": [],
   "source": []
  },
  {
   "cell_type": "code",
   "execution_count": 16,
   "id": "2343b479-f305-409a-8a39-d2dd33ec5237",
   "metadata": {
    "collapsed": true,
    "jupyter": {
     "outputs_hidden": true
    },
    "tags": []
   },
   "outputs": [
    {
     "name": "stdout",
     "output_type": "stream",
     "text": [
      "Fitting 5 folds for each of 80 candidates, totalling 400 fits\n"
     ]
    },
    {
     "ename": "KeyboardInterrupt",
     "evalue": "",
     "output_type": "error",
     "traceback": [
      "\u001b[0;31m---------------------------------------------------------------------------\u001b[0m",
      "\u001b[0;31mKeyboardInterrupt\u001b[0m                         Traceback (most recent call last)",
      "Cell \u001b[0;32mIn[16], line 23\u001b[0m\n\u001b[1;32m     20\u001b[0m tscv \u001b[38;5;241m=\u001b[39m TimeSeriesSplit(n_splits\u001b[38;5;241m=\u001b[39m\u001b[38;5;241m5\u001b[39m)\n\u001b[1;32m     21\u001b[0m gsearch \u001b[38;5;241m=\u001b[39m GridSearchCV(estimator\u001b[38;5;241m=\u001b[39mclassifier, cv\u001b[38;5;241m=\u001b[39mtscv,\n\u001b[1;32m     22\u001b[0m                         param_grid\u001b[38;5;241m=\u001b[39mparam_grid, scoring\u001b[38;5;241m=\u001b[39m[\u001b[38;5;124m'\u001b[39m\u001b[38;5;124mf1\u001b[39m\u001b[38;5;124m'\u001b[39m], refit\u001b[38;5;241m=\u001b[39m\u001b[38;5;28;01mFalse\u001b[39;00m, verbose\u001b[38;5;241m=\u001b[39m\u001b[38;5;241m2\u001b[39m, n_jobs\u001b[38;5;241m=\u001b[39m\u001b[38;5;241m5\u001b[39m)\n\u001b[0;32m---> 23\u001b[0m \u001b[43mgsearch\u001b[49m\u001b[38;5;241;43m.\u001b[39;49m\u001b[43mfit\u001b[49m\u001b[43m(\u001b[49m\u001b[43mX2\u001b[49m\u001b[43m,\u001b[49m\u001b[43m \u001b[49m\u001b[43my\u001b[49m\u001b[43m)\u001b[49m\n",
      "File \u001b[0;32m~/opt/anaconda3/lib/python3.9/site-packages/sklearn/model_selection/_search.py:875\u001b[0m, in \u001b[0;36mBaseSearchCV.fit\u001b[0;34m(self, X, y, groups, **fit_params)\u001b[0m\n\u001b[1;32m    869\u001b[0m     results \u001b[38;5;241m=\u001b[39m \u001b[38;5;28mself\u001b[39m\u001b[38;5;241m.\u001b[39m_format_results(\n\u001b[1;32m    870\u001b[0m         all_candidate_params, n_splits, all_out, all_more_results\n\u001b[1;32m    871\u001b[0m     )\n\u001b[1;32m    873\u001b[0m     \u001b[38;5;28;01mreturn\u001b[39;00m results\n\u001b[0;32m--> 875\u001b[0m \u001b[38;5;28;43mself\u001b[39;49m\u001b[38;5;241;43m.\u001b[39;49m\u001b[43m_run_search\u001b[49m\u001b[43m(\u001b[49m\u001b[43mevaluate_candidates\u001b[49m\u001b[43m)\u001b[49m\n\u001b[1;32m    877\u001b[0m \u001b[38;5;66;03m# multimetric is determined here because in the case of a callable\u001b[39;00m\n\u001b[1;32m    878\u001b[0m \u001b[38;5;66;03m# self.scoring the return type is only known after calling\u001b[39;00m\n\u001b[1;32m    879\u001b[0m first_test_score \u001b[38;5;241m=\u001b[39m all_out[\u001b[38;5;241m0\u001b[39m][\u001b[38;5;124m\"\u001b[39m\u001b[38;5;124mtest_scores\u001b[39m\u001b[38;5;124m\"\u001b[39m]\n",
      "File \u001b[0;32m~/opt/anaconda3/lib/python3.9/site-packages/sklearn/model_selection/_search.py:1389\u001b[0m, in \u001b[0;36mGridSearchCV._run_search\u001b[0;34m(self, evaluate_candidates)\u001b[0m\n\u001b[1;32m   1387\u001b[0m \u001b[38;5;28;01mdef\u001b[39;00m \u001b[38;5;21m_run_search\u001b[39m(\u001b[38;5;28mself\u001b[39m, evaluate_candidates):\n\u001b[1;32m   1388\u001b[0m     \u001b[38;5;124;03m\"\"\"Search all candidates in param_grid\"\"\"\u001b[39;00m\n\u001b[0;32m-> 1389\u001b[0m     \u001b[43mevaluate_candidates\u001b[49m\u001b[43m(\u001b[49m\u001b[43mParameterGrid\u001b[49m\u001b[43m(\u001b[49m\u001b[38;5;28;43mself\u001b[39;49m\u001b[38;5;241;43m.\u001b[39;49m\u001b[43mparam_grid\u001b[49m\u001b[43m)\u001b[49m\u001b[43m)\u001b[49m\n",
      "File \u001b[0;32m~/opt/anaconda3/lib/python3.9/site-packages/sklearn/model_selection/_search.py:822\u001b[0m, in \u001b[0;36mBaseSearchCV.fit.<locals>.evaluate_candidates\u001b[0;34m(candidate_params, cv, more_results)\u001b[0m\n\u001b[1;32m    814\u001b[0m \u001b[38;5;28;01mif\u001b[39;00m \u001b[38;5;28mself\u001b[39m\u001b[38;5;241m.\u001b[39mverbose \u001b[38;5;241m>\u001b[39m \u001b[38;5;241m0\u001b[39m:\n\u001b[1;32m    815\u001b[0m     \u001b[38;5;28mprint\u001b[39m(\n\u001b[1;32m    816\u001b[0m         \u001b[38;5;124m\"\u001b[39m\u001b[38;5;124mFitting \u001b[39m\u001b[38;5;132;01m{0}\u001b[39;00m\u001b[38;5;124m folds for each of \u001b[39m\u001b[38;5;132;01m{1}\u001b[39;00m\u001b[38;5;124m candidates,\u001b[39m\u001b[38;5;124m\"\u001b[39m\n\u001b[1;32m    817\u001b[0m         \u001b[38;5;124m\"\u001b[39m\u001b[38;5;124m totalling \u001b[39m\u001b[38;5;132;01m{2}\u001b[39;00m\u001b[38;5;124m fits\u001b[39m\u001b[38;5;124m\"\u001b[39m\u001b[38;5;241m.\u001b[39mformat(\n\u001b[1;32m    818\u001b[0m             n_splits, n_candidates, n_candidates \u001b[38;5;241m*\u001b[39m n_splits\n\u001b[1;32m    819\u001b[0m         )\n\u001b[1;32m    820\u001b[0m     )\n\u001b[0;32m--> 822\u001b[0m out \u001b[38;5;241m=\u001b[39m \u001b[43mparallel\u001b[49m\u001b[43m(\u001b[49m\n\u001b[1;32m    823\u001b[0m \u001b[43m    \u001b[49m\u001b[43mdelayed\u001b[49m\u001b[43m(\u001b[49m\u001b[43m_fit_and_score\u001b[49m\u001b[43m)\u001b[49m\u001b[43m(\u001b[49m\n\u001b[1;32m    824\u001b[0m \u001b[43m        \u001b[49m\u001b[43mclone\u001b[49m\u001b[43m(\u001b[49m\u001b[43mbase_estimator\u001b[49m\u001b[43m)\u001b[49m\u001b[43m,\u001b[49m\n\u001b[1;32m    825\u001b[0m \u001b[43m        \u001b[49m\u001b[43mX\u001b[49m\u001b[43m,\u001b[49m\n\u001b[1;32m    826\u001b[0m \u001b[43m        \u001b[49m\u001b[43my\u001b[49m\u001b[43m,\u001b[49m\n\u001b[1;32m    827\u001b[0m \u001b[43m        \u001b[49m\u001b[43mtrain\u001b[49m\u001b[38;5;241;43m=\u001b[39;49m\u001b[43mtrain\u001b[49m\u001b[43m,\u001b[49m\n\u001b[1;32m    828\u001b[0m \u001b[43m        \u001b[49m\u001b[43mtest\u001b[49m\u001b[38;5;241;43m=\u001b[39;49m\u001b[43mtest\u001b[49m\u001b[43m,\u001b[49m\n\u001b[1;32m    829\u001b[0m \u001b[43m        \u001b[49m\u001b[43mparameters\u001b[49m\u001b[38;5;241;43m=\u001b[39;49m\u001b[43mparameters\u001b[49m\u001b[43m,\u001b[49m\n\u001b[1;32m    830\u001b[0m \u001b[43m        \u001b[49m\u001b[43msplit_progress\u001b[49m\u001b[38;5;241;43m=\u001b[39;49m\u001b[43m(\u001b[49m\u001b[43msplit_idx\u001b[49m\u001b[43m,\u001b[49m\u001b[43m \u001b[49m\u001b[43mn_splits\u001b[49m\u001b[43m)\u001b[49m\u001b[43m,\u001b[49m\n\u001b[1;32m    831\u001b[0m \u001b[43m        \u001b[49m\u001b[43mcandidate_progress\u001b[49m\u001b[38;5;241;43m=\u001b[39;49m\u001b[43m(\u001b[49m\u001b[43mcand_idx\u001b[49m\u001b[43m,\u001b[49m\u001b[43m \u001b[49m\u001b[43mn_candidates\u001b[49m\u001b[43m)\u001b[49m\u001b[43m,\u001b[49m\n\u001b[1;32m    832\u001b[0m \u001b[43m        \u001b[49m\u001b[38;5;241;43m*\u001b[39;49m\u001b[38;5;241;43m*\u001b[39;49m\u001b[43mfit_and_score_kwargs\u001b[49m\u001b[43m,\u001b[49m\n\u001b[1;32m    833\u001b[0m \u001b[43m    \u001b[49m\u001b[43m)\u001b[49m\n\u001b[1;32m    834\u001b[0m \u001b[43m    \u001b[49m\u001b[38;5;28;43;01mfor\u001b[39;49;00m\u001b[43m \u001b[49m\u001b[43m(\u001b[49m\u001b[43mcand_idx\u001b[49m\u001b[43m,\u001b[49m\u001b[43m \u001b[49m\u001b[43mparameters\u001b[49m\u001b[43m)\u001b[49m\u001b[43m,\u001b[49m\u001b[43m \u001b[49m\u001b[43m(\u001b[49m\u001b[43msplit_idx\u001b[49m\u001b[43m,\u001b[49m\u001b[43m \u001b[49m\u001b[43m(\u001b[49m\u001b[43mtrain\u001b[49m\u001b[43m,\u001b[49m\u001b[43m \u001b[49m\u001b[43mtest\u001b[49m\u001b[43m)\u001b[49m\u001b[43m)\u001b[49m\u001b[43m \u001b[49m\u001b[38;5;129;43;01min\u001b[39;49;00m\u001b[43m \u001b[49m\u001b[43mproduct\u001b[49m\u001b[43m(\u001b[49m\n\u001b[1;32m    835\u001b[0m \u001b[43m        \u001b[49m\u001b[38;5;28;43menumerate\u001b[39;49m\u001b[43m(\u001b[49m\u001b[43mcandidate_params\u001b[49m\u001b[43m)\u001b[49m\u001b[43m,\u001b[49m\u001b[43m \u001b[49m\u001b[38;5;28;43menumerate\u001b[39;49m\u001b[43m(\u001b[49m\u001b[43mcv\u001b[49m\u001b[38;5;241;43m.\u001b[39;49m\u001b[43msplit\u001b[49m\u001b[43m(\u001b[49m\u001b[43mX\u001b[49m\u001b[43m,\u001b[49m\u001b[43m \u001b[49m\u001b[43my\u001b[49m\u001b[43m,\u001b[49m\u001b[43m \u001b[49m\u001b[43mgroups\u001b[49m\u001b[43m)\u001b[49m\u001b[43m)\u001b[49m\n\u001b[1;32m    836\u001b[0m \u001b[43m    \u001b[49m\u001b[43m)\u001b[49m\n\u001b[1;32m    837\u001b[0m \u001b[43m\u001b[49m\u001b[43m)\u001b[49m\n\u001b[1;32m    839\u001b[0m \u001b[38;5;28;01mif\u001b[39;00m \u001b[38;5;28mlen\u001b[39m(out) \u001b[38;5;241m<\u001b[39m \u001b[38;5;241m1\u001b[39m:\n\u001b[1;32m    840\u001b[0m     \u001b[38;5;28;01mraise\u001b[39;00m \u001b[38;5;167;01mValueError\u001b[39;00m(\n\u001b[1;32m    841\u001b[0m         \u001b[38;5;124m\"\u001b[39m\u001b[38;5;124mNo fits were performed. \u001b[39m\u001b[38;5;124m\"\u001b[39m\n\u001b[1;32m    842\u001b[0m         \u001b[38;5;124m\"\u001b[39m\u001b[38;5;124mWas the CV iterator empty? \u001b[39m\u001b[38;5;124m\"\u001b[39m\n\u001b[1;32m    843\u001b[0m         \u001b[38;5;124m\"\u001b[39m\u001b[38;5;124mWere there no candidates?\u001b[39m\u001b[38;5;124m\"\u001b[39m\n\u001b[1;32m    844\u001b[0m     )\n",
      "File \u001b[0;32m~/opt/anaconda3/lib/python3.9/site-packages/joblib/parallel.py:1098\u001b[0m, in \u001b[0;36mParallel.__call__\u001b[0;34m(self, iterable)\u001b[0m\n\u001b[1;32m   1095\u001b[0m     \u001b[38;5;28mself\u001b[39m\u001b[38;5;241m.\u001b[39m_iterating \u001b[38;5;241m=\u001b[39m \u001b[38;5;28;01mFalse\u001b[39;00m\n\u001b[1;32m   1097\u001b[0m \u001b[38;5;28;01mwith\u001b[39;00m \u001b[38;5;28mself\u001b[39m\u001b[38;5;241m.\u001b[39m_backend\u001b[38;5;241m.\u001b[39mretrieval_context():\n\u001b[0;32m-> 1098\u001b[0m     \u001b[38;5;28;43mself\u001b[39;49m\u001b[38;5;241;43m.\u001b[39;49m\u001b[43mretrieve\u001b[49m\u001b[43m(\u001b[49m\u001b[43m)\u001b[49m\n\u001b[1;32m   1099\u001b[0m \u001b[38;5;66;03m# Make sure that we get a last message telling us we are done\u001b[39;00m\n\u001b[1;32m   1100\u001b[0m elapsed_time \u001b[38;5;241m=\u001b[39m time\u001b[38;5;241m.\u001b[39mtime() \u001b[38;5;241m-\u001b[39m \u001b[38;5;28mself\u001b[39m\u001b[38;5;241m.\u001b[39m_start_time\n",
      "File \u001b[0;32m~/opt/anaconda3/lib/python3.9/site-packages/joblib/parallel.py:975\u001b[0m, in \u001b[0;36mParallel.retrieve\u001b[0;34m(self)\u001b[0m\n\u001b[1;32m    973\u001b[0m \u001b[38;5;28;01mtry\u001b[39;00m:\n\u001b[1;32m    974\u001b[0m     \u001b[38;5;28;01mif\u001b[39;00m \u001b[38;5;28mgetattr\u001b[39m(\u001b[38;5;28mself\u001b[39m\u001b[38;5;241m.\u001b[39m_backend, \u001b[38;5;124m'\u001b[39m\u001b[38;5;124msupports_timeout\u001b[39m\u001b[38;5;124m'\u001b[39m, \u001b[38;5;28;01mFalse\u001b[39;00m):\n\u001b[0;32m--> 975\u001b[0m         \u001b[38;5;28mself\u001b[39m\u001b[38;5;241m.\u001b[39m_output\u001b[38;5;241m.\u001b[39mextend(\u001b[43mjob\u001b[49m\u001b[38;5;241;43m.\u001b[39;49m\u001b[43mget\u001b[49m\u001b[43m(\u001b[49m\u001b[43mtimeout\u001b[49m\u001b[38;5;241;43m=\u001b[39;49m\u001b[38;5;28;43mself\u001b[39;49m\u001b[38;5;241;43m.\u001b[39;49m\u001b[43mtimeout\u001b[49m\u001b[43m)\u001b[49m)\n\u001b[1;32m    976\u001b[0m     \u001b[38;5;28;01melse\u001b[39;00m:\n\u001b[1;32m    977\u001b[0m         \u001b[38;5;28mself\u001b[39m\u001b[38;5;241m.\u001b[39m_output\u001b[38;5;241m.\u001b[39mextend(job\u001b[38;5;241m.\u001b[39mget())\n",
      "File \u001b[0;32m~/opt/anaconda3/lib/python3.9/site-packages/joblib/_parallel_backends.py:567\u001b[0m, in \u001b[0;36mLokyBackend.wrap_future_result\u001b[0;34m(future, timeout)\u001b[0m\n\u001b[1;32m    564\u001b[0m \u001b[38;5;124;03m\"\"\"Wrapper for Future.result to implement the same behaviour as\u001b[39;00m\n\u001b[1;32m    565\u001b[0m \u001b[38;5;124;03mAsyncResults.get from multiprocessing.\"\"\"\u001b[39;00m\n\u001b[1;32m    566\u001b[0m \u001b[38;5;28;01mtry\u001b[39;00m:\n\u001b[0;32m--> 567\u001b[0m     \u001b[38;5;28;01mreturn\u001b[39;00m \u001b[43mfuture\u001b[49m\u001b[38;5;241;43m.\u001b[39;49m\u001b[43mresult\u001b[49m\u001b[43m(\u001b[49m\u001b[43mtimeout\u001b[49m\u001b[38;5;241;43m=\u001b[39;49m\u001b[43mtimeout\u001b[49m\u001b[43m)\u001b[49m\n\u001b[1;32m    568\u001b[0m \u001b[38;5;28;01mexcept\u001b[39;00m CfTimeoutError \u001b[38;5;28;01mas\u001b[39;00m e:\n\u001b[1;32m    569\u001b[0m     \u001b[38;5;28;01mraise\u001b[39;00m \u001b[38;5;167;01mTimeoutError\u001b[39;00m \u001b[38;5;28;01mfrom\u001b[39;00m \u001b[38;5;21;01me\u001b[39;00m\n",
      "File \u001b[0;32m~/opt/anaconda3/lib/python3.9/concurrent/futures/_base.py:440\u001b[0m, in \u001b[0;36mFuture.result\u001b[0;34m(self, timeout)\u001b[0m\n\u001b[1;32m    437\u001b[0m \u001b[38;5;28;01melif\u001b[39;00m \u001b[38;5;28mself\u001b[39m\u001b[38;5;241m.\u001b[39m_state \u001b[38;5;241m==\u001b[39m FINISHED:\n\u001b[1;32m    438\u001b[0m     \u001b[38;5;28;01mreturn\u001b[39;00m \u001b[38;5;28mself\u001b[39m\u001b[38;5;241m.\u001b[39m__get_result()\n\u001b[0;32m--> 440\u001b[0m \u001b[38;5;28;43mself\u001b[39;49m\u001b[38;5;241;43m.\u001b[39;49m\u001b[43m_condition\u001b[49m\u001b[38;5;241;43m.\u001b[39;49m\u001b[43mwait\u001b[49m\u001b[43m(\u001b[49m\u001b[43mtimeout\u001b[49m\u001b[43m)\u001b[49m\n\u001b[1;32m    442\u001b[0m \u001b[38;5;28;01mif\u001b[39;00m \u001b[38;5;28mself\u001b[39m\u001b[38;5;241m.\u001b[39m_state \u001b[38;5;129;01min\u001b[39;00m [CANCELLED, CANCELLED_AND_NOTIFIED]:\n\u001b[1;32m    443\u001b[0m     \u001b[38;5;28;01mraise\u001b[39;00m CancelledError()\n",
      "File \u001b[0;32m~/opt/anaconda3/lib/python3.9/threading.py:312\u001b[0m, in \u001b[0;36mCondition.wait\u001b[0;34m(self, timeout)\u001b[0m\n\u001b[1;32m    310\u001b[0m \u001b[38;5;28;01mtry\u001b[39;00m:    \u001b[38;5;66;03m# restore state no matter what (e.g., KeyboardInterrupt)\u001b[39;00m\n\u001b[1;32m    311\u001b[0m     \u001b[38;5;28;01mif\u001b[39;00m timeout \u001b[38;5;129;01mis\u001b[39;00m \u001b[38;5;28;01mNone\u001b[39;00m:\n\u001b[0;32m--> 312\u001b[0m         \u001b[43mwaiter\u001b[49m\u001b[38;5;241;43m.\u001b[39;49m\u001b[43macquire\u001b[49m\u001b[43m(\u001b[49m\u001b[43m)\u001b[49m\n\u001b[1;32m    313\u001b[0m         gotit \u001b[38;5;241m=\u001b[39m \u001b[38;5;28;01mTrue\u001b[39;00m\n\u001b[1;32m    314\u001b[0m     \u001b[38;5;28;01melse\u001b[39;00m:\n",
      "\u001b[0;31mKeyboardInterrupt\u001b[0m: "
     ]
    }
   ],
   "source": [
    "from sklearn.model_selection import GridSearchCV\n",
    "X = df.drop(columns=['target'], axis=1).copy()\n",
    "y = df['target']\n",
    "X2 = X.fillna(0).copy()\n",
    "#parameters to tune\n",
    "param_grid = [    \n",
    "    {'penalty' : ['l1', 'l2', 'elasticnet', 'none'],\n",
    "    #'C' : np.logspace(-4, 4, 20),\n",
    "    'solver' : ['lbfgs','newton-cg','liblinear','sag','saga'],\n",
    "    'max_iter' : [100, 1000,2500, 5000]\n",
    "    }\n",
    "]\n",
    "\n",
    "classifier = LogisticRegression()\n",
    "model = make_pipeline(StandardScaler(), classifier)\n",
    "\n",
    "'''n_jobs=5, \n",
    "cv=5, scoring=’f1_micro’,\n",
    "verbose=2, refit=True'''\n",
    "tscv = TimeSeriesSplit(n_splits=5)\n",
    "gsearch = GridSearchCV(estimator=classifier, cv=tscv,\n",
    "                        param_grid=param_grid, scoring=['f1'], refit=False, verbose=2, n_jobs=5)\n",
    "gsearch.fit(X2, y)"
   ]
  },
  {
   "cell_type": "code",
   "execution_count": 48,
   "id": "fc4b235b-2d67-427c-89ff-a3e709576141",
   "metadata": {
    "tags": []
   },
   "outputs": [
    {
     "name": "stdout",
     "output_type": "stream",
     "text": [
      "Fitting 5 folds for each of 2 candidates, totalling 10 fits\n"
     ]
    },
    {
     "name": "stderr",
     "output_type": "stream",
     "text": [
      "/Users/pierreloviton/opt/anaconda3/lib/python3.9/site-packages/sklearn/linear_model/_sag.py:350: ConvergenceWarning: The max_iter was reached which means the coef_ did not converge\n",
      "  warnings.warn(\n",
      "/Users/pierreloviton/opt/anaconda3/lib/python3.9/site-packages/sklearn/linear_model/_sag.py:350: ConvergenceWarning: The max_iter was reached which means the coef_ did not converge\n",
      "  warnings.warn(\n",
      "/Users/pierreloviton/opt/anaconda3/lib/python3.9/site-packages/sklearn/linear_model/_sag.py:350: ConvergenceWarning: The max_iter was reached which means the coef_ did not converge\n",
      "  warnings.warn(\n",
      "/Users/pierreloviton/opt/anaconda3/lib/python3.9/site-packages/sklearn/linear_model/_sag.py:350: ConvergenceWarning: The max_iter was reached which means the coef_ did not converge\n",
      "  warnings.warn(\n",
      "/Users/pierreloviton/opt/anaconda3/lib/python3.9/site-packages/sklearn/linear_model/_sag.py:350: ConvergenceWarning: The max_iter was reached which means the coef_ did not converge\n",
      "  warnings.warn(\n",
      "/Users/pierreloviton/opt/anaconda3/lib/python3.9/site-packages/sklearn/linear_model/_sag.py:350: ConvergenceWarning: The max_iter was reached which means the coef_ did not converge\n",
      "  warnings.warn(\n",
      "/Users/pierreloviton/opt/anaconda3/lib/python3.9/site-packages/sklearn/linear_model/_sag.py:350: ConvergenceWarning: The max_iter was reached which means the coef_ did not converge\n",
      "  warnings.warn(\n",
      "/Users/pierreloviton/opt/anaconda3/lib/python3.9/site-packages/sklearn/linear_model/_sag.py:350: ConvergenceWarning: The max_iter was reached which means the coef_ did not converge\n",
      "  warnings.warn(\n"
     ]
    },
    {
     "name": "stdout",
     "output_type": "stream",
     "text": [
      "[CV] END ..............max_iter=1000, penalty=l2, solver=sag; total time= 8.3min\n"
     ]
    },
    {
     "name": "stderr",
     "output_type": "stream",
     "text": [
      "/Users/pierreloviton/opt/anaconda3/lib/python3.9/site-packages/sklearn/linear_model/_sag.py:350: ConvergenceWarning: The max_iter was reached which means the coef_ did not converge\n",
      "  warnings.warn(\n"
     ]
    },
    {
     "name": "stdout",
     "output_type": "stream",
     "text": [
      "[CV] END ..............max_iter=1000, penalty=l2, solver=sag; total time=10.1min\n",
      "[CV] END ..............max_iter=1000, penalty=l2, solver=sag; total time= 4.0min\n",
      "[CV] END .............max_iter=1000, penalty=l2, solver=saga; total time= 6.1min\n"
     ]
    },
    {
     "name": "stderr",
     "output_type": "stream",
     "text": [
      "/Users/pierreloviton/opt/anaconda3/lib/python3.9/site-packages/sklearn/linear_model/_sag.py:350: ConvergenceWarning: The max_iter was reached which means the coef_ did not converge\n",
      "  warnings.warn(\n"
     ]
    },
    {
     "data": {
      "text/html": [
       "<style>#sk-container-id-4 {color: black;background-color: white;}#sk-container-id-4 pre{padding: 0;}#sk-container-id-4 div.sk-toggleable {background-color: white;}#sk-container-id-4 label.sk-toggleable__label {cursor: pointer;display: block;width: 100%;margin-bottom: 0;padding: 0.3em;box-sizing: border-box;text-align: center;}#sk-container-id-4 label.sk-toggleable__label-arrow:before {content: \"▸\";float: left;margin-right: 0.25em;color: #696969;}#sk-container-id-4 label.sk-toggleable__label-arrow:hover:before {color: black;}#sk-container-id-4 div.sk-estimator:hover label.sk-toggleable__label-arrow:before {color: black;}#sk-container-id-4 div.sk-toggleable__content {max-height: 0;max-width: 0;overflow: hidden;text-align: left;background-color: #f0f8ff;}#sk-container-id-4 div.sk-toggleable__content pre {margin: 0.2em;color: black;border-radius: 0.25em;background-color: #f0f8ff;}#sk-container-id-4 input.sk-toggleable__control:checked~div.sk-toggleable__content {max-height: 200px;max-width: 100%;overflow: auto;}#sk-container-id-4 input.sk-toggleable__control:checked~label.sk-toggleable__label-arrow:before {content: \"▾\";}#sk-container-id-4 div.sk-estimator input.sk-toggleable__control:checked~label.sk-toggleable__label {background-color: #d4ebff;}#sk-container-id-4 div.sk-label input.sk-toggleable__control:checked~label.sk-toggleable__label {background-color: #d4ebff;}#sk-container-id-4 input.sk-hidden--visually {border: 0;clip: rect(1px 1px 1px 1px);clip: rect(1px, 1px, 1px, 1px);height: 1px;margin: -1px;overflow: hidden;padding: 0;position: absolute;width: 1px;}#sk-container-id-4 div.sk-estimator {font-family: monospace;background-color: #f0f8ff;border: 1px dotted black;border-radius: 0.25em;box-sizing: border-box;margin-bottom: 0.5em;}#sk-container-id-4 div.sk-estimator:hover {background-color: #d4ebff;}#sk-container-id-4 div.sk-parallel-item::after {content: \"\";width: 100%;border-bottom: 1px solid gray;flex-grow: 1;}#sk-container-id-4 div.sk-label:hover label.sk-toggleable__label {background-color: #d4ebff;}#sk-container-id-4 div.sk-serial::before {content: \"\";position: absolute;border-left: 1px solid gray;box-sizing: border-box;top: 0;bottom: 0;left: 50%;z-index: 0;}#sk-container-id-4 div.sk-serial {display: flex;flex-direction: column;align-items: center;background-color: white;padding-right: 0.2em;padding-left: 0.2em;position: relative;}#sk-container-id-4 div.sk-item {position: relative;z-index: 1;}#sk-container-id-4 div.sk-parallel {display: flex;align-items: stretch;justify-content: center;background-color: white;position: relative;}#sk-container-id-4 div.sk-item::before, #sk-container-id-4 div.sk-parallel-item::before {content: \"\";position: absolute;border-left: 1px solid gray;box-sizing: border-box;top: 0;bottom: 0;left: 50%;z-index: -1;}#sk-container-id-4 div.sk-parallel-item {display: flex;flex-direction: column;z-index: 1;position: relative;background-color: white;}#sk-container-id-4 div.sk-parallel-item:first-child::after {align-self: flex-end;width: 50%;}#sk-container-id-4 div.sk-parallel-item:last-child::after {align-self: flex-start;width: 50%;}#sk-container-id-4 div.sk-parallel-item:only-child::after {width: 0;}#sk-container-id-4 div.sk-dashed-wrapped {border: 1px dashed gray;margin: 0 0.4em 0.5em 0.4em;box-sizing: border-box;padding-bottom: 0.4em;background-color: white;}#sk-container-id-4 div.sk-label label {font-family: monospace;font-weight: bold;display: inline-block;line-height: 1.2em;}#sk-container-id-4 div.sk-label-container {text-align: center;}#sk-container-id-4 div.sk-container {/* jupyter's `normalize.less` sets `[hidden] { display: none; }` but bootstrap.min.css set `[hidden] { display: none !important; }` so we also need the `!important` here to be able to override the default hidden behavior on the sphinx rendered scikit-learn.org. See: https://github.com/scikit-learn/scikit-learn/issues/21755 */display: inline-block !important;position: relative;}#sk-container-id-4 div.sk-text-repr-fallback {display: none;}</style><div id=\"sk-container-id-4\" class=\"sk-top-container\"><div class=\"sk-text-repr-fallback\"><pre>GridSearchCV(cv=TimeSeriesSplit(gap=0, max_train_size=None, n_splits=5, test_size=None),\n",
       "             estimator=LogisticRegression(), n_jobs=5,\n",
       "             param_grid=[{&#x27;max_iter&#x27;: [1000], &#x27;penalty&#x27;: [&#x27;l2&#x27;],\n",
       "                          &#x27;solver&#x27;: [&#x27;sag&#x27;, &#x27;saga&#x27;]}],\n",
       "             refit=False,\n",
       "             scoring={&#x27;f1&#x27;: make_scorer(f1_score),\n",
       "                      &#x27;log_loss&#x27;: make_scorer(log_loss)},\n",
       "             verbose=2)</pre><b>In a Jupyter environment, please rerun this cell to show the HTML representation or trust the notebook. <br />On GitHub, the HTML representation is unable to render, please try loading this page with nbviewer.org.</b></div><div class=\"sk-container\" hidden><div class=\"sk-item sk-dashed-wrapped\"><div class=\"sk-label-container\"><div class=\"sk-label sk-toggleable\"><input class=\"sk-toggleable__control sk-hidden--visually\" id=\"sk-estimator-id-10\" type=\"checkbox\" ><label for=\"sk-estimator-id-10\" class=\"sk-toggleable__label sk-toggleable__label-arrow\">GridSearchCV</label><div class=\"sk-toggleable__content\"><pre>GridSearchCV(cv=TimeSeriesSplit(gap=0, max_train_size=None, n_splits=5, test_size=None),\n",
       "             estimator=LogisticRegression(), n_jobs=5,\n",
       "             param_grid=[{&#x27;max_iter&#x27;: [1000], &#x27;penalty&#x27;: [&#x27;l2&#x27;],\n",
       "                          &#x27;solver&#x27;: [&#x27;sag&#x27;, &#x27;saga&#x27;]}],\n",
       "             refit=False,\n",
       "             scoring={&#x27;f1&#x27;: make_scorer(f1_score),\n",
       "                      &#x27;log_loss&#x27;: make_scorer(log_loss)},\n",
       "             verbose=2)</pre></div></div></div><div class=\"sk-parallel\"><div class=\"sk-parallel-item\"><div class=\"sk-item\"><div class=\"sk-label-container\"><div class=\"sk-label sk-toggleable\"><input class=\"sk-toggleable__control sk-hidden--visually\" id=\"sk-estimator-id-11\" type=\"checkbox\" ><label for=\"sk-estimator-id-11\" class=\"sk-toggleable__label sk-toggleable__label-arrow\">estimator: LogisticRegression</label><div class=\"sk-toggleable__content\"><pre>LogisticRegression()</pre></div></div></div><div class=\"sk-serial\"><div class=\"sk-item\"><div class=\"sk-estimator sk-toggleable\"><input class=\"sk-toggleable__control sk-hidden--visually\" id=\"sk-estimator-id-12\" type=\"checkbox\" ><label for=\"sk-estimator-id-12\" class=\"sk-toggleable__label sk-toggleable__label-arrow\">LogisticRegression</label><div class=\"sk-toggleable__content\"><pre>LogisticRegression()</pre></div></div></div></div></div></div></div></div></div></div>"
      ],
      "text/plain": [
       "GridSearchCV(cv=TimeSeriesSplit(gap=0, max_train_size=None, n_splits=5, test_size=None),\n",
       "             estimator=LogisticRegression(), n_jobs=5,\n",
       "             param_grid=[{'max_iter': [1000], 'penalty': ['l2'],\n",
       "                          'solver': ['sag', 'saga']}],\n",
       "             refit=False,\n",
       "             scoring={'f1': make_scorer(f1_score),\n",
       "                      'log_loss': make_scorer(log_loss)},\n",
       "             verbose=2)"
      ]
     },
     "execution_count": 48,
     "metadata": {},
     "output_type": "execute_result"
    }
   ],
   "source": [
    "from sklearn.metrics import log_loss, make_scorer, f1_score\n",
    "from sklearn.model_selection import GridSearchCV\n",
    "X = df.drop(columns=['target'], axis=1).copy()\n",
    "y = df['target']\n",
    "X2 = X.fillna(0).copy()\n",
    "#parameters to tune\n",
    "param_grid = [    \n",
    "    {'penalty' : ['l2'], #l2\n",
    "    #'C' : np.logspace(-4, 4, 20),\n",
    "    'solver' : ['sag','saga'],\n",
    "    'max_iter' : [1000] #1000\n",
    "    }\n",
    "]\n",
    "\n",
    "classifier = LogisticRegression()\n",
    "model = make_pipeline(StandardScaler(), classifier)\n",
    "\n",
    "logloss_score = make_scorer(log_loss)\n",
    "f1_score_score = make_scorer(f1_score)\n",
    "\n",
    "'''n_jobs=5, \n",
    "cv=5, scoring=’f1_micro’,\n",
    "verbose=2, refit=True'''\n",
    "tscv = TimeSeriesSplit(n_splits=5)\n",
    "gsearch = GridSearchCV(estimator=classifier, cv=tscv,\n",
    "                        param_grid=param_grid, scoring={'log_loss':logloss_score,'f1':f1_score_score}, refit=False, verbose=2, n_jobs=5)\n",
    "gsearch.fit(X2, y)"
   ]
  },
  {
   "cell_type": "code",
   "execution_count": 49,
   "id": "3109478d-3da1-46eb-8329-6ce032498e24",
   "metadata": {},
   "outputs": [
    {
     "data": {
      "text/plain": [
       "array([1, 2], dtype=int32)"
      ]
     },
     "execution_count": 49,
     "metadata": {},
     "output_type": "execute_result"
    }
   ],
   "source": [
    "gsearch.cv_results_['rank_test_log_loss']"
   ]
  },
  {
   "cell_type": "code",
   "execution_count": 50,
   "id": "2501bace-516c-4be9-acc5-427d47cc6a52",
   "metadata": {},
   "outputs": [
    {
     "data": {
      "text/plain": [
       "array([1, 2], dtype=int32)"
      ]
     },
     "execution_count": 50,
     "metadata": {},
     "output_type": "execute_result"
    },
    {
     "name": "stdout",
     "output_type": "stream",
     "text": [
      "[CV] END ..............max_iter=1000, penalty=l2, solver=sag; total time= 6.2min\n",
      "[CV] END .............max_iter=1000, penalty=l2, solver=saga; total time= 7.6min\n",
      "[CV] END ..............max_iter=1000, penalty=l2, solver=sag; total time= 2.0min\n",
      "[CV] END .............max_iter=1000, penalty=l2, solver=saga; total time= 2.1min\n",
      "[CV] END .............max_iter=1000, penalty=l2, solver=saga; total time= 4.2min\n",
      "[CV] END .............max_iter=1000, penalty=l2, solver=saga; total time= 9.5min\n"
     ]
    }
   ],
   "source": [
    "gsearch.cv_results_['rank_test_f1']"
   ]
  },
  {
   "cell_type": "raw",
   "id": "759b9919-31b6-485b-b737-7d3ab4164fe9",
   "metadata": {},
   "source": [
    "1,5,9,13"
   ]
  },
  {
   "cell_type": "code",
   "execution_count": 34,
   "id": "79fb6466-40f6-4341-bf97-05db52ac74fc",
   "metadata": {},
   "outputs": [
    {
     "data": {
      "text/plain": [
       "{'max_iter': 100, 'penalty': 'l2'}"
      ]
     },
     "execution_count": 34,
     "metadata": {},
     "output_type": "execute_result"
    }
   ],
   "source": [
    "gsearch.cv_results_['params'][1]"
   ]
  },
  {
   "cell_type": "code",
   "execution_count": 35,
   "id": "55d484e1-9812-4331-8842-cd5c60bf3eea",
   "metadata": {},
   "outputs": [
    {
     "data": {
      "text/plain": [
       "{'max_iter': 1000, 'penalty': 'l2'}"
      ]
     },
     "execution_count": 35,
     "metadata": {},
     "output_type": "execute_result"
    }
   ],
   "source": [
    "gsearch.cv_results_['params'][5]"
   ]
  },
  {
   "cell_type": "code",
   "execution_count": 36,
   "id": "ca2044a7-f205-43e3-9481-244fa20a86ef",
   "metadata": {},
   "outputs": [
    {
     "data": {
      "text/plain": [
       "{'max_iter': 2500, 'penalty': 'l2'}"
      ]
     },
     "execution_count": 36,
     "metadata": {},
     "output_type": "execute_result"
    }
   ],
   "source": [
    "gsearch.cv_results_['params'][9]"
   ]
  },
  {
   "cell_type": "code",
   "execution_count": 37,
   "id": "df1107b6-dcf2-4cde-b213-82ead21cad41",
   "metadata": {},
   "outputs": [
    {
     "data": {
      "text/plain": [
       "{'max_iter': 5000, 'penalty': 'l2'}"
      ]
     },
     "execution_count": 37,
     "metadata": {},
     "output_type": "execute_result"
    }
   ],
   "source": [
    "gsearch.cv_results_['params'][13]"
   ]
  },
  {
   "cell_type": "code",
   "execution_count": null,
   "id": "e509630f-785e-41d5-8ee4-9f119728706c",
   "metadata": {},
   "outputs": [],
   "source": [
    "from sklearn.model_selection import GridSearchCV\n",
    "X = df.drop(columns=['target'], axis=1).copy()\n",
    "y = df['target']\n",
    "X2 = X.fillna(0).copy()\n",
    "#parameters to tune\n",
    "param_grid = [    \n",
    "    {'penalty' : ['l1', 'l2', 'elasticnet', 'none'],\n",
    "    'C' : np.logspace(-4, 4, 20),\n",
    "    'solver' : ['lbfgs','newton-cg','liblinear','sag','saga'],\n",
    "    'max_iter' : [100, 1000,2500, 5000]\n",
    "    }\n",
    "]\n",
    "\n",
    "classifier = MLPClassifier()\n",
    "model = make_pipeline(StandardScaler(), classifier)\n",
    "\n",
    "'''n_jobs=5, \n",
    "cv=5, scoring=’f1_micro’,\n",
    "verbose=2, refit=True'''\n",
    "tscv = TimeSeriesSplit(n_splits=5)\n",
    "gsearch = GridSearchCV(estimator=classifier, cv=tscv,\n",
    "                        param_grid=param_grid, scoring=['f1'], refit=False, verbose=2, n_jobs=5)\n",
    "gsearch.fit(X2, y)"
   ]
  },
  {
   "cell_type": "code",
   "execution_count": 11,
   "id": "b106f890-397b-426b-bfc6-8e3871e45449",
   "metadata": {},
   "outputs": [
    {
     "data": {
      "text/plain": [
       "(509834, 74)"
      ]
     },
     "execution_count": 11,
     "metadata": {},
     "output_type": "execute_result"
    }
   ],
   "source": [
    "df.shape"
   ]
  },
  {
   "cell_type": "code",
   "execution_count": 11,
   "id": "add9827f-6b3f-4991-a78e-3f6399306764",
   "metadata": {
    "collapsed": true,
    "jupyter": {
     "outputs_hidden": true
    },
    "tags": []
   },
   "outputs": [
    {
     "name": "stderr",
     "output_type": "stream",
     "text": [
      "0it [00:00, ?it/s]"
     ]
    },
    {
     "name": "stdout",
     "output_type": "stream",
     "text": [
      "\n",
      "\n",
      "\n",
      "------------- Nearest Neighbors -------------\n",
      "0.8587770088970484\n"
     ]
    },
    {
     "name": "stderr",
     "output_type": "stream",
     "text": [
      "1it [00:44, 44.89s/it]"
     ]
    },
    {
     "name": "stdout",
     "output_type": "stream",
     "text": [
      "4.307067612665758\n",
      "              precision    recall  f1-score   support\n",
      "\n",
      "           0       0.88      0.97      0.92     71206\n",
      "           1       0.64      0.30      0.41     13766\n",
      "\n",
      "    accuracy                           0.86     84972\n",
      "   macro avg       0.76      0.63      0.66     84972\n",
      "weighted avg       0.84      0.86      0.84     84972\n",
      "\n",
      "The balanced accuracy of the default model is 0.634\n",
      "0.8217648166454832\n"
     ]
    },
    {
     "name": "stderr",
     "output_type": "stream",
     "text": [
      "2it [02:04, 65.49s/it]"
     ]
    },
    {
     "name": "stdout",
     "output_type": "stream",
     "text": [
      "5.191404860902615\n",
      "              precision    recall  f1-score   support\n",
      "\n",
      "           0       0.87      0.93      0.90     69883\n",
      "           1       0.50      0.33      0.40     15089\n",
      "\n",
      "    accuracy                           0.82     84972\n",
      "   macro avg       0.68      0.63      0.65     84972\n",
      "weighted avg       0.80      0.82      0.81     84972\n",
      "\n",
      "The balanced accuracy of the default model is 0.630\n",
      "0.9114296474132656\n"
     ]
    },
    {
     "name": "stderr",
     "output_type": "stream",
     "text": [
      "3it [03:52, 84.84s/it]"
     ]
    },
    {
     "name": "stdout",
     "output_type": "stream",
     "text": [
      "2.5128155159049896\n",
      "              precision    recall  f1-score   support\n",
      "\n",
      "           0       0.93      0.97      0.95     77546\n",
      "           1       0.49      0.26      0.34      7426\n",
      "\n",
      "    accuracy                           0.91     84972\n",
      "   macro avg       0.71      0.62      0.64     84972\n",
      "weighted avg       0.89      0.91      0.90     84972\n",
      "\n",
      "The balanced accuracy of the default model is 0.615\n",
      "0.9016381866967942\n"
     ]
    },
    {
     "name": "stderr",
     "output_type": "stream",
     "text": [
      "4it [06:13, 106.77s/it]"
     ]
    },
    {
     "name": "stdout",
     "output_type": "stream",
     "text": [
      "2.7550379760683206\n",
      "              precision    recall  f1-score   support\n",
      "\n",
      "           0       0.94      0.95      0.95     77756\n",
      "           1       0.41      0.39      0.40      7216\n",
      "\n",
      "    accuracy                           0.90     84972\n",
      "   macro avg       0.68      0.67      0.67     84972\n",
      "weighted avg       0.90      0.90      0.90     84972\n",
      "\n",
      "The balanced accuracy of the default model is 0.668\n",
      "0.9503365814621287\n"
     ]
    },
    {
     "name": "stderr",
     "output_type": "stream",
     "text": [
      "5it [09:20, 112.02s/it]\n",
      "0it [00:00, ?it/s]"
     ]
    },
    {
     "name": "stdout",
     "output_type": "stream",
     "text": [
      "1.3942750459239275\n",
      "              precision    recall  f1-score   support\n",
      "\n",
      "           0       0.97      0.98      0.97     81981\n",
      "           1       0.25      0.20      0.22      2991\n",
      "\n",
      "    accuracy                           0.95     84972\n",
      "   macro avg       0.61      0.59      0.60     84972\n",
      "weighted avg       0.95      0.95      0.95     84972\n",
      "\n",
      "The balanced accuracy of the default model is 0.590\n",
      "\n",
      "\n",
      "\n",
      "------------- Random Forest -------------\n",
      "0.8922703949536318\n",
      "0.2978200749810595\n"
     ]
    },
    {
     "name": "stderr",
     "output_type": "stream",
     "text": [
      "1it [00:02,  2.42s/it]"
     ]
    },
    {
     "name": "stdout",
     "output_type": "stream",
     "text": [
      "              precision    recall  f1-score   support\n",
      "\n",
      "           0       0.90      0.98      0.94     71206\n",
      "           1       0.80      0.44      0.57     13766\n",
      "\n",
      "    accuracy                           0.89     84972\n",
      "   macro avg       0.85      0.71      0.76     84972\n",
      "weighted avg       0.89      0.89      0.88     84972\n",
      "\n",
      "The balanced accuracy of the default model is 0.712\n",
      "0.8719813585651744\n",
      "0.3157477275463055\n",
      "              precision    recall  f1-score   support\n",
      "\n",
      "           0       0.90      0.95      0.92     69883\n",
      "           1       0.68      0.52      0.59     15089\n",
      "\n",
      "    accuracy                           0.87     84972\n",
      "   macro avg       0.79      0.73      0.76     84972\n",
      "weighted avg       0.86      0.87      0.86     84972\n",
      "\n"
     ]
    },
    {
     "name": "stderr",
     "output_type": "stream",
     "text": [
      "2it [00:05,  2.67s/it]"
     ]
    },
    {
     "name": "stdout",
     "output_type": "stream",
     "text": [
      "The balanced accuracy of the default model is 0.733\n",
      "0.4503954243750883\n",
      "1.3304888103420247\n",
      "              precision    recall  f1-score   support\n",
      "\n",
      "           0       1.00      0.40      0.57     77546\n",
      "           1       0.14      0.98      0.24      7426\n",
      "\n",
      "    accuracy                           0.45     84972\n",
      "   macro avg       0.57      0.69      0.40     84972\n",
      "weighted avg       0.92      0.45      0.54     84972\n",
      "\n"
     ]
    },
    {
     "name": "stderr",
     "output_type": "stream",
     "text": [
      "3it [00:09,  3.49s/it]"
     ]
    },
    {
     "name": "stdout",
     "output_type": "stream",
     "text": [
      "The balanced accuracy of the default model is 0.690\n",
      "0.9535140987619452\n",
      "0.15825941216568543\n",
      "              precision    recall  f1-score   support\n",
      "\n",
      "           0       0.97      0.98      0.97     77756\n",
      "           1       0.75      0.68      0.71      7216\n",
      "\n",
      "    accuracy                           0.95     84972\n",
      "   macro avg       0.86      0.83      0.84     84972\n",
      "weighted avg       0.95      0.95      0.95     84972\n",
      "\n"
     ]
    },
    {
     "name": "stderr",
     "output_type": "stream",
     "text": [
      "4it [00:16,  4.88s/it]"
     ]
    },
    {
     "name": "stdout",
     "output_type": "stream",
     "text": [
      "The balanced accuracy of the default model is 0.832\n",
      "0.9753801252177188\n",
      "0.07918735236001834\n"
     ]
    },
    {
     "name": "stderr",
     "output_type": "stream",
     "text": [
      "5it [00:25,  5.16s/it]\n",
      "0it [00:00, ?it/s]"
     ]
    },
    {
     "name": "stdout",
     "output_type": "stream",
     "text": [
      "              precision    recall  f1-score   support\n",
      "\n",
      "           0       0.98      1.00      0.99     81981\n",
      "           1       0.77      0.43      0.55      2991\n",
      "\n",
      "    accuracy                           0.98     84972\n",
      "   macro avg       0.87      0.71      0.77     84972\n",
      "weighted avg       0.97      0.98      0.97     84972\n",
      "\n",
      "The balanced accuracy of the default model is 0.713\n",
      "\n",
      "\n",
      "\n",
      "------------- HistGradientBoostingClassifier -------------\n"
     ]
    },
    {
     "name": "stderr",
     "output_type": "stream",
     "text": [
      "0it [04:41, ?it/s]"
     ]
    },
    {
     "name": "stdout",
     "output_type": "stream",
     "text": [
      "0.8855505342936497\n"
     ]
    },
    {
     "name": "stderr",
     "output_type": "stream",
     "text": [
      "\n"
     ]
    },
    {
     "ename": "AttributeError",
     "evalue": "predict_proba is not available when  probability=False",
     "output_type": "error",
     "traceback": [
      "\u001b[0;31m---------------------------------------------------------------------------\u001b[0m",
      "\u001b[0;31mAttributeError\u001b[0m                            Traceback (most recent call last)",
      "Cell \u001b[0;32mIn[11], line 88\u001b[0m\n\u001b[1;32m     86\u001b[0m \u001b[38;5;66;03m# Afficher la précision\u001b[39;00m\n\u001b[1;32m     87\u001b[0m \u001b[38;5;28mprint\u001b[39m(accuracy_score(y_test, y_pred))\n\u001b[0;32m---> 88\u001b[0m \u001b[38;5;28mprint\u001b[39m(log_loss(y_test, \u001b[43mmodel\u001b[49m\u001b[38;5;241;43m.\u001b[39;49m\u001b[43mpredict_proba\u001b[49m(X_test)))\n\u001b[1;32m     89\u001b[0m \u001b[38;5;28mprint\u001b[39m(classification_report(y_test, y_pred))\n\u001b[1;32m     90\u001b[0m \u001b[38;5;28mprint\u001b[39m(\u001b[38;5;124mf\u001b[39m\u001b[38;5;124m\"\u001b[39m\u001b[38;5;124mThe balanced accuracy of the default model is \u001b[39m\u001b[38;5;124m\"\u001b[39m\n\u001b[1;32m     91\u001b[0m       \u001b[38;5;124mf\u001b[39m\u001b[38;5;124m\"\u001b[39m\u001b[38;5;132;01m{\u001b[39;00mbalanced_accuracy_score(y_test, y_pred)\u001b[38;5;132;01m:\u001b[39;00m\u001b[38;5;124m.3f\u001b[39m\u001b[38;5;132;01m}\u001b[39;00m\u001b[38;5;124m\"\u001b[39m)\n",
      "File \u001b[0;32m~/opt/anaconda3/lib/python3.9/site-packages/sklearn/utils/_available_if.py:32\u001b[0m, in \u001b[0;36m_AvailableIfDescriptor.__get__\u001b[0;34m(self, obj, owner)\u001b[0m\n\u001b[1;32m     26\u001b[0m attr_err \u001b[38;5;241m=\u001b[39m \u001b[38;5;167;01mAttributeError\u001b[39;00m(\n\u001b[1;32m     27\u001b[0m     \u001b[38;5;124mf\u001b[39m\u001b[38;5;124m\"\u001b[39m\u001b[38;5;124mThis \u001b[39m\u001b[38;5;132;01m{\u001b[39;00m\u001b[38;5;28mrepr\u001b[39m(owner\u001b[38;5;241m.\u001b[39m\u001b[38;5;18m__name__\u001b[39m)\u001b[38;5;132;01m}\u001b[39;00m\u001b[38;5;124m has no attribute \u001b[39m\u001b[38;5;132;01m{\u001b[39;00m\u001b[38;5;28mrepr\u001b[39m(\u001b[38;5;28mself\u001b[39m\u001b[38;5;241m.\u001b[39mattribute_name)\u001b[38;5;132;01m}\u001b[39;00m\u001b[38;5;124m\"\u001b[39m\n\u001b[1;32m     28\u001b[0m )\n\u001b[1;32m     29\u001b[0m \u001b[38;5;28;01mif\u001b[39;00m obj \u001b[38;5;129;01mis\u001b[39;00m \u001b[38;5;129;01mnot\u001b[39;00m \u001b[38;5;28;01mNone\u001b[39;00m:\n\u001b[1;32m     30\u001b[0m     \u001b[38;5;66;03m# delegate only on instances, not the classes.\u001b[39;00m\n\u001b[1;32m     31\u001b[0m     \u001b[38;5;66;03m# this is to allow access to the docstrings.\u001b[39;00m\n\u001b[0;32m---> 32\u001b[0m     \u001b[38;5;28;01mif\u001b[39;00m \u001b[38;5;129;01mnot\u001b[39;00m \u001b[38;5;28;43mself\u001b[39;49m\u001b[38;5;241;43m.\u001b[39;49m\u001b[43mcheck\u001b[49m\u001b[43m(\u001b[49m\u001b[43mobj\u001b[49m\u001b[43m)\u001b[49m:\n\u001b[1;32m     33\u001b[0m         \u001b[38;5;28;01mraise\u001b[39;00m attr_err\n\u001b[1;32m     34\u001b[0m     out \u001b[38;5;241m=\u001b[39m MethodType(\u001b[38;5;28mself\u001b[39m\u001b[38;5;241m.\u001b[39mfn, obj)\n",
      "File \u001b[0;32m~/opt/anaconda3/lib/python3.9/site-packages/sklearn/pipeline.py:47\u001b[0m, in \u001b[0;36m_final_estimator_has.<locals>.check\u001b[0;34m(self)\u001b[0m\n\u001b[1;32m     45\u001b[0m \u001b[38;5;28;01mdef\u001b[39;00m \u001b[38;5;21mcheck\u001b[39m(\u001b[38;5;28mself\u001b[39m):\n\u001b[1;32m     46\u001b[0m     \u001b[38;5;66;03m# raise original `AttributeError` if `attr` does not exist\u001b[39;00m\n\u001b[0;32m---> 47\u001b[0m     \u001b[38;5;28;43mgetattr\u001b[39;49m\u001b[43m(\u001b[49m\u001b[38;5;28;43mself\u001b[39;49m\u001b[38;5;241;43m.\u001b[39;49m\u001b[43m_final_estimator\u001b[49m\u001b[43m,\u001b[49m\u001b[43m \u001b[49m\u001b[43mattr\u001b[49m\u001b[43m)\u001b[49m\n\u001b[1;32m     48\u001b[0m     \u001b[38;5;28;01mreturn\u001b[39;00m \u001b[38;5;28;01mTrue\u001b[39;00m\n",
      "File \u001b[0;32m~/opt/anaconda3/lib/python3.9/site-packages/sklearn/utils/_available_if.py:32\u001b[0m, in \u001b[0;36m_AvailableIfDescriptor.__get__\u001b[0;34m(self, obj, owner)\u001b[0m\n\u001b[1;32m     26\u001b[0m attr_err \u001b[38;5;241m=\u001b[39m \u001b[38;5;167;01mAttributeError\u001b[39;00m(\n\u001b[1;32m     27\u001b[0m     \u001b[38;5;124mf\u001b[39m\u001b[38;5;124m\"\u001b[39m\u001b[38;5;124mThis \u001b[39m\u001b[38;5;132;01m{\u001b[39;00m\u001b[38;5;28mrepr\u001b[39m(owner\u001b[38;5;241m.\u001b[39m\u001b[38;5;18m__name__\u001b[39m)\u001b[38;5;132;01m}\u001b[39;00m\u001b[38;5;124m has no attribute \u001b[39m\u001b[38;5;132;01m{\u001b[39;00m\u001b[38;5;28mrepr\u001b[39m(\u001b[38;5;28mself\u001b[39m\u001b[38;5;241m.\u001b[39mattribute_name)\u001b[38;5;132;01m}\u001b[39;00m\u001b[38;5;124m\"\u001b[39m\n\u001b[1;32m     28\u001b[0m )\n\u001b[1;32m     29\u001b[0m \u001b[38;5;28;01mif\u001b[39;00m obj \u001b[38;5;129;01mis\u001b[39;00m \u001b[38;5;129;01mnot\u001b[39;00m \u001b[38;5;28;01mNone\u001b[39;00m:\n\u001b[1;32m     30\u001b[0m     \u001b[38;5;66;03m# delegate only on instances, not the classes.\u001b[39;00m\n\u001b[1;32m     31\u001b[0m     \u001b[38;5;66;03m# this is to allow access to the docstrings.\u001b[39;00m\n\u001b[0;32m---> 32\u001b[0m     \u001b[38;5;28;01mif\u001b[39;00m \u001b[38;5;129;01mnot\u001b[39;00m \u001b[38;5;28;43mself\u001b[39;49m\u001b[38;5;241;43m.\u001b[39;49m\u001b[43mcheck\u001b[49m\u001b[43m(\u001b[49m\u001b[43mobj\u001b[49m\u001b[43m)\u001b[49m:\n\u001b[1;32m     33\u001b[0m         \u001b[38;5;28;01mraise\u001b[39;00m attr_err\n\u001b[1;32m     34\u001b[0m     out \u001b[38;5;241m=\u001b[39m MethodType(\u001b[38;5;28mself\u001b[39m\u001b[38;5;241m.\u001b[39mfn, obj)\n",
      "File \u001b[0;32m~/opt/anaconda3/lib/python3.9/site-packages/sklearn/svm/_base.py:829\u001b[0m, in \u001b[0;36mBaseSVC._check_proba\u001b[0;34m(self)\u001b[0m\n\u001b[1;32m    827\u001b[0m \u001b[38;5;28;01mdef\u001b[39;00m \u001b[38;5;21m_check_proba\u001b[39m(\u001b[38;5;28mself\u001b[39m):\n\u001b[1;32m    828\u001b[0m     \u001b[38;5;28;01mif\u001b[39;00m \u001b[38;5;129;01mnot\u001b[39;00m \u001b[38;5;28mself\u001b[39m\u001b[38;5;241m.\u001b[39mprobability:\n\u001b[0;32m--> 829\u001b[0m         \u001b[38;5;28;01mraise\u001b[39;00m \u001b[38;5;167;01mAttributeError\u001b[39;00m(\n\u001b[1;32m    830\u001b[0m             \u001b[38;5;124m\"\u001b[39m\u001b[38;5;124mpredict_proba is not available when  probability=False\u001b[39m\u001b[38;5;124m\"\u001b[39m\n\u001b[1;32m    831\u001b[0m         )\n\u001b[1;32m    832\u001b[0m     \u001b[38;5;28;01mif\u001b[39;00m \u001b[38;5;28mself\u001b[39m\u001b[38;5;241m.\u001b[39m_impl \u001b[38;5;129;01mnot\u001b[39;00m \u001b[38;5;129;01min\u001b[39;00m (\u001b[38;5;124m\"\u001b[39m\u001b[38;5;124mc_svc\u001b[39m\u001b[38;5;124m\"\u001b[39m, \u001b[38;5;124m\"\u001b[39m\u001b[38;5;124mnu_svc\u001b[39m\u001b[38;5;124m\"\u001b[39m):\n\u001b[1;32m    833\u001b[0m         \u001b[38;5;28;01mraise\u001b[39;00m \u001b[38;5;167;01mAttributeError\u001b[39;00m(\u001b[38;5;124m\"\u001b[39m\u001b[38;5;124mpredict_proba only implemented for SVC and NuSVC\u001b[39m\u001b[38;5;124m\"\u001b[39m)\n",
      "\u001b[0;31mAttributeError\u001b[0m: predict_proba is not available when  probability=False"
     ]
    }
   ],
   "source": [
    "import numpy as np\n",
    "import matplotlib.pyplot as plt\n",
    "from sklearn.model_selection import TimeSeriesSplit\n",
    "from matplotlib.colors import ListedColormap\n",
    "from sklearn.model_selection import train_test_split\n",
    "from sklearn.preprocessing import StandardScaler\n",
    "from sklearn.pipeline import make_pipeline\n",
    "from sklearn.metrics import accuracy_score\n",
    "from sklearn.metrics import log_loss, classification_report\n",
    "from sklearn.metrics import balanced_accuracy_score\n",
    "from sklearn.datasets import make_moons, make_circles, make_classification\n",
    "from sklearn.neural_network import MLPClassifier\n",
    "from sklearn.neighbors import KNeighborsClassifier\n",
    "from sklearn.svm import SVC\n",
    "from sklearn.linear_model import LogisticRegression\n",
    "from sklearn.gaussian_process import GaussianProcessClassifier\n",
    "from sklearn.gaussian_process.kernels import RBF\n",
    "from sklearn.tree import DecisionTreeClassifier\n",
    "from sklearn.ensemble import RandomForestClassifier, AdaBoostClassifier\n",
    "from sklearn.naive_bayes import GaussianNB\n",
    "from sklearn.discriminant_analysis import QuadraticDiscriminantAnalysis\n",
    "from sklearn.inspection import DecisionBoundaryDisplay\n",
    "from sklearn.ensemble import HistGradientBoostingClassifier\n",
    "from tqdm import tqdm\n",
    "\n",
    "\n",
    "names = [\n",
    "    \"Nearest Neighbors\",\n",
    "    \"Logistic Regression\"\n",
    "    \"Linear SVM\",\n",
    "    \"RBF SVM\",\n",
    "    \"Gaussian Process\",\n",
    "    \"Decision Tree\",\n",
    "    \"Random Forest\",\n",
    "    \"Neural Net\",\n",
    "    \"AdaBoost\",\n",
    "    \"Naive Bayes\",\n",
    "    \"QDA\",\n",
    "    \"HistGradientBoostingClassifier\"\n",
    "]\n",
    "\n",
    "classifiers = [\n",
    "    KNeighborsClassifier(3),\n",
    "    LogisticRegression(),\n",
    "    SVC(kernel=\"linear\", C=0.025),\n",
    "    SVC(gamma=2, C=1),\n",
    "    GaussianProcessClassifier(1.0 * RBF(1.0)),\n",
    "    DecisionTreeClassifier(max_depth=5),\n",
    "    RandomForestClassifier(max_depth=5, n_estimators=10, max_features=1),\n",
    "    MLPClassifier(alpha=1, max_iter=1000),\n",
    "    AdaBoostClassifier(),\n",
    "    GaussianNB(),\n",
    "    QuadraticDiscriminantAnalysis(),\n",
    "    HistGradientBoostingClassifier()\n",
    "]\n",
    "\n",
    "X = df.drop(columns=['target'], axis=1).copy()\n",
    "y = df['target']\n",
    "X2 = X.fillna(0).copy()\n",
    "# Créer un objet TimeSeriesSplit\n",
    "tscv = TimeSeriesSplit(n_splits=5)\n",
    "\n",
    "\n",
    "i=0\n",
    "for classifier in classifiers:\n",
    "    print(\"\\n\\n\\n-------------\", names[i],'-------------')\n",
    "    \n",
    "    # Boucle sur les plis\n",
    "    for train_index, test_index in tqdm(tscv.split(X2)):\n",
    "        X_train, X_test = X2.iloc[train_index], X2.iloc[test_index]\n",
    "        y_train, y_test = y.iloc[train_index], y.iloc[test_index]\n",
    "\n",
    "        #class_weights = dict(zip(np.unique(y_train), class_weight.compute_class_weight(class_weight='balanced', classes=np.unique(data_train['target']), y=data_train['target'])))\n",
    "\n",
    "        # Entrainer un modèle sur le jeu d'entraînement\n",
    "\n",
    "        model =make_pipeline(StandardScaler(), classifier)\n",
    "\n",
    "        #model.set_params(class_weight='balanced_subsample')\n",
    "\n",
    "        model.fit(X_train, y_train)#, sample_weight=0.3)\n",
    "\n",
    "        # Prédire sur le jeu de test\n",
    "        y_pred = model.predict(X_test)\n",
    "\n",
    "        # Afficher la précision\n",
    "        print(accuracy_score(y_test, y_pred))\n",
    "        print(log_loss(y_test, model.predict_proba(X_test)))\n",
    "        print(classification_report(y_test, y_pred))\n",
    "        print(f\"The balanced accuracy of the default model is \"\n",
    "              f\"{balanced_accuracy_score(y_test, y_pred):.3f}\")\n",
    "        i+=1"
   ]
  },
  {
   "cell_type": "code",
   "execution_count": null,
   "id": "90eb9608-6710-44bd-9e50-e1e0a5abf598",
   "metadata": {},
   "outputs": [],
   "source": []
  },
  {
   "cell_type": "code",
   "execution_count": 11,
   "id": "7ae6bebd-5cbd-4ccf-adff-8aea88140f69",
   "metadata": {
    "collapsed": true,
    "jupyter": {
     "outputs_hidden": true
    },
    "tags": []
   },
   "outputs": [
    {
     "name": "stderr",
     "output_type": "stream",
     "text": [
      "0it [00:00, ?it/s]"
     ]
    },
    {
     "name": "stdout",
     "output_type": "stream",
     "text": [
      "\n",
      "\n",
      "\n",
      "--------------------------\n",
      "0.85964788400885\n"
     ]
    },
    {
     "name": "stderr",
     "output_type": "stream",
     "text": [
      "1it [00:56, 56.37s/it]"
     ]
    },
    {
     "name": "stdout",
     "output_type": "stream",
     "text": [
      "0.44515100996950435\n",
      "              precision    recall  f1-score   support\n",
      "\n",
      "           0       0.86      0.99      0.92     71206\n",
      "           1       0.85      0.16      0.27     13766\n",
      "\n",
      "    accuracy                           0.86     84972\n",
      "   macro avg       0.86      0.58      0.60     84972\n",
      "weighted avg       0.86      0.86      0.82     84972\n",
      "\n",
      "The balanced accuracy of the default model is 0.578\n",
      "0.8654851009744386\n",
      "0.3121842660454226\n"
     ]
    },
    {
     "name": "stderr",
     "output_type": "stream",
     "text": [
      "2it [01:53, 56.87s/it]"
     ]
    },
    {
     "name": "stdout",
     "output_type": "stream",
     "text": [
      "              precision    recall  f1-score   support\n",
      "\n",
      "           0       0.90      0.94      0.92     69883\n",
      "           1       0.64      0.54      0.59     15089\n",
      "\n",
      "    accuracy                           0.87     84972\n",
      "   macro avg       0.77      0.74      0.75     84972\n",
      "weighted avg       0.86      0.87      0.86     84972\n",
      "\n",
      "The balanced accuracy of the default model is 0.738\n",
      "0.940862872475639\n",
      "0.15724027548848252\n"
     ]
    },
    {
     "name": "stderr",
     "output_type": "stream",
     "text": [
      "3it [03:08, 65.23s/it]"
     ]
    },
    {
     "name": "stdout",
     "output_type": "stream",
     "text": [
      "              precision    recall  f1-score   support\n",
      "\n",
      "           0       0.95      0.99      0.97     77546\n",
      "           1       0.79      0.44      0.56      7426\n",
      "\n",
      "    accuracy                           0.94     84972\n",
      "   macro avg       0.87      0.71      0.77     84972\n",
      "weighted avg       0.93      0.94      0.93     84972\n",
      "\n",
      "The balanced accuracy of the default model is 0.713\n",
      "0.9526314550675516\n",
      "0.15081005079577597\n"
     ]
    },
    {
     "name": "stderr",
     "output_type": "stream",
     "text": [
      "4it [04:44, 77.37s/it]"
     ]
    },
    {
     "name": "stdout",
     "output_type": "stream",
     "text": [
      "              precision    recall  f1-score   support\n",
      "\n",
      "           0       0.97      0.98      0.97     77756\n",
      "           1       0.74      0.68      0.71      7216\n",
      "\n",
      "    accuracy                           0.95     84972\n",
      "   macro avg       0.86      0.83      0.84     84972\n",
      "weighted avg       0.95      0.95      0.95     84972\n",
      "\n",
      "The balanced accuracy of the default model is 0.829\n",
      "0.9764628348161747\n",
      "0.07198463894794416\n"
     ]
    },
    {
     "name": "stderr",
     "output_type": "stream",
     "text": [
      "5it [06:14, 74.97s/it]\n",
      "0it [00:00, ?it/s]"
     ]
    },
    {
     "name": "stdout",
     "output_type": "stream",
     "text": [
      "              precision    recall  f1-score   support\n",
      "\n",
      "           0       0.98      1.00      0.99     81981\n",
      "           1       0.81      0.43      0.57      2991\n",
      "\n",
      "    accuracy                           0.98     84972\n",
      "   macro avg       0.89      0.72      0.78     84972\n",
      "weighted avg       0.97      0.98      0.97     84972\n",
      "\n",
      "The balanced accuracy of the default model is 0.715\n",
      "\n",
      "\n",
      "\n",
      "--------------------------\n",
      "0.8379936920397307\n"
     ]
    },
    {
     "name": "stderr",
     "output_type": "stream",
     "text": [
      "1it [00:56, 56.66s/it]"
     ]
    },
    {
     "name": "stdout",
     "output_type": "stream",
     "text": [
      "0.4879198929128028\n",
      "              precision    recall  f1-score   support\n",
      "\n",
      "           0       0.84      1.00      0.91     71206\n",
      "           1       0.00      0.00      0.00     13766\n",
      "\n",
      "    accuracy                           0.84     84972\n",
      "   macro avg       0.42      0.50      0.46     84972\n",
      "weighted avg       0.70      0.84      0.76     84972\n",
      "\n",
      "The balanced accuracy of the default model is 0.500\n",
      "0.8579649766982065\n"
     ]
    },
    {
     "name": "stderr",
     "output_type": "stream",
     "text": [
      "2it [02:50, 90.02s/it]"
     ]
    },
    {
     "name": "stdout",
     "output_type": "stream",
     "text": [
      "0.6465322493494637\n",
      "              precision    recall  f1-score   support\n",
      "\n",
      "           0       0.86      0.99      0.92     69883\n",
      "           1       0.81      0.26      0.39     15089\n",
      "\n",
      "    accuracy                           0.86     84972\n",
      "   macro avg       0.84      0.62      0.66     84972\n",
      "weighted avg       0.85      0.86      0.83     84972\n",
      "\n",
      "The balanced accuracy of the default model is 0.623\n",
      "0.9312008661676787\n"
     ]
    },
    {
     "name": "stderr",
     "output_type": "stream",
     "text": [
      "3it [05:55, 133.79s/it]"
     ]
    },
    {
     "name": "stdout",
     "output_type": "stream",
     "text": [
      "0.6388486194783839\n",
      "              precision    recall  f1-score   support\n",
      "\n",
      "           0       0.93      0.99      0.96     77546\n",
      "           1       0.82      0.28      0.41      7426\n",
      "\n",
      "    accuracy                           0.93     84972\n",
      "   macro avg       0.87      0.63      0.69     84972\n",
      "weighted avg       0.92      0.93      0.92     84972\n",
      "\n",
      "The balanced accuracy of the default model is 0.635\n",
      "0.9434754978110437\n"
     ]
    },
    {
     "name": "stderr",
     "output_type": "stream",
     "text": [
      "4it [09:59, 177.05s/it]"
     ]
    },
    {
     "name": "stdout",
     "output_type": "stream",
     "text": [
      "0.6513976990600884\n",
      "              precision    recall  f1-score   support\n",
      "\n",
      "           0       0.97      0.97      0.97     77756\n",
      "           1       0.67      0.65      0.66      7216\n",
      "\n",
      "    accuracy                           0.94     84972\n",
      "   macro avg       0.82      0.81      0.81     84972\n",
      "weighted avg       0.94      0.94      0.94     84972\n",
      "\n",
      "The balanced accuracy of the default model is 0.808\n",
      "0.9685425787318176\n"
     ]
    },
    {
     "name": "stderr",
     "output_type": "stream",
     "text": [
      "5it [15:12, 182.54s/it]\n",
      "0it [00:00, ?it/s]"
     ]
    },
    {
     "name": "stdout",
     "output_type": "stream",
     "text": [
      "0.6207159034524456\n",
      "              precision    recall  f1-score   support\n",
      "\n",
      "           0       0.97      1.00      0.98     81981\n",
      "           1       0.92      0.12      0.21      2991\n",
      "\n",
      "    accuracy                           0.97     84972\n",
      "   macro avg       0.94      0.56      0.60     84972\n",
      "weighted avg       0.97      0.97      0.96     84972\n",
      "\n",
      "The balanced accuracy of the default model is 0.558\n",
      "\n",
      "\n",
      "\n",
      "--------------------------\n",
      "0.49406863437367604\n",
      "9.906919156593707\n"
     ]
    },
    {
     "name": "stderr",
     "output_type": "stream",
     "text": [
      "1it [00:00,  1.02it/s]"
     ]
    },
    {
     "name": "stdout",
     "output_type": "stream",
     "text": [
      "              precision    recall  f1-score   support\n",
      "\n",
      "           0       0.97      0.41      0.58     71206\n",
      "           1       0.23      0.92      0.37     13766\n",
      "\n",
      "    accuracy                           0.49     84972\n",
      "   macro avg       0.60      0.67      0.47     84972\n",
      "weighted avg       0.85      0.49      0.54     84972\n",
      "\n",
      "The balanced accuracy of the default model is 0.667\n",
      "0.29060160994209855\n",
      "23.197437627025128\n"
     ]
    },
    {
     "name": "stderr",
     "output_type": "stream",
     "text": [
      "2it [00:02,  1.08s/it]"
     ]
    },
    {
     "name": "stdout",
     "output_type": "stream",
     "text": [
      "              precision    recall  f1-score   support\n",
      "\n",
      "           0       0.96      0.14      0.25     69883\n",
      "           1       0.20      0.97      0.33     15089\n",
      "\n",
      "    accuracy                           0.29     84972\n",
      "   macro avg       0.58      0.56      0.29     84972\n",
      "weighted avg       0.82      0.29      0.26     84972\n",
      "\n",
      "The balanced accuracy of the default model is 0.557\n",
      "0.33884102998634846\n",
      "19.30294319740796\n"
     ]
    },
    {
     "name": "stderr",
     "output_type": "stream",
     "text": [
      "3it [00:03,  1.42s/it]"
     ]
    },
    {
     "name": "stdout",
     "output_type": "stream",
     "text": [
      "              precision    recall  f1-score   support\n",
      "\n",
      "           0       0.99      0.28      0.44     77546\n",
      "           1       0.11      0.96      0.20      7426\n",
      "\n",
      "    accuracy                           0.34     84972\n",
      "   macro avg       0.55      0.62      0.32     84972\n",
      "weighted avg       0.91      0.34      0.42     84972\n",
      "\n",
      "The balanced accuracy of the default model is 0.620\n",
      "0.20011297839288236\n",
      "24.124220451218267\n"
     ]
    },
    {
     "name": "stderr",
     "output_type": "stream",
     "text": [
      "4it [00:06,  1.73s/it]"
     ]
    },
    {
     "name": "stdout",
     "output_type": "stream",
     "text": [
      "              precision    recall  f1-score   support\n",
      "\n",
      "           0       0.96      0.13      0.23     77756\n",
      "           1       0.09      0.95      0.17      7216\n",
      "\n",
      "    accuracy                           0.20     84972\n",
      "   macro avg       0.53      0.54      0.20     84972\n",
      "weighted avg       0.89      0.20      0.22     84972\n",
      "\n",
      "The balanced accuracy of the default model is 0.539\n",
      "0.1807771971943699\n",
      "23.75332463839094\n"
     ]
    },
    {
     "name": "stderr",
     "output_type": "stream",
     "text": [
      "5it [00:08,  1.71s/it]\n",
      "0it [00:00, ?it/s]"
     ]
    },
    {
     "name": "stdout",
     "output_type": "stream",
     "text": [
      "              precision    recall  f1-score   support\n",
      "\n",
      "           0       1.00      0.15      0.26     81981\n",
      "           1       0.04      1.00      0.08      2991\n",
      "\n",
      "    accuracy                           0.18     84972\n",
      "   macro avg       0.52      0.57      0.17     84972\n",
      "weighted avg       0.97      0.18      0.26     84972\n",
      "\n",
      "The balanced accuracy of the default model is 0.574\n",
      "\n",
      "\n",
      "\n",
      "--------------------------\n",
      "0.3580002824459822\n",
      "19.355686149617135\n"
     ]
    },
    {
     "name": "stderr",
     "output_type": "stream",
     "text": [
      "1it [00:01,  1.27s/it]"
     ]
    },
    {
     "name": "stdout",
     "output_type": "stream",
     "text": [
      "              precision    recall  f1-score   support\n",
      "\n",
      "           0       0.93      0.25      0.40     71206\n",
      "           1       0.19      0.90      0.31     13766\n",
      "\n",
      "    accuracy                           0.36     84972\n",
      "   macro avg       0.56      0.58      0.36     84972\n",
      "weighted avg       0.81      0.36      0.38     84972\n",
      "\n",
      "The balanced accuracy of the default model is 0.576\n",
      "0.2547780445323165\n"
     ]
    },
    {
     "name": "stderr",
     "output_type": "stream",
     "text": [
      "2it [00:03,  1.76s/it]"
     ]
    },
    {
     "name": "stdout",
     "output_type": "stream",
     "text": [
      "25.910382160854493\n",
      "              precision    recall  f1-score   support\n",
      "\n",
      "           0       0.95      0.10      0.18     69883\n",
      "           1       0.19      0.98      0.32     15089\n",
      "\n",
      "    accuracy                           0.25     84972\n",
      "   macro avg       0.57      0.54      0.25     84972\n",
      "weighted avg       0.81      0.25      0.20     84972\n",
      "\n",
      "The balanced accuracy of the default model is 0.537\n",
      "0.9125947370898649\n",
      "3.1504050007175666\n"
     ]
    },
    {
     "name": "stderr",
     "output_type": "stream",
     "text": [
      "3it [00:06,  2.39s/it]"
     ]
    },
    {
     "name": "stdout",
     "output_type": "stream",
     "text": [
      "              precision    recall  f1-score   support\n",
      "\n",
      "           0       0.91      1.00      0.95     77546\n",
      "           1       0.00      0.00      0.00      7426\n",
      "\n",
      "    accuracy                           0.91     84972\n",
      "   macro avg       0.46      0.50      0.48     84972\n",
      "weighted avg       0.83      0.91      0.87     84972\n",
      "\n",
      "The balanced accuracy of the default model is 0.500\n",
      "0.1362213435013887\n",
      "29.984783898367667\n"
     ]
    },
    {
     "name": "stderr",
     "output_type": "stream",
     "text": [
      "4it [00:10,  2.99s/it]"
     ]
    },
    {
     "name": "stdout",
     "output_type": "stream",
     "text": [
      "              precision    recall  f1-score   support\n",
      "\n",
      "           0       0.95      0.06      0.11     77756\n",
      "           1       0.09      0.97      0.16      7216\n",
      "\n",
      "    accuracy                           0.14     84972\n",
      "   macro avg       0.52      0.51      0.14     84972\n",
      "weighted avg       0.88      0.14      0.12     84972\n",
      "\n",
      "The balanced accuracy of the default model is 0.514\n",
      "0.12195782139999059\n",
      "29.51894274801228\n"
     ]
    },
    {
     "name": "stderr",
     "output_type": "stream",
     "text": [
      "5it [00:15,  3.07s/it]\n",
      "0it [00:00, ?it/s]"
     ]
    },
    {
     "name": "stdout",
     "output_type": "stream",
     "text": [
      "              precision    recall  f1-score   support\n",
      "\n",
      "           0       1.00      0.09      0.17     81981\n",
      "           1       0.04      0.99      0.07      2991\n",
      "\n",
      "    accuracy                           0.12     84972\n",
      "   macro avg       0.52      0.54      0.12     84972\n",
      "weighted avg       0.96      0.12      0.16     84972\n",
      "\n",
      "The balanced accuracy of the default model is 0.541\n",
      "\n",
      "\n",
      "\n",
      "--------------------------\n",
      "0.8556465659275997\n"
     ]
    },
    {
     "name": "stderr",
     "output_type": "stream",
     "text": [
      "1it [00:05,  5.31s/it]"
     ]
    },
    {
     "name": "stdout",
     "output_type": "stream",
     "text": [
      "0.48088284597711073\n",
      "              precision    recall  f1-score   support\n",
      "\n",
      "           0       0.86      1.00      0.92     71206\n",
      "           1       0.88      0.13      0.22     13766\n",
      "\n",
      "    accuracy                           0.86     84972\n",
      "   macro avg       0.87      0.56      0.57     84972\n",
      "weighted avg       0.86      0.86      0.81     84972\n",
      "\n",
      "The balanced accuracy of the default model is 0.561\n",
      "0.8769594690015534\n",
      "0.3276395174994797\n"
     ]
    },
    {
     "name": "stderr",
     "output_type": "stream",
     "text": [
      "2it [00:11,  6.09s/it]"
     ]
    },
    {
     "name": "stdout",
     "output_type": "stream",
     "text": [
      "              precision    recall  f1-score   support\n",
      "\n",
      "           0       0.90      0.96      0.93     69883\n",
      "           1       0.72      0.50      0.59     15089\n",
      "\n",
      "    accuracy                           0.88     84972\n",
      "   macro avg       0.81      0.73      0.76     84972\n",
      "weighted avg       0.87      0.88      0.87     84972\n",
      "\n",
      "The balanced accuracy of the default model is 0.730\n",
      "0.9382267099750506\n",
      "0.15583562368216952\n"
     ]
    },
    {
     "name": "stderr",
     "output_type": "stream",
     "text": [
      "3it [00:21,  7.63s/it]"
     ]
    },
    {
     "name": "stdout",
     "output_type": "stream",
     "text": [
      "              precision    recall  f1-score   support\n",
      "\n",
      "           0       0.95      0.98      0.97     77546\n",
      "           1       0.73      0.47      0.57      7426\n",
      "\n",
      "    accuracy                           0.94     84972\n",
      "   macro avg       0.84      0.72      0.77     84972\n",
      "weighted avg       0.93      0.94      0.93     84972\n",
      "\n",
      "The balanced accuracy of the default model is 0.725\n",
      "0.9560561126017982\n",
      "0.11821778114132658\n"
     ]
    },
    {
     "name": "stderr",
     "output_type": "stream",
     "text": [
      "4it [00:32,  8.84s/it]"
     ]
    },
    {
     "name": "stdout",
     "output_type": "stream",
     "text": [
      "              precision    recall  f1-score   support\n",
      "\n",
      "           0       0.97      0.98      0.98     77756\n",
      "           1       0.77      0.69      0.73      7216\n",
      "\n",
      "    accuracy                           0.96     84972\n",
      "   macro avg       0.87      0.84      0.85     84972\n",
      "weighted avg       0.95      0.96      0.95     84972\n",
      "\n",
      "The balanced accuracy of the default model is 0.835\n",
      "0.9706962293461375\n",
      "0.07975357554417592\n"
     ]
    },
    {
     "name": "stderr",
     "output_type": "stream",
     "text": [
      "5it [00:45,  9.02s/it]"
     ]
    },
    {
     "name": "stdout",
     "output_type": "stream",
     "text": [
      "              precision    recall  f1-score   support\n",
      "\n",
      "           0       0.97      1.00      0.99     81981\n",
      "           1       0.85      0.20      0.33      2991\n",
      "\n",
      "    accuracy                           0.97     84972\n",
      "   macro avg       0.91      0.60      0.66     84972\n",
      "weighted avg       0.97      0.97      0.96     84972\n",
      "\n",
      "The balanced accuracy of the default model is 0.601\n"
     ]
    },
    {
     "name": "stderr",
     "output_type": "stream",
     "text": [
      "\n"
     ]
    }
   ],
   "source": [
    "import numpy as np\n",
    "import matplotlib.pyplot as plt\n",
    "from sklearn.model_selection import TimeSeriesSplit\n",
    "from matplotlib.colors import ListedColormap\n",
    "from sklearn.model_selection import train_test_split\n",
    "from sklearn.preprocessing import StandardScaler\n",
    "from sklearn.pipeline import make_pipeline\n",
    "from sklearn.metrics import accuracy_score\n",
    "from sklearn.metrics import log_loss, classification_report\n",
    "from sklearn.metrics import balanced_accuracy_score\n",
    "from sklearn.datasets import make_moons, make_circles, make_classification\n",
    "from sklearn.neural_network import MLPClassifier\n",
    "from sklearn.neighbors import KNeighborsClassifier\n",
    "from sklearn.svm import SVC\n",
    "from sklearn.linear_model import LogisticRegression\n",
    "from sklearn.gaussian_process import GaussianProcessClassifier\n",
    "from sklearn.gaussian_process.kernels import RBF\n",
    "from sklearn.tree import DecisionTreeClassifier\n",
    "from sklearn.ensemble import RandomForestClassifier, AdaBoostClassifier\n",
    "from sklearn.naive_bayes import GaussianNB\n",
    "from sklearn.discriminant_analysis import QuadraticDiscriminantAnalysis\n",
    "from sklearn.inspection import DecisionBoundaryDisplay\n",
    "from sklearn.ensemble import HistGradientBoostingClassifier\n",
    "from tqdm import tqdm\n",
    "\n",
    "\n",
    "names = [\n",
    "    \"Linear SVM\",\n",
    "    \"RBF SVM\",\n",
    "    \"Gaussian Process\",\n",
    "    \"Decision Tree\",\n",
    "    \"Random Forest\",\n",
    "    \"Neural Net\",\n",
    "    \"AdaBoost\",\n",
    "    \"Naive Bayes\",\n",
    "    \"QDA\",\n",
    "    \"HistGradientBoostingClassifier\"\n",
    "]\n",
    "\n",
    "classifiers = [\n",
    "    #GaussianProcessClassifier(1.0 * RBF(1.0)),\n",
    "    #DecisionTreeClassifier(max_depth=5),\n",
    "    #RandomForestClassifier(max_depth=5, n_estimators=10, max_features=1),\n",
    "    MLPClassifier(alpha=1, max_iter=1000),\n",
    "    AdaBoostClassifier(),\n",
    "    GaussianNB(),\n",
    "    QuadraticDiscriminantAnalysis(),\n",
    "    HistGradientBoostingClassifier()\n",
    "]\n",
    "\n",
    "X = df.drop(columns=['target'], axis=1).copy()\n",
    "y = df['target']\n",
    "X2 = X.fillna(0).copy()\n",
    "# Créer un objet TimeSeriesSplit\n",
    "tscv = TimeSeriesSplit(n_splits=5)\n",
    "\n",
    "\n",
    "for classifier in classifiers:\n",
    "    print(\"\\n\\n\\n-------------\"'-------------')\n",
    "    \n",
    "    # Boucle sur les plis\n",
    "    for train_index, test_index in tqdm(tscv.split(X2)):\n",
    "        X_train, X_test = X2.iloc[train_index], X2.iloc[test_index]\n",
    "        y_train, y_test = y.iloc[train_index], y.iloc[test_index]\n",
    "\n",
    "        #class_weights = dict(zip(np.unique(y_train), class_weight.compute_class_weight(class_weight='balanced', classes=np.unique(data_train['target']), y=data_train['target'])))\n",
    "\n",
    "        # Entrainer un modèle sur le jeu d'entraînement\n",
    "\n",
    "        model =make_pipeline(StandardScaler(), classifier)\n",
    "\n",
    "        #model.set_params(class_weight='balanced_subsample')\n",
    "\n",
    "        model.fit(X_train, y_train)#, sample_weight=0.3)\n",
    "\n",
    "        # Prédire sur le jeu de test\n",
    "        y_pred = model.predict(X_test)\n",
    "\n",
    "        # Afficher la précision\n",
    "        print(accuracy_score(y_test, y_pred))\n",
    "        print(log_loss(y_test, model.predict_proba(X_test)))\n",
    "        print(classification_report(y_test, y_pred))\n",
    "        print(f\"The balanced accuracy of the default model is \"\n",
    "              f\"{balanced_accuracy_score(y_test, y_pred):.3f}\")\n",
    "        "
   ]
  },
  {
   "cell_type": "code",
   "execution_count": null,
   "id": "2f34c371-cd83-46fc-b0ed-93c26cb83121",
   "metadata": {
    "tags": []
   },
   "outputs": [
    {
     "name": "stdout",
     "output_type": "stream",
     "text": [
      "Fitting 5 folds for each of 12 candidates, totalling 60 fits\n"
     ]
    },
    {
     "data": {
      "text/html": [
       "<style>#sk-container-id-2 {color: black;background-color: white;}#sk-container-id-2 pre{padding: 0;}#sk-container-id-2 div.sk-toggleable {background-color: white;}#sk-container-id-2 label.sk-toggleable__label {cursor: pointer;display: block;width: 100%;margin-bottom: 0;padding: 0.3em;box-sizing: border-box;text-align: center;}#sk-container-id-2 label.sk-toggleable__label-arrow:before {content: \"▸\";float: left;margin-right: 0.25em;color: #696969;}#sk-container-id-2 label.sk-toggleable__label-arrow:hover:before {color: black;}#sk-container-id-2 div.sk-estimator:hover label.sk-toggleable__label-arrow:before {color: black;}#sk-container-id-2 div.sk-toggleable__content {max-height: 0;max-width: 0;overflow: hidden;text-align: left;background-color: #f0f8ff;}#sk-container-id-2 div.sk-toggleable__content pre {margin: 0.2em;color: black;border-radius: 0.25em;background-color: #f0f8ff;}#sk-container-id-2 input.sk-toggleable__control:checked~div.sk-toggleable__content {max-height: 200px;max-width: 100%;overflow: auto;}#sk-container-id-2 input.sk-toggleable__control:checked~label.sk-toggleable__label-arrow:before {content: \"▾\";}#sk-container-id-2 div.sk-estimator input.sk-toggleable__control:checked~label.sk-toggleable__label {background-color: #d4ebff;}#sk-container-id-2 div.sk-label input.sk-toggleable__control:checked~label.sk-toggleable__label {background-color: #d4ebff;}#sk-container-id-2 input.sk-hidden--visually {border: 0;clip: rect(1px 1px 1px 1px);clip: rect(1px, 1px, 1px, 1px);height: 1px;margin: -1px;overflow: hidden;padding: 0;position: absolute;width: 1px;}#sk-container-id-2 div.sk-estimator {font-family: monospace;background-color: #f0f8ff;border: 1px dotted black;border-radius: 0.25em;box-sizing: border-box;margin-bottom: 0.5em;}#sk-container-id-2 div.sk-estimator:hover {background-color: #d4ebff;}#sk-container-id-2 div.sk-parallel-item::after {content: \"\";width: 100%;border-bottom: 1px solid gray;flex-grow: 1;}#sk-container-id-2 div.sk-label:hover label.sk-toggleable__label {background-color: #d4ebff;}#sk-container-id-2 div.sk-serial::before {content: \"\";position: absolute;border-left: 1px solid gray;box-sizing: border-box;top: 0;bottom: 0;left: 50%;z-index: 0;}#sk-container-id-2 div.sk-serial {display: flex;flex-direction: column;align-items: center;background-color: white;padding-right: 0.2em;padding-left: 0.2em;position: relative;}#sk-container-id-2 div.sk-item {position: relative;z-index: 1;}#sk-container-id-2 div.sk-parallel {display: flex;align-items: stretch;justify-content: center;background-color: white;position: relative;}#sk-container-id-2 div.sk-item::before, #sk-container-id-2 div.sk-parallel-item::before {content: \"\";position: absolute;border-left: 1px solid gray;box-sizing: border-box;top: 0;bottom: 0;left: 50%;z-index: -1;}#sk-container-id-2 div.sk-parallel-item {display: flex;flex-direction: column;z-index: 1;position: relative;background-color: white;}#sk-container-id-2 div.sk-parallel-item:first-child::after {align-self: flex-end;width: 50%;}#sk-container-id-2 div.sk-parallel-item:last-child::after {align-self: flex-start;width: 50%;}#sk-container-id-2 div.sk-parallel-item:only-child::after {width: 0;}#sk-container-id-2 div.sk-dashed-wrapped {border: 1px dashed gray;margin: 0 0.4em 0.5em 0.4em;box-sizing: border-box;padding-bottom: 0.4em;background-color: white;}#sk-container-id-2 div.sk-label label {font-family: monospace;font-weight: bold;display: inline-block;line-height: 1.2em;}#sk-container-id-2 div.sk-label-container {text-align: center;}#sk-container-id-2 div.sk-container {/* jupyter's `normalize.less` sets `[hidden] { display: none; }` but bootstrap.min.css set `[hidden] { display: none !important; }` so we also need the `!important` here to be able to override the default hidden behavior on the sphinx rendered scikit-learn.org. See: https://github.com/scikit-learn/scikit-learn/issues/21755 */display: inline-block !important;position: relative;}#sk-container-id-2 div.sk-text-repr-fallback {display: none;}</style><div id=\"sk-container-id-2\" class=\"sk-top-container\"><div class=\"sk-text-repr-fallback\"><pre>GridSearchCV(cv=TimeSeriesSplit(gap=0, max_train_size=None, n_splits=5, test_size=None),\n",
       "             estimator=HistGradientBoostingClassifier(), n_jobs=5,\n",
       "             param_grid=[{&#x27;learning_rate&#x27;: (0.01, 0.1, 1, 10),\n",
       "                          &#x27;max_leaf_nodes&#x27;: (3, 10, 30)}],\n",
       "             refit=False,\n",
       "             scoring={&#x27;f1&#x27;: make_scorer(f1_score),\n",
       "                      &#x27;log_loss&#x27;: make_scorer(log_loss)},\n",
       "             verbose=2)</pre><b>In a Jupyter environment, please rerun this cell to show the HTML representation or trust the notebook. <br />On GitHub, the HTML representation is unable to render, please try loading this page with nbviewer.org.</b></div><div class=\"sk-container\" hidden><div class=\"sk-item sk-dashed-wrapped\"><div class=\"sk-label-container\"><div class=\"sk-label sk-toggleable\"><input class=\"sk-toggleable__control sk-hidden--visually\" id=\"sk-estimator-id-4\" type=\"checkbox\" ><label for=\"sk-estimator-id-4\" class=\"sk-toggleable__label sk-toggleable__label-arrow\">GridSearchCV</label><div class=\"sk-toggleable__content\"><pre>GridSearchCV(cv=TimeSeriesSplit(gap=0, max_train_size=None, n_splits=5, test_size=None),\n",
       "             estimator=HistGradientBoostingClassifier(), n_jobs=5,\n",
       "             param_grid=[{&#x27;learning_rate&#x27;: (0.01, 0.1, 1, 10),\n",
       "                          &#x27;max_leaf_nodes&#x27;: (3, 10, 30)}],\n",
       "             refit=False,\n",
       "             scoring={&#x27;f1&#x27;: make_scorer(f1_score),\n",
       "                      &#x27;log_loss&#x27;: make_scorer(log_loss)},\n",
       "             verbose=2)</pre></div></div></div><div class=\"sk-parallel\"><div class=\"sk-parallel-item\"><div class=\"sk-item\"><div class=\"sk-label-container\"><div class=\"sk-label sk-toggleable\"><input class=\"sk-toggleable__control sk-hidden--visually\" id=\"sk-estimator-id-5\" type=\"checkbox\" ><label for=\"sk-estimator-id-5\" class=\"sk-toggleable__label sk-toggleable__label-arrow\">estimator: HistGradientBoostingClassifier</label><div class=\"sk-toggleable__content\"><pre>HistGradientBoostingClassifier()</pre></div></div></div><div class=\"sk-serial\"><div class=\"sk-item\"><div class=\"sk-estimator sk-toggleable\"><input class=\"sk-toggleable__control sk-hidden--visually\" id=\"sk-estimator-id-6\" type=\"checkbox\" ><label for=\"sk-estimator-id-6\" class=\"sk-toggleable__label sk-toggleable__label-arrow\">HistGradientBoostingClassifier</label><div class=\"sk-toggleable__content\"><pre>HistGradientBoostingClassifier()</pre></div></div></div></div></div></div></div></div></div></div>"
      ],
      "text/plain": [
       "GridSearchCV(cv=TimeSeriesSplit(gap=0, max_train_size=None, n_splits=5, test_size=None),\n",
       "             estimator=HistGradientBoostingClassifier(), n_jobs=5,\n",
       "             param_grid=[{'learning_rate': (0.01, 0.1, 1, 10),\n",
       "                          'max_leaf_nodes': (3, 10, 30)}],\n",
       "             refit=False,\n",
       "             scoring={'f1': make_scorer(f1_score),\n",
       "                      'log_loss': make_scorer(log_loss)},\n",
       "             verbose=2)"
      ]
     },
     "execution_count": 58,
     "metadata": {},
     "output_type": "execute_result"
    }
   ],
   "source": [
    "from sklearn.ensemble import HistGradientBoostingClassifier\n",
    "from sklearn.metrics import log_loss, make_scorer, f1_score\n",
    "from sklearn.model_selection import GridSearchCV\n",
    "X = df.drop(columns=['target'], axis=1).copy()\n",
    "y = df['target']\n",
    "X2 = X.fillna(0).copy()\n",
    "#parameters to tune\n",
    "param_grid = {\n",
    "    'classifier__learning_rate': (0.01, 0.1, 1, 10),\n",
    "    'classifier__max_leaf_nodes': (3, 10, 30)}\n",
    "param_grid = [    \n",
    "    {\n",
    "    'learning_rate': (0.01, 0.1, 1, 10),\n",
    "    'max_leaf_nodes': (3, 10, 30)}\n",
    "]\n",
    "\n",
    "classifier = HistGradientBoostingClassifier()\n",
    "model = make_pipeline(StandardScaler(), classifier)\n",
    "\n",
    "logloss_score = make_scorer(log_loss)\n",
    "f1_score_score = make_scorer(f1_score)\n",
    "\n",
    "'''n_jobs=5, \n",
    "cv=5, scoring=’f1_micro’,\n",
    "verbose=2, refit=True'''\n",
    "tscv = TimeSeriesSplit(n_splits=5)\n",
    "gsearch = GridSearchCV(estimator=classifier, cv=tscv,\n",
    "                        param_grid=param_grid, scoring={'log_loss':logloss_score,'f1':f1_score_score}, refit=False, verbose=2, n_jobs=5)\n",
    "gsearch.fit(X2, y)"
   ]
  },
  {
   "cell_type": "code",
   "execution_count": 60,
   "id": "60080172-1bbe-4bf2-b3e1-1c61ecc60d2a",
   "metadata": {},
   "outputs": [
    {
     "data": {
      "text/plain": [
       "array([ 6,  8,  9, 12, 11, 10,  5,  7,  4,  1,  3,  2], dtype=int32)"
      ]
     },
     "execution_count": 60,
     "metadata": {},
     "output_type": "execute_result"
    }
   ],
   "source": [
    "gsearch.cv_results_['rank_test_log_loss']"
   ]
  },
  {
   "cell_type": "code",
   "execution_count": 61,
   "id": "e34adb8e-4a14-4186-9b1d-6bfde89e1514",
   "metadata": {},
   "outputs": [
    {
     "data": {
      "text/plain": [
       "array([ 9,  8,  7,  1,  3,  5,  6,  2,  4, 10, 12, 11], dtype=int32)"
      ]
     },
     "execution_count": 61,
     "metadata": {},
     "output_type": "execute_result"
    }
   ],
   "source": [
    "gsearch.cv_results_['rank_test_f1']"
   ]
  },
  {
   "cell_type": "code",
   "execution_count": 62,
   "id": "ffd84708-ec10-42d2-8b62-f7e7a0537b6d",
   "metadata": {
    "collapsed": true,
    "jupyter": {
     "outputs_hidden": true
    },
    "tags": []
   },
   "outputs": [
    {
     "data": {
      "text/plain": [
       "{'mean_fit_time': array([21.32031889, 22.79760489, 31.22220421, 18.36002054, 19.65783143,\n",
       "        23.98173542,  7.54054232,  7.15282102,  8.94424133,  9.12849617,\n",
       "         8.53568702,  8.09240036]),\n",
       " 'std_fit_time': array([ 9.25405221,  8.97842663, 13.82209018,  6.54679239,  8.39154947,\n",
       "         8.90217315,  2.79415043,  3.0066012 ,  4.32680582,  4.48426112,\n",
       "         3.16644978,  2.9647645 ]),\n",
       " 'mean_score_time': array([0.78166718, 0.94754281, 1.01313682, 0.78056622, 0.8979197 ,\n",
       "        1.08790193, 0.19442196, 0.17828484, 0.3164794 , 0.33921385,\n",
       "        0.29653606, 0.17395239]),\n",
       " 'std_score_time': array([0.22979651, 0.19204853, 0.24796965, 0.19979595, 0.28748257,\n",
       "        0.36173045, 0.04572059, 0.0539238 , 0.16812724, 0.18390421,\n",
       "        0.1425145 , 0.04837183]),\n",
       " 'param_learning_rate': masked_array(data=[0.01, 0.01, 0.01, 0.1, 0.1, 0.1, 1, 1, 1, 10, 10, 10],\n",
       "              mask=[False, False, False, False, False, False, False, False,\n",
       "                    False, False, False, False],\n",
       "        fill_value='?',\n",
       "             dtype=object),\n",
       " 'param_max_leaf_nodes': masked_array(data=[3, 10, 30, 3, 10, 30, 3, 10, 30, 3, 10, 30],\n",
       "              mask=[False, False, False, False, False, False, False, False,\n",
       "                    False, False, False, False],\n",
       "        fill_value='?',\n",
       "             dtype=object),\n",
       " 'params': [{'learning_rate': 0.01, 'max_leaf_nodes': 3},\n",
       "  {'learning_rate': 0.01, 'max_leaf_nodes': 10},\n",
       "  {'learning_rate': 0.01, 'max_leaf_nodes': 30},\n",
       "  {'learning_rate': 0.1, 'max_leaf_nodes': 3},\n",
       "  {'learning_rate': 0.1, 'max_leaf_nodes': 10},\n",
       "  {'learning_rate': 0.1, 'max_leaf_nodes': 30},\n",
       "  {'learning_rate': 1, 'max_leaf_nodes': 3},\n",
       "  {'learning_rate': 1, 'max_leaf_nodes': 10},\n",
       "  {'learning_rate': 1, 'max_leaf_nodes': 30},\n",
       "  {'learning_rate': 10, 'max_leaf_nodes': 3},\n",
       "  {'learning_rate': 10, 'max_leaf_nodes': 10},\n",
       "  {'learning_rate': 10, 'max_leaf_nodes': 30}],\n",
       " 'split0_test_log_loss': array([ 5.42063087,  5.69592545,  5.67259541,  3.80449474,  4.22189053,\n",
       "         5.22211337,  7.73115411,  5.56824646,  9.49320909, 30.89153017,\n",
       "        25.25286938, 26.04566687]),\n",
       " 'split1_test_log_loss': array([ 5.47238117,  4.93748677,  4.71521502,  4.40047145,  4.38392833,\n",
       "         4.44373809,  5.24756433,  5.18478529,  5.61702747, 30.25822538,\n",
       "         6.78268156,  7.39859486]),\n",
       " 'split2_test_log_loss': array([ 2.73513013,  2.56121521,  2.54509627,  2.20278082,  2.2719226 ,\n",
       "         2.25919712,  2.5836969 ,  3.05157043,  2.96758225, 33.08794825,\n",
       "         3.44818126,  3.58137464]),\n",
       " 'split3_test_log_loss': array([ 2.66513998,  2.17351222,  1.89694509,  1.68400537,  1.58941262,\n",
       "         1.62080214,  2.41529636,  1.9016111 ,  1.92451696, 33.35645591,\n",
       "         3.06090245,  3.20173111]),\n",
       " 'split4_test_log_loss': array([ 1.14614169,  1.06766789,  1.10457178,  0.81527917,  1.01506923,\n",
       "         1.05366986,  1.26873049,  1.19577106,  1.17922794, 34.83685357,\n",
       "         1.26873049,  1.24200698]),\n",
       " 'mean_test_log_loss': array([ 3.48788477,  3.28716151,  3.18688471,  2.58140631,  2.69644466,\n",
       "         2.91990412,  3.84928844,  3.38039687,  4.23631274, 32.48620266,\n",
       "         7.96267303,  8.29387489]),\n",
       " 'std_test_log_loss': array([1.69711771, 1.74465366, 1.72779715, 1.33212868, 1.37166676,\n",
       "        1.62660797, 2.33843499, 1.73839164, 3.0279094 , 1.68237102,\n",
       "        8.82677888, 9.09718718]),\n",
       " 'rank_test_log_loss': array([ 6,  8,  9, 12, 11, 10,  5,  7,  4,  1,  3,  2], dtype=int32),\n",
       " 'split0_test_f1': array([0.15275476, 0.05741963, 0.08422927, 0.57830646, 0.48104698,\n",
       "        0.21780291, 0.42872367, 0.43357066, 0.40557769, 0.0963395 ,\n",
       "        0.05206758, 0.08226467]),\n",
       " 'split1_test_f1': array([0.28790639, 0.43013806, 0.48191648, 0.61259243, 0.59507111,\n",
       "        0.56200351, 0.56812707, 0.58090177, 0.57546807, 0.13616382,\n",
       "        0.06293952, 0.13275656]),\n",
       " 'split2_test_f1': array([0.24760793, 0.3422658 , 0.35787671, 0.56188307, 0.54679303,\n",
       "        0.55771467, 0.53178569, 0.48207343, 0.49942759, 0.07347666,\n",
       "        0.08178019, 0.0671749 ]),\n",
       " 'split3_test_f1': array([0.2671177 , 0.47746278, 0.57811321, 0.69956107, 0.73087697,\n",
       "        0.73021253, 0.60192953, 0.68149201, 0.68177036, 0.05257768,\n",
       "        0.        , 0.03871625]),\n",
       " 'split4_test_f1': array([0.17621951, 0.28106255, 0.25727325, 0.5725089 , 0.36609272,\n",
       "        0.32131148, 0.        , 0.55932468, 0.51769604, 0.02673524,\n",
       "        0.        , 0.04125737]),\n",
       " 'mean_test_f1': array([0.22632126, 0.31766976, 0.35188178, 0.60497038, 0.54397616,\n",
       "        0.47780902, 0.42611319, 0.54747251, 0.53598795, 0.07705858,\n",
       "        0.03935746, 0.07243395]),\n",
       " 'std_test_f1': array([0.05259737, 0.14687281, 0.17246116, 0.05025281, 0.12095713,\n",
       "        0.18399772, 0.22082811, 0.08540478, 0.09109257, 0.03744267,\n",
       "        0.03351229, 0.03426946]),\n",
       " 'rank_test_f1': array([ 9,  8,  7,  1,  3,  5,  6,  2,  4, 10, 12, 11], dtype=int32)}"
      ]
     },
     "execution_count": 62,
     "metadata": {},
     "output_type": "execute_result"
    }
   ],
   "source": [
    "gsearch.cv_results_"
   ]
  },
  {
   "cell_type": "code",
   "execution_count": null,
   "id": "9ce41af7-5567-4b63-ba82-5723ebc78821",
   "metadata": {},
   "outputs": [],
   "source": []
  },
  {
   "cell_type": "code",
   "execution_count": 66,
   "id": "6a82c36f-66e0-4927-9ef1-41178a1dd079",
   "metadata": {
    "collapsed": true,
    "jupyter": {
     "outputs_hidden": true
    },
    "tags": []
   },
   "outputs": [
    {
     "name": "stdout",
     "output_type": "stream",
     "text": [
      "0.8951419291060585\n",
      "0.25419369046321016\n",
      "              precision    recall  f1-score   support\n",
      "\n",
      "           0       0.90      0.98      0.94     71206\n",
      "           1       0.81      0.46      0.59     13766\n",
      "\n",
      "    accuracy                           0.90     84972\n",
      "   macro avg       0.86      0.72      0.76     84972\n",
      "weighted avg       0.89      0.90      0.88     84972\n",
      "\n",
      "The balanced accuracy of the default model is 0.722\n",
      "0.8777479640352116\n",
      "0.28319395401783853\n",
      "              precision    recall  f1-score   support\n",
      "\n",
      "           0       0.91      0.95      0.93     69883\n",
      "           1       0.70      0.55      0.62     15089\n",
      "\n",
      "    accuracy                           0.88     84972\n",
      "   macro avg       0.80      0.75      0.77     84972\n",
      "weighted avg       0.87      0.88      0.87     84972\n",
      "\n",
      "The balanced accuracy of the default model is 0.750\n",
      "0.9393211881560984\n",
      "0.15397330444155394\n",
      "              precision    recall  f1-score   support\n",
      "\n",
      "           0       0.95      0.99      0.97     77546\n",
      "           1       0.75      0.46      0.57      7426\n",
      "\n",
      "    accuracy                           0.94     84972\n",
      "   macro avg       0.85      0.72      0.77     84972\n",
      "weighted avg       0.93      0.94      0.93     84972\n",
      "\n",
      "The balanced accuracy of the default model is 0.721\n",
      "0.9534317186838017\n",
      "0.12895073421802777\n",
      "              precision    recall  f1-score   support\n",
      "\n",
      "           0       0.97      0.98      0.97     77756\n",
      "           1       0.77      0.64      0.70      7216\n",
      "\n",
      "    accuracy                           0.95     84972\n",
      "   macro avg       0.87      0.81      0.84     84972\n",
      "weighted avg       0.95      0.95      0.95     84972\n",
      "\n",
      "The balanced accuracy of the default model is 0.812\n",
      "0.9769453467024432\n",
      "0.06437896847960296\n",
      "              precision    recall  f1-score   support\n",
      "\n",
      "           0       0.98      1.00      0.99     81981\n",
      "           1       0.85      0.42      0.56      2991\n",
      "\n",
      "    accuracy                           0.98     84972\n",
      "   macro avg       0.92      0.71      0.77     84972\n",
      "weighted avg       0.97      0.98      0.97     84972\n",
      "\n",
      "The balanced accuracy of the default model is 0.707\n",
      "[CV] END ...............learning_rate=0.01, max_leaf_nodes=3; total time=   7.6s\n",
      "[CV] END ..............learning_rate=0.01, max_leaf_nodes=10; total time=   5.9s\n",
      "[CV] END ..............learning_rate=0.01, max_leaf_nodes=10; total time=  19.7s\n",
      "[CV] END ..............learning_rate=0.01, max_leaf_nodes=30; total time=  33.2s\n",
      "[CV] END ................learning_rate=0.1, max_leaf_nodes=3; total time=  18.0s\n",
      "[CV] END ...............learning_rate=0.1, max_leaf_nodes=10; total time=  22.4s\n",
      "[CV] END ..................learning_rate=1, max_leaf_nodes=3; total time=   7.7s\n",
      "[CV] END ..................learning_rate=1, max_leaf_nodes=3; total time=  16.6s\n",
      "[CV] END ..................learning_rate=1, max_leaf_nodes=3; total time=  14.2s\n",
      "[CV] END .................learning_rate=1, max_leaf_nodes=10; total time=  13.8s\n",
      "[CV] END .................learning_rate=1, max_leaf_nodes=30; total time=  32.9s\n",
      "[CV] END ................learning_rate=10, max_leaf_nodes=10; total time=   8.5s\n",
      "[CV] END ................learning_rate=10, max_leaf_nodes=10; total time=  13.4s\n",
      "[CV] END ................learning_rate=10, max_leaf_nodes=30; total time=  18.8s\n",
      "[CV] END ...............learning_rate=0.01, max_leaf_nodes=3; total time=  22.6s\n",
      "[CV] END ..............learning_rate=0.01, max_leaf_nodes=10; total time=  30.1s\n",
      "[CV] END ..............learning_rate=0.01, max_leaf_nodes=30; total time=  50.6s\n",
      "[CV] END ...............learning_rate=0.1, max_leaf_nodes=10; total time=  31.4s\n",
      "[CV] END ..................learning_rate=1, max_leaf_nodes=3; total time=   7.9s\n",
      "[CV] END .................learning_rate=1, max_leaf_nodes=10; total time=   2.8s\n",
      "[CV] END .................learning_rate=1, max_leaf_nodes=10; total time=   5.1s\n",
      "[CV] END .................learning_rate=1, max_leaf_nodes=10; total time=  11.6s\n",
      "[CV] END .................learning_rate=10, max_leaf_nodes=3; total time=   5.8s\n",
      "[CV] END .................learning_rate=10, max_leaf_nodes=3; total time=  14.6s\n",
      "[CV] END ................learning_rate=10, max_leaf_nodes=30; total time=   6.3s\n",
      "[CV] END ...............learning_rate=0.01, max_leaf_nodes=3; total time=  17.5s\n",
      "[CV] END ..............learning_rate=0.01, max_leaf_nodes=10; total time=  25.4s\n",
      "[CV] END ..............learning_rate=0.01, max_leaf_nodes=30; total time=  43.9s\n",
      "[CV] END ...............learning_rate=0.1, max_leaf_nodes=10; total time=  31.5s\n",
      "[CV] END ..................learning_rate=1, max_leaf_nodes=3; total time=  20.2s\n",
      "[CV] END .................learning_rate=1, max_leaf_nodes=10; total time=   3.3s\n",
      "[CV] END .................learning_rate=1, max_leaf_nodes=10; total time=   6.1s\n",
      "[CV] END .................learning_rate=1, max_leaf_nodes=10; total time=  28.6s\n",
      "[CV] END .................learning_rate=10, max_leaf_nodes=3; total time=   7.1s\n",
      "[CV] END .................learning_rate=10, max_leaf_nodes=3; total time=  18.6s\n",
      "[CV] END ................learning_rate=10, max_leaf_nodes=10; total time=   8.8s\n",
      "[CV] END ................learning_rate=10, max_leaf_nodes=30; total time=   5.8s\n",
      "[CV] END ................learning_rate=10, max_leaf_nodes=30; total time=  21.4s\n",
      "[CV] END ...............learning_rate=0.01, max_leaf_nodes=3; total time=  15.3s\n",
      "[CV] END ..............learning_rate=0.01, max_leaf_nodes=10; total time=  18.9s\n",
      "[CV] END ..............learning_rate=0.01, max_leaf_nodes=30; total time=  12.4s\n",
      "[CV] END ..............learning_rate=0.01, max_leaf_nodes=30; total time=  42.3s\n",
      "[CV] END ...............learning_rate=0.1, max_leaf_nodes=10; total time=  16.1s\n",
      "[CV] END ...............learning_rate=0.1, max_leaf_nodes=30; total time=  11.5s\n",
      "[CV] END ...............learning_rate=0.1, max_leaf_nodes=30; total time=  31.5s\n",
      "[CV] END .................learning_rate=1, max_leaf_nodes=10; total time=   8.1s\n",
      "[CV] END .................learning_rate=1, max_leaf_nodes=30; total time=   9.7s\n",
      "[CV] END .................learning_rate=10, max_leaf_nodes=3; total time=  13.8s\n",
      "[CV] END ................learning_rate=10, max_leaf_nodes=10; total time=  13.1s\n",
      "[CV] END ...............learning_rate=0.01, max_leaf_nodes=3; total time=  26.7s\n",
      "[CV] END ..............learning_rate=0.01, max_leaf_nodes=30; total time=   8.7s\n",
      "[CV] END ..............learning_rate=0.01, max_leaf_nodes=30; total time=  39.1s\n",
      "[CV] END ...............learning_rate=0.1, max_leaf_nodes=10; total time=  13.0s\n",
      "[CV] END ...............learning_rate=0.1, max_leaf_nodes=30; total time=  10.5s\n",
      "[CV] END ...............learning_rate=0.1, max_leaf_nodes=30; total time=  38.0s\n",
      "[CV] END ..................learning_rate=1, max_leaf_nodes=3; total time=  11.1s\n",
      "[CV] END .................learning_rate=1, max_leaf_nodes=30; total time=   2.9s\n",
      "[CV] END .................learning_rate=1, max_leaf_nodes=30; total time=  23.0s\n",
      "[CV] END .................learning_rate=1, max_leaf_nodes=30; total time=  29.5s\n",
      "[CV] END ................learning_rate=10, max_leaf_nodes=10; total time=  16.9s\n",
      "[CV] END ................learning_rate=10, max_leaf_nodes=30; total time=  21.5s\n",
      "[CV] END ...............learning_rate=0.01, max_leaf_nodes=3; total time=  34.2s\n",
      "[CV] END ..............learning_rate=0.01, max_leaf_nodes=30; total time=  20.3s\n",
      "[CV] END ................learning_rate=0.1, max_leaf_nodes=3; total time=   7.0s\n",
      "[CV] END ................learning_rate=0.1, max_leaf_nodes=3; total time=  18.0s\n",
      "[CV] END ................learning_rate=0.1, max_leaf_nodes=3; total time=  25.9s\n",
      "[CV] END ...............learning_rate=0.1, max_leaf_nodes=30; total time=  19.5s\n",
      "[CV] END ...............learning_rate=0.1, max_leaf_nodes=30; total time=  36.6s\n",
      "[CV] END .................learning_rate=10, max_leaf_nodes=3; total time=   2.5s\n",
      "[CV] END .................learning_rate=10, max_leaf_nodes=3; total time=  10.6s\n",
      "[CV] END ................learning_rate=10, max_leaf_nodes=10; total time=   9.6s\n",
      "[CV] END ................learning_rate=10, max_leaf_nodes=30; total time=   9.5s\n",
      "[CV] END ...............learning_rate=0.01, max_leaf_nodes=3; total time=  12.5s\n",
      "[CV] END ..............learning_rate=0.01, max_leaf_nodes=10; total time=  13.9s\n",
      "[CV] END ..............learning_rate=0.01, max_leaf_nodes=30; total time=  16.7s\n",
      "[CV] END ................learning_rate=0.1, max_leaf_nodes=3; total time=   8.8s\n",
      "[CV] END ................learning_rate=0.1, max_leaf_nodes=3; total time=  14.3s\n",
      "[CV] END ................learning_rate=0.1, max_leaf_nodes=3; total time=  21.9s\n",
      "[CV] END ...............learning_rate=0.1, max_leaf_nodes=30; total time=  17.2s\n",
      "[CV] END ...............learning_rate=0.1, max_leaf_nodes=30; total time= 1.2min\n",
      "[CV] END .................learning_rate=10, max_leaf_nodes=3; total time=  10.3s\n",
      "[CV] END .................learning_rate=10, max_leaf_nodes=3; total time=  24.9s\n",
      "[CV] END ................learning_rate=10, max_leaf_nodes=30; total time=  11.6s\n",
      "[CV] END ...............learning_rate=0.01, max_leaf_nodes=3; total time=   8.5s\n",
      "[CV] END ..............learning_rate=0.01, max_leaf_nodes=10; total time=   8.8s\n",
      "[CV] END ..............learning_rate=0.01, max_leaf_nodes=10; total time=  27.3s\n",
      "[CV] END ..............learning_rate=0.01, max_leaf_nodes=30; total time=  35.5s\n",
      "[CV] END ................learning_rate=0.1, max_leaf_nodes=3; total time=  21.5s\n",
      "[CV] END ...............learning_rate=0.1, max_leaf_nodes=10; total time=  27.0s\n",
      "[CV] END ..................learning_rate=1, max_leaf_nodes=3; total time=   3.9s\n",
      "[CV] END ..................learning_rate=1, max_leaf_nodes=3; total time=   5.3s\n",
      "[CV] END ..................learning_rate=1, max_leaf_nodes=3; total time=  11.1s\n",
      "[CV] END .................learning_rate=1, max_leaf_nodes=10; total time=   9.1s\n",
      "[CV] END .................learning_rate=1, max_leaf_nodes=30; total time=  12.3s\n",
      "[CV] END ................learning_rate=10, max_leaf_nodes=10; total time=   4.2s\n",
      "[CV] END ................learning_rate=10, max_leaf_nodes=10; total time=   6.4s\n",
      "[CV] END ................learning_rate=10, max_leaf_nodes=30; total time=   3.4s\n",
      "[CV] END ................learning_rate=10, max_leaf_nodes=30; total time=  10.6s\n",
      "[CV] END ...............learning_rate=0.01, max_leaf_nodes=3; total time=  21.8s\n",
      "[CV] END ..............learning_rate=0.01, max_leaf_nodes=10; total time=  31.2s\n",
      "[CV] END ................learning_rate=0.1, max_leaf_nodes=3; total time=  19.3s\n",
      "[CV] END ...............learning_rate=0.1, max_leaf_nodes=10; total time=   6.3s\n",
      "[CV] END ...............learning_rate=0.1, max_leaf_nodes=10; total time=  18.7s\n",
      "[CV] END ...............learning_rate=0.1, max_leaf_nodes=30; total time=  45.1s\n",
      "[CV] END .................learning_rate=1, max_leaf_nodes=10; total time=   8.3s\n",
      "[CV] END .................learning_rate=1, max_leaf_nodes=30; total time=  32.4s\n",
      "[CV] END .................learning_rate=10, max_leaf_nodes=3; total time=  21.1s\n",
      "[CV] END ................learning_rate=10, max_leaf_nodes=10; total time=  28.7s\n",
      "[CV] END ...............learning_rate=0.01, max_leaf_nodes=3; total time=  29.9s\n",
      "[CV] END ..............learning_rate=0.01, max_leaf_nodes=10; total time=  33.5s\n",
      "[CV] END ................learning_rate=0.1, max_leaf_nodes=3; total time=  23.2s\n",
      "[CV] END ...............learning_rate=0.1, max_leaf_nodes=10; total time=   7.1s\n",
      "[CV] END ...............learning_rate=0.1, max_leaf_nodes=10; total time=  21.1s\n",
      "[CV] END ...............learning_rate=0.1, max_leaf_nodes=30; total time=  26.2s\n",
      "[CV] END ..................learning_rate=1, max_leaf_nodes=3; total time=  10.5s\n",
      "[CV] END .................learning_rate=1, max_leaf_nodes=30; total time=   2.8s\n",
      "[CV] END .................learning_rate=1, max_leaf_nodes=30; total time=   6.1s\n",
      "[CV] END .................learning_rate=1, max_leaf_nodes=30; total time=  15.5s\n",
      "[CV] END ................learning_rate=10, max_leaf_nodes=10; total time=  10.9s\n",
      "[CV] END ................learning_rate=10, max_leaf_nodes=30; total time=  11.4s\n"
     ]
    }
   ],
   "source": [
    "from sklearn.model_selection import TimeSeriesSplit\n",
    "from sklearn.linear_model import LogisticRegression\n",
    "from sklearn.metrics import accuracy_score\n",
    "from sklearn.metrics import log_loss, classification_report\n",
    "from sklearn.metrics import balanced_accuracy_score\n",
    "from sklearn.ensemble import RandomForestClassifier\n",
    "from sklearn.pipeline import make_pipeline\n",
    "from sklearn.preprocessing import StandardScaler\n",
    "from sklearn.ensemble import HistGradientBoostingClassifier\n",
    "\n",
    "X = df.drop(columns=['target'], axis=1)\n",
    "y = df['target']\n",
    "X2 = X.fillna(0)\n",
    "# Créer un objet TimeSeriesSplit\n",
    "tscv = TimeSeriesSplit(n_splits=5)\n",
    "\n",
    "# Boucle sur les plis\n",
    "for train_index, test_index in tscv.split(X2):\n",
    "    X_train, X_test = X2.iloc[train_index], X2.iloc[test_index]\n",
    "    y_train, y_test = y.iloc[train_index], y.iloc[test_index]\n",
    "    \n",
    "    #class_weights = dict(zip(np.unique(y_train), class_weight.compute_class_weight(class_weight='balanced', classes=np.unique(data_train['target']), y=data_train['target'])))\n",
    "    \n",
    "    # Entrainer un modèle sur le jeu d'entraînement\n",
    "    \n",
    "    classifier = HistGradientBoostingClassifier(learning_rate= 0.1, max_leaf_nodes= 3)\n",
    "    model =make_pipeline(StandardScaler(), classifier)\n",
    "    \n",
    "    #model.set_params(class_weight='balanced_subsample')\n",
    "    \n",
    "    model.fit(X_train, y_train)#, sample_weight=0.3)\n",
    "\n",
    "    # Prédire sur le jeu de test\n",
    "    y_pred = model.predict(X_test)\n",
    "\n",
    "    # Afficher la précision\n",
    "    print(accuracy_score(y_test, y_pred))\n",
    "    print(log_loss(y_test, model.predict_proba(X_test)))\n",
    "    print(classification_report(y_test, y_pred))\n",
    "    print(f\"The balanced accuracy of the default model is \"\n",
    "          f\"{balanced_accuracy_score(y_test, y_pred):.3f}\")"
   ]
  },
  {
   "cell_type": "code",
   "execution_count": 65,
   "id": "6821b134-441e-4306-ba8d-ff648d49a06b",
   "metadata": {},
   "outputs": [
    {
     "name": "stdout",
     "output_type": "stream",
     "text": [
      "0.1422939321188156\n",
      "30.914860220451995\n",
      "              precision    recall  f1-score   support\n",
      "\n",
      "           0       0.45      0.12      0.18     71206\n",
      "           1       0.06      0.28      0.10     13766\n",
      "\n",
      "    accuracy                           0.14     84972\n",
      "   macro avg       0.26      0.20      0.14     84972\n",
      "weighted avg       0.39      0.14      0.17     84972\n",
      "\n",
      "The balanced accuracy of the default model is 0.199\n",
      "0.15674575154168433\n",
      "30.393963850332007\n",
      "              precision    recall  f1-score   support\n",
      "\n",
      "           0       0.45      0.11      0.17     69883\n",
      "           1       0.09      0.39      0.14     15089\n",
      "\n",
      "    accuracy                           0.16     84972\n",
      "   macro avg       0.27      0.25      0.16     84972\n",
      "weighted avg       0.38      0.16      0.17     84972\n",
      "\n",
      "The balanced accuracy of the default model is 0.248\n",
      "0.0821917808219178\n",
      "33.081161329737654\n",
      "              precision    recall  f1-score   support\n",
      "\n",
      "           0       0.47      0.05      0.09     77546\n",
      "           1       0.04      0.41      0.07      7426\n",
      "\n",
      "    accuracy                           0.08     84972\n",
      "   macro avg       0.26      0.23      0.08     84972\n",
      "weighted avg       0.44      0.08      0.09     84972\n",
      "\n",
      "The balanced accuracy of the default model is 0.232\n",
      "0.07449512780680695\n",
      "33.35857682327061\n",
      "              precision    recall  f1-score   support\n",
      "\n",
      "           0       0.45      0.05      0.10     77756\n",
      "           1       0.03      0.30      0.05      7216\n",
      "\n",
      "    accuracy                           0.07     84972\n",
      "   macro avg       0.24      0.18      0.07     84972\n",
      "weighted avg       0.42      0.07      0.09     84972\n",
      "\n",
      "The balanced accuracy of the default model is 0.178\n",
      "0.033481617473991435\n",
      "34.83685357397759\n",
      "              precision    recall  f1-score   support\n",
      "\n",
      "           0       0.48      0.02      0.04     81981\n",
      "           1       0.01      0.38      0.03      2991\n",
      "\n",
      "    accuracy                           0.03     84972\n",
      "   macro avg       0.25      0.20      0.03     84972\n",
      "weighted avg       0.46      0.03      0.04     84972\n",
      "\n",
      "The balanced accuracy of the default model is 0.200\n"
     ]
    }
   ],
   "source": [
    "from sklearn.model_selection import TimeSeriesSplit\n",
    "from sklearn.linear_model import LogisticRegression\n",
    "from sklearn.metrics import accuracy_score\n",
    "from sklearn.metrics import log_loss, classification_report\n",
    "from sklearn.metrics import balanced_accuracy_score\n",
    "from sklearn.ensemble import RandomForestClassifier\n",
    "from sklearn.pipeline import make_pipeline\n",
    "from sklearn.preprocessing import StandardScaler\n",
    "from sklearn.ensemble import HistGradientBoostingClassifier\n",
    "\n",
    "X = df.drop(columns=['target'], axis=1)\n",
    "y = df['target']\n",
    "X2 = X.fillna(0)\n",
    "# Créer un objet TimeSeriesSplit\n",
    "tscv = TimeSeriesSplit(n_splits=5)\n",
    "\n",
    "# Boucle sur les plis\n",
    "for train_index, test_index in tscv.split(X2):\n",
    "    X_train, X_test = X2.iloc[train_index], X2.iloc[test_index]\n",
    "    y_train, y_test = y.iloc[train_index], y.iloc[test_index]\n",
    "    \n",
    "    #class_weights = dict(zip(np.unique(y_train), class_weight.compute_class_weight(class_weight='balanced', classes=np.unique(data_train['target']), y=data_train['target'])))\n",
    "    \n",
    "    # Entrainer un modèle sur le jeu d'entraînement\n",
    "    \n",
    "    classifier = HistGradientBoostingClassifier(learning_rate= 10, max_leaf_nodes= 3)\n",
    "    model =make_pipeline(StandardScaler(), classifier)\n",
    "    \n",
    "    #model.set_params(class_weight='balanced_subsample')\n",
    "    \n",
    "    model.fit(X_train, y_train)#, sample_weight=0.3)\n",
    "\n",
    "    # Prédire sur le jeu de test\n",
    "    y_pred = model.predict(X_test)\n",
    "\n",
    "    # Afficher la précision\n",
    "    print(accuracy_score(y_test, y_pred))\n",
    "    print(log_loss(y_test, model.predict_proba(X_test)))\n",
    "    print(classification_report(y_test, y_pred))\n",
    "    print(f\"The balanced accuracy of the default model is \"\n",
    "          f\"{balanced_accuracy_score(y_test, y_pred):.3f}\")"
   ]
  },
  {
   "cell_type": "code",
   "execution_count": 33,
   "id": "edbaaa7b-950c-42ce-bb1b-cd2e427dad85",
   "metadata": {},
   "outputs": [
    {
     "name": "stdout",
     "output_type": "stream",
     "text": [
      "0.8851268653203408\n",
      "0.28725729516608145\n",
      "              precision    recall  f1-score   support\n",
      "\n",
      "           0       0.91      0.96      0.93     71206\n",
      "           1       0.70      0.52      0.59     13766\n",
      "\n",
      "    accuracy                           0.89     84972\n",
      "   macro avg       0.80      0.74      0.76     84972\n",
      "weighted avg       0.88      0.89      0.88     84972\n",
      "\n",
      "The balanced accuracy of the default model is 0.736\n",
      "0.8624605752483171\n",
      "0.3438494831791435\n",
      "              precision    recall  f1-score   support\n",
      "\n",
      "           0       0.89      0.95      0.92     69883\n",
      "           1       0.67      0.45      0.54     15089\n",
      "\n",
      "    accuracy                           0.86     84972\n",
      "   macro avg       0.78      0.70      0.73     84972\n",
      "weighted avg       0.85      0.86      0.85     84972\n",
      "\n",
      "The balanced accuracy of the default model is 0.699\n",
      "0.9313773949065575\n",
      "0.18612147209597016\n",
      "              precision    recall  f1-score   support\n",
      "\n",
      "           0       0.94      0.98      0.96     77546\n",
      "           1       0.69      0.39      0.50      7426\n",
      "\n",
      "    accuracy                           0.93     84972\n",
      "   macro avg       0.82      0.69      0.73     84972\n",
      "weighted avg       0.92      0.93      0.92     84972\n",
      "\n",
      "The balanced accuracy of the default model is 0.689\n",
      "0.9471119898319447\n",
      "0.15194905919248516\n",
      "              precision    recall  f1-score   support\n",
      "\n",
      "           0       0.96      0.98      0.97     77756\n",
      "           1       0.73      0.60      0.66      7216\n",
      "\n",
      "    accuracy                           0.95     84972\n",
      "   macro avg       0.85      0.79      0.81     84972\n",
      "weighted avg       0.94      0.95      0.94     84972\n",
      "\n",
      "The balanced accuracy of the default model is 0.788\n",
      "0.9684955044014499\n",
      "0.09509832672808588\n",
      "              precision    recall  f1-score   support\n",
      "\n",
      "           0       0.97      1.00      0.98     81981\n",
      "           1       0.65      0.22      0.33      2991\n",
      "\n",
      "    accuracy                           0.97     84972\n",
      "   macro avg       0.81      0.61      0.66     84972\n",
      "weighted avg       0.96      0.97      0.96     84972\n",
      "\n",
      "The balanced accuracy of the default model is 0.610\n"
     ]
    }
   ],
   "source": [
    "from sklearn.model_selection import TimeSeriesSplit\n",
    "from sklearn.linear_model import LogisticRegression\n",
    "from sklearn.metrics import accuracy_score\n",
    "from sklearn.metrics import log_loss, classification_report\n",
    "from sklearn.metrics import balanced_accuracy_score\n",
    "from sklearn.ensemble import RandomForestClassifier\n",
    "from sklearn.pipeline import make_pipeline\n",
    "from sklearn.preprocessing import StandardScaler\n",
    "from sklearn.ensemble import HistGradientBoostingClassifier\n",
    "\n",
    "X = df.drop(columns=['target'], axis=1)\n",
    "y = df['target']\n",
    "X2 = X.fillna(0)\n",
    "# Créer un objet TimeSeriesSplit\n",
    "tscv = TimeSeriesSplit(n_splits=5)\n",
    "\n",
    "# Boucle sur les plis\n",
    "for train_index, test_index in tscv.split(X2):\n",
    "    X_train, X_test = X2.iloc[train_index], X2.iloc[test_index]\n",
    "    y_train, y_test = y.iloc[train_index], y.iloc[test_index]\n",
    "    \n",
    "    #class_weights = dict(zip(np.unique(y_train), class_weight.compute_class_weight(class_weight='balanced', classes=np.unique(data_train['target']), y=data_train['target'])))\n",
    "    \n",
    "    # Entrainer un modèle sur le jeu d'entraînement\n",
    "    \n",
    "    classifier = HistGradientBoostingClassifier()\n",
    "    model =make_pipeline(StandardScaler(), classifier)\n",
    "    \n",
    "    #model.set_params(class_weight='balanced_subsample')\n",
    "    \n",
    "    model.fit(X_train, y_train)#, sample_weight=0.3)\n",
    "\n",
    "    # Prédire sur le jeu de test\n",
    "    y_pred = model.predict(X_test)\n",
    "\n",
    "    # Afficher la précision\n",
    "    print(accuracy_score(y_test, y_pred))\n",
    "    print(log_loss(y_test, model.predict_proba(X_test)))\n",
    "    print(classification_report(y_test, y_pred))\n",
    "    print(f\"The balanced accuracy of the default model is \"\n",
    "          f\"{balanced_accuracy_score(y_test, y_pred):.3f}\")"
   ]
  },
  {
   "cell_type": "code",
   "execution_count": 81,
   "id": "bd1a9e08-b152-49fa-b397-9af7b346bfb6",
   "metadata": {
    "tags": []
   },
   "outputs": [
    {
     "name": "stdout",
     "output_type": "stream",
     "text": [
      "0.8638728051593466\n",
      "0.31891108273695173\n",
      "              precision    recall  f1-score   support\n",
      "\n",
      "           0       0.86      1.00      0.92     71206\n",
      "           1       0.89      0.18      0.30     13766\n",
      "\n",
      "    accuracy                           0.86     84972\n",
      "   macro avg       0.88      0.59      0.61     84972\n",
      "weighted avg       0.87      0.86      0.82     84972\n",
      "\n",
      "The balanced accuracy of the default model is 0.589\n",
      "0.8765240314456527\n",
      "0.33581097815950334\n",
      "              precision    recall  f1-score   support\n",
      "\n",
      "           0       0.90      0.96      0.93     69883\n",
      "           1       0.72      0.50      0.59     15089\n",
      "\n",
      "    accuracy                           0.88     84972\n",
      "   macro avg       0.81      0.73      0.76     84972\n",
      "weighted avg       0.87      0.88      0.87     84972\n",
      "\n",
      "The balanced accuracy of the default model is 0.729\n",
      "0.9330956079649767\n",
      "0.3663570620000026\n",
      "              precision    recall  f1-score   support\n",
      "\n",
      "           0       0.97      0.96      0.96     77546\n",
      "           1       0.61      0.66      0.63      7426\n",
      "\n",
      "    accuracy                           0.93     84972\n",
      "   macro avg       0.79      0.81      0.80     84972\n",
      "weighted avg       0.94      0.93      0.93     84972\n",
      "\n",
      "The balanced accuracy of the default model is 0.812\n",
      "0.9578684743209528\n",
      "0.23192212079971924\n",
      "              precision    recall  f1-score   support\n",
      "\n",
      "           0       0.97      0.98      0.98     77756\n",
      "           1       0.77      0.72      0.74      7216\n",
      "\n",
      "    accuracy                           0.96     84972\n",
      "   macro avg       0.87      0.85      0.86     84972\n",
      "weighted avg       0.96      0.96      0.96     84972\n",
      "\n",
      "The balanced accuracy of the default model is 0.850\n",
      "0.9730734830297039\n",
      "0.1759191398739803\n",
      "              precision    recall  f1-score   support\n",
      "\n",
      "           0       0.97      1.00      0.99     81981\n",
      "           1       0.88      0.27      0.42      2991\n",
      "\n",
      "    accuracy                           0.97     84972\n",
      "   macro avg       0.93      0.64      0.70     84972\n",
      "weighted avg       0.97      0.97      0.97     84972\n",
      "\n",
      "The balanced accuracy of the default model is 0.636\n"
     ]
    }
   ],
   "source": [
    "from sklearn.model_selection import TimeSeriesSplit\n",
    "from sklearn.linear_model import LogisticRegression\n",
    "from sklearn.metrics import accuracy_score\n",
    "from sklearn.metrics import log_loss, classification_report\n",
    "from sklearn.metrics import balanced_accuracy_score\n",
    "from sklearn.ensemble import RandomForestClassifier\n",
    "from sklearn.pipeline import make_pipeline\n",
    "from sklearn.preprocessing import StandardScaler\n",
    "from sklearn.ensemble import HistGradientBoostingClassifier\n",
    "from sklearn.ensemble import VotingClassifier\n",
    "from sklearn.neural_network import MLPClassifier\n",
    "from sklearn.linear_model import LogisticRegression\n",
    "from sklearn.ensemble import RandomForestClassifier, AdaBoostClassifier\n",
    "from sklearn.ensemble import HistGradientBoostingClassifier\n",
    "from sklearn.ensemble import StackingClassifier\n",
    "from sklearn.neighbors import KNeighborsClassifier\n",
    "from tqdm import tqdm\n",
    "\n",
    "\n",
    "X = df.drop(columns=['target'], axis=1)\n",
    "y = df['target']\n",
    "X2 = X.fillna(0)\n",
    "# Créer un objet TimeSeriesSplit\n",
    "tscv = TimeSeriesSplit(n_splits=5)\n",
    "\n",
    "# Boucle sur les plis\n",
    "for train_index, test_index in tscv.split(X2):\n",
    "    X_train, X_test = X2.iloc[train_index], X2.iloc[test_index]\n",
    "    y_train, y_test = y.iloc[train_index], y.iloc[test_index]\n",
    "    \n",
    "    #class_weights = dict(zip(np.unique(y_train), class_weight.compute_class_weight(class_weight='balanced', classes=np.unique(data_train['target']), y=data_train['target'])))\n",
    "    \n",
    "    # Entrainer un modèle sur le jeu d'entraînement\n",
    "    model1 = MLPClassifier(alpha=1, max_iter=1000)\n",
    "    model2 = AdaBoostClassifier()\n",
    "    model3 = HistGradientBoostingClassifier()\n",
    "    model4 = LogisticRegression()\n",
    "    model5 = RandomForestClassifier()\n",
    "    model6 = KNeighborsClassifier()\n",
    "\n",
    "    model7 = VotingClassifier([('MLP', make_pipeline(StandardScaler(), model1)), \n",
    "                                 ('Ada', make_pipeline(StandardScaler(), model2)), \n",
    "                                 ('HGB', make_pipeline(StandardScaler(), model3)),\n",
    "                                 ('LR', make_pipeline(StandardScaler(), model4))], \n",
    "                               voting='soft')\n",
    "    \n",
    "    \n",
    "    #model.set_params(class_weight='balanced_subsample')\n",
    "    \n",
    "    model7.fit(X_train, y_train)#, sample_weight=0.3)\n",
    "\n",
    "    # Prédire sur le jeu de test\n",
    "    y_pred = model7.predict(X_test)\n",
    "\n",
    "    # Afficher la précision\n",
    "    print(accuracy_score(y_test, y_pred))\n",
    "    print(log_loss(y_test, model7.predict_proba(X_test)))\n",
    "    print(classification_report(y_test, y_pred))\n",
    "    print(f\"The balanced accuracy of the default model is \"\n",
    "          f\"{balanced_accuracy_score(y_test, y_pred):.3f}\")"
   ]
  },
  {
   "cell_type": "code",
   "execution_count": 82,
   "id": "93659fd4-ce8d-4037-a0bd-1e50ab2fa201",
   "metadata": {
    "collapsed": true,
    "jupyter": {
     "outputs_hidden": true
    },
    "tags": []
   },
   "outputs": [
    {
     "name": "stdout",
     "output_type": "stream",
     "text": [
      "0.8622958150920303\n",
      "0.3738313741617672\n",
      "              precision    recall  f1-score   support\n",
      "\n",
      "           0       0.86      0.99      0.92     71206\n",
      "           1       0.85      0.18      0.30     13766\n",
      "\n",
      "    accuracy                           0.86     84972\n",
      "   macro avg       0.86      0.59      0.61     84972\n",
      "weighted avg       0.86      0.86      0.82     84972\n",
      "\n",
      "The balanced accuracy of the default model is 0.588\n",
      "0.8716989125829685\n",
      "0.31240270352139465\n",
      "              precision    recall  f1-score   support\n",
      "\n",
      "           0       0.90      0.95      0.92     69883\n",
      "           1       0.68      0.52      0.59     15089\n",
      "\n",
      "    accuracy                           0.87     84972\n",
      "   macro avg       0.79      0.73      0.76     84972\n",
      "weighted avg       0.86      0.87      0.86     84972\n",
      "\n",
      "The balanced accuracy of the default model is 0.733\n"
     ]
    },
    {
     "ename": "KeyboardInterrupt",
     "evalue": "",
     "output_type": "error",
     "traceback": [
      "\u001b[0;31m---------------------------------------------------------------------------\u001b[0m",
      "\u001b[0;31mKeyboardInterrupt\u001b[0m                         Traceback (most recent call last)",
      "Cell \u001b[0;32mIn[82], line 49\u001b[0m\n\u001b[1;32m     41\u001b[0m model7 \u001b[38;5;241m=\u001b[39m StackingClassifier([(\u001b[38;5;124m'\u001b[39m\u001b[38;5;124mMLP\u001b[39m\u001b[38;5;124m'\u001b[39m, make_pipeline(StandardScaler(), model1)), \n\u001b[1;32m     42\u001b[0m                              (\u001b[38;5;124m'\u001b[39m\u001b[38;5;124mAda\u001b[39m\u001b[38;5;124m'\u001b[39m, make_pipeline(StandardScaler(), model2)), \n\u001b[1;32m     43\u001b[0m                              (\u001b[38;5;124m'\u001b[39m\u001b[38;5;124mHGB\u001b[39m\u001b[38;5;124m'\u001b[39m, make_pipeline(StandardScaler(), model3))],                                 \n\u001b[1;32m     44\u001b[0m                            final_estimator\u001b[38;5;241m=\u001b[39mLogisticRegression())\n\u001b[1;32m     47\u001b[0m \u001b[38;5;66;03m#model.set_params(class_weight='balanced_subsample')\u001b[39;00m\n\u001b[0;32m---> 49\u001b[0m \u001b[43mmodel7\u001b[49m\u001b[38;5;241;43m.\u001b[39;49m\u001b[43mfit\u001b[49m\u001b[43m(\u001b[49m\u001b[43mX_train\u001b[49m\u001b[43m,\u001b[49m\u001b[43m \u001b[49m\u001b[43my_train\u001b[49m\u001b[43m)\u001b[49m\u001b[38;5;66;03m#, sample_weight=0.3)\u001b[39;00m\n\u001b[1;32m     51\u001b[0m \u001b[38;5;66;03m# Prédire sur le jeu de test\u001b[39;00m\n\u001b[1;32m     52\u001b[0m y_pred \u001b[38;5;241m=\u001b[39m model7\u001b[38;5;241m.\u001b[39mpredict(X_test)\n",
      "File \u001b[0;32m~/opt/anaconda3/lib/python3.9/site-packages/sklearn/ensemble/_stacking.py:660\u001b[0m, in \u001b[0;36mStackingClassifier.fit\u001b[0;34m(self, X, y, sample_weight)\u001b[0m\n\u001b[1;32m    658\u001b[0m     \u001b[38;5;28mself\u001b[39m\u001b[38;5;241m.\u001b[39mclasses_ \u001b[38;5;241m=\u001b[39m \u001b[38;5;28mself\u001b[39m\u001b[38;5;241m.\u001b[39m_label_encoder\u001b[38;5;241m.\u001b[39mclasses_\n\u001b[1;32m    659\u001b[0m     y_encoded \u001b[38;5;241m=\u001b[39m \u001b[38;5;28mself\u001b[39m\u001b[38;5;241m.\u001b[39m_label_encoder\u001b[38;5;241m.\u001b[39mtransform(y)\n\u001b[0;32m--> 660\u001b[0m \u001b[38;5;28;01mreturn\u001b[39;00m \u001b[38;5;28;43msuper\u001b[39;49m\u001b[43m(\u001b[49m\u001b[43m)\u001b[49m\u001b[38;5;241;43m.\u001b[39;49m\u001b[43mfit\u001b[49m\u001b[43m(\u001b[49m\u001b[43mX\u001b[49m\u001b[43m,\u001b[49m\u001b[43m \u001b[49m\u001b[43my_encoded\u001b[49m\u001b[43m,\u001b[49m\u001b[43m \u001b[49m\u001b[43msample_weight\u001b[49m\u001b[43m)\u001b[49m\n",
      "File \u001b[0;32m~/opt/anaconda3/lib/python3.9/site-packages/sklearn/ensemble/_stacking.py:253\u001b[0m, in \u001b[0;36m_BaseStacking.fit\u001b[0;34m(self, X, y, sample_weight)\u001b[0m\n\u001b[1;32m    248\u001b[0m         cv\u001b[38;5;241m.\u001b[39mrandom_state \u001b[38;5;241m=\u001b[39m np\u001b[38;5;241m.\u001b[39mrandom\u001b[38;5;241m.\u001b[39mRandomState()\n\u001b[1;32m    250\u001b[0m     fit_params \u001b[38;5;241m=\u001b[39m (\n\u001b[1;32m    251\u001b[0m         {\u001b[38;5;124m\"\u001b[39m\u001b[38;5;124msample_weight\u001b[39m\u001b[38;5;124m\"\u001b[39m: sample_weight} \u001b[38;5;28;01mif\u001b[39;00m sample_weight \u001b[38;5;129;01mis\u001b[39;00m \u001b[38;5;129;01mnot\u001b[39;00m \u001b[38;5;28;01mNone\u001b[39;00m \u001b[38;5;28;01melse\u001b[39;00m \u001b[38;5;28;01mNone\u001b[39;00m\n\u001b[1;32m    252\u001b[0m     )\n\u001b[0;32m--> 253\u001b[0m     predictions \u001b[38;5;241m=\u001b[39m \u001b[43mParallel\u001b[49m\u001b[43m(\u001b[49m\u001b[43mn_jobs\u001b[49m\u001b[38;5;241;43m=\u001b[39;49m\u001b[38;5;28;43mself\u001b[39;49m\u001b[38;5;241;43m.\u001b[39;49m\u001b[43mn_jobs\u001b[49m\u001b[43m)\u001b[49m\u001b[43m(\u001b[49m\n\u001b[1;32m    254\u001b[0m \u001b[43m        \u001b[49m\u001b[43mdelayed\u001b[49m\u001b[43m(\u001b[49m\u001b[43mcross_val_predict\u001b[49m\u001b[43m)\u001b[49m\u001b[43m(\u001b[49m\n\u001b[1;32m    255\u001b[0m \u001b[43m            \u001b[49m\u001b[43mclone\u001b[49m\u001b[43m(\u001b[49m\u001b[43mest\u001b[49m\u001b[43m)\u001b[49m\u001b[43m,\u001b[49m\n\u001b[1;32m    256\u001b[0m \u001b[43m            \u001b[49m\u001b[43mX\u001b[49m\u001b[43m,\u001b[49m\n\u001b[1;32m    257\u001b[0m \u001b[43m            \u001b[49m\u001b[43my\u001b[49m\u001b[43m,\u001b[49m\n\u001b[1;32m    258\u001b[0m \u001b[43m            \u001b[49m\u001b[43mcv\u001b[49m\u001b[38;5;241;43m=\u001b[39;49m\u001b[43mdeepcopy\u001b[49m\u001b[43m(\u001b[49m\u001b[43mcv\u001b[49m\u001b[43m)\u001b[49m\u001b[43m,\u001b[49m\n\u001b[1;32m    259\u001b[0m \u001b[43m            \u001b[49m\u001b[43mmethod\u001b[49m\u001b[38;5;241;43m=\u001b[39;49m\u001b[43mmeth\u001b[49m\u001b[43m,\u001b[49m\n\u001b[1;32m    260\u001b[0m \u001b[43m            \u001b[49m\u001b[43mn_jobs\u001b[49m\u001b[38;5;241;43m=\u001b[39;49m\u001b[38;5;28;43mself\u001b[39;49m\u001b[38;5;241;43m.\u001b[39;49m\u001b[43mn_jobs\u001b[49m\u001b[43m,\u001b[49m\n\u001b[1;32m    261\u001b[0m \u001b[43m            \u001b[49m\u001b[43mfit_params\u001b[49m\u001b[38;5;241;43m=\u001b[39;49m\u001b[43mfit_params\u001b[49m\u001b[43m,\u001b[49m\n\u001b[1;32m    262\u001b[0m \u001b[43m            \u001b[49m\u001b[43mverbose\u001b[49m\u001b[38;5;241;43m=\u001b[39;49m\u001b[38;5;28;43mself\u001b[39;49m\u001b[38;5;241;43m.\u001b[39;49m\u001b[43mverbose\u001b[49m\u001b[43m,\u001b[49m\n\u001b[1;32m    263\u001b[0m \u001b[43m        \u001b[49m\u001b[43m)\u001b[49m\n\u001b[1;32m    264\u001b[0m \u001b[43m        \u001b[49m\u001b[38;5;28;43;01mfor\u001b[39;49;00m\u001b[43m \u001b[49m\u001b[43mest\u001b[49m\u001b[43m,\u001b[49m\u001b[43m \u001b[49m\u001b[43mmeth\u001b[49m\u001b[43m \u001b[49m\u001b[38;5;129;43;01min\u001b[39;49;00m\u001b[43m \u001b[49m\u001b[38;5;28;43mzip\u001b[39;49m\u001b[43m(\u001b[49m\u001b[43mall_estimators\u001b[49m\u001b[43m,\u001b[49m\u001b[43m \u001b[49m\u001b[38;5;28;43mself\u001b[39;49m\u001b[38;5;241;43m.\u001b[39;49m\u001b[43mstack_method_\u001b[49m\u001b[43m)\u001b[49m\n\u001b[1;32m    265\u001b[0m \u001b[43m        \u001b[49m\u001b[38;5;28;43;01mif\u001b[39;49;00m\u001b[43m \u001b[49m\u001b[43mest\u001b[49m\u001b[43m \u001b[49m\u001b[38;5;241;43m!=\u001b[39;49m\u001b[43m \u001b[49m\u001b[38;5;124;43m\"\u001b[39;49m\u001b[38;5;124;43mdrop\u001b[39;49m\u001b[38;5;124;43m\"\u001b[39;49m\n\u001b[1;32m    266\u001b[0m \u001b[43m    \u001b[49m\u001b[43m)\u001b[49m\n\u001b[1;32m    268\u001b[0m \u001b[38;5;66;03m# Only not None or not 'drop' estimators will be used in transform.\u001b[39;00m\n\u001b[1;32m    269\u001b[0m \u001b[38;5;66;03m# Remove the None from the method as well.\u001b[39;00m\n\u001b[1;32m    270\u001b[0m \u001b[38;5;28mself\u001b[39m\u001b[38;5;241m.\u001b[39mstack_method_ \u001b[38;5;241m=\u001b[39m [\n\u001b[1;32m    271\u001b[0m     meth\n\u001b[1;32m    272\u001b[0m     \u001b[38;5;28;01mfor\u001b[39;00m (meth, est) \u001b[38;5;129;01min\u001b[39;00m \u001b[38;5;28mzip\u001b[39m(\u001b[38;5;28mself\u001b[39m\u001b[38;5;241m.\u001b[39mstack_method_, all_estimators)\n\u001b[1;32m    273\u001b[0m     \u001b[38;5;28;01mif\u001b[39;00m est \u001b[38;5;241m!=\u001b[39m \u001b[38;5;124m\"\u001b[39m\u001b[38;5;124mdrop\u001b[39m\u001b[38;5;124m\"\u001b[39m\n\u001b[1;32m    274\u001b[0m ]\n",
      "File \u001b[0;32m~/opt/anaconda3/lib/python3.9/site-packages/joblib/parallel.py:1088\u001b[0m, in \u001b[0;36mParallel.__call__\u001b[0;34m(self, iterable)\u001b[0m\n\u001b[1;32m   1085\u001b[0m \u001b[38;5;28;01mif\u001b[39;00m \u001b[38;5;28mself\u001b[39m\u001b[38;5;241m.\u001b[39mdispatch_one_batch(iterator):\n\u001b[1;32m   1086\u001b[0m     \u001b[38;5;28mself\u001b[39m\u001b[38;5;241m.\u001b[39m_iterating \u001b[38;5;241m=\u001b[39m \u001b[38;5;28mself\u001b[39m\u001b[38;5;241m.\u001b[39m_original_iterator \u001b[38;5;129;01mis\u001b[39;00m \u001b[38;5;129;01mnot\u001b[39;00m \u001b[38;5;28;01mNone\u001b[39;00m\n\u001b[0;32m-> 1088\u001b[0m \u001b[38;5;28;01mwhile\u001b[39;00m \u001b[38;5;28;43mself\u001b[39;49m\u001b[38;5;241;43m.\u001b[39;49m\u001b[43mdispatch_one_batch\u001b[49m\u001b[43m(\u001b[49m\u001b[43miterator\u001b[49m\u001b[43m)\u001b[49m:\n\u001b[1;32m   1089\u001b[0m     \u001b[38;5;28;01mpass\u001b[39;00m\n\u001b[1;32m   1091\u001b[0m \u001b[38;5;28;01mif\u001b[39;00m pre_dispatch \u001b[38;5;241m==\u001b[39m \u001b[38;5;124m\"\u001b[39m\u001b[38;5;124mall\u001b[39m\u001b[38;5;124m\"\u001b[39m \u001b[38;5;129;01mor\u001b[39;00m n_jobs \u001b[38;5;241m==\u001b[39m \u001b[38;5;241m1\u001b[39m:\n\u001b[1;32m   1092\u001b[0m     \u001b[38;5;66;03m# The iterable was consumed all at once by the above for loop.\u001b[39;00m\n\u001b[1;32m   1093\u001b[0m     \u001b[38;5;66;03m# No need to wait for async callbacks to trigger to\u001b[39;00m\n\u001b[1;32m   1094\u001b[0m     \u001b[38;5;66;03m# consumption.\u001b[39;00m\n",
      "File \u001b[0;32m~/opt/anaconda3/lib/python3.9/site-packages/joblib/parallel.py:901\u001b[0m, in \u001b[0;36mParallel.dispatch_one_batch\u001b[0;34m(self, iterator)\u001b[0m\n\u001b[1;32m    899\u001b[0m     \u001b[38;5;28;01mreturn\u001b[39;00m \u001b[38;5;28;01mFalse\u001b[39;00m\n\u001b[1;32m    900\u001b[0m \u001b[38;5;28;01melse\u001b[39;00m:\n\u001b[0;32m--> 901\u001b[0m     \u001b[38;5;28;43mself\u001b[39;49m\u001b[38;5;241;43m.\u001b[39;49m\u001b[43m_dispatch\u001b[49m\u001b[43m(\u001b[49m\u001b[43mtasks\u001b[49m\u001b[43m)\u001b[49m\n\u001b[1;32m    902\u001b[0m     \u001b[38;5;28;01mreturn\u001b[39;00m \u001b[38;5;28;01mTrue\u001b[39;00m\n",
      "File \u001b[0;32m~/opt/anaconda3/lib/python3.9/site-packages/joblib/parallel.py:819\u001b[0m, in \u001b[0;36mParallel._dispatch\u001b[0;34m(self, batch)\u001b[0m\n\u001b[1;32m    817\u001b[0m \u001b[38;5;28;01mwith\u001b[39;00m \u001b[38;5;28mself\u001b[39m\u001b[38;5;241m.\u001b[39m_lock:\n\u001b[1;32m    818\u001b[0m     job_idx \u001b[38;5;241m=\u001b[39m \u001b[38;5;28mlen\u001b[39m(\u001b[38;5;28mself\u001b[39m\u001b[38;5;241m.\u001b[39m_jobs)\n\u001b[0;32m--> 819\u001b[0m     job \u001b[38;5;241m=\u001b[39m \u001b[38;5;28;43mself\u001b[39;49m\u001b[38;5;241;43m.\u001b[39;49m\u001b[43m_backend\u001b[49m\u001b[38;5;241;43m.\u001b[39;49m\u001b[43mapply_async\u001b[49m\u001b[43m(\u001b[49m\u001b[43mbatch\u001b[49m\u001b[43m,\u001b[49m\u001b[43m \u001b[49m\u001b[43mcallback\u001b[49m\u001b[38;5;241;43m=\u001b[39;49m\u001b[43mcb\u001b[49m\u001b[43m)\u001b[49m\n\u001b[1;32m    820\u001b[0m     \u001b[38;5;66;03m# A job can complete so quickly than its callback is\u001b[39;00m\n\u001b[1;32m    821\u001b[0m     \u001b[38;5;66;03m# called before we get here, causing self._jobs to\u001b[39;00m\n\u001b[1;32m    822\u001b[0m     \u001b[38;5;66;03m# grow. To ensure correct results ordering, .insert is\u001b[39;00m\n\u001b[1;32m    823\u001b[0m     \u001b[38;5;66;03m# used (rather than .append) in the following line\u001b[39;00m\n\u001b[1;32m    824\u001b[0m     \u001b[38;5;28mself\u001b[39m\u001b[38;5;241m.\u001b[39m_jobs\u001b[38;5;241m.\u001b[39minsert(job_idx, job)\n",
      "File \u001b[0;32m~/opt/anaconda3/lib/python3.9/site-packages/joblib/_parallel_backends.py:208\u001b[0m, in \u001b[0;36mSequentialBackend.apply_async\u001b[0;34m(self, func, callback)\u001b[0m\n\u001b[1;32m    206\u001b[0m \u001b[38;5;28;01mdef\u001b[39;00m \u001b[38;5;21mapply_async\u001b[39m(\u001b[38;5;28mself\u001b[39m, func, callback\u001b[38;5;241m=\u001b[39m\u001b[38;5;28;01mNone\u001b[39;00m):\n\u001b[1;32m    207\u001b[0m     \u001b[38;5;124;03m\"\"\"Schedule a func to be run\"\"\"\u001b[39;00m\n\u001b[0;32m--> 208\u001b[0m     result \u001b[38;5;241m=\u001b[39m \u001b[43mImmediateResult\u001b[49m\u001b[43m(\u001b[49m\u001b[43mfunc\u001b[49m\u001b[43m)\u001b[49m\n\u001b[1;32m    209\u001b[0m     \u001b[38;5;28;01mif\u001b[39;00m callback:\n\u001b[1;32m    210\u001b[0m         callback(result)\n",
      "File \u001b[0;32m~/opt/anaconda3/lib/python3.9/site-packages/joblib/_parallel_backends.py:597\u001b[0m, in \u001b[0;36mImmediateResult.__init__\u001b[0;34m(self, batch)\u001b[0m\n\u001b[1;32m    594\u001b[0m \u001b[38;5;28;01mdef\u001b[39;00m \u001b[38;5;21m__init__\u001b[39m(\u001b[38;5;28mself\u001b[39m, batch):\n\u001b[1;32m    595\u001b[0m     \u001b[38;5;66;03m# Don't delay the application, to avoid keeping the input\u001b[39;00m\n\u001b[1;32m    596\u001b[0m     \u001b[38;5;66;03m# arguments in memory\u001b[39;00m\n\u001b[0;32m--> 597\u001b[0m     \u001b[38;5;28mself\u001b[39m\u001b[38;5;241m.\u001b[39mresults \u001b[38;5;241m=\u001b[39m \u001b[43mbatch\u001b[49m\u001b[43m(\u001b[49m\u001b[43m)\u001b[49m\n",
      "File \u001b[0;32m~/opt/anaconda3/lib/python3.9/site-packages/joblib/parallel.py:288\u001b[0m, in \u001b[0;36mBatchedCalls.__call__\u001b[0;34m(self)\u001b[0m\n\u001b[1;32m    284\u001b[0m \u001b[38;5;28;01mdef\u001b[39;00m \u001b[38;5;21m__call__\u001b[39m(\u001b[38;5;28mself\u001b[39m):\n\u001b[1;32m    285\u001b[0m     \u001b[38;5;66;03m# Set the default nested backend to self._backend but do not set the\u001b[39;00m\n\u001b[1;32m    286\u001b[0m     \u001b[38;5;66;03m# change the default number of processes to -1\u001b[39;00m\n\u001b[1;32m    287\u001b[0m     \u001b[38;5;28;01mwith\u001b[39;00m parallel_backend(\u001b[38;5;28mself\u001b[39m\u001b[38;5;241m.\u001b[39m_backend, n_jobs\u001b[38;5;241m=\u001b[39m\u001b[38;5;28mself\u001b[39m\u001b[38;5;241m.\u001b[39m_n_jobs):\n\u001b[0;32m--> 288\u001b[0m         \u001b[38;5;28;01mreturn\u001b[39;00m [func(\u001b[38;5;241m*\u001b[39margs, \u001b[38;5;241m*\u001b[39m\u001b[38;5;241m*\u001b[39mkwargs)\n\u001b[1;32m    289\u001b[0m                 \u001b[38;5;28;01mfor\u001b[39;00m func, args, kwargs \u001b[38;5;129;01min\u001b[39;00m \u001b[38;5;28mself\u001b[39m\u001b[38;5;241m.\u001b[39mitems]\n",
      "File \u001b[0;32m~/opt/anaconda3/lib/python3.9/site-packages/joblib/parallel.py:288\u001b[0m, in \u001b[0;36m<listcomp>\u001b[0;34m(.0)\u001b[0m\n\u001b[1;32m    284\u001b[0m \u001b[38;5;28;01mdef\u001b[39;00m \u001b[38;5;21m__call__\u001b[39m(\u001b[38;5;28mself\u001b[39m):\n\u001b[1;32m    285\u001b[0m     \u001b[38;5;66;03m# Set the default nested backend to self._backend but do not set the\u001b[39;00m\n\u001b[1;32m    286\u001b[0m     \u001b[38;5;66;03m# change the default number of processes to -1\u001b[39;00m\n\u001b[1;32m    287\u001b[0m     \u001b[38;5;28;01mwith\u001b[39;00m parallel_backend(\u001b[38;5;28mself\u001b[39m\u001b[38;5;241m.\u001b[39m_backend, n_jobs\u001b[38;5;241m=\u001b[39m\u001b[38;5;28mself\u001b[39m\u001b[38;5;241m.\u001b[39m_n_jobs):\n\u001b[0;32m--> 288\u001b[0m         \u001b[38;5;28;01mreturn\u001b[39;00m [\u001b[43mfunc\u001b[49m\u001b[43m(\u001b[49m\u001b[38;5;241;43m*\u001b[39;49m\u001b[43margs\u001b[49m\u001b[43m,\u001b[49m\u001b[43m \u001b[49m\u001b[38;5;241;43m*\u001b[39;49m\u001b[38;5;241;43m*\u001b[39;49m\u001b[43mkwargs\u001b[49m\u001b[43m)\u001b[49m\n\u001b[1;32m    289\u001b[0m                 \u001b[38;5;28;01mfor\u001b[39;00m func, args, kwargs \u001b[38;5;129;01min\u001b[39;00m \u001b[38;5;28mself\u001b[39m\u001b[38;5;241m.\u001b[39mitems]\n",
      "File \u001b[0;32m~/opt/anaconda3/lib/python3.9/site-packages/sklearn/utils/fixes.py:117\u001b[0m, in \u001b[0;36m_FuncWrapper.__call__\u001b[0;34m(self, *args, **kwargs)\u001b[0m\n\u001b[1;32m    115\u001b[0m \u001b[38;5;28;01mdef\u001b[39;00m \u001b[38;5;21m__call__\u001b[39m(\u001b[38;5;28mself\u001b[39m, \u001b[38;5;241m*\u001b[39margs, \u001b[38;5;241m*\u001b[39m\u001b[38;5;241m*\u001b[39mkwargs):\n\u001b[1;32m    116\u001b[0m     \u001b[38;5;28;01mwith\u001b[39;00m config_context(\u001b[38;5;241m*\u001b[39m\u001b[38;5;241m*\u001b[39m\u001b[38;5;28mself\u001b[39m\u001b[38;5;241m.\u001b[39mconfig):\n\u001b[0;32m--> 117\u001b[0m         \u001b[38;5;28;01mreturn\u001b[39;00m \u001b[38;5;28;43mself\u001b[39;49m\u001b[38;5;241;43m.\u001b[39;49m\u001b[43mfunction\u001b[49m\u001b[43m(\u001b[49m\u001b[38;5;241;43m*\u001b[39;49m\u001b[43margs\u001b[49m\u001b[43m,\u001b[49m\u001b[43m \u001b[49m\u001b[38;5;241;43m*\u001b[39;49m\u001b[38;5;241;43m*\u001b[39;49m\u001b[43mkwargs\u001b[49m\u001b[43m)\u001b[49m\n",
      "File \u001b[0;32m~/opt/anaconda3/lib/python3.9/site-packages/sklearn/model_selection/_validation.py:968\u001b[0m, in \u001b[0;36mcross_val_predict\u001b[0;34m(estimator, X, y, groups, cv, n_jobs, verbose, fit_params, pre_dispatch, method)\u001b[0m\n\u001b[1;32m    965\u001b[0m \u001b[38;5;66;03m# We clone the estimator to make sure that all the folds are\u001b[39;00m\n\u001b[1;32m    966\u001b[0m \u001b[38;5;66;03m# independent, and that it is pickle-able.\u001b[39;00m\n\u001b[1;32m    967\u001b[0m parallel \u001b[38;5;241m=\u001b[39m Parallel(n_jobs\u001b[38;5;241m=\u001b[39mn_jobs, verbose\u001b[38;5;241m=\u001b[39mverbose, pre_dispatch\u001b[38;5;241m=\u001b[39mpre_dispatch)\n\u001b[0;32m--> 968\u001b[0m predictions \u001b[38;5;241m=\u001b[39m \u001b[43mparallel\u001b[49m\u001b[43m(\u001b[49m\n\u001b[1;32m    969\u001b[0m \u001b[43m    \u001b[49m\u001b[43mdelayed\u001b[49m\u001b[43m(\u001b[49m\u001b[43m_fit_and_predict\u001b[49m\u001b[43m)\u001b[49m\u001b[43m(\u001b[49m\n\u001b[1;32m    970\u001b[0m \u001b[43m        \u001b[49m\u001b[43mclone\u001b[49m\u001b[43m(\u001b[49m\u001b[43mestimator\u001b[49m\u001b[43m)\u001b[49m\u001b[43m,\u001b[49m\u001b[43m \u001b[49m\u001b[43mX\u001b[49m\u001b[43m,\u001b[49m\u001b[43m \u001b[49m\u001b[43my\u001b[49m\u001b[43m,\u001b[49m\u001b[43m \u001b[49m\u001b[43mtrain\u001b[49m\u001b[43m,\u001b[49m\u001b[43m \u001b[49m\u001b[43mtest\u001b[49m\u001b[43m,\u001b[49m\u001b[43m \u001b[49m\u001b[43mverbose\u001b[49m\u001b[43m,\u001b[49m\u001b[43m \u001b[49m\u001b[43mfit_params\u001b[49m\u001b[43m,\u001b[49m\u001b[43m \u001b[49m\u001b[43mmethod\u001b[49m\n\u001b[1;32m    971\u001b[0m \u001b[43m    \u001b[49m\u001b[43m)\u001b[49m\n\u001b[1;32m    972\u001b[0m \u001b[43m    \u001b[49m\u001b[38;5;28;43;01mfor\u001b[39;49;00m\u001b[43m \u001b[49m\u001b[43mtrain\u001b[49m\u001b[43m,\u001b[49m\u001b[43m \u001b[49m\u001b[43mtest\u001b[49m\u001b[43m \u001b[49m\u001b[38;5;129;43;01min\u001b[39;49;00m\u001b[43m \u001b[49m\u001b[43msplits\u001b[49m\n\u001b[1;32m    973\u001b[0m \u001b[43m\u001b[49m\u001b[43m)\u001b[49m\n\u001b[1;32m    975\u001b[0m inv_test_indices \u001b[38;5;241m=\u001b[39m np\u001b[38;5;241m.\u001b[39mempty(\u001b[38;5;28mlen\u001b[39m(test_indices), dtype\u001b[38;5;241m=\u001b[39m\u001b[38;5;28mint\u001b[39m)\n\u001b[1;32m    976\u001b[0m inv_test_indices[test_indices] \u001b[38;5;241m=\u001b[39m np\u001b[38;5;241m.\u001b[39marange(\u001b[38;5;28mlen\u001b[39m(test_indices))\n",
      "File \u001b[0;32m~/opt/anaconda3/lib/python3.9/site-packages/joblib/parallel.py:1088\u001b[0m, in \u001b[0;36mParallel.__call__\u001b[0;34m(self, iterable)\u001b[0m\n\u001b[1;32m   1085\u001b[0m \u001b[38;5;28;01mif\u001b[39;00m \u001b[38;5;28mself\u001b[39m\u001b[38;5;241m.\u001b[39mdispatch_one_batch(iterator):\n\u001b[1;32m   1086\u001b[0m     \u001b[38;5;28mself\u001b[39m\u001b[38;5;241m.\u001b[39m_iterating \u001b[38;5;241m=\u001b[39m \u001b[38;5;28mself\u001b[39m\u001b[38;5;241m.\u001b[39m_original_iterator \u001b[38;5;129;01mis\u001b[39;00m \u001b[38;5;129;01mnot\u001b[39;00m \u001b[38;5;28;01mNone\u001b[39;00m\n\u001b[0;32m-> 1088\u001b[0m \u001b[38;5;28;01mwhile\u001b[39;00m \u001b[38;5;28;43mself\u001b[39;49m\u001b[38;5;241;43m.\u001b[39;49m\u001b[43mdispatch_one_batch\u001b[49m\u001b[43m(\u001b[49m\u001b[43miterator\u001b[49m\u001b[43m)\u001b[49m:\n\u001b[1;32m   1089\u001b[0m     \u001b[38;5;28;01mpass\u001b[39;00m\n\u001b[1;32m   1091\u001b[0m \u001b[38;5;28;01mif\u001b[39;00m pre_dispatch \u001b[38;5;241m==\u001b[39m \u001b[38;5;124m\"\u001b[39m\u001b[38;5;124mall\u001b[39m\u001b[38;5;124m\"\u001b[39m \u001b[38;5;129;01mor\u001b[39;00m n_jobs \u001b[38;5;241m==\u001b[39m \u001b[38;5;241m1\u001b[39m:\n\u001b[1;32m   1092\u001b[0m     \u001b[38;5;66;03m# The iterable was consumed all at once by the above for loop.\u001b[39;00m\n\u001b[1;32m   1093\u001b[0m     \u001b[38;5;66;03m# No need to wait for async callbacks to trigger to\u001b[39;00m\n\u001b[1;32m   1094\u001b[0m     \u001b[38;5;66;03m# consumption.\u001b[39;00m\n",
      "File \u001b[0;32m~/opt/anaconda3/lib/python3.9/site-packages/joblib/parallel.py:901\u001b[0m, in \u001b[0;36mParallel.dispatch_one_batch\u001b[0;34m(self, iterator)\u001b[0m\n\u001b[1;32m    899\u001b[0m     \u001b[38;5;28;01mreturn\u001b[39;00m \u001b[38;5;28;01mFalse\u001b[39;00m\n\u001b[1;32m    900\u001b[0m \u001b[38;5;28;01melse\u001b[39;00m:\n\u001b[0;32m--> 901\u001b[0m     \u001b[38;5;28;43mself\u001b[39;49m\u001b[38;5;241;43m.\u001b[39;49m\u001b[43m_dispatch\u001b[49m\u001b[43m(\u001b[49m\u001b[43mtasks\u001b[49m\u001b[43m)\u001b[49m\n\u001b[1;32m    902\u001b[0m     \u001b[38;5;28;01mreturn\u001b[39;00m \u001b[38;5;28;01mTrue\u001b[39;00m\n",
      "File \u001b[0;32m~/opt/anaconda3/lib/python3.9/site-packages/joblib/parallel.py:819\u001b[0m, in \u001b[0;36mParallel._dispatch\u001b[0;34m(self, batch)\u001b[0m\n\u001b[1;32m    817\u001b[0m \u001b[38;5;28;01mwith\u001b[39;00m \u001b[38;5;28mself\u001b[39m\u001b[38;5;241m.\u001b[39m_lock:\n\u001b[1;32m    818\u001b[0m     job_idx \u001b[38;5;241m=\u001b[39m \u001b[38;5;28mlen\u001b[39m(\u001b[38;5;28mself\u001b[39m\u001b[38;5;241m.\u001b[39m_jobs)\n\u001b[0;32m--> 819\u001b[0m     job \u001b[38;5;241m=\u001b[39m \u001b[38;5;28;43mself\u001b[39;49m\u001b[38;5;241;43m.\u001b[39;49m\u001b[43m_backend\u001b[49m\u001b[38;5;241;43m.\u001b[39;49m\u001b[43mapply_async\u001b[49m\u001b[43m(\u001b[49m\u001b[43mbatch\u001b[49m\u001b[43m,\u001b[49m\u001b[43m \u001b[49m\u001b[43mcallback\u001b[49m\u001b[38;5;241;43m=\u001b[39;49m\u001b[43mcb\u001b[49m\u001b[43m)\u001b[49m\n\u001b[1;32m    820\u001b[0m     \u001b[38;5;66;03m# A job can complete so quickly than its callback is\u001b[39;00m\n\u001b[1;32m    821\u001b[0m     \u001b[38;5;66;03m# called before we get here, causing self._jobs to\u001b[39;00m\n\u001b[1;32m    822\u001b[0m     \u001b[38;5;66;03m# grow. To ensure correct results ordering, .insert is\u001b[39;00m\n\u001b[1;32m    823\u001b[0m     \u001b[38;5;66;03m# used (rather than .append) in the following line\u001b[39;00m\n\u001b[1;32m    824\u001b[0m     \u001b[38;5;28mself\u001b[39m\u001b[38;5;241m.\u001b[39m_jobs\u001b[38;5;241m.\u001b[39minsert(job_idx, job)\n",
      "File \u001b[0;32m~/opt/anaconda3/lib/python3.9/site-packages/joblib/_parallel_backends.py:208\u001b[0m, in \u001b[0;36mSequentialBackend.apply_async\u001b[0;34m(self, func, callback)\u001b[0m\n\u001b[1;32m    206\u001b[0m \u001b[38;5;28;01mdef\u001b[39;00m \u001b[38;5;21mapply_async\u001b[39m(\u001b[38;5;28mself\u001b[39m, func, callback\u001b[38;5;241m=\u001b[39m\u001b[38;5;28;01mNone\u001b[39;00m):\n\u001b[1;32m    207\u001b[0m     \u001b[38;5;124;03m\"\"\"Schedule a func to be run\"\"\"\u001b[39;00m\n\u001b[0;32m--> 208\u001b[0m     result \u001b[38;5;241m=\u001b[39m \u001b[43mImmediateResult\u001b[49m\u001b[43m(\u001b[49m\u001b[43mfunc\u001b[49m\u001b[43m)\u001b[49m\n\u001b[1;32m    209\u001b[0m     \u001b[38;5;28;01mif\u001b[39;00m callback:\n\u001b[1;32m    210\u001b[0m         callback(result)\n",
      "File \u001b[0;32m~/opt/anaconda3/lib/python3.9/site-packages/joblib/_parallel_backends.py:597\u001b[0m, in \u001b[0;36mImmediateResult.__init__\u001b[0;34m(self, batch)\u001b[0m\n\u001b[1;32m    594\u001b[0m \u001b[38;5;28;01mdef\u001b[39;00m \u001b[38;5;21m__init__\u001b[39m(\u001b[38;5;28mself\u001b[39m, batch):\n\u001b[1;32m    595\u001b[0m     \u001b[38;5;66;03m# Don't delay the application, to avoid keeping the input\u001b[39;00m\n\u001b[1;32m    596\u001b[0m     \u001b[38;5;66;03m# arguments in memory\u001b[39;00m\n\u001b[0;32m--> 597\u001b[0m     \u001b[38;5;28mself\u001b[39m\u001b[38;5;241m.\u001b[39mresults \u001b[38;5;241m=\u001b[39m \u001b[43mbatch\u001b[49m\u001b[43m(\u001b[49m\u001b[43m)\u001b[49m\n",
      "File \u001b[0;32m~/opt/anaconda3/lib/python3.9/site-packages/joblib/parallel.py:288\u001b[0m, in \u001b[0;36mBatchedCalls.__call__\u001b[0;34m(self)\u001b[0m\n\u001b[1;32m    284\u001b[0m \u001b[38;5;28;01mdef\u001b[39;00m \u001b[38;5;21m__call__\u001b[39m(\u001b[38;5;28mself\u001b[39m):\n\u001b[1;32m    285\u001b[0m     \u001b[38;5;66;03m# Set the default nested backend to self._backend but do not set the\u001b[39;00m\n\u001b[1;32m    286\u001b[0m     \u001b[38;5;66;03m# change the default number of processes to -1\u001b[39;00m\n\u001b[1;32m    287\u001b[0m     \u001b[38;5;28;01mwith\u001b[39;00m parallel_backend(\u001b[38;5;28mself\u001b[39m\u001b[38;5;241m.\u001b[39m_backend, n_jobs\u001b[38;5;241m=\u001b[39m\u001b[38;5;28mself\u001b[39m\u001b[38;5;241m.\u001b[39m_n_jobs):\n\u001b[0;32m--> 288\u001b[0m         \u001b[38;5;28;01mreturn\u001b[39;00m [func(\u001b[38;5;241m*\u001b[39margs, \u001b[38;5;241m*\u001b[39m\u001b[38;5;241m*\u001b[39mkwargs)\n\u001b[1;32m    289\u001b[0m                 \u001b[38;5;28;01mfor\u001b[39;00m func, args, kwargs \u001b[38;5;129;01min\u001b[39;00m \u001b[38;5;28mself\u001b[39m\u001b[38;5;241m.\u001b[39mitems]\n",
      "File \u001b[0;32m~/opt/anaconda3/lib/python3.9/site-packages/joblib/parallel.py:288\u001b[0m, in \u001b[0;36m<listcomp>\u001b[0;34m(.0)\u001b[0m\n\u001b[1;32m    284\u001b[0m \u001b[38;5;28;01mdef\u001b[39;00m \u001b[38;5;21m__call__\u001b[39m(\u001b[38;5;28mself\u001b[39m):\n\u001b[1;32m    285\u001b[0m     \u001b[38;5;66;03m# Set the default nested backend to self._backend but do not set the\u001b[39;00m\n\u001b[1;32m    286\u001b[0m     \u001b[38;5;66;03m# change the default number of processes to -1\u001b[39;00m\n\u001b[1;32m    287\u001b[0m     \u001b[38;5;28;01mwith\u001b[39;00m parallel_backend(\u001b[38;5;28mself\u001b[39m\u001b[38;5;241m.\u001b[39m_backend, n_jobs\u001b[38;5;241m=\u001b[39m\u001b[38;5;28mself\u001b[39m\u001b[38;5;241m.\u001b[39m_n_jobs):\n\u001b[0;32m--> 288\u001b[0m         \u001b[38;5;28;01mreturn\u001b[39;00m [\u001b[43mfunc\u001b[49m\u001b[43m(\u001b[49m\u001b[38;5;241;43m*\u001b[39;49m\u001b[43margs\u001b[49m\u001b[43m,\u001b[49m\u001b[43m \u001b[49m\u001b[38;5;241;43m*\u001b[39;49m\u001b[38;5;241;43m*\u001b[39;49m\u001b[43mkwargs\u001b[49m\u001b[43m)\u001b[49m\n\u001b[1;32m    289\u001b[0m                 \u001b[38;5;28;01mfor\u001b[39;00m func, args, kwargs \u001b[38;5;129;01min\u001b[39;00m \u001b[38;5;28mself\u001b[39m\u001b[38;5;241m.\u001b[39mitems]\n",
      "File \u001b[0;32m~/opt/anaconda3/lib/python3.9/site-packages/sklearn/utils/fixes.py:117\u001b[0m, in \u001b[0;36m_FuncWrapper.__call__\u001b[0;34m(self, *args, **kwargs)\u001b[0m\n\u001b[1;32m    115\u001b[0m \u001b[38;5;28;01mdef\u001b[39;00m \u001b[38;5;21m__call__\u001b[39m(\u001b[38;5;28mself\u001b[39m, \u001b[38;5;241m*\u001b[39margs, \u001b[38;5;241m*\u001b[39m\u001b[38;5;241m*\u001b[39mkwargs):\n\u001b[1;32m    116\u001b[0m     \u001b[38;5;28;01mwith\u001b[39;00m config_context(\u001b[38;5;241m*\u001b[39m\u001b[38;5;241m*\u001b[39m\u001b[38;5;28mself\u001b[39m\u001b[38;5;241m.\u001b[39mconfig):\n\u001b[0;32m--> 117\u001b[0m         \u001b[38;5;28;01mreturn\u001b[39;00m \u001b[38;5;28;43mself\u001b[39;49m\u001b[38;5;241;43m.\u001b[39;49m\u001b[43mfunction\u001b[49m\u001b[43m(\u001b[49m\u001b[38;5;241;43m*\u001b[39;49m\u001b[43margs\u001b[49m\u001b[43m,\u001b[49m\u001b[43m \u001b[49m\u001b[38;5;241;43m*\u001b[39;49m\u001b[38;5;241;43m*\u001b[39;49m\u001b[43mkwargs\u001b[49m\u001b[43m)\u001b[49m\n",
      "File \u001b[0;32m~/opt/anaconda3/lib/python3.9/site-packages/sklearn/model_selection/_validation.py:1050\u001b[0m, in \u001b[0;36m_fit_and_predict\u001b[0;34m(estimator, X, y, train, test, verbose, fit_params, method)\u001b[0m\n\u001b[1;32m   1048\u001b[0m     estimator\u001b[38;5;241m.\u001b[39mfit(X_train, \u001b[38;5;241m*\u001b[39m\u001b[38;5;241m*\u001b[39mfit_params)\n\u001b[1;32m   1049\u001b[0m \u001b[38;5;28;01melse\u001b[39;00m:\n\u001b[0;32m-> 1050\u001b[0m     \u001b[43mestimator\u001b[49m\u001b[38;5;241;43m.\u001b[39;49m\u001b[43mfit\u001b[49m\u001b[43m(\u001b[49m\u001b[43mX_train\u001b[49m\u001b[43m,\u001b[49m\u001b[43m \u001b[49m\u001b[43my_train\u001b[49m\u001b[43m,\u001b[49m\u001b[43m \u001b[49m\u001b[38;5;241;43m*\u001b[39;49m\u001b[38;5;241;43m*\u001b[39;49m\u001b[43mfit_params\u001b[49m\u001b[43m)\u001b[49m\n\u001b[1;32m   1051\u001b[0m func \u001b[38;5;241m=\u001b[39m \u001b[38;5;28mgetattr\u001b[39m(estimator, method)\n\u001b[1;32m   1052\u001b[0m predictions \u001b[38;5;241m=\u001b[39m func(X_test)\n",
      "File \u001b[0;32m~/opt/anaconda3/lib/python3.9/site-packages/sklearn/pipeline.py:406\u001b[0m, in \u001b[0;36mPipeline.fit\u001b[0;34m(self, X, y, **fit_params)\u001b[0m\n\u001b[1;32m    404\u001b[0m     \u001b[38;5;28;01mif\u001b[39;00m \u001b[38;5;28mself\u001b[39m\u001b[38;5;241m.\u001b[39m_final_estimator \u001b[38;5;241m!=\u001b[39m \u001b[38;5;124m\"\u001b[39m\u001b[38;5;124mpassthrough\u001b[39m\u001b[38;5;124m\"\u001b[39m:\n\u001b[1;32m    405\u001b[0m         fit_params_last_step \u001b[38;5;241m=\u001b[39m fit_params_steps[\u001b[38;5;28mself\u001b[39m\u001b[38;5;241m.\u001b[39msteps[\u001b[38;5;241m-\u001b[39m\u001b[38;5;241m1\u001b[39m][\u001b[38;5;241m0\u001b[39m]]\n\u001b[0;32m--> 406\u001b[0m         \u001b[38;5;28;43mself\u001b[39;49m\u001b[38;5;241;43m.\u001b[39;49m\u001b[43m_final_estimator\u001b[49m\u001b[38;5;241;43m.\u001b[39;49m\u001b[43mfit\u001b[49m\u001b[43m(\u001b[49m\u001b[43mXt\u001b[49m\u001b[43m,\u001b[49m\u001b[43m \u001b[49m\u001b[43my\u001b[49m\u001b[43m,\u001b[49m\u001b[43m \u001b[49m\u001b[38;5;241;43m*\u001b[39;49m\u001b[38;5;241;43m*\u001b[39;49m\u001b[43mfit_params_last_step\u001b[49m\u001b[43m)\u001b[49m\n\u001b[1;32m    408\u001b[0m \u001b[38;5;28;01mreturn\u001b[39;00m \u001b[38;5;28mself\u001b[39m\n",
      "File \u001b[0;32m~/opt/anaconda3/lib/python3.9/site-packages/sklearn/ensemble/_weight_boosting.py:162\u001b[0m, in \u001b[0;36mBaseWeightBoosting.fit\u001b[0;34m(self, X, y, sample_weight)\u001b[0m\n\u001b[1;32m    159\u001b[0m sample_weight[zero_weight_mask] \u001b[38;5;241m=\u001b[39m \u001b[38;5;241m0.0\u001b[39m\n\u001b[1;32m    161\u001b[0m \u001b[38;5;66;03m# Boosting step\u001b[39;00m\n\u001b[0;32m--> 162\u001b[0m sample_weight, estimator_weight, estimator_error \u001b[38;5;241m=\u001b[39m \u001b[38;5;28;43mself\u001b[39;49m\u001b[38;5;241;43m.\u001b[39;49m\u001b[43m_boost\u001b[49m\u001b[43m(\u001b[49m\n\u001b[1;32m    163\u001b[0m \u001b[43m    \u001b[49m\u001b[43miboost\u001b[49m\u001b[43m,\u001b[49m\u001b[43m \u001b[49m\u001b[43mX\u001b[49m\u001b[43m,\u001b[49m\u001b[43m \u001b[49m\u001b[43my\u001b[49m\u001b[43m,\u001b[49m\u001b[43m \u001b[49m\u001b[43msample_weight\u001b[49m\u001b[43m,\u001b[49m\u001b[43m \u001b[49m\u001b[43mrandom_state\u001b[49m\n\u001b[1;32m    164\u001b[0m \u001b[43m\u001b[49m\u001b[43m)\u001b[49m\n\u001b[1;32m    166\u001b[0m \u001b[38;5;66;03m# Early termination\u001b[39;00m\n\u001b[1;32m    167\u001b[0m \u001b[38;5;28;01mif\u001b[39;00m sample_weight \u001b[38;5;129;01mis\u001b[39;00m \u001b[38;5;28;01mNone\u001b[39;00m:\n",
      "File \u001b[0;32m~/opt/anaconda3/lib/python3.9/site-packages/sklearn/ensemble/_weight_boosting.py:569\u001b[0m, in \u001b[0;36mAdaBoostClassifier._boost\u001b[0;34m(self, iboost, X, y, sample_weight, random_state)\u001b[0m\n\u001b[1;32m    530\u001b[0m \u001b[38;5;124;03m\"\"\"Implement a single boost.\u001b[39;00m\n\u001b[1;32m    531\u001b[0m \n\u001b[1;32m    532\u001b[0m \u001b[38;5;124;03mPerform a single boost according to the real multi-class SAMME.R\u001b[39;00m\n\u001b[0;32m   (...)\u001b[0m\n\u001b[1;32m    566\u001b[0m \u001b[38;5;124;03m    If None then boosting has terminated early.\u001b[39;00m\n\u001b[1;32m    567\u001b[0m \u001b[38;5;124;03m\"\"\"\u001b[39;00m\n\u001b[1;32m    568\u001b[0m \u001b[38;5;28;01mif\u001b[39;00m \u001b[38;5;28mself\u001b[39m\u001b[38;5;241m.\u001b[39malgorithm \u001b[38;5;241m==\u001b[39m \u001b[38;5;124m\"\u001b[39m\u001b[38;5;124mSAMME.R\u001b[39m\u001b[38;5;124m\"\u001b[39m:\n\u001b[0;32m--> 569\u001b[0m     \u001b[38;5;28;01mreturn\u001b[39;00m \u001b[38;5;28;43mself\u001b[39;49m\u001b[38;5;241;43m.\u001b[39;49m\u001b[43m_boost_real\u001b[49m\u001b[43m(\u001b[49m\u001b[43miboost\u001b[49m\u001b[43m,\u001b[49m\u001b[43m \u001b[49m\u001b[43mX\u001b[49m\u001b[43m,\u001b[49m\u001b[43m \u001b[49m\u001b[43my\u001b[49m\u001b[43m,\u001b[49m\u001b[43m \u001b[49m\u001b[43msample_weight\u001b[49m\u001b[43m,\u001b[49m\u001b[43m \u001b[49m\u001b[43mrandom_state\u001b[49m\u001b[43m)\u001b[49m\n\u001b[1;32m    571\u001b[0m \u001b[38;5;28;01melse\u001b[39;00m:  \u001b[38;5;66;03m# elif self.algorithm == \"SAMME\":\u001b[39;00m\n\u001b[1;32m    572\u001b[0m     \u001b[38;5;28;01mreturn\u001b[39;00m \u001b[38;5;28mself\u001b[39m\u001b[38;5;241m.\u001b[39m_boost_discrete(iboost, X, y, sample_weight, random_state)\n",
      "File \u001b[0;32m~/opt/anaconda3/lib/python3.9/site-packages/sklearn/ensemble/_weight_boosting.py:578\u001b[0m, in \u001b[0;36mAdaBoostClassifier._boost_real\u001b[0;34m(self, iboost, X, y, sample_weight, random_state)\u001b[0m\n\u001b[1;32m    575\u001b[0m \u001b[38;5;124;03m\"\"\"Implement a single boost using the SAMME.R real algorithm.\"\"\"\u001b[39;00m\n\u001b[1;32m    576\u001b[0m estimator \u001b[38;5;241m=\u001b[39m \u001b[38;5;28mself\u001b[39m\u001b[38;5;241m.\u001b[39m_make_estimator(random_state\u001b[38;5;241m=\u001b[39mrandom_state)\n\u001b[0;32m--> 578\u001b[0m \u001b[43mestimator\u001b[49m\u001b[38;5;241;43m.\u001b[39;49m\u001b[43mfit\u001b[49m\u001b[43m(\u001b[49m\u001b[43mX\u001b[49m\u001b[43m,\u001b[49m\u001b[43m \u001b[49m\u001b[43my\u001b[49m\u001b[43m,\u001b[49m\u001b[43m \u001b[49m\u001b[43msample_weight\u001b[49m\u001b[38;5;241;43m=\u001b[39;49m\u001b[43msample_weight\u001b[49m\u001b[43m)\u001b[49m\n\u001b[1;32m    580\u001b[0m y_predict_proba \u001b[38;5;241m=\u001b[39m estimator\u001b[38;5;241m.\u001b[39mpredict_proba(X)\n\u001b[1;32m    582\u001b[0m \u001b[38;5;28;01mif\u001b[39;00m iboost \u001b[38;5;241m==\u001b[39m \u001b[38;5;241m0\u001b[39m:\n",
      "File \u001b[0;32m~/opt/anaconda3/lib/python3.9/site-packages/sklearn/tree/_classes.py:889\u001b[0m, in \u001b[0;36mDecisionTreeClassifier.fit\u001b[0;34m(self, X, y, sample_weight, check_input)\u001b[0m\n\u001b[1;32m    859\u001b[0m \u001b[38;5;28;01mdef\u001b[39;00m \u001b[38;5;21mfit\u001b[39m(\u001b[38;5;28mself\u001b[39m, X, y, sample_weight\u001b[38;5;241m=\u001b[39m\u001b[38;5;28;01mNone\u001b[39;00m, check_input\u001b[38;5;241m=\u001b[39m\u001b[38;5;28;01mTrue\u001b[39;00m):\n\u001b[1;32m    860\u001b[0m     \u001b[38;5;124;03m\"\"\"Build a decision tree classifier from the training set (X, y).\u001b[39;00m\n\u001b[1;32m    861\u001b[0m \n\u001b[1;32m    862\u001b[0m \u001b[38;5;124;03m    Parameters\u001b[39;00m\n\u001b[0;32m   (...)\u001b[0m\n\u001b[1;32m    886\u001b[0m \u001b[38;5;124;03m        Fitted estimator.\u001b[39;00m\n\u001b[1;32m    887\u001b[0m \u001b[38;5;124;03m    \"\"\"\u001b[39;00m\n\u001b[0;32m--> 889\u001b[0m     \u001b[38;5;28;43msuper\u001b[39;49m\u001b[43m(\u001b[49m\u001b[43m)\u001b[49m\u001b[38;5;241;43m.\u001b[39;49m\u001b[43mfit\u001b[49m\u001b[43m(\u001b[49m\n\u001b[1;32m    890\u001b[0m \u001b[43m        \u001b[49m\u001b[43mX\u001b[49m\u001b[43m,\u001b[49m\n\u001b[1;32m    891\u001b[0m \u001b[43m        \u001b[49m\u001b[43my\u001b[49m\u001b[43m,\u001b[49m\n\u001b[1;32m    892\u001b[0m \u001b[43m        \u001b[49m\u001b[43msample_weight\u001b[49m\u001b[38;5;241;43m=\u001b[39;49m\u001b[43msample_weight\u001b[49m\u001b[43m,\u001b[49m\n\u001b[1;32m    893\u001b[0m \u001b[43m        \u001b[49m\u001b[43mcheck_input\u001b[49m\u001b[38;5;241;43m=\u001b[39;49m\u001b[43mcheck_input\u001b[49m\u001b[43m,\u001b[49m\n\u001b[1;32m    894\u001b[0m \u001b[43m    \u001b[49m\u001b[43m)\u001b[49m\n\u001b[1;32m    895\u001b[0m     \u001b[38;5;28;01mreturn\u001b[39;00m \u001b[38;5;28mself\u001b[39m\n",
      "File \u001b[0;32m~/opt/anaconda3/lib/python3.9/site-packages/sklearn/tree/_classes.py:379\u001b[0m, in \u001b[0;36mBaseDecisionTree.fit\u001b[0;34m(self, X, y, sample_weight, check_input)\u001b[0m\n\u001b[1;32m    368\u001b[0m \u001b[38;5;28;01melse\u001b[39;00m:\n\u001b[1;32m    369\u001b[0m     builder \u001b[38;5;241m=\u001b[39m BestFirstTreeBuilder(\n\u001b[1;32m    370\u001b[0m         splitter,\n\u001b[1;32m    371\u001b[0m         min_samples_split,\n\u001b[0;32m   (...)\u001b[0m\n\u001b[1;32m    376\u001b[0m         \u001b[38;5;28mself\u001b[39m\u001b[38;5;241m.\u001b[39mmin_impurity_decrease,\n\u001b[1;32m    377\u001b[0m     )\n\u001b[0;32m--> 379\u001b[0m \u001b[43mbuilder\u001b[49m\u001b[38;5;241;43m.\u001b[39;49m\u001b[43mbuild\u001b[49m\u001b[43m(\u001b[49m\u001b[38;5;28;43mself\u001b[39;49m\u001b[38;5;241;43m.\u001b[39;49m\u001b[43mtree_\u001b[49m\u001b[43m,\u001b[49m\u001b[43m \u001b[49m\u001b[43mX\u001b[49m\u001b[43m,\u001b[49m\u001b[43m \u001b[49m\u001b[43my\u001b[49m\u001b[43m,\u001b[49m\u001b[43m \u001b[49m\u001b[43msample_weight\u001b[49m\u001b[43m)\u001b[49m\n\u001b[1;32m    381\u001b[0m \u001b[38;5;28;01mif\u001b[39;00m \u001b[38;5;28mself\u001b[39m\u001b[38;5;241m.\u001b[39mn_outputs_ \u001b[38;5;241m==\u001b[39m \u001b[38;5;241m1\u001b[39m \u001b[38;5;129;01mand\u001b[39;00m is_classifier(\u001b[38;5;28mself\u001b[39m):\n\u001b[1;32m    382\u001b[0m     \u001b[38;5;28mself\u001b[39m\u001b[38;5;241m.\u001b[39mn_classes_ \u001b[38;5;241m=\u001b[39m \u001b[38;5;28mself\u001b[39m\u001b[38;5;241m.\u001b[39mn_classes_[\u001b[38;5;241m0\u001b[39m]\n",
      "\u001b[0;31mKeyboardInterrupt\u001b[0m: "
     ]
    }
   ],
   "source": [
    "from sklearn.model_selection import TimeSeriesSplit\n",
    "from sklearn.linear_model import LogisticRegression\n",
    "from sklearn.metrics import accuracy_score\n",
    "from sklearn.metrics import log_loss, classification_report\n",
    "from sklearn.metrics import balanced_accuracy_score\n",
    "from sklearn.ensemble import RandomForestClassifier\n",
    "from sklearn.pipeline import make_pipeline\n",
    "from sklearn.preprocessing import StandardScaler\n",
    "from sklearn.ensemble import HistGradientBoostingClassifier\n",
    "from sklearn.ensemble import VotingClassifier\n",
    "from sklearn.neural_network import MLPClassifier\n",
    "from sklearn.linear_model import LogisticRegression\n",
    "from sklearn.ensemble import RandomForestClassifier, AdaBoostClassifier\n",
    "from sklearn.ensemble import HistGradientBoostingClassifier\n",
    "from sklearn.ensemble import StackingClassifier\n",
    "from sklearn.neighbors import KNeighborsClassifier\n",
    "from tqdm import tqdm\n",
    "\n",
    "\n",
    "X = df.drop(columns=['target'], axis=1)\n",
    "y = df['target']\n",
    "X2 = X.fillna(0)\n",
    "# Créer un objet TimeSeriesSplit\n",
    "tscv = TimeSeriesSplit(n_splits=5)\n",
    "\n",
    "# Boucle sur les plis\n",
    "for train_index, test_index in tscv.split(X2):\n",
    "    X_train, X_test = X2.iloc[train_index], X2.iloc[test_index]\n",
    "    y_train, y_test = y.iloc[train_index], y.iloc[test_index]\n",
    "    \n",
    "    #class_weights = dict(zip(np.unique(y_train), class_weight.compute_class_weight(class_weight='balanced', classes=np.unique(data_train['target']), y=data_train['target'])))\n",
    "    \n",
    "    # Entrainer un modèle sur le jeu d'entraînement\n",
    "    model1 = MLPClassifier(alpha=1, max_iter=1000)\n",
    "    model2 = AdaBoostClassifier()\n",
    "    model3 = HistGradientBoostingClassifier()\n",
    "    model4 = LogisticRegression()\n",
    "    model5 = RandomForestClassifier()\n",
    "    model6 = KNeighborsClassifier()\n",
    "\n",
    "    model7 = StackingClassifier([('MLP', make_pipeline(StandardScaler(), model1)), \n",
    "                                 ('Ada', make_pipeline(StandardScaler(), model2)), \n",
    "                                 ('HGB', make_pipeline(StandardScaler(), model3))],                                 \n",
    "                               final_estimator=LogisticRegression())\n",
    "    \n",
    "    \n",
    "    #model.set_params(class_weight='balanced_subsample')\n",
    "    \n",
    "    model7.fit(X_train, y_train)#, sample_weight=0.3)\n",
    "\n",
    "    # Prédire sur le jeu de test\n",
    "    y_pred = model7.predict(X_test)\n",
    "\n",
    "    # Afficher la précision\n",
    "    print(accuracy_score(y_test, y_pred))\n",
    "    print(log_loss(y_test, model7.predict_proba(X_test)))\n",
    "    print(classification_report(y_test, y_pred))\n",
    "    print(f\"The balanced accuracy of the default model is \"\n",
    "          f\"{balanced_accuracy_score(y_test, y_pred):.3f}\")"
   ]
  },
  {
   "cell_type": "code",
   "execution_count": null,
   "id": "390fe64d-ec15-4334-a9a5-f7eb2cabf5e1",
   "metadata": {},
   "outputs": [],
   "source": []
  },
  {
   "cell_type": "code",
   "execution_count": null,
   "id": "5e972a34-5ce0-4687-ace8-a45782df5eb6",
   "metadata": {},
   "outputs": [],
   "source": [
    "weights = {0:21, 1:79} \n",
    "logreg_w = LogisticRegression(class_weight = weights, max_iter = 1000) \n"
   ]
  },
  {
   "cell_type": "code",
   "execution_count": 87,
   "id": "67d9b8aa-e8e4-47e2-9c16-9accfeb90e6b",
   "metadata": {
    "tags": []
   },
   "outputs": [
    {
     "name": "stdout",
     "output_type": "stream",
     "text": [
      "0.8797015487454691\n",
      "0.2906810638095818\n",
      "              precision    recall  f1-score   support\n",
      "\n",
      "           0       0.88      0.99      0.93     71206\n",
      "           1       0.83      0.32      0.47     13766\n",
      "\n",
      "    accuracy                           0.88     84972\n",
      "   macro avg       0.86      0.66      0.70     84972\n",
      "weighted avg       0.87      0.88      0.86     84972\n",
      "\n",
      "The balanced accuracy of the default model is 0.655\n",
      "0.8772772207315351\n",
      "0.2881136429049193\n",
      "              precision    recall  f1-score   support\n",
      "\n",
      "           0       0.89      0.96      0.93     69883\n",
      "           1       0.74      0.48      0.58     15089\n",
      "\n",
      "    accuracy                           0.88     84972\n",
      "   macro avg       0.82      0.72      0.75     84972\n",
      "weighted avg       0.87      0.88      0.87     84972\n",
      "\n",
      "The balanced accuracy of the default model is 0.720\n",
      "0.934260697641576\n",
      "0.2996039312531464\n",
      "              precision    recall  f1-score   support\n",
      "\n",
      "           0       0.96      0.96      0.96     77546\n",
      "           1       0.62      0.63      0.62      7426\n",
      "\n",
      "    accuracy                           0.93     84972\n",
      "   macro avg       0.79      0.79      0.79     84972\n",
      "weighted avg       0.93      0.93      0.93     84972\n",
      "\n",
      "The balanced accuracy of the default model is 0.795\n",
      "0.9583509862072213\n",
      "0.13895192285658137\n",
      "              precision    recall  f1-score   support\n",
      "\n",
      "           0       0.97      0.98      0.98     77756\n",
      "           1       0.79      0.69      0.74      7216\n",
      "\n",
      "    accuracy                           0.96     84972\n",
      "   macro avg       0.88      0.84      0.86     84972\n",
      "weighted avg       0.96      0.96      0.96     84972\n",
      "\n",
      "The balanced accuracy of the default model is 0.836\n",
      "0.9723320623264134\n",
      "0.0807127304781807\n",
      "              precision    recall  f1-score   support\n",
      "\n",
      "           0       0.97      1.00      0.99     81981\n",
      "           1       0.82      0.27      0.41      2991\n",
      "\n",
      "    accuracy                           0.97     84972\n",
      "   macro avg       0.90      0.64      0.70     84972\n",
      "weighted avg       0.97      0.97      0.97     84972\n",
      "\n",
      "The balanced accuracy of the default model is 0.636\n"
     ]
    }
   ],
   "source": [
    "from sklearn.model_selection import TimeSeriesSplit\n",
    "from sklearn.linear_model import LogisticRegression\n",
    "from sklearn.metrics import accuracy_score\n",
    "from sklearn.metrics import log_loss, classification_report\n",
    "from sklearn.metrics import balanced_accuracy_score\n",
    "from sklearn.ensemble import RandomForestClassifier\n",
    "from sklearn.pipeline import make_pipeline\n",
    "from sklearn.preprocessing import StandardScaler\n",
    "from sklearn.ensemble import HistGradientBoostingClassifier\n",
    "from sklearn.ensemble import VotingClassifier\n",
    "from sklearn.neural_network import MLPClassifier\n",
    "from sklearn.linear_model import LogisticRegression\n",
    "from sklearn.ensemble import RandomForestClassifier, AdaBoostClassifier\n",
    "from sklearn.ensemble import HistGradientBoostingClassifier\n",
    "from sklearn.ensemble import StackingClassifier\n",
    "from sklearn.neighbors import KNeighborsClassifier\n",
    "from tqdm import tqdm\n",
    "from sklearn.linear_model import Lasso, Ridge, ElasticNetCV\n",
    "\n",
    "\n",
    "X = df.drop(columns=['target'], axis=1)\n",
    "y = df['target']\n",
    "X2 = X.fillna(0)\n",
    "# Créer un objet TimeSeriesSplit\n",
    "tscv = TimeSeriesSplit(n_splits=5)\n",
    "\n",
    "# Boucle sur les plis\n",
    "for train_index, test_index in tscv.split(X2):\n",
    "    X_train, X_test = X2.iloc[train_index], X2.iloc[test_index]\n",
    "    y_train, y_test = y.iloc[train_index], y.iloc[test_index]\n",
    "    \n",
    "    #class_weights = dict(zip(np.unique(y_train), class_weight.compute_class_weight(class_weight='balanced', classes=np.unique(data_train['target']), y=data_train['target'])))\n",
    "    \n",
    "    # Entrainer un modèle sur le jeu d'entraînement\n",
    "    weights = {0:21, 1:79} \n",
    "    classifier = LogisticRegression(class_weight = weights)\n",
    "\n",
    "    model = make_pipeline(StandardScaler(), classifier)\n",
    "    \n",
    "    \n",
    "    #model.set_params(class_weight='balanced_subsample')\n",
    "    \n",
    "    model.fit(X_train, y_train)#, sample_weight=0.3)\n",
    "\n",
    "    # Prédire sur le jeu de test\n",
    "    y_pred = model.predict(X_test)\n",
    "\n",
    "    # Afficher la précision\n",
    "    print(accuracy_score(y_test, y_pred))\n",
    "    print(log_loss(y_test, model.predict_proba(X_test)))\n",
    "    print(classification_report(y_test, y_pred))\n",
    "    print(f\"The balanced accuracy of the default model is \"\n",
    "          f\"{balanced_accuracy_score(y_test, y_pred):.3f}\")"
   ]
  },
  {
   "cell_type": "code",
   "execution_count": 87,
   "id": "f2a1976d-fb80-4a35-81f5-be34d17608ce",
   "metadata": {
    "tags": []
   },
   "outputs": [
    {
     "name": "stdout",
     "output_type": "stream",
     "text": [
      "0.8797015487454691\n",
      "0.2906810638095818\n",
      "              precision    recall  f1-score   support\n",
      "\n",
      "           0       0.88      0.99      0.93     71206\n",
      "           1       0.83      0.32      0.47     13766\n",
      "\n",
      "    accuracy                           0.88     84972\n",
      "   macro avg       0.86      0.66      0.70     84972\n",
      "weighted avg       0.87      0.88      0.86     84972\n",
      "\n",
      "The balanced accuracy of the default model is 0.655\n",
      "0.8772772207315351\n",
      "0.2881136429049193\n",
      "              precision    recall  f1-score   support\n",
      "\n",
      "           0       0.89      0.96      0.93     69883\n",
      "           1       0.74      0.48      0.58     15089\n",
      "\n",
      "    accuracy                           0.88     84972\n",
      "   macro avg       0.82      0.72      0.75     84972\n",
      "weighted avg       0.87      0.88      0.87     84972\n",
      "\n",
      "The balanced accuracy of the default model is 0.720\n",
      "0.934260697641576\n",
      "0.2996039312531464\n",
      "              precision    recall  f1-score   support\n",
      "\n",
      "           0       0.96      0.96      0.96     77546\n",
      "           1       0.62      0.63      0.62      7426\n",
      "\n",
      "    accuracy                           0.93     84972\n",
      "   macro avg       0.79      0.79      0.79     84972\n",
      "weighted avg       0.93      0.93      0.93     84972\n",
      "\n",
      "The balanced accuracy of the default model is 0.795\n",
      "0.9583509862072213\n",
      "0.13895192285658137\n",
      "              precision    recall  f1-score   support\n",
      "\n",
      "           0       0.97      0.98      0.98     77756\n",
      "           1       0.79      0.69      0.74      7216\n",
      "\n",
      "    accuracy                           0.96     84972\n",
      "   macro avg       0.88      0.84      0.86     84972\n",
      "weighted avg       0.96      0.96      0.96     84972\n",
      "\n",
      "The balanced accuracy of the default model is 0.836\n",
      "0.9723320623264134\n",
      "0.0807127304781807\n",
      "              precision    recall  f1-score   support\n",
      "\n",
      "           0       0.97      1.00      0.99     81981\n",
      "           1       0.82      0.27      0.41      2991\n",
      "\n",
      "    accuracy                           0.97     84972\n",
      "   macro avg       0.90      0.64      0.70     84972\n",
      "weighted avg       0.97      0.97      0.97     84972\n",
      "\n",
      "The balanced accuracy of the default model is 0.636\n"
     ]
    }
   ],
   "source": [
    "from sklearn.model_selection import TimeSeriesSplit\n",
    "from sklearn.linear_model import LogisticRegression\n",
    "from sklearn.metrics import accuracy_score\n",
    "from sklearn.metrics import log_loss, classification_report\n",
    "from sklearn.metrics import balanced_accuracy_score\n",
    "from sklearn.ensemble import RandomForestClassifier\n",
    "from sklearn.pipeline import make_pipeline\n",
    "from sklearn.preprocessing import StandardScaler\n",
    "from sklearn.ensemble import HistGradientBoostingClassifier\n",
    "from sklearn.ensemble import VotingClassifier\n",
    "from sklearn.neural_network import MLPClassifier\n",
    "from sklearn.linear_model import LogisticRegression\n",
    "from sklearn.ensemble import RandomForestClassifier, AdaBoostClassifier\n",
    "from sklearn.ensemble import HistGradientBoostingClassifier\n",
    "from sklearn.ensemble import StackingClassifier\n",
    "from sklearn.neighbors import KNeighborsClassifier\n",
    "from tqdm import tqdm\n",
    "from sklearn.linear_model import Lasso, Ridge, ElasticNetCV\n",
    "\n",
    "\n",
    "X = df.drop(columns=['target'], axis=1)\n",
    "y = df['target']\n",
    "X2 = X.fillna(0)\n",
    "# Créer un objet TimeSeriesSplit\n",
    "tscv = TimeSeriesSplit(n_splits=5)\n",
    "\n",
    "# Boucle sur les plis\n",
    "for train_index, test_index in tscv.split(X2):\n",
    "    X_train, X_test = X2.iloc[train_index], X2.iloc[test_index]\n",
    "    y_train, y_test = y.iloc[train_index], y.iloc[test_index]\n",
    "    \n",
    "    #class_weights = dict(zip(np.unique(y_train), class_weight.compute_class_weight(class_weight='balanced', classes=np.unique(data_train['target']), y=data_train['target'])))\n",
    "    \n",
    "    # Entrainer un modèle sur le jeu d'entraînement\n",
    "    model1 = LogisticRegression(penalty='elasticnet', solver = 'saga')\n",
    "    model2 = LogisticRegression(penalty='l1', solver = 'saga')\n",
    "    model3 = HistGradientBoostingClassifier()\n",
    "    model4 = LogisticRegression(penalty='l2')\n",
    "    model5 = RandomForestClassifier()\n",
    "    model6 = KNeighborsClassifier()\n",
    "\n",
    "    model7 = VotingClassifier([#('Elastic', make_pipeline(StandardScaler(), model1)), \n",
    "                                 ('Lasso', make_pipeline(StandardScaler(), model2)), \n",
    "                                 ('HGB', make_pipeline(StandardScaler(), model3)),\n",
    "                                 ('Ridge', make_pipeline(StandardScaler(), model4))], \n",
    "                               voting='soft')\n",
    "    \n",
    "    \n",
    "    #model.set_params(class_weight='balanced_subsample')\n",
    "    \n",
    "    model7.fit(X_train, y_train)#, sample_weight=0.3)\n",
    "\n",
    "    # Prédire sur le jeu de test\n",
    "    y_pred = model7.predict(X_test)\n",
    "\n",
    "    # Afficher la précision\n",
    "    print(accuracy_score(y_test, y_pred))\n",
    "    print(log_loss(y_test, model7.predict_proba(X_test)))\n",
    "    print(classification_report(y_test, y_pred))\n",
    "    print(f\"The balanced accuracy of the default model is \"\n",
    "          f\"{balanced_accuracy_score(y_test, y_pred):.3f}\")"
   ]
  },
  {
   "cell_type": "code",
   "execution_count": null,
   "id": "cef0afb2-c348-49f5-877c-b1b161cde3b2",
   "metadata": {},
   "outputs": [],
   "source": []
  },
  {
   "cell_type": "code",
   "execution_count": null,
   "id": "8ae5e1d4-022a-472c-9a23-b899937bf369",
   "metadata": {},
   "outputs": [],
   "source": []
  },
  {
   "cell_type": "code",
   "execution_count": null,
   "id": "93f962dd-4e4f-4b27-8f72-0f5ae7ec0187",
   "metadata": {},
   "outputs": [],
   "source": []
  },
  {
   "cell_type": "code",
   "execution_count": 33,
   "id": "3e19dfab-4018-4c4d-bfd9-199c73c98bd7",
   "metadata": {},
   "outputs": [
    {
     "data": {
      "text/plain": [
       "(509834, 73)"
      ]
     },
     "execution_count": 33,
     "metadata": {},
     "output_type": "execute_result"
    }
   ],
   "source": [
    "X2.shape"
   ]
  },
  {
   "cell_type": "code",
   "execution_count": 34,
   "id": "1ddbd6a2-fdbf-4d67-b79f-b6b720bfcd25",
   "metadata": {},
   "outputs": [
    {
     "data": {
      "text/plain": [
       "(509834,)"
      ]
     },
     "execution_count": 34,
     "metadata": {},
     "output_type": "execute_result"
    }
   ],
   "source": [
    "y.shape"
   ]
  },
  {
   "cell_type": "code",
   "execution_count": 27,
   "id": "9f3d3ac4-c73b-416e-9342-7bb6cf5d4b74",
   "metadata": {
    "tags": []
   },
   "outputs": [
    {
     "data": {
      "text/html": [
       "<style>#sk-container-id-1 {color: black;background-color: white;}#sk-container-id-1 pre{padding: 0;}#sk-container-id-1 div.sk-toggleable {background-color: white;}#sk-container-id-1 label.sk-toggleable__label {cursor: pointer;display: block;width: 100%;margin-bottom: 0;padding: 0.3em;box-sizing: border-box;text-align: center;}#sk-container-id-1 label.sk-toggleable__label-arrow:before {content: \"▸\";float: left;margin-right: 0.25em;color: #696969;}#sk-container-id-1 label.sk-toggleable__label-arrow:hover:before {color: black;}#sk-container-id-1 div.sk-estimator:hover label.sk-toggleable__label-arrow:before {color: black;}#sk-container-id-1 div.sk-toggleable__content {max-height: 0;max-width: 0;overflow: hidden;text-align: left;background-color: #f0f8ff;}#sk-container-id-1 div.sk-toggleable__content pre {margin: 0.2em;color: black;border-radius: 0.25em;background-color: #f0f8ff;}#sk-container-id-1 input.sk-toggleable__control:checked~div.sk-toggleable__content {max-height: 200px;max-width: 100%;overflow: auto;}#sk-container-id-1 input.sk-toggleable__control:checked~label.sk-toggleable__label-arrow:before {content: \"▾\";}#sk-container-id-1 div.sk-estimator input.sk-toggleable__control:checked~label.sk-toggleable__label {background-color: #d4ebff;}#sk-container-id-1 div.sk-label input.sk-toggleable__control:checked~label.sk-toggleable__label {background-color: #d4ebff;}#sk-container-id-1 input.sk-hidden--visually {border: 0;clip: rect(1px 1px 1px 1px);clip: rect(1px, 1px, 1px, 1px);height: 1px;margin: -1px;overflow: hidden;padding: 0;position: absolute;width: 1px;}#sk-container-id-1 div.sk-estimator {font-family: monospace;background-color: #f0f8ff;border: 1px dotted black;border-radius: 0.25em;box-sizing: border-box;margin-bottom: 0.5em;}#sk-container-id-1 div.sk-estimator:hover {background-color: #d4ebff;}#sk-container-id-1 div.sk-parallel-item::after {content: \"\";width: 100%;border-bottom: 1px solid gray;flex-grow: 1;}#sk-container-id-1 div.sk-label:hover label.sk-toggleable__label {background-color: #d4ebff;}#sk-container-id-1 div.sk-serial::before {content: \"\";position: absolute;border-left: 1px solid gray;box-sizing: border-box;top: 0;bottom: 0;left: 50%;z-index: 0;}#sk-container-id-1 div.sk-serial {display: flex;flex-direction: column;align-items: center;background-color: white;padding-right: 0.2em;padding-left: 0.2em;position: relative;}#sk-container-id-1 div.sk-item {position: relative;z-index: 1;}#sk-container-id-1 div.sk-parallel {display: flex;align-items: stretch;justify-content: center;background-color: white;position: relative;}#sk-container-id-1 div.sk-item::before, #sk-container-id-1 div.sk-parallel-item::before {content: \"\";position: absolute;border-left: 1px solid gray;box-sizing: border-box;top: 0;bottom: 0;left: 50%;z-index: -1;}#sk-container-id-1 div.sk-parallel-item {display: flex;flex-direction: column;z-index: 1;position: relative;background-color: white;}#sk-container-id-1 div.sk-parallel-item:first-child::after {align-self: flex-end;width: 50%;}#sk-container-id-1 div.sk-parallel-item:last-child::after {align-self: flex-start;width: 50%;}#sk-container-id-1 div.sk-parallel-item:only-child::after {width: 0;}#sk-container-id-1 div.sk-dashed-wrapped {border: 1px dashed gray;margin: 0 0.4em 0.5em 0.4em;box-sizing: border-box;padding-bottom: 0.4em;background-color: white;}#sk-container-id-1 div.sk-label label {font-family: monospace;font-weight: bold;display: inline-block;line-height: 1.2em;}#sk-container-id-1 div.sk-label-container {text-align: center;}#sk-container-id-1 div.sk-container {/* jupyter's `normalize.less` sets `[hidden] { display: none; }` but bootstrap.min.css set `[hidden] { display: none !important; }` so we also need the `!important` here to be able to override the default hidden behavior on the sphinx rendered scikit-learn.org. See: https://github.com/scikit-learn/scikit-learn/issues/21755 */display: inline-block !important;position: relative;}#sk-container-id-1 div.sk-text-repr-fallback {display: none;}</style><div id=\"sk-container-id-1\" class=\"sk-top-container\"><div class=\"sk-text-repr-fallback\"><pre>GridSearchCV(cv=TimeSeriesSplit(gap=0, max_train_size=None, n_splits=5, test_size=None),\n",
       "             estimator=HistGradientBoostingClassifier(),\n",
       "             param_grid=[{&#x27;learning_rate&#x27;: [0.01, 0.1, 0.5, 0.9]}], refit=False,\n",
       "             scoring=&lt;function f1_score at 0x7f9b08c5f280&gt;)</pre><b>In a Jupyter environment, please rerun this cell to show the HTML representation or trust the notebook. <br />On GitHub, the HTML representation is unable to render, please try loading this page with nbviewer.org.</b></div><div class=\"sk-container\" hidden><div class=\"sk-item sk-dashed-wrapped\"><div class=\"sk-label-container\"><div class=\"sk-label sk-toggleable\"><input class=\"sk-toggleable__control sk-hidden--visually\" id=\"sk-estimator-id-1\" type=\"checkbox\" ><label for=\"sk-estimator-id-1\" class=\"sk-toggleable__label sk-toggleable__label-arrow\">GridSearchCV</label><div class=\"sk-toggleable__content\"><pre>GridSearchCV(cv=TimeSeriesSplit(gap=0, max_train_size=None, n_splits=5, test_size=None),\n",
       "             estimator=HistGradientBoostingClassifier(),\n",
       "             param_grid=[{&#x27;learning_rate&#x27;: [0.01, 0.1, 0.5, 0.9]}], refit=False,\n",
       "             scoring=&lt;function f1_score at 0x7f9b08c5f280&gt;)</pre></div></div></div><div class=\"sk-parallel\"><div class=\"sk-parallel-item\"><div class=\"sk-item\"><div class=\"sk-label-container\"><div class=\"sk-label sk-toggleable\"><input class=\"sk-toggleable__control sk-hidden--visually\" id=\"sk-estimator-id-2\" type=\"checkbox\" ><label for=\"sk-estimator-id-2\" class=\"sk-toggleable__label sk-toggleable__label-arrow\">estimator: HistGradientBoostingClassifier</label><div class=\"sk-toggleable__content\"><pre>HistGradientBoostingClassifier()</pre></div></div></div><div class=\"sk-serial\"><div class=\"sk-item\"><div class=\"sk-estimator sk-toggleable\"><input class=\"sk-toggleable__control sk-hidden--visually\" id=\"sk-estimator-id-3\" type=\"checkbox\" ><label for=\"sk-estimator-id-3\" class=\"sk-toggleable__label sk-toggleable__label-arrow\">HistGradientBoostingClassifier</label><div class=\"sk-toggleable__content\"><pre>HistGradientBoostingClassifier()</pre></div></div></div></div></div></div></div></div></div></div>"
      ],
      "text/plain": [
       "GridSearchCV(cv=TimeSeriesSplit(gap=0, max_train_size=None, n_splits=5, test_size=None),\n",
       "             estimator=HistGradientBoostingClassifier(),\n",
       "             param_grid=[{'learning_rate': [0.01, 0.1, 0.5, 0.9]}], refit=False,\n",
       "             scoring=<function f1_score at 0x7f9b08c5f280>)"
      ]
     },
     "execution_count": 27,
     "metadata": {},
     "output_type": "execute_result"
    }
   ],
   "source": [
    "from sklearn.model_selection import GridSearchCV\n",
    "from sklearn.metrics import log_loss, make_scorer, f1_score\n",
    "\n",
    "X = df.drop(columns=['target'], axis=1).copy()\n",
    "y = df['target']\n",
    "X2 = X.fillna(0).copy()\n",
    "#parameters to tune\n",
    "param_grid = [    \n",
    "    {'learning_rate' : [0.01, 0.1, 0.5, 0.9]\n",
    "    #'max_iter': [100,1000,5000]\n",
    "    #'max_leaf_nodes': [20,31,50],\n",
    "    #'l2_regularization' : [0,0.1,0.5,0.9],\n",
    "    #'max_iter' : [100, 1000,2500, 5000],\n",
    "    #'warm_start' : [True,False]\n",
    "    }\n",
    "]\n",
    "\n",
    "classifier = HistGradientBoostingClassifier()\n",
    "model = make_pipeline(StandardScaler(), classifier)\n",
    "\n",
    "\n",
    "logloss_score = make_scorer(log_loss)\n",
    "f1_score_score = make_scorer(f1_score)\n",
    "\n",
    "'''n_jobs=5, \n",
    "cv=5, scoring=’f1_micro’,\n",
    "verbose=2, refit=True'''\n",
    "tscv = TimeSeriesSplit(n_splits=5)\n",
    "gsearch = GridSearchCV(estimator=classifier, cv=tscv,\n",
    "                        param_grid=param_grid, scoring=f1_score, refit=False)#{'log_loss':logloss_score,'f1':f1_score_score}, refit=False)#, verbose=2, n_jobs=5)\n",
    "gsearch.fit(X2, y)"
   ]
  },
  {
   "cell_type": "code",
   "execution_count": 31,
   "id": "dac78c41-97df-4ac2-bcc1-1779285473cb",
   "metadata": {},
   "outputs": [
    {
     "data": {
      "text/plain": [
       "{'mean_fit_time': array([11.81362991, 10.73984299,  5.16959763,  4.81388669]),\n",
       " 'std_fit_time': array([4.37527214, 3.86276233, 1.79743632, 2.27879971]),\n",
       " 'mean_score_time': array([0.00025172, 0.0002378 , 0.0002183 , 0.00021968]),\n",
       " 'std_score_time': array([2.72646631e-05, 2.29013921e-05, 9.63234665e-06, 7.24510088e-06]),\n",
       " 'param_learning_rate': masked_array(data=[0.01, 0.1, 0.5, 0.9],\n",
       "              mask=[False, False, False, False],\n",
       "        fill_value='?',\n",
       "             dtype=object),\n",
       " 'params': [{'learning_rate': 0.01},\n",
       "  {'learning_rate': 0.1},\n",
       "  {'learning_rate': 0.5},\n",
       "  {'learning_rate': 0.9}],\n",
       " 'split0_test_score': array([nan, nan, nan, nan]),\n",
       " 'split1_test_score': array([nan, nan, nan, nan]),\n",
       " 'split2_test_score': array([nan, nan, nan, nan]),\n",
       " 'split3_test_score': array([nan, nan, nan, nan]),\n",
       " 'split4_test_score': array([nan, nan, nan, nan]),\n",
       " 'mean_test_score': array([nan, nan, nan, nan]),\n",
       " 'std_test_score': array([nan, nan, nan, nan]),\n",
       " 'rank_test_score': array([1, 1, 1, 1], dtype=int32)}"
      ]
     },
     "execution_count": 31,
     "metadata": {},
     "output_type": "execute_result"
    }
   ],
   "source": [
    "gsearch.cv_results_"
   ]
  },
  {
   "cell_type": "code",
   "execution_count": null,
   "id": "9bc4826a-f1d9-4442-9b34-4576a794504f",
   "metadata": {},
   "outputs": [],
   "source": [
    "from sklearn.model_selection import TimeSeriesSplit\n",
    "from sklearn.linear_model import LogisticRegression\n",
    "from sklearn.metrics import accuracy_score\n",
    "from sklearn.metrics import log_loss, classification_report\n",
    "from sklearn.metrics import balanced_accuracy_score\n",
    "from sklearn.ensemble import RandomForestClassifier\n",
    "from sklearn.pipeline import make_pipeline\n",
    "from sklearn.preprocessing import StandardScaler\n",
    "from sklearn.ensemble import HistGradientBoostingClassifier\n",
    "from sklearn.ensemble import VotingClassifier\n",
    "from sklearn.neural_network import MLPClassifier\n",
    "from sklearn.linear_model import LogisticRegression\n",
    "from sklearn.ensemble import RandomForestClassifier, AdaBoostClassifier\n",
    "from sklearn.ensemble import HistGradientBoostingClassifier\n",
    "from sklearn.ensemble import StackingClassifier\n",
    "from sklearn.neighbors import KNeighborsClassifier\n",
    "from tqdm import tqdm\n",
    "\n",
    "\n"
   ]
  }
 ],
 "metadata": {
  "kernelspec": {
   "display_name": "Python 3 (ipykernel)",
   "language": "python",
   "name": "python3"
  },
  "language_info": {
   "codemirror_mode": {
    "name": "ipython",
    "version": 3
   },
   "file_extension": ".py",
   "mimetype": "text/x-python",
   "name": "python",
   "nbconvert_exporter": "python",
   "pygments_lexer": "ipython3",
   "version": "3.9.7"
  }
 },
 "nbformat": 4,
 "nbformat_minor": 5
}
